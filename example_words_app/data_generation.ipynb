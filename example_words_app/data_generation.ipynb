{
 "cells": [
  {
   "cell_type": "code",
   "execution_count": 15,
   "id": "e2603006",
   "metadata": {},
   "outputs": [
    {
     "data": {
      "application/vnd.microsoft.datawrangler.viewer.v0+json": {
       "columns": [
        {
         "name": "index",
         "rawType": "int64",
         "type": "integer"
        },
        {
         "name": "id",
         "rawType": "int64",
         "type": "integer"
        },
        {
         "name": "word",
         "rawType": "object",
         "type": "string"
        },
        {
         "name": "translate",
         "rawType": "object",
         "type": "string"
        },
        {
         "name": "createdTime",
         "rawType": "object",
         "type": "string"
        },
        {
         "name": "modifyTime",
         "rawType": "object",
         "type": "string"
        }
       ],
       "ref": "331422cb-4c2c-468a-a0ed-26c4a5d62ae8",
       "rows": [
        [
         "3092",
         "3093",
         "Africa",
         " n.非洲",
         "2020-05-13T23:05:04.733",
         "2020-05-13T23:05:04.733"
        ],
        [
         "3091",
         "3092",
         "African",
         "a.非洲的 n.非洲人",
         "2020-05-13T23:05:04.733",
         "2020-05-13T23:05:04.733"
        ],
        [
         "2955",
         "2956",
         "America",
         " n.美洲；美国",
         "2020-05-13T23:05:04.733",
         "2020-05-13T23:05:04.733"
        ],
        [
         "2954",
         "2955",
         "American",
         "a.美洲的 n.美国人",
         "2020-05-13T23:05:04.733",
         "2020-05-13T23:05:04.733"
        ],
        [
         "2884",
         "2885",
         "Among",
         " prep.在…之中",
         "2020-05-13T23:05:04.733",
         "2020-05-13T23:05:04.733"
        ],
        [
         "2852",
         "2853",
         "Amongst",
         " prep在…之中(=among)",
         "2020-05-13T23:05:04.733",
         "2020-05-13T23:05:04.733"
        ],
        [
         "2853",
         "2854",
         "Amount",
         " n.总数；数量；和",
         "2020-05-13T23:05:04.733",
         "2020-05-13T23:05:04.733"
        ],
        [
         "2848",
         "2849",
         "April",
         " n.四月",
         "2020-05-13T23:05:04.733",
         "2020-05-13T23:05:04.733"
        ],
        [
         "2841",
         "2842",
         "Arabian",
         "a.阿拉伯的",
         "2020-05-13T23:05:04.733",
         "2020-05-13T23:05:04.733"
        ],
        [
         "2937",
         "2938",
         "Asia",
         " n.亚洲",
         "2020-05-13T23:05:04.733",
         "2020-05-13T23:05:04.733"
        ],
        [
         "2938",
         "2939",
         "Asian",
         "a.亚洲的 n.亚洲人",
         "2020-05-13T23:05:04.733",
         "2020-05-13T23:05:04.733"
        ],
        [
         "2888",
         "2889",
         "Atlantic",
         "a.大西洋的 n.大西洋",
         "2020-05-13T23:05:04.733",
         "2020-05-13T23:05:04.733"
        ],
        [
         "2915",
         "2916",
         "August",
         " n.八月",
         "2020-05-13T23:05:04.733",
         "2020-05-13T23:05:04.733"
        ],
        [
         "2912",
         "2913",
         "Australia",
         " n.澳大利亚",
         "2020-05-13T23:05:04.733",
         "2020-05-13T23:05:04.733"
        ],
        [
         "2918",
         "2919",
         "Australian",
         "a.澳大利亚的",
         "2020-05-13T23:05:04.733",
         "2020-05-13T23:05:04.733"
        ],
        [
         "2911",
         "2912",
         "Author",
         " n.作者，作家",
         "2020-05-13T23:05:04.733",
         "2020-05-13T23:05:04.733"
        ],
        [
         "3268",
         "3269",
         "B.C.",
         " (缩)公元前",
         "2020-05-13T23:05:04.737",
         "2020-05-13T23:05:04.737"
        ],
        [
         "3342",
         "3343",
         "Bible",
         "n.基督教《圣经》",
         "2020-05-13T23:05:04.737",
         "2020-05-13T23:05:04.737"
        ],
        [
         "3126",
         "3127",
         "Britain",
         "n.不列颠，英国",
         "2020-05-13T23:05:04.737",
         "2020-05-13T23:05:04.737"
        ],
        [
         "3125",
         "3126",
         "British",
         "a.不列颠的，英联邦的",
         "2020-05-13T23:05:04.737",
         "2020-05-13T23:05:04.737"
        ],
        [
         "3180",
         "3181",
         "Canada",
         "n.加拿大",
         "2020-05-13T23:05:04.737",
         "2020-05-13T23:05:04.737"
        ],
        [
         "3181",
         "3182",
         "Canadian",
         "a.加拿大的",
         "2020-05-13T23:05:04.737",
         "2020-05-13T23:05:04.737"
        ],
        [
         "2505",
         "2506",
         "China",
         "n.中国",
         "2020-05-13T23:05:04.74",
         "2020-05-13T23:05:04.74"
        ],
        [
         "2523",
         "2524",
         "Chinese",
         "a.中国的 n.中国人",
         "2020-05-13T23:05:04.74",
         "2020-05-13T23:05:04.74"
        ],
        [
         "2526",
         "2527",
         "Christian",
         " n.基督教徒；信徒",
         "2020-05-13T23:05:04.74",
         "2020-05-13T23:05:04.74"
        ],
        [
         "2525",
         "2526",
         "Christmas",
         " n.圣诞节",
         "2020-05-13T23:05:04.74",
         "2020-05-13T23:05:04.74"
        ],
        [
         "2674",
         "2675",
         "December",
         "n.十二月",
         "2020-05-13T23:05:04.743",
         "2020-05-13T23:05:04.743"
        ],
        [
         "3994",
         "3995",
         "England ",
         "n.英格兰；英国",
         "2020-05-13T23:05:04.747",
         "2020-05-13T23:05:04.747"
        ],
        [
         "4008",
         "4009",
         "English ",
         "n.英语 a.英国人的",
         "2020-05-13T23:05:04.747",
         "2020-05-13T23:05:04.747"
        ],
        [
         "4007",
         "4008",
         "Englishman ",
         "n.英国男子",
         "2020-05-13T23:05:04.747",
         "2020-05-13T23:05:04.747"
        ],
        [
         "3959",
         "3960",
         "Europe ",
         "n.欧洲",
         "2020-05-13T23:05:04.747",
         "2020-05-13T23:05:04.747"
        ],
        [
         "3973",
         "3974",
         "European ",
         "a.欧洲的 n.欧洲人",
         "2020-05-13T23:05:04.747",
         "2020-05-13T23:05:04.747"
        ],
        [
         "4405",
         "4406",
         "Fahrenheit ",
         "n.华氏温度计",
         "2020-05-13T23:05:04.747",
         "2020-05-13T23:05:04.747"
        ],
        [
         "4380",
         "4381",
         "February ",
         "n.二月",
         "2020-05-13T23:05:04.75",
         "2020-05-13T23:05:04.75"
        ],
        [
         "4259",
         "4260",
         "France ",
         "n.法国，法兰西",
         "2020-05-13T23:05:04.75",
         "2020-05-13T23:05:04.75"
        ],
        [
         "4228",
         "4229",
         "French ",
         "a.法国的 n.法国人",
         "2020-05-13T23:05:04.75",
         "2020-05-13T23:05:04.75"
        ],
        [
         "4234",
         "4235",
         "Friday ",
         "n.星期五",
         "2020-05-13T23:05:04.75",
         "2020-05-13T23:05:04.75"
        ],
        [
         "4298",
         "4299",
         "German ",
         "a.德国的 n.德国人",
         "2020-05-13T23:05:04.753",
         "2020-05-13T23:05:04.753"
        ],
        [
         "4299",
         "4300",
         "Germany ",
         "n.德意志，德国",
         "2020-05-13T23:05:04.753",
         "2020-05-13T23:05:04.753"
        ],
        [
         "4313",
         "4314",
         "God ",
         "n.神，神像；上帝",
         "2020-05-13T23:05:04.753",
         "2020-05-13T23:05:04.753"
        ],
        [
         "3521",
         "3522",
         "Greek ",
         "a.希腊的 n.希腊人",
         "2020-05-13T23:05:04.753",
         "2020-05-13T23:05:04.753"
        ],
        [
         "3489",
         "3490",
         "I pro",
         "n.(主格)我",
         "2020-05-13T23:05:04.757",
         "2020-05-13T23:05:04.757"
        ],
        [
         "3474",
         "3475",
         "India ",
         "n.印度",
         "2020-05-13T23:05:04.757",
         "2020-05-13T23:05:04.757"
        ],
        [
         "3472",
         "3473",
         "Indian ",
         "a.印度的 n.印度人",
         "2020-05-13T23:05:04.757",
         "2020-05-13T23:05:04.757"
        ],
        [
         "3926",
         "3927",
         "Italian ",
         "a.意大利的n.意大利人",
         "2020-05-13T23:05:04.757",
         "2020-05-13T23:05:04.757"
        ],
        [
         "3874",
         "3875",
         "January ",
         "n.一月",
         "2020-05-13T23:05:04.757",
         "2020-05-13T23:05:04.757"
        ],
        [
         "3875",
         "3876",
         "Japan ",
         "n.日本，日本国",
         "2020-05-13T23:05:04.757",
         "2020-05-13T23:05:04.757"
        ],
        [
         "3876",
         "3877",
         "Japanese ",
         "a.日本的 n.日本人",
         "2020-05-13T23:05:04.757",
         "2020-05-13T23:05:04.757"
        ],
        [
         "3894",
         "3895",
         "July ",
         "n.七月",
         "2020-05-13T23:05:04.757",
         "2020-05-13T23:05:04.757"
        ],
        [
         "3892",
         "3893",
         "June ",
         "n.六月",
         "2020-05-13T23:05:04.757",
         "2020-05-13T23:05:04.757"
        ]
       ],
       "shape": {
        "columns": 5,
        "rows": 4505
       }
      },
      "text/html": [
       "<div>\n",
       "<style scoped>\n",
       "    .dataframe tbody tr th:only-of-type {\n",
       "        vertical-align: middle;\n",
       "    }\n",
       "\n",
       "    .dataframe tbody tr th {\n",
       "        vertical-align: top;\n",
       "    }\n",
       "\n",
       "    .dataframe thead th {\n",
       "        text-align: right;\n",
       "    }\n",
       "</style>\n",
       "<table border=\"1\" class=\"dataframe\">\n",
       "  <thead>\n",
       "    <tr style=\"text-align: right;\">\n",
       "      <th></th>\n",
       "      <th>id</th>\n",
       "      <th>word</th>\n",
       "      <th>translate</th>\n",
       "      <th>createdTime</th>\n",
       "      <th>modifyTime</th>\n",
       "    </tr>\n",
       "  </thead>\n",
       "  <tbody>\n",
       "    <tr>\n",
       "      <th>3092</th>\n",
       "      <td>3093</td>\n",
       "      <td>Africa</td>\n",
       "      <td>n.非洲</td>\n",
       "      <td>2020-05-13T23:05:04.733</td>\n",
       "      <td>2020-05-13T23:05:04.733</td>\n",
       "    </tr>\n",
       "    <tr>\n",
       "      <th>3091</th>\n",
       "      <td>3092</td>\n",
       "      <td>African</td>\n",
       "      <td>a.非洲的 n.非洲人</td>\n",
       "      <td>2020-05-13T23:05:04.733</td>\n",
       "      <td>2020-05-13T23:05:04.733</td>\n",
       "    </tr>\n",
       "    <tr>\n",
       "      <th>2955</th>\n",
       "      <td>2956</td>\n",
       "      <td>America</td>\n",
       "      <td>n.美洲；美国</td>\n",
       "      <td>2020-05-13T23:05:04.733</td>\n",
       "      <td>2020-05-13T23:05:04.733</td>\n",
       "    </tr>\n",
       "    <tr>\n",
       "      <th>2954</th>\n",
       "      <td>2955</td>\n",
       "      <td>American</td>\n",
       "      <td>a.美洲的 n.美国人</td>\n",
       "      <td>2020-05-13T23:05:04.733</td>\n",
       "      <td>2020-05-13T23:05:04.733</td>\n",
       "    </tr>\n",
       "    <tr>\n",
       "      <th>2884</th>\n",
       "      <td>2885</td>\n",
       "      <td>Among</td>\n",
       "      <td>prep.在…之中</td>\n",
       "      <td>2020-05-13T23:05:04.733</td>\n",
       "      <td>2020-05-13T23:05:04.733</td>\n",
       "    </tr>\n",
       "    <tr>\n",
       "      <th>...</th>\n",
       "      <td>...</td>\n",
       "      <td>...</td>\n",
       "      <td>...</td>\n",
       "      <td>...</td>\n",
       "      <td>...</td>\n",
       "    </tr>\n",
       "    <tr>\n",
       "      <th>1497</th>\n",
       "      <td>1498</td>\n",
       "      <td>zealous</td>\n",
       "      <td>a.热心的，热情的</td>\n",
       "      <td>2020-05-13T23:05:04.787</td>\n",
       "      <td>2020-05-13T23:05:04.787</td>\n",
       "    </tr>\n",
       "    <tr>\n",
       "      <th>1496</th>\n",
       "      <td>1497</td>\n",
       "      <td>zebra</td>\n",
       "      <td>n.斑马</td>\n",
       "      <td>2020-05-13T23:05:04.787</td>\n",
       "      <td>2020-05-13T23:05:04.787</td>\n",
       "    </tr>\n",
       "    <tr>\n",
       "      <th>1495</th>\n",
       "      <td>1496</td>\n",
       "      <td>zero</td>\n",
       "      <td>n.零；零点，零度</td>\n",
       "      <td>2020-05-13T23:05:04.787</td>\n",
       "      <td>2020-05-13T23:05:04.787</td>\n",
       "    </tr>\n",
       "    <tr>\n",
       "      <th>2251</th>\n",
       "      <td>2252</td>\n",
       "      <td>zone</td>\n",
       "      <td>n.地区，区域，范围</td>\n",
       "      <td>2020-05-13T23:05:04.787</td>\n",
       "      <td>2020-05-13T23:05:04.787</td>\n",
       "    </tr>\n",
       "    <tr>\n",
       "      <th>4504</th>\n",
       "      <td>4505</td>\n",
       "      <td>zoo</td>\n",
       "      <td>n.动物园</td>\n",
       "      <td>2020-05-13T23:05:04.787</td>\n",
       "      <td>2020-05-13T23:05:04.787</td>\n",
       "    </tr>\n",
       "  </tbody>\n",
       "</table>\n",
       "<p>4505 rows × 5 columns</p>\n",
       "</div>"
      ],
      "text/plain": [
       "        id      word    translate              createdTime  \\\n",
       "3092  3093    Africa         n.非洲  2020-05-13T23:05:04.733   \n",
       "3091  3092   African  a.非洲的 n.非洲人  2020-05-13T23:05:04.733   \n",
       "2955  2956   America      n.美洲；美国  2020-05-13T23:05:04.733   \n",
       "2954  2955  American  a.美洲的 n.美国人  2020-05-13T23:05:04.733   \n",
       "2884  2885     Among    prep.在…之中  2020-05-13T23:05:04.733   \n",
       "...    ...       ...          ...                      ...   \n",
       "1497  1498   zealous    a.热心的，热情的  2020-05-13T23:05:04.787   \n",
       "1496  1497     zebra         n.斑马  2020-05-13T23:05:04.787   \n",
       "1495  1496      zero    n.零；零点，零度  2020-05-13T23:05:04.787   \n",
       "2251  2252      zone   n.地区，区域，范围  2020-05-13T23:05:04.787   \n",
       "4504  4505       zoo        n.动物园  2020-05-13T23:05:04.787   \n",
       "\n",
       "                   modifyTime  \n",
       "3092  2020-05-13T23:05:04.733  \n",
       "3091  2020-05-13T23:05:04.733  \n",
       "2955  2020-05-13T23:05:04.733  \n",
       "2954  2020-05-13T23:05:04.733  \n",
       "2884  2020-05-13T23:05:04.733  \n",
       "...                       ...  \n",
       "1497  2020-05-13T23:05:04.787  \n",
       "1496  2020-05-13T23:05:04.787  \n",
       "1495  2020-05-13T23:05:04.787  \n",
       "2251  2020-05-13T23:05:04.787  \n",
       "4504  2020-05-13T23:05:04.787  \n",
       "\n",
       "[4505 rows x 5 columns]"
      ]
     },
     "execution_count": 15,
     "metadata": {},
     "output_type": "execute_result"
    }
   ],
   "source": [
    "import pandas as pd\n",
    "import json\n",
    "\n",
    "df = pd.DataFrame(json.load(open('data_backup/cet4.json', 'r'))).sort_values('word')\n",
    "df"
   ]
  },
  {
   "cell_type": "code",
   "execution_count": 16,
   "id": "8a71e3fc",
   "metadata": {},
   "outputs": [],
   "source": [
    "mask1 = df['word'].str.len() > 2"
   ]
  },
  {
   "cell_type": "code",
   "execution_count": 17,
   "id": "ee951a9c",
   "metadata": {},
   "outputs": [],
   "source": [
    "mask2 = df['word'].str.strip().str.contains(' ')"
   ]
  },
  {
   "cell_type": "code",
   "execution_count": 18,
   "id": "dc8d37ab",
   "metadata": {},
   "outputs": [],
   "source": [
    "mask3 = df['word'].str.contains('\\\\.')"
   ]
  },
  {
   "cell_type": "code",
   "execution_count": 19,
   "id": "5112c5a0",
   "metadata": {},
   "outputs": [
    {
     "data": {
      "application/vnd.microsoft.datawrangler.viewer.v0+json": {
       "columns": [
        {
         "name": "index",
         "rawType": "int64",
         "type": "integer"
        },
        {
         "name": "word",
         "rawType": "object",
         "type": "string"
        },
        {
         "name": "definition",
         "rawType": "object",
         "type": "string"
        }
       ],
       "ref": "d30e5e97-587b-459d-b29e-11f2b7378784",
       "rows": [
        [
         "3092",
         "Africa",
         " n.非洲"
        ],
        [
         "3091",
         "African",
         "a.非洲的 n.非洲人"
        ],
        [
         "2955",
         "America",
         " n.美洲；美国"
        ],
        [
         "2954",
         "American",
         "a.美洲的 n.美国人"
        ],
        [
         "2884",
         "Among",
         " prep.在…之中"
        ],
        [
         "2852",
         "Amongst",
         " prep在…之中(=among)"
        ],
        [
         "2853",
         "Amount",
         " n.总数；数量；和"
        ],
        [
         "2848",
         "April",
         " n.四月"
        ],
        [
         "2841",
         "Arabian",
         "a.阿拉伯的"
        ],
        [
         "2937",
         "Asia",
         " n.亚洲"
        ],
        [
         "2938",
         "Asian",
         "a.亚洲的 n.亚洲人"
        ],
        [
         "2888",
         "Atlantic",
         "a.大西洋的 n.大西洋"
        ],
        [
         "2915",
         "August",
         " n.八月"
        ],
        [
         "2912",
         "Australia",
         " n.澳大利亚"
        ],
        [
         "2918",
         "Australian",
         "a.澳大利亚的"
        ],
        [
         "2911",
         "Author",
         " n.作者，作家"
        ],
        [
         "3342",
         "Bible",
         "n.基督教《圣经》"
        ],
        [
         "3126",
         "Britain",
         "n.不列颠，英国"
        ],
        [
         "3125",
         "British",
         "a.不列颠的，英联邦的"
        ],
        [
         "3180",
         "Canada",
         "n.加拿大"
        ],
        [
         "3181",
         "Canadian",
         "a.加拿大的"
        ],
        [
         "2505",
         "China",
         "n.中国"
        ],
        [
         "2523",
         "Chinese",
         "a.中国的 n.中国人"
        ],
        [
         "2526",
         "Christian",
         " n.基督教徒；信徒"
        ],
        [
         "2525",
         "Christmas",
         " n.圣诞节"
        ],
        [
         "2674",
         "December",
         "n.十二月"
        ],
        [
         "3994",
         "England ",
         "n.英格兰；英国"
        ],
        [
         "4008",
         "English ",
         "n.英语 a.英国人的"
        ],
        [
         "4007",
         "Englishman ",
         "n.英国男子"
        ],
        [
         "3959",
         "Europe ",
         "n.欧洲"
        ],
        [
         "3973",
         "European ",
         "a.欧洲的 n.欧洲人"
        ],
        [
         "4405",
         "Fahrenheit ",
         "n.华氏温度计"
        ],
        [
         "4380",
         "February ",
         "n.二月"
        ],
        [
         "4259",
         "France ",
         "n.法国，法兰西"
        ],
        [
         "4228",
         "French ",
         "a.法国的 n.法国人"
        ],
        [
         "4234",
         "Friday ",
         "n.星期五"
        ],
        [
         "4298",
         "German ",
         "a.德国的 n.德国人"
        ],
        [
         "4299",
         "Germany ",
         "n.德意志，德国"
        ],
        [
         "4313",
         "God ",
         "n.神，神像；上帝"
        ],
        [
         "3521",
         "Greek ",
         "a.希腊的 n.希腊人"
        ],
        [
         "3474",
         "India ",
         "n.印度"
        ],
        [
         "3472",
         "Indian ",
         "a.印度的 n.印度人"
        ],
        [
         "3926",
         "Italian ",
         "a.意大利的n.意大利人"
        ],
        [
         "3874",
         "January ",
         "n.一月"
        ],
        [
         "3875",
         "Japan ",
         "n.日本，日本国"
        ],
        [
         "3876",
         "Japanese ",
         "a.日本的 n.日本人"
        ],
        [
         "3894",
         "July ",
         "n.七月"
        ],
        [
         "3892",
         "June ",
         "n.六月"
        ],
        [
         "3687",
         "Latin ",
         "a.拉丁的 n.拉丁语"
        ],
        [
         "826",
         "March ",
         "n.三月"
        ]
       ],
       "shape": {
        "columns": 2,
        "rows": 4473
       }
      },
      "text/html": [
       "<div>\n",
       "<style scoped>\n",
       "    .dataframe tbody tr th:only-of-type {\n",
       "        vertical-align: middle;\n",
       "    }\n",
       "\n",
       "    .dataframe tbody tr th {\n",
       "        vertical-align: top;\n",
       "    }\n",
       "\n",
       "    .dataframe thead th {\n",
       "        text-align: right;\n",
       "    }\n",
       "</style>\n",
       "<table border=\"1\" class=\"dataframe\">\n",
       "  <thead>\n",
       "    <tr style=\"text-align: right;\">\n",
       "      <th></th>\n",
       "      <th>word</th>\n",
       "      <th>definition</th>\n",
       "    </tr>\n",
       "  </thead>\n",
       "  <tbody>\n",
       "    <tr>\n",
       "      <th>3092</th>\n",
       "      <td>Africa</td>\n",
       "      <td>n.非洲</td>\n",
       "    </tr>\n",
       "    <tr>\n",
       "      <th>3091</th>\n",
       "      <td>African</td>\n",
       "      <td>a.非洲的 n.非洲人</td>\n",
       "    </tr>\n",
       "    <tr>\n",
       "      <th>2955</th>\n",
       "      <td>America</td>\n",
       "      <td>n.美洲；美国</td>\n",
       "    </tr>\n",
       "    <tr>\n",
       "      <th>2954</th>\n",
       "      <td>American</td>\n",
       "      <td>a.美洲的 n.美国人</td>\n",
       "    </tr>\n",
       "    <tr>\n",
       "      <th>2884</th>\n",
       "      <td>Among</td>\n",
       "      <td>prep.在…之中</td>\n",
       "    </tr>\n",
       "    <tr>\n",
       "      <th>...</th>\n",
       "      <td>...</td>\n",
       "      <td>...</td>\n",
       "    </tr>\n",
       "    <tr>\n",
       "      <th>1497</th>\n",
       "      <td>zealous</td>\n",
       "      <td>a.热心的，热情的</td>\n",
       "    </tr>\n",
       "    <tr>\n",
       "      <th>1496</th>\n",
       "      <td>zebra</td>\n",
       "      <td>n.斑马</td>\n",
       "    </tr>\n",
       "    <tr>\n",
       "      <th>1495</th>\n",
       "      <td>zero</td>\n",
       "      <td>n.零；零点，零度</td>\n",
       "    </tr>\n",
       "    <tr>\n",
       "      <th>2251</th>\n",
       "      <td>zone</td>\n",
       "      <td>n.地区，区域，范围</td>\n",
       "    </tr>\n",
       "    <tr>\n",
       "      <th>4504</th>\n",
       "      <td>zoo</td>\n",
       "      <td>n.动物园</td>\n",
       "    </tr>\n",
       "  </tbody>\n",
       "</table>\n",
       "<p>4473 rows × 2 columns</p>\n",
       "</div>"
      ],
      "text/plain": [
       "          word   definition\n",
       "3092    Africa         n.非洲\n",
       "3091   African  a.非洲的 n.非洲人\n",
       "2955   America      n.美洲；美国\n",
       "2954  American  a.美洲的 n.美国人\n",
       "2884     Among    prep.在…之中\n",
       "...        ...          ...\n",
       "1497   zealous    a.热心的，热情的\n",
       "1496     zebra         n.斑马\n",
       "1495      zero    n.零；零点，零度\n",
       "2251      zone   n.地区，区域，范围\n",
       "4504       zoo        n.动物园\n",
       "\n",
       "[4473 rows x 2 columns]"
      ]
     },
     "execution_count": 19,
     "metadata": {},
     "output_type": "execute_result"
    }
   ],
   "source": [
    "cet4_df = df[mask1 & ~mask2 & ~mask3].drop(['id','createdTime','modifyTime'],axis=1)\n",
    "cet4_df.rename(columns={'translate':'definition'},inplace=True)\n",
    "cet4_df"
   ]
  },
  {
   "cell_type": "code",
   "execution_count": 20,
   "id": "0b0b3623",
   "metadata": {},
   "outputs": [],
   "source": [
    "cet4_df.to_csv('data/cet4.csv',index=False)\n",
    "#cet4_df.to_json('data/cet4.json',index=False)\n",
    "cet4_df.to_excel('data/cet4.xlsx',index=False)"
   ]
  },
  {
   "cell_type": "code",
   "execution_count": 21,
   "id": "633ea657",
   "metadata": {},
   "outputs": [],
   "source": [
    "# 转为 JSON 字符串\n",
    "json_str = json.dumps(cet4_df.to_dict(orient='records'), ensure_ascii=False, indent=2)\n",
    "\n",
    "# 保存为文件\n",
    "with open(\"data/cet4.json\", \"w\", encoding=\"utf-8\") as f:\n",
    "    f.write(json_str)"
   ]
  },
  {
   "cell_type": "code",
   "execution_count": null,
   "id": "d6caab00",
   "metadata": {},
   "outputs": [],
   "source": []
  }
 ],
 "metadata": {
  "kernelspec": {
   "display_name": "econ",
   "language": "python",
   "name": "python3"
  },
  "language_info": {
   "codemirror_mode": {
    "name": "ipython",
    "version": 3
   },
   "file_extension": ".py",
   "mimetype": "text/x-python",
   "name": "python",
   "nbconvert_exporter": "python",
   "pygments_lexer": "ipython3",
   "version": "3.13.7"
  }
 },
 "nbformat": 4,
 "nbformat_minor": 5
}
