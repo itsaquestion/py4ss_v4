{
 "cells": [
  {
   "cell_type": "markdown",
   "metadata": {},
   "source": [
    "# Concat和Merge作业a\n",
    "\n",
    "请输入你的个人信息，以变量的形式保存：\n",
    "\n",
    "1. name: 姓名\n",
    "2. id: 学号\n",
    "\n",
    "用字符串操作和Print()，打印以下这句话：“我是??，我的学号是??。我承诺这次作业是独立完成。”"
   ]
  },
  {
   "cell_type": "code",
   "execution_count": 6,
   "metadata": {},
   "outputs": [
    {
     "name": "stdout",
     "output_type": "stream",
     "text": [
      "我是lee，我的学号是2024001。我承诺这次作业是独立完成。\n"
     ]
    }
   ],
   "source": [
    "# 答题区\n",
    "\n",
    "name = \"lee\"\n",
    "id = 2024001\n",
    "\n",
    "print(f\"我是{name}，我的学号是{id}。我承诺这次作业是独立完成。\")"
   ]
  },
  {
   "cell_type": "markdown",
   "metadata": {},
   "source": [
    "\n",
    "利用题目给出的虚拟，后续的题目。\n",
    "\n",
    "答题要求：\n",
    "\n",
    "1. 每道题目后面，请自行添加适当的Python单元格，只要满足你的编程需求\n",
    "2. 但是，最后一个单元格，必须打印指定的答案，或者回答问题"
   ]
  },
  {
   "cell_type": "markdown",
   "metadata": {},
   "source": [
    "## 原始数据如下\n",
    "\n",
    "提示：要完成后续的题目，需要预先合并原始数据"
   ]
  },
  {
   "cell_type": "code",
   "execution_count": 7,
   "metadata": {},
   "outputs": [],
   "source": [
    "import pandas as pd\n",
    "\n",
    "# 生成虚拟数据\n",
    "\n",
    "# 学生成绩数据\n",
    "df1 = pd.DataFrame(\n",
    "    {\n",
    "        \"StudentID\": [1, 2, 3, 4, 5],\n",
    "        \"Name\": [\"Alice\", \"Bob\", \"Charlie\", \"David\", \"Eva\"],\n",
    "        \"Math\": [85, 55, 78, 88, 40],  # 修改数据，确保有不及格的学生\n",
    "    }\n",
    ")\n",
    "\n",
    "# 学生更多成绩数据\n",
    "df2 = pd.DataFrame(\n",
    "    {\n",
    "        \"StudentID\": [3, 4, 5, 6, 7],\n",
    "        \"Name\": [\"Charlie\", \"David\", \"Eva\", \"Frank\", \"Grace\"],\n",
    "        \"Science\": [91, 85, 79, 83, 87],\n",
    "    }\n",
    ")\n",
    "\n",
    "# 学生班级数据\n",
    "df3 = pd.DataFrame(\n",
    "    {\"StudentID\": [1, 2, 3, 4, 5, 6, 7], \"Class\": [\"A\", \"B\", \"A\", \"B\", \"A\", \"B\", \"A\"]}\n",
    ")"
   ]
  },
  {
   "cell_type": "markdown",
   "metadata": {},
   "source": [
    "### 题目1\n",
    "\n",
    "找出所有同时参加了数学和科学考试的学生，并列出他们的姓名、数学成绩和科学成绩（3列），并打印结果。"
   ]
  },
  {
   "cell_type": "code",
   "execution_count": 9,
   "metadata": {},
   "outputs": [],
   "source": [
    "# 答题区，Python单元格的数量由你自己决定，下同。\n"
   ]
  },
  {
   "cell_type": "markdown",
   "metadata": {},
   "source": [
    "### 题目2\n",
    "\n",
    "列出**所有学生**的姓名、班级、数学成绩和科学成绩（4列），缺失的成绩用 NaN 表示。"
   ]
  },
  {
   "cell_type": "code",
   "execution_count": 10,
   "metadata": {},
   "outputs": [],
   "source": [
    "# 答题区\n"
   ]
  },
  {
   "cell_type": "markdown",
   "metadata": {},
   "source": [
    "### 题目3\n",
    "\n",
    "列出所有数学成绩不及格（<60）的学生姓名及其班级，添加一列布尔值'Participated_Science'，并标明他们是否参加了科学考试（3列）。"
   ]
  },
  {
   "cell_type": "code",
   "execution_count": 11,
   "metadata": {},
   "outputs": [],
   "source": [
    "# 答题区\n"
   ]
  },
  {
   "cell_type": "markdown",
   "metadata": {},
   "source": [
    "### 题目4\n",
    "\n",
    "计算每个班级的平均数学成绩和科学成绩，并列出每个班级及其对应的平均成绩。"
   ]
  },
  {
   "cell_type": "code",
   "execution_count": 12,
   "metadata": {},
   "outputs": [],
   "source": [
    "# 答题区\n"
   ]
  }
 ],
 "metadata": {
  "kernelspec": {
   "display_name": "base",
   "language": "python",
   "name": "python3"
  },
  "language_info": {
   "codemirror_mode": {
    "name": "ipython",
    "version": 3
   },
   "file_extension": ".py",
   "mimetype": "text/x-python",
   "name": "python",
   "nbconvert_exporter": "python",
   "pygments_lexer": "ipython3",
   "version": "3.12.4"
  }
 },
 "nbformat": 4,
 "nbformat_minor": 2
}
