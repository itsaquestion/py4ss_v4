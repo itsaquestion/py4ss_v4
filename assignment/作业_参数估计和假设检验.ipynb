{
 "cells": [
  {
   "cell_type": "code",
   "execution_count": 2,
   "metadata": {},
   "outputs": [
    {
     "data": {
      "text/html": [
       "<div>\n",
       "<style scoped>\n",
       "    .dataframe tbody tr th:only-of-type {\n",
       "        vertical-align: middle;\n",
       "    }\n",
       "\n",
       "    .dataframe tbody tr th {\n",
       "        vertical-align: top;\n",
       "    }\n",
       "\n",
       "    .dataframe thead th {\n",
       "        text-align: right;\n",
       "    }\n",
       "</style>\n",
       "<table border=\"1\" class=\"dataframe\">\n",
       "  <thead>\n",
       "    <tr style=\"text-align: right;\">\n",
       "      <th></th>\n",
       "      <th>survived</th>\n",
       "      <th>pclass</th>\n",
       "      <th>sex</th>\n",
       "      <th>age</th>\n",
       "      <th>sibsp</th>\n",
       "      <th>parch</th>\n",
       "      <th>fare</th>\n",
       "      <th>embarked</th>\n",
       "      <th>class</th>\n",
       "      <th>who</th>\n",
       "      <th>adult_male</th>\n",
       "      <th>deck</th>\n",
       "      <th>embark_town</th>\n",
       "      <th>alive</th>\n",
       "      <th>alone</th>\n",
       "    </tr>\n",
       "  </thead>\n",
       "  <tbody>\n",
       "    <tr>\n",
       "      <th>0</th>\n",
       "      <td>0</td>\n",
       "      <td>3</td>\n",
       "      <td>male</td>\n",
       "      <td>22.0</td>\n",
       "      <td>1</td>\n",
       "      <td>0</td>\n",
       "      <td>7.2500</td>\n",
       "      <td>S</td>\n",
       "      <td>Third</td>\n",
       "      <td>man</td>\n",
       "      <td>True</td>\n",
       "      <td>NaN</td>\n",
       "      <td>Southampton</td>\n",
       "      <td>no</td>\n",
       "      <td>False</td>\n",
       "    </tr>\n",
       "    <tr>\n",
       "      <th>1</th>\n",
       "      <td>1</td>\n",
       "      <td>1</td>\n",
       "      <td>female</td>\n",
       "      <td>38.0</td>\n",
       "      <td>1</td>\n",
       "      <td>0</td>\n",
       "      <td>71.2833</td>\n",
       "      <td>C</td>\n",
       "      <td>First</td>\n",
       "      <td>woman</td>\n",
       "      <td>False</td>\n",
       "      <td>C</td>\n",
       "      <td>Cherbourg</td>\n",
       "      <td>yes</td>\n",
       "      <td>False</td>\n",
       "    </tr>\n",
       "    <tr>\n",
       "      <th>2</th>\n",
       "      <td>1</td>\n",
       "      <td>3</td>\n",
       "      <td>female</td>\n",
       "      <td>26.0</td>\n",
       "      <td>0</td>\n",
       "      <td>0</td>\n",
       "      <td>7.9250</td>\n",
       "      <td>S</td>\n",
       "      <td>Third</td>\n",
       "      <td>woman</td>\n",
       "      <td>False</td>\n",
       "      <td>NaN</td>\n",
       "      <td>Southampton</td>\n",
       "      <td>yes</td>\n",
       "      <td>True</td>\n",
       "    </tr>\n",
       "    <tr>\n",
       "      <th>3</th>\n",
       "      <td>1</td>\n",
       "      <td>1</td>\n",
       "      <td>female</td>\n",
       "      <td>35.0</td>\n",
       "      <td>1</td>\n",
       "      <td>0</td>\n",
       "      <td>53.1000</td>\n",
       "      <td>S</td>\n",
       "      <td>First</td>\n",
       "      <td>woman</td>\n",
       "      <td>False</td>\n",
       "      <td>C</td>\n",
       "      <td>Southampton</td>\n",
       "      <td>yes</td>\n",
       "      <td>False</td>\n",
       "    </tr>\n",
       "    <tr>\n",
       "      <th>4</th>\n",
       "      <td>0</td>\n",
       "      <td>3</td>\n",
       "      <td>male</td>\n",
       "      <td>35.0</td>\n",
       "      <td>0</td>\n",
       "      <td>0</td>\n",
       "      <td>8.0500</td>\n",
       "      <td>S</td>\n",
       "      <td>Third</td>\n",
       "      <td>man</td>\n",
       "      <td>True</td>\n",
       "      <td>NaN</td>\n",
       "      <td>Southampton</td>\n",
       "      <td>no</td>\n",
       "      <td>True</td>\n",
       "    </tr>\n",
       "  </tbody>\n",
       "</table>\n",
       "</div>"
      ],
      "text/plain": [
       "   survived  pclass     sex   age  sibsp  parch     fare embarked  class  \\\n",
       "0         0       3    male  22.0      1      0   7.2500        S  Third   \n",
       "1         1       1  female  38.0      1      0  71.2833        C  First   \n",
       "2         1       3  female  26.0      0      0   7.9250        S  Third   \n",
       "3         1       1  female  35.0      1      0  53.1000        S  First   \n",
       "4         0       3    male  35.0      0      0   8.0500        S  Third   \n",
       "\n",
       "     who  adult_male deck  embark_town alive  alone  \n",
       "0    man        True  NaN  Southampton    no  False  \n",
       "1  woman       False    C    Cherbourg   yes  False  \n",
       "2  woman       False  NaN  Southampton   yes   True  \n",
       "3  woman       False    C  Southampton   yes  False  \n",
       "4    man        True  NaN  Southampton    no   True  "
      ]
     },
     "execution_count": 2,
     "metadata": {},
     "output_type": "execute_result"
    }
   ],
   "source": [
    "### 数据预处理\n",
    "\n",
    "import pandas as pd\n",
    "import numpy as np\n",
    "\n",
    "# import seaborn as sns\n",
    "from scipy import stats\n",
    "import statsmodels.api as sm\n",
    "from statsmodels.formula.api import ols\n",
    "\n",
    "# 加载数据集\n",
    "titanic = pd.read_csv(\"data/titanic.csv\")\n",
    "\n",
    "# 数据清洗：填充年龄和票价的缺失值\n",
    "titanic[\"age\"].fillna(titanic[\"age\"].mean(), inplace=True)\n",
    "titanic[\"fare\"].fillna(titanic[\"fare\"].median(), inplace=True)\n",
    "\n",
    "# 查看数据集的前几行\n",
    "titanic.head()"
   ]
  },
  {
   "cell_type": "code",
   "execution_count": 10,
   "metadata": {},
   "outputs": [
    {
     "name": "stdout",
     "output_type": "stream",
     "text": [
      "29.7\n",
      "单样本t检验结果：t统计量=nan, p值=nan\n"
     ]
    }
   ],
   "source": [
    "# 单样本t检验\n",
    "print(titanic['age'].mean().round(2))\n",
    "t_stat, p_value = stats.ttest_1samp(titanic['age'], 30)\n",
    "print(f\"单样本t检验结果：t统计量={t_stat:.3f}, p值={p_value:.3f}\")\n"
   ]
  },
  {
   "cell_type": "markdown",
   "metadata": {},
   "source": [
    "1. 单样本t检验的原假设：样本均值等于我们对总体均值的假设\n",
    "2. 如果p值小于一个给定的显著性水平（比如0.05），那么我们可以“拒绝原假设”，即两者不同。反之则无法拒绝原假设（但不是肯定原假设）\n",
    "3. p值明显很大，接近0.5，因此我们无法拒绝原假设，即不能拒绝平均年龄是30这个假设。"
   ]
  },
  {
   "cell_type": "code",
   "execution_count": 11,
   "metadata": {},
   "outputs": [
    {
     "name": "stdout",
     "output_type": "stream",
     "text": [
      "38.23 25.14\n",
      "双样本t检验结果：t统计量=nan, p值=nan\n"
     ]
    }
   ],
   "source": [
    "# 双样本t检验\n",
    "group1 = titanic[titanic['class'] == 'First']['age']\n",
    "group3 = titanic[titanic['class'] == 'Third']['age']\n",
    "\n",
    "print(group1.mean().round(2), group3.mean().round(2))\n",
    "\n",
    "t_stat, p_value = stats.ttest_ind(group1, group3, equal_var=False)  # 假设方差不等\n",
    "print(f\"双样本t检验结果：t统计量={t_stat:.3f}, p值={p_value:.3f}\")\n"
   ]
  },
  {
   "cell_type": "markdown",
   "metadata": {},
   "source": [
    "1. 2独立样本t检验的原假设：2组样本均值相等\n",
    "2. 如果p值小于一个给定的显著性水平（比如0.05），那么我们可以“拒绝原假设”，即两者不同。反之则无法拒绝原假设（但不是肯定原假设）\n",
    "3. p值明显很小，接近0，因此我们可以拒绝假设，即认为头等舱和三等舱的乘客年龄有显著差异。"
   ]
  },
  {
   "cell_type": "markdown",
   "metadata": {},
   "source": []
  },
  {
   "cell_type": "code",
   "execution_count": 12,
   "metadata": {},
   "outputs": [
    {
     "name": "stdout",
     "output_type": "stream",
     "text": [
      "方差分析结果：\n",
      "                 sum_sq     df      F  PR(>F)\n",
      "embark_town   173857.95    2.0  38.14     0.0\n",
      "Residual     2019361.69  886.0    NaN     NaN\n"
     ]
    }
   ],
   "source": [
    "import statsmodels.api as sm\n",
    "from statsmodels.formula.api import ols\n",
    "import seaborn as sns\n",
    "\n",
    "# 加载数据集\n",
    "titanic = sns.load_dataset('titanic')\n",
    "titanic['fare'].fillna(titanic['fare'].median(), inplace=True)\n",
    "\n",
    "# 方差分析\n",
    "model = ols('fare ~ embark_town', data=titanic).fit()\n",
    "anova_results = sm.stats.anova_lm(model, typ=2)\n",
    "print(\"方差分析结果：\")\n",
    "print(anova_results.round(2))\n",
    "\n"
   ]
  },
  {
   "cell_type": "markdown",
   "metadata": {},
   "source": [
    "1. 方差分析的原假设：多组样本的均值相等\n",
    "2. P值很小：拒绝原假设，即最少有1组样本的均值和其他组的均值不同：登船港口的票价有差异"
   ]
  },
  {
   "cell_type": "code",
   "execution_count": 9,
   "metadata": {},
   "outputs": [
    {
     "name": "stdout",
     "output_type": "stream",
     "text": [
      "交叉表：\n",
      "sex       female  male\n",
      "survived              \n",
      "0             81   468\n",
      "1            233   109\n",
      "卡方检验结果：卡方统计量=260.717, p值=0.000, 自由度=1, 期望频数：\n",
      "[[193.475 355.525]\n",
      " [120.525 221.475]]\n"
     ]
    }
   ],
   "source": [
    "# 创建交叉表\n",
    "contingency_table = pd.crosstab(titanic['survived'], titanic['sex'])\n",
    "print(\"交叉表：\")\n",
    "print(contingency_table)\n",
    "\n",
    "# 卡方检验\n",
    "chi2, p_value, dof, expected = stats.chi2_contingency(contingency_table)\n",
    "print(f\"卡方检验结果：卡方统计量={chi2:.3f}, p值={p_value:.3f}, 自由度={dof}, 期望频数：\")\n",
    "print(expected.round(3))\n"
   ]
  },
  {
   "cell_type": "markdown",
   "metadata": {},
   "source": [
    "1. 卡方检验：2组分类变量独立无关联\n",
    "2. p值很小：拒绝原假设，即两组变量有关联：性别和生存率是有关系的。"
   ]
  }
 ],
 "metadata": {
  "kernelspec": {
   "display_name": "base",
   "language": "python",
   "name": "python3"
  },
  "language_info": {
   "codemirror_mode": {
    "name": "ipython",
    "version": 3
   },
   "file_extension": ".py",
   "mimetype": "text/x-python",
   "name": "python",
   "nbconvert_exporter": "python",
   "pygments_lexer": "ipython3",
   "version": "3.11.7"
  }
 },
 "nbformat": 4,
 "nbformat_minor": 2
}
