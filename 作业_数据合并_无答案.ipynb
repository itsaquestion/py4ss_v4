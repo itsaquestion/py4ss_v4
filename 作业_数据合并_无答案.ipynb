{
 "cells": [
  {
   "cell_type": "markdown",
   "metadata": {},
   "source": [
    "# Concat和Merge作业\n",
    "\n",
    "请输入你的个人信息，以变量的形式保存：\n",
    "\n",
    "1. name: 姓名\n",
    "2. id: 学号\n",
    "\n",
    "用字符串操作和Print()，打印以下这句话：“我是??，我的学号是??。我承诺这次作业是独立完成。”"
   ]
  },
  {
   "cell_type": "code",
   "execution_count": 6,
   "metadata": {},
   "outputs": [
    {
     "name": "stdout",
     "output_type": "stream",
     "text": [
      "我是lee，我的学号是2024001。我承诺这次作业是独立完成。\n"
     ]
    }
   ],
   "source": [
    "# 答题区\n",
    "\n",
    "name = \"lee\"\n",
    "id = 2024001\n",
    "\n",
    "print(f\"我是{name}，我的学号是{id}。我承诺这次作业是独立完成。\")"
   ]
  },
  {
   "cell_type": "markdown",
   "metadata": {},
   "source": [
    "\n",
    "\n",
    "## 1.1 Concat和Merge作业\n",
    "\n",
    "利用题目给出的虚拟，后续的题目。\n",
    "\n",
    "答题要求：\n",
    "\n",
    "1. 每道题目后面，请自行添加适当的Python单元格，只要满足你的编程需求\n",
    "2. 但是，最后一个单元格，必须打印指定的答案，或者回答问题"
   ]
  },
  {
   "cell_type": "code",
   "execution_count": 7,
   "metadata": {},
   "outputs": [],
   "source": [
    "import pandas as pd\n",
    "\n",
    "# 生成虚拟数据\n",
    "\n",
    "# 学生成绩数据\n",
    "df1 = pd.DataFrame(\n",
    "    {\n",
    "        \"StudentID\": [1, 2, 3, 4, 5],\n",
    "        \"Name\": [\"Alice\", \"Bob\", \"Charlie\", \"David\", \"Eva\"],\n",
    "        \"Math\": [85, 55, 78, 88, 40],  # 修改数据，确保有不及格的学生\n",
    "    }\n",
    ")\n",
    "\n",
    "# 学生更多成绩数据\n",
    "df2 = pd.DataFrame(\n",
    "    {\n",
    "        \"StudentID\": [3, 4, 5, 6, 7],\n",
    "        \"Name\": [\"Charlie\", \"David\", \"Eva\", \"Frank\", \"Grace\"],\n",
    "        \"Science\": [91, 85, 79, 83, 87],\n",
    "    }\n",
    ")\n",
    "\n",
    "# 学生班级数据\n",
    "df3 = pd.DataFrame(\n",
    "    {\"StudentID\": [1, 2, 3, 4, 5, 6, 7], \"Class\": [\"A\", \"B\", \"A\", \"B\", \"A\", \"B\", \"A\"]}\n",
    ")"
   ]
  },
  {
   "cell_type": "code",
   "execution_count": 8,
   "metadata": {},
   "outputs": [
    {
     "data": {
      "text/html": [
       "<div>\n",
       "<style scoped>\n",
       "    .dataframe tbody tr th:only-of-type {\n",
       "        vertical-align: middle;\n",
       "    }\n",
       "\n",
       "    .dataframe tbody tr th {\n",
       "        vertical-align: top;\n",
       "    }\n",
       "\n",
       "    .dataframe thead th {\n",
       "        text-align: right;\n",
       "    }\n",
       "</style>\n",
       "<table border=\"1\" class=\"dataframe\">\n",
       "  <thead>\n",
       "    <tr style=\"text-align: right;\">\n",
       "      <th></th>\n",
       "      <th>StudentID</th>\n",
       "      <th>Name</th>\n",
       "      <th>Math</th>\n",
       "      <th>Science</th>\n",
       "      <th>Class</th>\n",
       "    </tr>\n",
       "  </thead>\n",
       "  <tbody>\n",
       "    <tr>\n",
       "      <th>0</th>\n",
       "      <td>1</td>\n",
       "      <td>Alice</td>\n",
       "      <td>85.0</td>\n",
       "      <td>NaN</td>\n",
       "      <td>A</td>\n",
       "    </tr>\n",
       "    <tr>\n",
       "      <th>1</th>\n",
       "      <td>2</td>\n",
       "      <td>Bob</td>\n",
       "      <td>55.0</td>\n",
       "      <td>NaN</td>\n",
       "      <td>B</td>\n",
       "    </tr>\n",
       "    <tr>\n",
       "      <th>2</th>\n",
       "      <td>3</td>\n",
       "      <td>Charlie</td>\n",
       "      <td>78.0</td>\n",
       "      <td>91.0</td>\n",
       "      <td>A</td>\n",
       "    </tr>\n",
       "    <tr>\n",
       "      <th>3</th>\n",
       "      <td>4</td>\n",
       "      <td>David</td>\n",
       "      <td>88.0</td>\n",
       "      <td>85.0</td>\n",
       "      <td>B</td>\n",
       "    </tr>\n",
       "    <tr>\n",
       "      <th>4</th>\n",
       "      <td>5</td>\n",
       "      <td>Eva</td>\n",
       "      <td>40.0</td>\n",
       "      <td>79.0</td>\n",
       "      <td>A</td>\n",
       "    </tr>\n",
       "    <tr>\n",
       "      <th>5</th>\n",
       "      <td>6</td>\n",
       "      <td>NaN</td>\n",
       "      <td>NaN</td>\n",
       "      <td>83.0</td>\n",
       "      <td>B</td>\n",
       "    </tr>\n",
       "    <tr>\n",
       "      <th>6</th>\n",
       "      <td>7</td>\n",
       "      <td>NaN</td>\n",
       "      <td>NaN</td>\n",
       "      <td>87.0</td>\n",
       "      <td>A</td>\n",
       "    </tr>\n",
       "  </tbody>\n",
       "</table>\n",
       "</div>"
      ],
      "text/plain": [
       "   StudentID     Name  Math  Science Class\n",
       "0          1    Alice  85.0      NaN     A\n",
       "1          2      Bob  55.0      NaN     B\n",
       "2          3  Charlie  78.0     91.0     A\n",
       "3          4    David  88.0     85.0     B\n",
       "4          5      Eva  40.0     79.0     A\n",
       "5          6      NaN   NaN     83.0     B\n",
       "6          7      NaN   NaN     87.0     A"
      ]
     },
     "execution_count": 8,
     "metadata": {},
     "output_type": "execute_result"
    }
   ],
   "source": [
    "df = pd.merge(df1, df2, on=\"StudentID\", how=\"outer\").merge(\n",
    "    df3, on=\"StudentID\", how=\"outer\"\n",
    ")\n",
    "df = df.drop(\"Name_y\", axis=1).rename(columns={\"Name_x\": \"Name\"})\n",
    "df"
   ]
  },
  {
   "cell_type": "markdown",
   "metadata": {},
   "source": [
    "### 题目1\n",
    "\n",
    "找出所有同时参加了数学和科学考试的学生，并列出他们的姓名、数学成绩和科学成绩（3列），并打印结果。"
   ]
  },
  {
   "cell_type": "code",
   "execution_count": 9,
   "metadata": {},
   "outputs": [],
   "source": [
    "# 答题区，Python单元格的数量由你自己决定，下同。\n"
   ]
  },
  {
   "cell_type": "markdown",
   "metadata": {},
   "source": [
    "### 题目2\n",
    "\n",
    "列出**所有学生**的姓名、班级、数学成绩和科学成绩（4列），缺失的成绩用 NaN 表示。"
   ]
  },
  {
   "cell_type": "code",
   "execution_count": 10,
   "metadata": {},
   "outputs": [],
   "source": [
    "# 答题区\n"
   ]
  },
  {
   "cell_type": "markdown",
   "metadata": {},
   "source": [
    "### 题目3\n",
    "\n",
    "列出所有数学成绩不及格（<60）的学生姓名及其班级，添加一列布尔值'Participated_Science'，并标明他们是否参加了科学考试（3列）。"
   ]
  },
  {
   "cell_type": "code",
   "execution_count": 11,
   "metadata": {},
   "outputs": [],
   "source": [
    "# 答题区\n"
   ]
  },
  {
   "cell_type": "markdown",
   "metadata": {},
   "source": [
    "### 题目4\n",
    "\n",
    "计算每个班级的平均数学成绩和科学成绩，并列出每个班级及其对应的平均成绩。"
   ]
  },
  {
   "cell_type": "code",
   "execution_count": 12,
   "metadata": {},
   "outputs": [],
   "source": [
    "# 答题区\n"
   ]
  }
 ],
 "metadata": {
  "kernelspec": {
   "display_name": "base",
   "language": "python",
   "name": "python3"
  },
  "language_info": {
   "codemirror_mode": {
    "name": "ipython",
    "version": 3
   },
   "file_extension": ".py",
   "mimetype": "text/x-python",
   "name": "python",
   "nbconvert_exporter": "python",
   "pygments_lexer": "ipython3",
   "version": "3.11.7"
  }
 },
 "nbformat": 4,
 "nbformat_minor": 2
}
