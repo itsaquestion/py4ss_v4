{
 "cells": [
  {
   "cell_type": "markdown",
   "metadata": {},
   "source": [
    "# 预备知识：数据源\n",
    "\n",
    "在进入案例之前，简单说一下数据源。证券市场研究常用的数据源有：\n",
    "\n",
    "## 常用数据源\n",
    "### CSMAR国泰安数据库\n",
    "\n",
    "CSMAR包括大量宏微观数据和上市公司数据（主要是**历史数据**，区别于**实时数据**），\n",
    "常用于科研。这也是本课程主要的数据来源。\n",
    "\n",
    "主页在https://cn.gtadata.com/，网站会自动识别你的IP地址，校园网内可直接使用。\n",
    "\n",
    "学校未必会购买整个CSMAR数据库，如果遇到部分数据学校没有购买的情况，\n",
    "可以考虑淘宝购买账号，价格低廉，还可以多人共用。\n",
    "\n",
    "### Wind万得和iFinD同花顺客户端的API\n",
    "\n",
    "价格昂贵的数据终端，我们学校应该没买，土豪和金融机构的选择。\n",
    "\n",
    "### 某些Python包\n",
    "\n",
    "1. Tushare。主页在https://tushare.pro/\n",
    "2. AKShare。主页在https://www.akshare.xyz/\n",
    "\n",
    "这2个包最初都是现成写好的爬虫，背后是抓取如新浪财经或者东方财富网等网站的数据。如果你需要**实时数据**，或者**少量历史数据**又不想去CSMAR搜索下载，可以考虑。\n",
    "\n",
    "本课某些场合可能会用到AKShare，不用注册，比较省事。\n",
    "\n",
    "\n",
    "### 自己写爬虫\n",
    "\n",
    "如果有些数据，上述几个来源的都无法满足，又正好有网站提供（比如上交所和深交所的主页有大量的数据），那么可以自己写爬虫爬取。网站各个不同，因此写爬虫是“一事一议”的工作，考虑作为选学内容。\n"
   ]
  },
  {
   "cell_type": "markdown",
   "metadata": {},
   "source": [
    "## CSMAR获取数据范例\n",
    "\n",
    "从CSMAR中搜索并下载数据，和用百度搜索，或者和从网店购物差不多。唯独需要注意的是，CSMAR中下载的数据可能有多重header。\n",
    "\n",
    "\n",
    "![](/images/csmar_data.png)\n",
    "\n",
    "在这个示例中，Excel表的开头3行都是标题，第4行才是数据。\n",
    "\n",
    "### 多重标题数据的处理\n",
    "\n",
    "处理这种数据，可以：\n",
    "\n",
    "1. 手工删除不需要的行，只保留需要的行，保存即可。\n",
    "   \n",
    "或者：\n",
    "\n",
    "2. 用`pd.read_excel()`读取的时候进行处理，也有2种方案：\n",
    "    - 用参数`header`指定哪几行是标题，形成多重列标签。因为这里的多重header很难指定converters，所以CSMAR数据不推荐。\n",
    "    - 用参数`skiprows`忽略某些行。（* **推荐**）"
   ]
  },
  {
   "cell_type": "markdown",
   "metadata": {},
   "source": [
    "### 形成多重header"
   ]
  },
  {
   "cell_type": "code",
   "execution_count": 11,
   "metadata": {},
   "outputs": [
    {
     "data": {
      "text/html": [
       "<div>\n",
       "<style scoped>\n",
       "    .dataframe tbody tr th:only-of-type {\n",
       "        vertical-align: middle;\n",
       "    }\n",
       "\n",
       "    .dataframe tbody tr th {\n",
       "        vertical-align: top;\n",
       "    }\n",
       "\n",
       "    .dataframe thead tr th {\n",
       "        text-align: left;\n",
       "    }\n",
       "</style>\n",
       "<table border=\"1\" class=\"dataframe\">\n",
       "  <thead>\n",
       "    <tr>\n",
       "      <th></th>\n",
       "      <th>TradingDate</th>\n",
       "      <th>Symbol</th>\n",
       "      <th>ClosePrice</th>\n",
       "    </tr>\n",
       "    <tr>\n",
       "      <th></th>\n",
       "      <th>交易日期</th>\n",
       "      <th>证券代码</th>\n",
       "      <th>收盘价</th>\n",
       "    </tr>\n",
       "    <tr>\n",
       "      <th></th>\n",
       "      <th>Unnamed: 0_level_2</th>\n",
       "      <th>Unnamed: 1_level_2</th>\n",
       "      <th>元/股</th>\n",
       "    </tr>\n",
       "  </thead>\n",
       "  <tbody>\n",
       "    <tr>\n",
       "      <th>0</th>\n",
       "      <td>2018-11-05</td>\n",
       "      <td>1</td>\n",
       "      <td>1596.518</td>\n",
       "    </tr>\n",
       "    <tr>\n",
       "      <th>1</th>\n",
       "      <td>2018-11-06</td>\n",
       "      <td>1</td>\n",
       "      <td>1584.822</td>\n",
       "    </tr>\n",
       "    <tr>\n",
       "      <th>2</th>\n",
       "      <td>2018-11-07</td>\n",
       "      <td>1</td>\n",
       "      <td>1580.436</td>\n",
       "    </tr>\n",
       "    <tr>\n",
       "      <th>3</th>\n",
       "      <td>2018-11-08</td>\n",
       "      <td>1</td>\n",
       "      <td>1592.132</td>\n",
       "    </tr>\n",
       "    <tr>\n",
       "      <th>4</th>\n",
       "      <td>2018-11-09</td>\n",
       "      <td>1</td>\n",
       "      <td>1542.423</td>\n",
       "    </tr>\n",
       "  </tbody>\n",
       "</table>\n",
       "</div>"
      ],
      "text/plain": [
       "         TradingDate             Symbol ClosePrice\n",
       "                交易日期               证券代码        收盘价\n",
       "  Unnamed: 0_level_2 Unnamed: 1_level_2        元/股\n",
       "0         2018-11-05                  1   1596.518\n",
       "1         2018-11-06                  1   1584.822\n",
       "2         2018-11-07                  1   1580.436\n",
       "3         2018-11-08                  1   1592.132\n",
       "4         2018-11-09                  1   1542.423"
      ]
     },
     "execution_count": 11,
     "metadata": {},
     "output_type": "execute_result"
    }
   ],
   "source": [
    "%%capture --no-display \n",
    "# 这一行用于忽略本cell的warning\n",
    "\n",
    "import pandas as pd\n",
    "\n",
    "# 读取数据，前3行是标题\n",
    "df = pd.read_excel('data/TRD_BwardQuotation.xlsx',header=[0,1,2])\n",
    "df.head()\n"
   ]
  },
  {
   "cell_type": "markdown",
   "metadata": {},
   "source": [
    "### 跳过某些的行\n",
    "\n",
    "从Excel文件本身，或者上一节的结果都可知，我们应该去掉的是0、2行，保留1行中文标签。"
   ]
  },
  {
   "cell_type": "code",
   "execution_count": 13,
   "metadata": {},
   "outputs": [
    {
     "data": {
      "text/html": [
       "<div>\n",
       "<style scoped>\n",
       "    .dataframe tbody tr th:only-of-type {\n",
       "        vertical-align: middle;\n",
       "    }\n",
       "\n",
       "    .dataframe tbody tr th {\n",
       "        vertical-align: top;\n",
       "    }\n",
       "\n",
       "    .dataframe thead th {\n",
       "        text-align: right;\n",
       "    }\n",
       "</style>\n",
       "<table border=\"1\" class=\"dataframe\">\n",
       "  <thead>\n",
       "    <tr style=\"text-align: right;\">\n",
       "      <th></th>\n",
       "      <th>交易日期</th>\n",
       "      <th>证券代码</th>\n",
       "      <th>收盘价</th>\n",
       "    </tr>\n",
       "  </thead>\n",
       "  <tbody>\n",
       "    <tr>\n",
       "      <th>0</th>\n",
       "      <td>2018-11-05</td>\n",
       "      <td>000001</td>\n",
       "      <td>1596.518</td>\n",
       "    </tr>\n",
       "    <tr>\n",
       "      <th>1</th>\n",
       "      <td>2018-11-06</td>\n",
       "      <td>000001</td>\n",
       "      <td>1584.822</td>\n",
       "    </tr>\n",
       "    <tr>\n",
       "      <th>2</th>\n",
       "      <td>2018-11-07</td>\n",
       "      <td>000001</td>\n",
       "      <td>1580.436</td>\n",
       "    </tr>\n",
       "    <tr>\n",
       "      <th>3</th>\n",
       "      <td>2018-11-08</td>\n",
       "      <td>000001</td>\n",
       "      <td>1592.132</td>\n",
       "    </tr>\n",
       "    <tr>\n",
       "      <th>4</th>\n",
       "      <td>2018-11-09</td>\n",
       "      <td>000001</td>\n",
       "      <td>1542.423</td>\n",
       "    </tr>\n",
       "  </tbody>\n",
       "</table>\n",
       "</div>"
      ],
      "text/plain": [
       "        交易日期    证券代码       收盘价\n",
       "0 2018-11-05  000001  1596.518\n",
       "1 2018-11-06  000001  1584.822\n",
       "2 2018-11-07  000001  1580.436\n",
       "3 2018-11-08  000001  1592.132\n",
       "4 2018-11-09  000001  1542.423"
      ]
     },
     "execution_count": 13,
     "metadata": {},
     "output_type": "execute_result"
    }
   ],
   "source": [
    "%%capture --no-display\n",
    "\n",
    "df = pd.read_excel('data/TRD_BwardQuotation.xlsx', skiprows=[0, 2],\n",
    "                   converters={'证券代码': str, '交易日期': pd.to_datetime})\n",
    "df.head()"
   ]
  }
 ],
 "metadata": {
  "kernelspec": {
   "display_name": "Python 3.9.12 ('base')",
   "language": "python",
   "name": "python3"
  },
  "language_info": {
   "codemirror_mode": {
    "name": "ipython",
    "version": 3
   },
   "file_extension": ".py",
   "mimetype": "text/x-python",
   "name": "python",
   "nbconvert_exporter": "python",
   "pygments_lexer": "ipython3",
   "version": "3.9.13"
  },
  "orig_nbformat": 4,
  "vscode": {
   "interpreter": {
    "hash": "6a59ff3677af3ee54f2b842bd13e0af80e5d1ab3f1f22239d3105698bf62dfb2"
   }
  }
 },
 "nbformat": 4,
 "nbformat_minor": 2
}
