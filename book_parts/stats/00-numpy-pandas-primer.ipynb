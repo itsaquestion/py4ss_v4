{
 "cells": [
  {
   "cell_type": "markdown",
   "metadata": {},
   "source": [
    "# 极简NumPy和Pandas入门\n",
    "\n",
    "更加详细的数据清洗、处理和绘图，会在后续专门的章节进行讲解。"
   ]
  },
  {
   "cell_type": "markdown",
   "metadata": {},
   "source": [
    "## NumPy: 书店销售数据\n",
    "\n",
    "以书店销售数据为背景，我们将依次介绍numpy的数组创建、操作、四则运算、聚合函数和布尔筛选。这样的结构将有助于清晰地展示每个概念在实际情况中的应用。\n",
    "\n",
    "### 数据准备\n",
    "首先，我们从书店的基本数据开始，即书籍的价格和销售数量。\n",
    "\n",
    "**数组创建**\n",
    "\n",
    "从列表创建一维数组来记录书籍的价格和销售数量："
   ]
  },
  {
   "cell_type": "code",
   "execution_count": 1,
   "metadata": {},
   "outputs": [
    {
     "name": "stdout",
     "output_type": "stream",
     "text": [
      "书籍价格数组: [120  85 100  75  95]\n",
      "销售数量数组: [30 15 20 10 25]\n"
     ]
    }
   ],
   "source": [
    "import numpy as np\n",
    "\n",
    "# 书籍的单价列表\n",
    "price_list = [120, 85, 100, 75, 95]\n",
    "# 将列表转换为numpy数组\n",
    "prices = np.array(price_list)\n",
    "\n",
    "# 书籍的销售数量列表\n",
    "quantity_list = [30, 15, 20, 10, 25]\n",
    "# 将列表转换为numpy数组\n",
    "quantities = np.array(quantity_list)\n",
    "\n",
    "# 书籍名称\n",
    "book_names = np.array(['微观经济学', '宏观经济学', '金融学', '会计学','Python数据分析'])\n",
    "\n",
    "\n",
    "print(\"书籍价格数组:\", prices)\n",
    "print(\"销售数量数组:\", quantities)"
   ]
  },
  {
   "cell_type": "markdown",
   "metadata": {},
   "source": [
    "**索引和切片**\n",
    "\n",
    "展示如何获取数组中的特定元素和子数组：\n"
   ]
  },
  {
   "cell_type": "code",
   "execution_count": 2,
   "metadata": {},
   "outputs": [
    {
     "name": "stdout",
     "output_type": "stream",
     "text": [
      "第一本书的价格: 120\n",
      "第一本书的销售数量: 30\n",
      "前三本书的价格: [120  85 100]\n",
      "前三本书的销售数量: [30 15 20]\n"
     ]
    }
   ],
   "source": [
    "# 获取第一本书的价格和销售数量\n",
    "first_book_price = prices[0]\n",
    "first_book_quantity = quantities[0]\n",
    "\n",
    "print(\"第一本书的价格:\", first_book_price)\n",
    "print(\"第一本书的销售数量:\", first_book_quantity)\n",
    "\n",
    "# 获取前三本书的价格和销售数量\n",
    "first_three_prices = prices[:3]\n",
    "first_three_quantities = quantities[:3]\n",
    "\n",
    "print(\"前三本书的价格:\", first_three_prices)\n",
    "print(\"前三本书的销售数量:\", first_three_quantities)"
   ]
  },
  {
   "cell_type": "markdown",
   "metadata": {},
   "source": [
    "**布尔数组和筛选**\n",
    "\n",
    "创建布尔数组并筛选出价格高于90元的书籍："
   ]
  },
  {
   "cell_type": "code",
   "execution_count": 3,
   "metadata": {},
   "outputs": [
    {
     "name": "stdout",
     "output_type": "stream",
     "text": [
      "价格高于90元的书籍: [120 100  95]\n"
     ]
    }
   ],
   "source": [
    "# 创建一个布尔数组，用于筛选价格高于90元的书籍\n",
    "high_price_filter = prices > 90\n",
    "high_price_books = prices[high_price_filter]\n",
    "\n",
    "print(\"价格高于90元的书籍:\", high_price_books)"
   ]
  },
  {
   "cell_type": "markdown",
   "metadata": {},
   "source": [
    "\n",
    "### 数组运算\n",
    "使用数组运算来计算总销售额和应用折扣。\n",
    "\n",
    "**基本数学运算**\n",
    "\n",
    "计算总销售额（未折扣前）："
   ]
  },
  {
   "cell_type": "code",
   "execution_count": 4,
   "metadata": {},
   "outputs": [
    {
     "name": "stdout",
     "output_type": "stream",
     "text": [
      "未折扣前的总销售额: [3600 1275 2000  750 2375]\n"
     ]
    }
   ],
   "source": [
    "# 计算每本书未折扣前的总销售额\n",
    "total_sales = prices * quantities\n",
    "print(\"未折扣前的总销售额:\", total_sales)"
   ]
  },
  {
   "cell_type": "markdown",
   "metadata": {},
   "source": [
    "**应用折扣**\n",
    "\n",
    "计算折后总价："
   ]
  },
  {
   "cell_type": "code",
   "execution_count": 5,
   "metadata": {},
   "outputs": [
    {
     "name": "stdout",
     "output_type": "stream",
     "text": [
      "折扣后的销售额: [3240.   1211.25 1700.    712.5  2137.5 ]\n"
     ]
    }
   ],
   "source": [
    "# 书籍的折扣比率\n",
    "discount_rates = np.array([0.1, 0.05, 0.15, 0.05, 0.1])  # 10%, 5%, 15%, 5%, 10%\n",
    "\n",
    "final_prices = total_sales * (1 - discount_rates)\n",
    "print(\"折扣后的销售额:\", final_prices)"
   ]
  },
  {
   "cell_type": "markdown",
   "metadata": {},
   "source": [
    "### 常见函数\n",
    "\n",
    "使用聚合和其他常见函数：\n",
    "\n"
   ]
  },
  {
   "cell_type": "code",
   "execution_count": 6,
   "metadata": {},
   "outputs": [
    {
     "name": "stdout",
     "output_type": "stream",
     "text": [
      "所有书籍的最终总销售额: 9001.25\n",
      "最低销售额的书籍: 712.5\n",
      "最高销售额的书籍: 3240.0\n",
      "平均销售额: 1800.25\n"
     ]
    }
   ],
   "source": [
    "print(\"所有书籍的最终总销售额:\", final_prices.sum())\n",
    "print(\"最低销售额的书籍:\", final_prices.min())\n",
    "print(\"最高销售额的书籍:\", final_prices.max())\n",
    "print(\"平均销售额:\", final_prices.mean())"
   ]
  },
  {
   "cell_type": "markdown",
   "metadata": {},
   "source": [
    "### 练习题\n",
    "\n",
    "#### 题目 1: 价格调整\n",
    "假设书店决定对所有书籍价格进行统一调整，增加5元。请使用numpy数组操作来更新`prices`数组，并打印新的价格数组。\n",
    "\n",
    "**提示：** 使用向量化操作来增加数组中的每一个元素。\n",
    "\n",
    "#### 题目 2: 销售筛选\n",
    "书店想要了解哪些书籍的销售额在折扣后仍然超过2000元。使用布尔索引来筛选出这些书籍的价格和名称，并打印结果。\n",
    "\n",
    "**提示：** 先计算折后总销售额，然后创建一个布尔数组用于筛选。\n",
    "\n",
    "#### 题目 3: 总结统计\n",
    "请计算并打印以下统计信息：\n",
    "\n",
    "- 所有书籍的销售总数。\n",
    "- 折扣后每本书平均的销售额。\n",
    "- 折扣率最高的书籍的名称和价格。\n",
    "\n",
    "**提示：** 使用`sum()`, `mean()`函数，以及`argmax()`来找到折扣率最高的书籍。\n"
   ]
  },
  {
   "cell_type": "markdown",
   "metadata": {},
   "source": [
    "## Pandas: 书店数据管理\n",
    "\n",
    "在这个例子中，我们将使用一个关于书店的数据集，包含书籍的名称、价格、销售数量和评分。通过这个例子，我们将演示如何使用pandas进行数据的创建、操作、排序和文件的读写。\n",
    "\n",
    "\n",
    "### 导入pandas库\n",
    "首先，导入pandas库并为其常用的别名`pd`："
   ]
  },
  {
   "cell_type": "code",
   "execution_count": 7,
   "metadata": {},
   "outputs": [],
   "source": [
    "import pandas as pd"
   ]
  },
  {
   "cell_type": "markdown",
   "metadata": {},
   "source": [
    "\n",
    "### 创建DataFrame\n",
    "使用字典来创建一个DataFrame，其中包括书籍的名称、价格、销售数量和评分："
   ]
  },
  {
   "cell_type": "code",
   "execution_count": 8,
   "metadata": {},
   "outputs": [
    {
     "data": {
      "application/vnd.microsoft.datawrangler.viewer.v0+json": {
       "columns": [
        {
         "name": "index",
         "rawType": "int64",
         "type": "integer"
        },
        {
         "name": "Book",
         "rawType": "object",
         "type": "string"
        },
        {
         "name": "Price",
         "rawType": "int64",
         "type": "integer"
        },
        {
         "name": "Quantity",
         "rawType": "int64",
         "type": "integer"
        },
        {
         "name": "Rating",
         "rawType": "float64",
         "type": "float"
        }
       ],
       "conversionMethod": "pd.DataFrame",
       "ref": "09c8eb72-1f99-4187-8249-38c36e329eab",
       "rows": [
        [
         "0",
         "微观经济学",
         "120",
         "30",
         "4.5"
        ],
        [
         "1",
         "宏观经济学",
         "85",
         "15",
         "4.0"
        ],
        [
         "2",
         "金融学",
         "100",
         "20",
         "4.8"
        ],
        [
         "3",
         "会计学",
         "75",
         "10",
         "3.9"
        ],
        [
         "4",
         "Python数据分析",
         "95",
         "25",
         "4.1"
        ]
       ],
       "shape": {
        "columns": 4,
        "rows": 5
       }
      },
      "text/html": [
       "<div>\n",
       "<style scoped>\n",
       "    .dataframe tbody tr th:only-of-type {\n",
       "        vertical-align: middle;\n",
       "    }\n",
       "\n",
       "    .dataframe tbody tr th {\n",
       "        vertical-align: top;\n",
       "    }\n",
       "\n",
       "    .dataframe thead th {\n",
       "        text-align: right;\n",
       "    }\n",
       "</style>\n",
       "<table border=\"1\" class=\"dataframe\">\n",
       "  <thead>\n",
       "    <tr style=\"text-align: right;\">\n",
       "      <th></th>\n",
       "      <th>Book</th>\n",
       "      <th>Price</th>\n",
       "      <th>Quantity</th>\n",
       "      <th>Rating</th>\n",
       "    </tr>\n",
       "  </thead>\n",
       "  <tbody>\n",
       "    <tr>\n",
       "      <th>0</th>\n",
       "      <td>微观经济学</td>\n",
       "      <td>120</td>\n",
       "      <td>30</td>\n",
       "      <td>4.5</td>\n",
       "    </tr>\n",
       "    <tr>\n",
       "      <th>1</th>\n",
       "      <td>宏观经济学</td>\n",
       "      <td>85</td>\n",
       "      <td>15</td>\n",
       "      <td>4.0</td>\n",
       "    </tr>\n",
       "    <tr>\n",
       "      <th>2</th>\n",
       "      <td>金融学</td>\n",
       "      <td>100</td>\n",
       "      <td>20</td>\n",
       "      <td>4.8</td>\n",
       "    </tr>\n",
       "    <tr>\n",
       "      <th>3</th>\n",
       "      <td>会计学</td>\n",
       "      <td>75</td>\n",
       "      <td>10</td>\n",
       "      <td>3.9</td>\n",
       "    </tr>\n",
       "    <tr>\n",
       "      <th>4</th>\n",
       "      <td>Python数据分析</td>\n",
       "      <td>95</td>\n",
       "      <td>25</td>\n",
       "      <td>4.1</td>\n",
       "    </tr>\n",
       "  </tbody>\n",
       "</table>\n",
       "</div>"
      ],
      "text/plain": [
       "         Book  Price  Quantity  Rating\n",
       "0       微观经济学    120        30     4.5\n",
       "1       宏观经济学     85        15     4.0\n",
       "2         金融学    100        20     4.8\n",
       "3         会计学     75        10     3.9\n",
       "4  Python数据分析     95        25     4.1"
      ]
     },
     "execution_count": 8,
     "metadata": {},
     "output_type": "execute_result"
    }
   ],
   "source": [
    "data = {\n",
    "    \"Book\": ['微观经济学', '宏观经济学', '金融学', '会计学','Python数据分析'],\n",
    "    \"Price\": [120, 85, 100, 75, 95],\n",
    "    \"Quantity\": [30, 15, 20, 10, 25],\n",
    "    \"Rating\": [4.5, 4.0, 4.8, 3.9, 4.1],\n",
    "}\n",
    "df = pd.DataFrame(data)\n",
    "df"
   ]
  },
  {
   "cell_type": "markdown",
   "metadata": {},
   "source": [
    "### 数据选择与操作\n",
    "\n",
    "\n",
    "#### 使用`.loc`\n",
    "`.loc`主要用于基于标签的索引，即选择行或列的名称来访问数据。\n",
    "\n",
    "**选择特定的行**\n"
   ]
  },
  {
   "cell_type": "code",
   "execution_count": 9,
   "metadata": {},
   "outputs": [
    {
     "name": "stdout",
     "output_type": "stream",
     "text": [
      "第一本书的数据:\n",
      "\n"
     ]
    },
    {
     "data": {
      "text/plain": [
       "Book        微观经济学\n",
       "Price         120\n",
       "Quantity       30\n",
       "Rating        4.5\n",
       "Name: 0, dtype: object"
      ]
     },
     "execution_count": 9,
     "metadata": {},
     "output_type": "execute_result"
    }
   ],
   "source": [
    "# 选择第一本书的数据\n",
    "first_book = df.loc[0]\n",
    "print(\"第一本书的数据:\\n\")\n",
    "first_book"
   ]
  },
  {
   "cell_type": "markdown",
   "metadata": {},
   "source": [
    "**选择特定的列**"
   ]
  },
  {
   "cell_type": "code",
   "execution_count": 10,
   "metadata": {},
   "outputs": [
    {
     "name": "stdout",
     "output_type": "stream",
     "text": [
      "书籍和价格:\n",
      "\n"
     ]
    },
    {
     "data": {
      "application/vnd.microsoft.datawrangler.viewer.v0+json": {
       "columns": [
        {
         "name": "index",
         "rawType": "int64",
         "type": "integer"
        },
        {
         "name": "Book",
         "rawType": "object",
         "type": "string"
        },
        {
         "name": "Price",
         "rawType": "int64",
         "type": "integer"
        }
       ],
       "conversionMethod": "pd.DataFrame",
       "ref": "aeacee14-9ee4-44b8-8761-bbf1db0bd530",
       "rows": [
        [
         "0",
         "微观经济学",
         "120"
        ],
        [
         "1",
         "宏观经济学",
         "85"
        ],
        [
         "2",
         "金融学",
         "100"
        ],
        [
         "3",
         "会计学",
         "75"
        ],
        [
         "4",
         "Python数据分析",
         "95"
        ]
       ],
       "shape": {
        "columns": 2,
        "rows": 5
       }
      },
      "text/html": [
       "<div>\n",
       "<style scoped>\n",
       "    .dataframe tbody tr th:only-of-type {\n",
       "        vertical-align: middle;\n",
       "    }\n",
       "\n",
       "    .dataframe tbody tr th {\n",
       "        vertical-align: top;\n",
       "    }\n",
       "\n",
       "    .dataframe thead th {\n",
       "        text-align: right;\n",
       "    }\n",
       "</style>\n",
       "<table border=\"1\" class=\"dataframe\">\n",
       "  <thead>\n",
       "    <tr style=\"text-align: right;\">\n",
       "      <th></th>\n",
       "      <th>Book</th>\n",
       "      <th>Price</th>\n",
       "    </tr>\n",
       "  </thead>\n",
       "  <tbody>\n",
       "    <tr>\n",
       "      <th>0</th>\n",
       "      <td>微观经济学</td>\n",
       "      <td>120</td>\n",
       "    </tr>\n",
       "    <tr>\n",
       "      <th>1</th>\n",
       "      <td>宏观经济学</td>\n",
       "      <td>85</td>\n",
       "    </tr>\n",
       "    <tr>\n",
       "      <th>2</th>\n",
       "      <td>金融学</td>\n",
       "      <td>100</td>\n",
       "    </tr>\n",
       "    <tr>\n",
       "      <th>3</th>\n",
       "      <td>会计学</td>\n",
       "      <td>75</td>\n",
       "    </tr>\n",
       "    <tr>\n",
       "      <th>4</th>\n",
       "      <td>Python数据分析</td>\n",
       "      <td>95</td>\n",
       "    </tr>\n",
       "  </tbody>\n",
       "</table>\n",
       "</div>"
      ],
      "text/plain": [
       "         Book  Price\n",
       "0       微观经济学    120\n",
       "1       宏观经济学     85\n",
       "2         金融学    100\n",
       "3         会计学     75\n",
       "4  Python数据分析     95"
      ]
     },
     "execution_count": 10,
     "metadata": {},
     "output_type": "execute_result"
    }
   ],
   "source": [
    "# 选择书籍名称和价格列\n",
    "books_prices = df.loc[:, [\"Book\", \"Price\"]]\n",
    "print(\"书籍和价格:\\n\")\n",
    "books_prices"
   ]
  },
  {
   "cell_type": "markdown",
   "metadata": {},
   "source": [
    "也有快速的写法"
   ]
  },
  {
   "cell_type": "code",
   "execution_count": 11,
   "metadata": {},
   "outputs": [
    {
     "name": "stdout",
     "output_type": "stream",
     "text": [
      "书籍和价格:\n",
      "\n"
     ]
    },
    {
     "data": {
      "application/vnd.microsoft.datawrangler.viewer.v0+json": {
       "columns": [
        {
         "name": "index",
         "rawType": "int64",
         "type": "integer"
        },
        {
         "name": "Book",
         "rawType": "object",
         "type": "string"
        },
        {
         "name": "Price",
         "rawType": "int64",
         "type": "integer"
        }
       ],
       "conversionMethod": "pd.DataFrame",
       "ref": "fa1054c9-09db-4f16-9bd9-d1f2a975fa40",
       "rows": [
        [
         "0",
         "微观经济学",
         "120"
        ],
        [
         "1",
         "宏观经济学",
         "85"
        ],
        [
         "2",
         "金融学",
         "100"
        ],
        [
         "3",
         "会计学",
         "75"
        ],
        [
         "4",
         "Python数据分析",
         "95"
        ]
       ],
       "shape": {
        "columns": 2,
        "rows": 5
       }
      },
      "text/html": [
       "<div>\n",
       "<style scoped>\n",
       "    .dataframe tbody tr th:only-of-type {\n",
       "        vertical-align: middle;\n",
       "    }\n",
       "\n",
       "    .dataframe tbody tr th {\n",
       "        vertical-align: top;\n",
       "    }\n",
       "\n",
       "    .dataframe thead th {\n",
       "        text-align: right;\n",
       "    }\n",
       "</style>\n",
       "<table border=\"1\" class=\"dataframe\">\n",
       "  <thead>\n",
       "    <tr style=\"text-align: right;\">\n",
       "      <th></th>\n",
       "      <th>Book</th>\n",
       "      <th>Price</th>\n",
       "    </tr>\n",
       "  </thead>\n",
       "  <tbody>\n",
       "    <tr>\n",
       "      <th>0</th>\n",
       "      <td>微观经济学</td>\n",
       "      <td>120</td>\n",
       "    </tr>\n",
       "    <tr>\n",
       "      <th>1</th>\n",
       "      <td>宏观经济学</td>\n",
       "      <td>85</td>\n",
       "    </tr>\n",
       "    <tr>\n",
       "      <th>2</th>\n",
       "      <td>金融学</td>\n",
       "      <td>100</td>\n",
       "    </tr>\n",
       "    <tr>\n",
       "      <th>3</th>\n",
       "      <td>会计学</td>\n",
       "      <td>75</td>\n",
       "    </tr>\n",
       "    <tr>\n",
       "      <th>4</th>\n",
       "      <td>Python数据分析</td>\n",
       "      <td>95</td>\n",
       "    </tr>\n",
       "  </tbody>\n",
       "</table>\n",
       "</div>"
      ],
      "text/plain": [
       "         Book  Price\n",
       "0       微观经济学    120\n",
       "1       宏观经济学     85\n",
       "2         金融学    100\n",
       "3         会计学     75\n",
       "4  Python数据分析     95"
      ]
     },
     "execution_count": 11,
     "metadata": {},
     "output_type": "execute_result"
    }
   ],
   "source": [
    "# 选择书籍名称和价格列\n",
    "books_prices = df[[\"Book\", \"Price\"]]\n",
    "print(\"书籍和价格:\\n\")\n",
    "books_prices"
   ]
  },
  {
   "cell_type": "markdown",
   "metadata": {},
   "source": [
    "#### 使用`.iloc`\n",
    "`.iloc`用于基于位置的索引，即选择行或列的数值索引来访问数据。\n",
    "\n",
    "**选择特定的行**"
   ]
  },
  {
   "cell_type": "code",
   "execution_count": 12,
   "metadata": {},
   "outputs": [
    {
     "name": "stdout",
     "output_type": "stream",
     "text": [
      "前三本书的数据:\n",
      "\n"
     ]
    },
    {
     "data": {
      "application/vnd.microsoft.datawrangler.viewer.v0+json": {
       "columns": [
        {
         "name": "index",
         "rawType": "int64",
         "type": "integer"
        },
        {
         "name": "Book",
         "rawType": "object",
         "type": "string"
        },
        {
         "name": "Price",
         "rawType": "int64",
         "type": "integer"
        },
        {
         "name": "Quantity",
         "rawType": "int64",
         "type": "integer"
        },
        {
         "name": "Rating",
         "rawType": "float64",
         "type": "float"
        }
       ],
       "conversionMethod": "pd.DataFrame",
       "ref": "f9570ab2-b113-4f99-9a02-c1f20a129325",
       "rows": [
        [
         "0",
         "微观经济学",
         "120",
         "30",
         "4.5"
        ],
        [
         "1",
         "宏观经济学",
         "85",
         "15",
         "4.0"
        ],
        [
         "2",
         "金融学",
         "100",
         "20",
         "4.8"
        ]
       ],
       "shape": {
        "columns": 4,
        "rows": 3
       }
      },
      "text/html": [
       "<div>\n",
       "<style scoped>\n",
       "    .dataframe tbody tr th:only-of-type {\n",
       "        vertical-align: middle;\n",
       "    }\n",
       "\n",
       "    .dataframe tbody tr th {\n",
       "        vertical-align: top;\n",
       "    }\n",
       "\n",
       "    .dataframe thead th {\n",
       "        text-align: right;\n",
       "    }\n",
       "</style>\n",
       "<table border=\"1\" class=\"dataframe\">\n",
       "  <thead>\n",
       "    <tr style=\"text-align: right;\">\n",
       "      <th></th>\n",
       "      <th>Book</th>\n",
       "      <th>Price</th>\n",
       "      <th>Quantity</th>\n",
       "      <th>Rating</th>\n",
       "    </tr>\n",
       "  </thead>\n",
       "  <tbody>\n",
       "    <tr>\n",
       "      <th>0</th>\n",
       "      <td>微观经济学</td>\n",
       "      <td>120</td>\n",
       "      <td>30</td>\n",
       "      <td>4.5</td>\n",
       "    </tr>\n",
       "    <tr>\n",
       "      <th>1</th>\n",
       "      <td>宏观经济学</td>\n",
       "      <td>85</td>\n",
       "      <td>15</td>\n",
       "      <td>4.0</td>\n",
       "    </tr>\n",
       "    <tr>\n",
       "      <th>2</th>\n",
       "      <td>金融学</td>\n",
       "      <td>100</td>\n",
       "      <td>20</td>\n",
       "      <td>4.8</td>\n",
       "    </tr>\n",
       "  </tbody>\n",
       "</table>\n",
       "</div>"
      ],
      "text/plain": [
       "    Book  Price  Quantity  Rating\n",
       "0  微观经济学    120        30     4.5\n",
       "1  宏观经济学     85        15     4.0\n",
       "2    金融学    100        20     4.8"
      ]
     },
     "execution_count": 12,
     "metadata": {},
     "output_type": "execute_result"
    }
   ],
   "source": [
    "# 选择前三本书的数据\n",
    "first_three_books = df.iloc[:3]\n",
    "print(\"前三本书的数据:\\n\")\n",
    "first_three_books"
   ]
  },
  {
   "cell_type": "markdown",
   "metadata": {},
   "source": [
    "**选择特定的列**\n"
   ]
  },
  {
   "cell_type": "code",
   "execution_count": 13,
   "metadata": {},
   "outputs": [
    {
     "name": "stdout",
     "output_type": "stream",
     "text": [
      "价格和数量:\n",
      "\n"
     ]
    },
    {
     "data": {
      "application/vnd.microsoft.datawrangler.viewer.v0+json": {
       "columns": [
        {
         "name": "index",
         "rawType": "int64",
         "type": "integer"
        },
        {
         "name": "Price",
         "rawType": "int64",
         "type": "integer"
        },
        {
         "name": "Quantity",
         "rawType": "int64",
         "type": "integer"
        }
       ],
       "conversionMethod": "pd.DataFrame",
       "ref": "e5819f6e-958c-4940-9334-647df754137e",
       "rows": [
        [
         "0",
         "120",
         "30"
        ],
        [
         "1",
         "85",
         "15"
        ],
        [
         "2",
         "100",
         "20"
        ],
        [
         "3",
         "75",
         "10"
        ],
        [
         "4",
         "95",
         "25"
        ]
       ],
       "shape": {
        "columns": 2,
        "rows": 5
       }
      },
      "text/html": [
       "<div>\n",
       "<style scoped>\n",
       "    .dataframe tbody tr th:only-of-type {\n",
       "        vertical-align: middle;\n",
       "    }\n",
       "\n",
       "    .dataframe tbody tr th {\n",
       "        vertical-align: top;\n",
       "    }\n",
       "\n",
       "    .dataframe thead th {\n",
       "        text-align: right;\n",
       "    }\n",
       "</style>\n",
       "<table border=\"1\" class=\"dataframe\">\n",
       "  <thead>\n",
       "    <tr style=\"text-align: right;\">\n",
       "      <th></th>\n",
       "      <th>Price</th>\n",
       "      <th>Quantity</th>\n",
       "    </tr>\n",
       "  </thead>\n",
       "  <tbody>\n",
       "    <tr>\n",
       "      <th>0</th>\n",
       "      <td>120</td>\n",
       "      <td>30</td>\n",
       "    </tr>\n",
       "    <tr>\n",
       "      <th>1</th>\n",
       "      <td>85</td>\n",
       "      <td>15</td>\n",
       "    </tr>\n",
       "    <tr>\n",
       "      <th>2</th>\n",
       "      <td>100</td>\n",
       "      <td>20</td>\n",
       "    </tr>\n",
       "    <tr>\n",
       "      <th>3</th>\n",
       "      <td>75</td>\n",
       "      <td>10</td>\n",
       "    </tr>\n",
       "    <tr>\n",
       "      <th>4</th>\n",
       "      <td>95</td>\n",
       "      <td>25</td>\n",
       "    </tr>\n",
       "  </tbody>\n",
       "</table>\n",
       "</div>"
      ],
      "text/plain": [
       "   Price  Quantity\n",
       "0    120        30\n",
       "1     85        15\n",
       "2    100        20\n",
       "3     75        10\n",
       "4     95        25"
      ]
     },
     "execution_count": 13,
     "metadata": {},
     "output_type": "execute_result"
    }
   ],
   "source": [
    "# 选择价格和数量列（索引1和2）\n",
    "price_quantity = df.iloc[:, [1, 2]]\n",
    "print(\"价格和数量:\\n\")\n",
    "price_quantity"
   ]
  },
  {
   "cell_type": "markdown",
   "metadata": {},
   "source": [
    "\n",
    "### 条件筛选\n",
    "使用条件表达式来筛选满足特定条件的行。\n",
    "\n",
    "**根据条件选择行**\n"
   ]
  },
  {
   "cell_type": "code",
   "execution_count": 14,
   "metadata": {},
   "outputs": [
    {
     "name": "stdout",
     "output_type": "stream",
     "text": [
      "评分高于4.0的书籍:\n",
      "\n"
     ]
    },
    {
     "data": {
      "application/vnd.microsoft.datawrangler.viewer.v0+json": {
       "columns": [
        {
         "name": "index",
         "rawType": "int64",
         "type": "integer"
        },
        {
         "name": "Book",
         "rawType": "object",
         "type": "string"
        },
        {
         "name": "Price",
         "rawType": "int64",
         "type": "integer"
        },
        {
         "name": "Quantity",
         "rawType": "int64",
         "type": "integer"
        },
        {
         "name": "Rating",
         "rawType": "float64",
         "type": "float"
        }
       ],
       "conversionMethod": "pd.DataFrame",
       "ref": "52e99fbe-9053-472a-8be1-d8ed5f2b39d3",
       "rows": [
        [
         "0",
         "微观经济学",
         "120",
         "30",
         "4.5"
        ],
        [
         "2",
         "金融学",
         "100",
         "20",
         "4.8"
        ],
        [
         "4",
         "Python数据分析",
         "95",
         "25",
         "4.1"
        ]
       ],
       "shape": {
        "columns": 4,
        "rows": 3
       }
      },
      "text/html": [
       "<div>\n",
       "<style scoped>\n",
       "    .dataframe tbody tr th:only-of-type {\n",
       "        vertical-align: middle;\n",
       "    }\n",
       "\n",
       "    .dataframe tbody tr th {\n",
       "        vertical-align: top;\n",
       "    }\n",
       "\n",
       "    .dataframe thead th {\n",
       "        text-align: right;\n",
       "    }\n",
       "</style>\n",
       "<table border=\"1\" class=\"dataframe\">\n",
       "  <thead>\n",
       "    <tr style=\"text-align: right;\">\n",
       "      <th></th>\n",
       "      <th>Book</th>\n",
       "      <th>Price</th>\n",
       "      <th>Quantity</th>\n",
       "      <th>Rating</th>\n",
       "    </tr>\n",
       "  </thead>\n",
       "  <tbody>\n",
       "    <tr>\n",
       "      <th>0</th>\n",
       "      <td>微观经济学</td>\n",
       "      <td>120</td>\n",
       "      <td>30</td>\n",
       "      <td>4.5</td>\n",
       "    </tr>\n",
       "    <tr>\n",
       "      <th>2</th>\n",
       "      <td>金融学</td>\n",
       "      <td>100</td>\n",
       "      <td>20</td>\n",
       "      <td>4.8</td>\n",
       "    </tr>\n",
       "    <tr>\n",
       "      <th>4</th>\n",
       "      <td>Python数据分析</td>\n",
       "      <td>95</td>\n",
       "      <td>25</td>\n",
       "      <td>4.1</td>\n",
       "    </tr>\n",
       "  </tbody>\n",
       "</table>\n",
       "</div>"
      ],
      "text/plain": [
       "         Book  Price  Quantity  Rating\n",
       "0       微观经济学    120        30     4.5\n",
       "2         金融学    100        20     4.8\n",
       "4  Python数据分析     95        25     4.1"
      ]
     },
     "execution_count": 14,
     "metadata": {},
     "output_type": "execute_result"
    }
   ],
   "source": [
    "# 选择评分高于4.0的书籍\n",
    "high_rated_books = df[df[\"Rating\"] > 4.0]\n",
    "print(\"评分高于4.0的书籍:\\n\") \n",
    "high_rated_books"
   ]
  },
  {
   "cell_type": "markdown",
   "metadata": {},
   "source": [
    "**使用`query`方法**\n",
    "这是一个更动态的方式来选择数据，允许使用字符串表达式来指定条件。\n"
   ]
  },
  {
   "cell_type": "code",
   "execution_count": 15,
   "metadata": {},
   "outputs": [
    {
     "name": "stdout",
     "output_type": "stream",
     "text": [
      "价格小于100的书籍:\n",
      "\n"
     ]
    },
    {
     "data": {
      "application/vnd.microsoft.datawrangler.viewer.v0+json": {
       "columns": [
        {
         "name": "index",
         "rawType": "int64",
         "type": "integer"
        },
        {
         "name": "Book",
         "rawType": "object",
         "type": "string"
        },
        {
         "name": "Price",
         "rawType": "int64",
         "type": "integer"
        },
        {
         "name": "Quantity",
         "rawType": "int64",
         "type": "integer"
        },
        {
         "name": "Rating",
         "rawType": "float64",
         "type": "float"
        }
       ],
       "conversionMethod": "pd.DataFrame",
       "ref": "c0bc751b-5cc4-41eb-b5d2-6b40d191dc3c",
       "rows": [
        [
         "1",
         "宏观经济学",
         "85",
         "15",
         "4.0"
        ],
        [
         "3",
         "会计学",
         "75",
         "10",
         "3.9"
        ],
        [
         "4",
         "Python数据分析",
         "95",
         "25",
         "4.1"
        ]
       ],
       "shape": {
        "columns": 4,
        "rows": 3
       }
      },
      "text/html": [
       "<div>\n",
       "<style scoped>\n",
       "    .dataframe tbody tr th:only-of-type {\n",
       "        vertical-align: middle;\n",
       "    }\n",
       "\n",
       "    .dataframe tbody tr th {\n",
       "        vertical-align: top;\n",
       "    }\n",
       "\n",
       "    .dataframe thead th {\n",
       "        text-align: right;\n",
       "    }\n",
       "</style>\n",
       "<table border=\"1\" class=\"dataframe\">\n",
       "  <thead>\n",
       "    <tr style=\"text-align: right;\">\n",
       "      <th></th>\n",
       "      <th>Book</th>\n",
       "      <th>Price</th>\n",
       "      <th>Quantity</th>\n",
       "      <th>Rating</th>\n",
       "    </tr>\n",
       "  </thead>\n",
       "  <tbody>\n",
       "    <tr>\n",
       "      <th>1</th>\n",
       "      <td>宏观经济学</td>\n",
       "      <td>85</td>\n",
       "      <td>15</td>\n",
       "      <td>4.0</td>\n",
       "    </tr>\n",
       "    <tr>\n",
       "      <th>3</th>\n",
       "      <td>会计学</td>\n",
       "      <td>75</td>\n",
       "      <td>10</td>\n",
       "      <td>3.9</td>\n",
       "    </tr>\n",
       "    <tr>\n",
       "      <th>4</th>\n",
       "      <td>Python数据分析</td>\n",
       "      <td>95</td>\n",
       "      <td>25</td>\n",
       "      <td>4.1</td>\n",
       "    </tr>\n",
       "  </tbody>\n",
       "</table>\n",
       "</div>"
      ],
      "text/plain": [
       "         Book  Price  Quantity  Rating\n",
       "1       宏观经济学     85        15     4.0\n",
       "3         会计学     75        10     3.9\n",
       "4  Python数据分析     95        25     4.1"
      ]
     },
     "execution_count": 15,
     "metadata": {},
     "output_type": "execute_result"
    }
   ],
   "source": [
    "# 使用query方法选择价格小于100的书籍\n",
    "affordable_books = df.query(\"Price < 100\")\n",
    "print(\"价格小于100的书籍:\\n\")\n",
    "affordable_books"
   ]
  },
  {
   "cell_type": "markdown",
   "metadata": {},
   "source": [
    "### 修改数据列\n",
    "添加一列“Total Sales”，计算每本书的总销售额："
   ]
  },
  {
   "cell_type": "code",
   "execution_count": 16,
   "metadata": {},
   "outputs": [
    {
     "name": "stdout",
     "output_type": "stream",
     "text": [
      "         Book  Price  Quantity  Rating  Total Sales\n",
      "0       微观经济学    120        30     4.5         3600\n",
      "1       宏观经济学     85        15     4.0         1275\n",
      "2         金融学    100        20     4.8         2000\n",
      "3         会计学     75        10     3.9          750\n",
      "4  Python数据分析     95        25     4.1         2375\n"
     ]
    }
   ],
   "source": [
    "df[\"Total Sales\"] = df[\"Price\"] * df[\"Quantity\"]\n",
    "print(df)"
   ]
  },
  {
   "cell_type": "markdown",
   "metadata": {},
   "source": [
    "\n",
    "### 数据排序\n",
    "根据总销售额对书籍进行降序排序：\n"
   ]
  },
  {
   "cell_type": "code",
   "execution_count": 17,
   "metadata": {},
   "outputs": [
    {
     "name": "stdout",
     "output_type": "stream",
     "text": [
      "按总销售额排序:\n",
      "\n"
     ]
    },
    {
     "data": {
      "application/vnd.microsoft.datawrangler.viewer.v0+json": {
       "columns": [
        {
         "name": "index",
         "rawType": "int64",
         "type": "integer"
        },
        {
         "name": "Book",
         "rawType": "object",
         "type": "string"
        },
        {
         "name": "Price",
         "rawType": "int64",
         "type": "integer"
        },
        {
         "name": "Quantity",
         "rawType": "int64",
         "type": "integer"
        },
        {
         "name": "Rating",
         "rawType": "float64",
         "type": "float"
        },
        {
         "name": "Total Sales",
         "rawType": "int64",
         "type": "integer"
        }
       ],
       "conversionMethod": "pd.DataFrame",
       "ref": "6897049f-1ea1-4f06-972d-9676ab3bf42b",
       "rows": [
        [
         "0",
         "微观经济学",
         "120",
         "30",
         "4.5",
         "3600"
        ],
        [
         "4",
         "Python数据分析",
         "95",
         "25",
         "4.1",
         "2375"
        ],
        [
         "2",
         "金融学",
         "100",
         "20",
         "4.8",
         "2000"
        ],
        [
         "1",
         "宏观经济学",
         "85",
         "15",
         "4.0",
         "1275"
        ],
        [
         "3",
         "会计学",
         "75",
         "10",
         "3.9",
         "750"
        ]
       ],
       "shape": {
        "columns": 5,
        "rows": 5
       }
      },
      "text/html": [
       "<div>\n",
       "<style scoped>\n",
       "    .dataframe tbody tr th:only-of-type {\n",
       "        vertical-align: middle;\n",
       "    }\n",
       "\n",
       "    .dataframe tbody tr th {\n",
       "        vertical-align: top;\n",
       "    }\n",
       "\n",
       "    .dataframe thead th {\n",
       "        text-align: right;\n",
       "    }\n",
       "</style>\n",
       "<table border=\"1\" class=\"dataframe\">\n",
       "  <thead>\n",
       "    <tr style=\"text-align: right;\">\n",
       "      <th></th>\n",
       "      <th>Book</th>\n",
       "      <th>Price</th>\n",
       "      <th>Quantity</th>\n",
       "      <th>Rating</th>\n",
       "      <th>Total Sales</th>\n",
       "    </tr>\n",
       "  </thead>\n",
       "  <tbody>\n",
       "    <tr>\n",
       "      <th>0</th>\n",
       "      <td>微观经济学</td>\n",
       "      <td>120</td>\n",
       "      <td>30</td>\n",
       "      <td>4.5</td>\n",
       "      <td>3600</td>\n",
       "    </tr>\n",
       "    <tr>\n",
       "      <th>4</th>\n",
       "      <td>Python数据分析</td>\n",
       "      <td>95</td>\n",
       "      <td>25</td>\n",
       "      <td>4.1</td>\n",
       "      <td>2375</td>\n",
       "    </tr>\n",
       "    <tr>\n",
       "      <th>2</th>\n",
       "      <td>金融学</td>\n",
       "      <td>100</td>\n",
       "      <td>20</td>\n",
       "      <td>4.8</td>\n",
       "      <td>2000</td>\n",
       "    </tr>\n",
       "    <tr>\n",
       "      <th>1</th>\n",
       "      <td>宏观经济学</td>\n",
       "      <td>85</td>\n",
       "      <td>15</td>\n",
       "      <td>4.0</td>\n",
       "      <td>1275</td>\n",
       "    </tr>\n",
       "    <tr>\n",
       "      <th>3</th>\n",
       "      <td>会计学</td>\n",
       "      <td>75</td>\n",
       "      <td>10</td>\n",
       "      <td>3.9</td>\n",
       "      <td>750</td>\n",
       "    </tr>\n",
       "  </tbody>\n",
       "</table>\n",
       "</div>"
      ],
      "text/plain": [
       "         Book  Price  Quantity  Rating  Total Sales\n",
       "0       微观经济学    120        30     4.5         3600\n",
       "4  Python数据分析     95        25     4.1         2375\n",
       "2         金融学    100        20     4.8         2000\n",
       "1       宏观经济学     85        15     4.0         1275\n",
       "3         会计学     75        10     3.9          750"
      ]
     },
     "execution_count": 17,
     "metadata": {},
     "output_type": "execute_result"
    }
   ],
   "source": [
    "df_sorted = df.sort_values(by=\"Total Sales\", ascending=False)\n",
    "print(\"按总销售额排序:\\n\")\n",
    "df_sorted"
   ]
  },
  {
   "cell_type": "markdown",
   "metadata": {},
   "source": [
    "### 读取和写入数据\n",
    "\n",
    "**写入CSV文件**\n",
    "\n",
    "将DataFrame写入CSV文件，文件名为`bookstore.csv`：\n"
   ]
  },
  {
   "cell_type": "code",
   "execution_count": 18,
   "metadata": {},
   "outputs": [
    {
     "name": "stdout",
     "output_type": "stream",
     "text": [
      "数据已写入 'bookstore.csv'\n"
     ]
    }
   ],
   "source": [
    "df.to_csv(\"bookstore.csv\", index=False)\n",
    "print(\"数据已写入 'bookstore.csv'\")"
   ]
  },
  {
   "cell_type": "markdown",
   "metadata": {},
   "source": [
    "**读取CSV文件**\n",
    "读取之前写入的CSV文件，查看内容：\n"
   ]
  },
  {
   "cell_type": "code",
   "execution_count": 19,
   "metadata": {},
   "outputs": [
    {
     "name": "stdout",
     "output_type": "stream",
     "text": [
      "从CSV文件加载的数据:\n",
      "\n"
     ]
    },
    {
     "data": {
      "application/vnd.microsoft.datawrangler.viewer.v0+json": {
       "columns": [
        {
         "name": "index",
         "rawType": "int64",
         "type": "integer"
        },
        {
         "name": "Book",
         "rawType": "object",
         "type": "string"
        },
        {
         "name": "Price",
         "rawType": "int64",
         "type": "integer"
        },
        {
         "name": "Quantity",
         "rawType": "int64",
         "type": "integer"
        },
        {
         "name": "Rating",
         "rawType": "float64",
         "type": "float"
        },
        {
         "name": "Total Sales",
         "rawType": "int64",
         "type": "integer"
        }
       ],
       "conversionMethod": "pd.DataFrame",
       "ref": "4b687a4e-510f-48e8-8ab3-a2a70efacb67",
       "rows": [
        [
         "0",
         "微观经济学",
         "120",
         "30",
         "4.5",
         "3600"
        ],
        [
         "1",
         "宏观经济学",
         "85",
         "15",
         "4.0",
         "1275"
        ],
        [
         "2",
         "金融学",
         "100",
         "20",
         "4.8",
         "2000"
        ],
        [
         "3",
         "会计学",
         "75",
         "10",
         "3.9",
         "750"
        ],
        [
         "4",
         "Python数据分析",
         "95",
         "25",
         "4.1",
         "2375"
        ]
       ],
       "shape": {
        "columns": 5,
        "rows": 5
       }
      },
      "text/html": [
       "<div>\n",
       "<style scoped>\n",
       "    .dataframe tbody tr th:only-of-type {\n",
       "        vertical-align: middle;\n",
       "    }\n",
       "\n",
       "    .dataframe tbody tr th {\n",
       "        vertical-align: top;\n",
       "    }\n",
       "\n",
       "    .dataframe thead th {\n",
       "        text-align: right;\n",
       "    }\n",
       "</style>\n",
       "<table border=\"1\" class=\"dataframe\">\n",
       "  <thead>\n",
       "    <tr style=\"text-align: right;\">\n",
       "      <th></th>\n",
       "      <th>Book</th>\n",
       "      <th>Price</th>\n",
       "      <th>Quantity</th>\n",
       "      <th>Rating</th>\n",
       "      <th>Total Sales</th>\n",
       "    </tr>\n",
       "  </thead>\n",
       "  <tbody>\n",
       "    <tr>\n",
       "      <th>0</th>\n",
       "      <td>微观经济学</td>\n",
       "      <td>120</td>\n",
       "      <td>30</td>\n",
       "      <td>4.5</td>\n",
       "      <td>3600</td>\n",
       "    </tr>\n",
       "    <tr>\n",
       "      <th>1</th>\n",
       "      <td>宏观经济学</td>\n",
       "      <td>85</td>\n",
       "      <td>15</td>\n",
       "      <td>4.0</td>\n",
       "      <td>1275</td>\n",
       "    </tr>\n",
       "    <tr>\n",
       "      <th>2</th>\n",
       "      <td>金融学</td>\n",
       "      <td>100</td>\n",
       "      <td>20</td>\n",
       "      <td>4.8</td>\n",
       "      <td>2000</td>\n",
       "    </tr>\n",
       "    <tr>\n",
       "      <th>3</th>\n",
       "      <td>会计学</td>\n",
       "      <td>75</td>\n",
       "      <td>10</td>\n",
       "      <td>3.9</td>\n",
       "      <td>750</td>\n",
       "    </tr>\n",
       "    <tr>\n",
       "      <th>4</th>\n",
       "      <td>Python数据分析</td>\n",
       "      <td>95</td>\n",
       "      <td>25</td>\n",
       "      <td>4.1</td>\n",
       "      <td>2375</td>\n",
       "    </tr>\n",
       "  </tbody>\n",
       "</table>\n",
       "</div>"
      ],
      "text/plain": [
       "         Book  Price  Quantity  Rating  Total Sales\n",
       "0       微观经济学    120        30     4.5         3600\n",
       "1       宏观经济学     85        15     4.0         1275\n",
       "2         金融学    100        20     4.8         2000\n",
       "3         会计学     75        10     3.9          750\n",
       "4  Python数据分析     95        25     4.1         2375"
      ]
     },
     "execution_count": 19,
     "metadata": {},
     "output_type": "execute_result"
    }
   ],
   "source": [
    "df_loaded = pd.read_csv(\"bookstore.csv\")\n",
    "print(\"从CSV文件加载的数据:\\n\")\n",
    "df_loaded"
   ]
  },
  {
   "cell_type": "markdown",
   "metadata": {},
   "source": [
    "### 练习题\n",
    "\n",
    "#### 题目 1: 计算平均评分\n",
    "假设你想了解书店中所有书籍的平均评分。使用pandas的函数计算并打印这个数据集中所有书籍的平均评分。\n",
    "\n",
    "**提示：** 使用`mean()`函数来计算列的平均值。\n",
    "\n",
    "#### 题目 2: 筛选特定的书籍\n",
    "书店老板对销售表现不佳的书籍（总销售额低于2000元）进行特价处理。请筛选出这些书籍的名称和当前价格，并打印结果。\n",
    "\n",
    "**提示：** 使用条件筛选来实现这一点，你可能需要先计算每本书的总销售额。\n",
    "\n",
    "#### 题目 3: 新书上架\n",
    "书店有新书上架，需要更新DataFrame。请将下面的新书信息添加到现有的DataFrame中，并重新打印更新后的DataFrame。\n",
    "\n",
    "新书信息：\n",
    "\n",
    "- Book: '计量经济学'\n",
    "- Price: 90\n",
    "- Quantity: 20\n",
    "- Rating: 4.3\n",
    "\n",
    "**提示：** 使用`concat()`函数来添加新行，注意`append()`方法在新版本的pandas中已经被弃用。\n"
   ]
  }
 ],
 "metadata": {
  "kernelspec": {
   "display_name": "base",
   "language": "python",
   "name": "python3"
  },
  "language_info": {
   "codemirror_mode": {
    "name": "ipython",
    "version": 3
   },
   "file_extension": ".py",
   "mimetype": "text/x-python",
   "name": "python",
   "nbconvert_exporter": "python",
   "pygments_lexer": "ipython3",
   "version": "3.12.7"
  }
 },
 "nbformat": 4,
 "nbformat_minor": 2
}
