{
 "cells": [
  {
   "cell_type": "markdown",
   "id": "bfbb09d8",
   "metadata": {},
   "source": [
    "# 线性回归（初步）\n",
    "\n",
    "## 基本多元回归\n"
   ]
  },
  {
   "cell_type": "markdown",
   "id": "d689ada6",
   "metadata": {},
   "source": [
    "\n",
    "\n",
    "### 分析目标和数据\n"
   ]
  },
  {
   "cell_type": "markdown",
   "id": "9a4bf53c",
   "metadata": {},
   "source": [
    "这个案例来自伍德里奇的《计量经济学导论》。\n",
    "\n",
    "本案希望研究的问题是：**教育水平对工资有什么影响？即：每多读一年书，工资会有什么变化？**"
   ]
  },
  {
   "cell_type": "markdown",
   "id": "f17cf8bb",
   "metadata": {},
   "source": [
    "数据采用《导论》中的数据`Wage1`。"
   ]
  },
  {
   "cell_type": "code",
   "execution_count": 9,
   "id": "9a3b7f11",
   "metadata": {},
   "outputs": [
    {
     "data": {
      "text/plain": [
       "(   wage  educ  exper  tenure  nonwhite  female  married  numdep  smsa  \\\n",
       " 0  3.10    11      2       0         0       1        0       2     1   \n",
       " 1  3.24    12     22       2         0       1        1       3     1   \n",
       " 2  3.00    11      2       0         0       0        0       2     0   \n",
       " 3  6.00     8     44      28         0       0        1       0     1   \n",
       " 4  5.30    12      7       2         0       0        1       1     0   \n",
       " \n",
       "    northcen  ...  trcommpu  trade  services  profserv  profocc  clerocc  \\\n",
       " 0         0  ...         0      0         0         0        0        0   \n",
       " 1         0  ...         0      0         1         0        0        0   \n",
       " 2         0  ...         0      1         0         0        0        0   \n",
       " 3         0  ...         0      0         0         0        0        1   \n",
       " 4         0  ...         0      0         0         0        0        0   \n",
       " \n",
       "    servocc     lwage  expersq  tenursq  \n",
       " 0        0  1.131402        4        0  \n",
       " 1        1  1.175573      484        4  \n",
       " 2        0  1.098612        4        0  \n",
       " 3        0  1.791759     1936      784  \n",
       " 4        0  1.667707       49        4  \n",
       " \n",
       " [5 rows x 24 columns],\n",
       " Index(['wage', 'educ', 'exper', 'tenure', 'nonwhite', 'female', 'married',\n",
       "        'numdep', 'smsa', 'northcen', 'south', 'west', 'construc', 'ndurman',\n",
       "        'trcommpu', 'trade', 'services', 'profserv', 'profocc', 'clerocc',\n",
       "        'servocc', 'lwage', 'expersq', 'tenursq'],\n",
       "       dtype='object'))"
      ]
     },
     "execution_count": 9,
     "metadata": {},
     "output_type": "execute_result"
    }
   ],
   "source": [
    "# 加载并查看wage1.csv数据集\n",
    "import pandas as pd\n",
    "\n",
    "# 加载数据\n",
    "wage1_data = pd.read_csv(\"data/wage1.csv\")\n",
    "\n",
    "# 查看数据集的前几行和列名\n",
    "wage1_data.head(), wage1_data.columns"
   ]
  },
  {
   "cell_type": "markdown",
   "id": "6b93e3fe",
   "metadata": {},
   "source": [
    "\n",
    "### 回归公式\n",
    "\n",
    "我们建立的回归模型可以表达为：\n",
    "\n",
    "$$\n",
    "\\text{wage} = \\beta_0 + \\delta_0 \\cdot \\text{female} + \\beta_1 \\cdot \\text{educ} + \\beta_2 \\cdot \\text{exper} + \\beta_3 \\cdot \\text{tenure} + u\n",
    "$$\n",
    "\n",
    "其中：\n",
    "\n",
    "- $\\text{wage}$ 是工资。\n",
    "- $\\text{female}$ 是一个虚拟变量，女性为1，男性为0。\n",
    "- $\\text{educ}$, $\\text{exper}$, 和 $\\text{tenure}$ 分别代表教育年数、工作经验和在当前工作的年限。\n",
    "- $u$ 是误差项。\n",
    "\n",
    "**教育水平对工资的影响体现在系数$\\beta_1$中，这就是我们关心的目标。**\n",
    "\n",
    "### 进行回归分析\n",
    "\n",
    "在进行回归分析之前，我们需要准备数据和定义模型。这个过程包括设置自变量（解释变量）和因变量（被解释变量），以及确保数据格式适合进行回归分析。\n",
    "\n",
    "#### 定义因变量和自变量\n",
    "\n",
    "- **因变量** $y$: 因变量是我们想要预测或解释的变量。在本例中，因变量是 `wage`，即工资，我们希望了解其他变量如何影响工资。\n",
    "  \n",
    "- **自变量** $X$: 自变量是可能影响因变量的变量。在这个模型中，我们选择了四个自变量：`female`, `educ`, `exper`, 和 `tenure`。这些变量分别表示：\n",
    "  \n",
    "  - `female`: 表示性别，是一个二分类变量，女性为1，男性为0。\n",
    "  - `educ`: 表示受教育年数，是一个连续变量。\n",
    "  - `exper`: 表示总工作经验年数，是一个连续变量。\n",
    "  - `tenure`: 表示在当前工作的年限，也是一个连续变量。\n",
    "\n",
    "#### 构造自变量 $X$ 和因变量 $y$\n",
    "\n",
    "在开始构建模型之前，我们需要从数据集中提取这些变量。使用Pandas库，我们可以轻松地从DataFrame中选择需要的列。同时，为了进行回归分析，我们需要向自变量矩阵 $X$ 中添加一个常数项，以便模型包含截距 $\\beta_0$。\n",
    "\n"
   ]
  },
  {
   "cell_type": "code",
   "execution_count": 10,
   "id": "57b6d494",
   "metadata": {},
   "outputs": [],
   "source": [
    "import statsmodels.api as sm\n",
    "\n",
    "# 选择自变量和因变量\n",
    "X = wage1_data[[\"female\", \"educ\", \"exper\", \"tenure\"]]\n",
    "y = wage1_data[\"wage\"]\n",
    "\n",
    "# 向自变量矩阵X添加常数项，以便包含截距\n",
    "X = sm.add_constant(X)"
   ]
  },
  {
   "cell_type": "markdown",
   "id": "4fafd912",
   "metadata": {},
   "source": [
    "\n",
    "#### 拟合回归模型\n",
    "\n",
    "使用`statsmodels`库的`OLS`类，我们可以定义并拟合一个普通最小二乘回归模型。`OLS`类的第一个参数是因变量 $y$，第二个参数是自变量 $X$。"
   ]
  },
  {
   "cell_type": "code",
   "execution_count": 11,
   "id": "1fa0eaf3",
   "metadata": {},
   "outputs": [],
   "source": [
    "# 创建OLS回归模型的实例并拟合数据\n",
    "model = sm.OLS(y, X)\n",
    "results = model.fit()"
   ]
  },
  {
   "cell_type": "markdown",
   "id": "5bee72bc",
   "metadata": {},
   "source": [
    "#### 查看回归结果\n",
    "\n",
    "模型拟合后，我们可以通过调用 `summary()` 方法来查看详细的回归分析结果，包括每个变量的系数、标准误、t 值、p 值等统计指标。"
   ]
  },
  {
   "cell_type": "code",
   "execution_count": 12,
   "id": "e926a7e9",
   "metadata": {},
   "outputs": [
    {
     "name": "stdout",
     "output_type": "stream",
     "text": [
      "                            OLS Regression Results                            \n",
      "==============================================================================\n",
      "Dep. Variable:                   wage   R-squared:                       0.364\n",
      "Model:                            OLS   Adj. R-squared:                  0.359\n",
      "Method:                 Least Squares   F-statistic:                     74.40\n",
      "Date:                Sun, 12 May 2024   Prob (F-statistic):           7.30e-50\n",
      "Time:                        16:34:24   Log-Likelihood:                -1314.2\n",
      "No. Observations:                 526   AIC:                             2638.\n",
      "Df Residuals:                     521   BIC:                             2660.\n",
      "Df Model:                           4                                         \n",
      "Covariance Type:            nonrobust                                         \n",
      "==============================================================================\n",
      "                 coef    std err          t      P>|t|      [0.025      0.975]\n",
      "------------------------------------------------------------------------------\n",
      "const         -1.5679      0.725     -2.164      0.031      -2.991      -0.145\n",
      "female        -1.8109      0.265     -6.838      0.000      -2.331      -1.291\n",
      "educ           0.5715      0.049     11.584      0.000       0.475       0.668\n",
      "exper          0.0254      0.012      2.195      0.029       0.003       0.048\n",
      "tenure         0.1410      0.021      6.663      0.000       0.099       0.183\n",
      "==============================================================================\n",
      "Omnibus:                      185.864   Durbin-Watson:                   1.794\n",
      "Prob(Omnibus):                  0.000   Jarque-Bera (JB):              715.580\n",
      "Skew:                           1.589   Prob(JB):                    4.11e-156\n",
      "Kurtosis:                       7.749   Cond. No.                         141.\n",
      "==============================================================================\n",
      "\n",
      "Notes:\n",
      "[1] Standard Errors assume that the covariance matrix of the errors is correctly specified.\n"
     ]
    }
   ],
   "source": [
    "# 输出回归结果摘要\n",
    "print(results.summary())"
   ]
  },
  {
   "cell_type": "markdown",
   "id": "a7041eb6",
   "metadata": {},
   "source": [
    "### 回归线\n",
    "\n",
    "可以得到回归线（或者样本回归函数）：\n",
    "\n",
    "$$\n",
    "wage = -1.568 + (-1.811) \\cdot female + 0.572 \\cdot educ + 0.025 \\cdot exper + 0.141 \\cdot tenure + u\n",
    "$$"
   ]
  },
  {
   "cell_type": "markdown",
   "id": "284412b3",
   "metadata": {},
   "source": [
    "\n",
    "\n",
    "### 解释回归结果\n",
    "\n",
    "从回归结果中，我们可以提取以下关键信息：\n",
    "\n",
    "- **模型拟合情况**: $R^2$ 值为 0.364，说明模型解释了 36.4% 的因变量（wage）的方差。这表明模型有一定的解释能力，但仍有大部分变异未被模型捕捉。\n",
    "- **系数解释**:\n",
    "  - **const**（截距）: $-1.568$, 在统计上显著（$p < 0.05$），表示当所有解释变量为0时，预测的工资值。\n",
    "  - **female**: $-1.811$, 显著地负相关（$p < 0.001$），表明女性的工资平均比男性低约 \\$1.81，条件是其他变量保持不变。\n",
    "  - **educ**（教育年数）: $0.572$, 显著正相关（$p < 0.001$），意味着每增加一年的教育，工资平均增加约 \\$0.57，其他条件不变。\n",
    "  - **exper**（工作经验）: $0.025$, 在边际上显著（$p = 0.029$），表示每增加一年工作经验，工资增加约 \\$0.03，其他条件不变。\n",
    "  - **tenure**（在当前工作的年限）: $0.141$, 显著正相关（$p < 0.001$），每增加一年在当前工作的年限，工资增加约 \\$0.14，其他条件不变。\n",
    "\n",
    "- **模型诊断**:\n",
    "  - **Durbin-Watson** 统计量为 1.794，接近2，说明残差中不存在自相关问题。\n",
    "  - **Omnibus** 和 **Jarque-Bera** 测试的 $p$ 值都接近0，表明残差不符合正态分布，这可能影响了某些统计测试的有效性，尤其是在小样本数据中。\n",
    "\n",
    "\n",
    "### 回归结果的经济学解释\n",
    "\n",
    "在经济学研究中，分析者往往特别关注模型中的系数（$\\beta_i$），因为这些系数能够揭示不同变量之间的关系，如大小、方向和显著性。这些关系有助于解释经济理论中的假设或验证特定的经济行为。每个系数的解释性质能够表达自变量对因变量的预期变化量，即当其他条件保持不变时，自变量每变化一个单位，因变量平均预期会如何变化。\n",
    "\n",
    "#### 对系数的解释\n",
    "\n",
    "1. **大小**：系数的大小告诉我们，当自变量增加一个单位时，因变量预期会增加或减少多少。在经济学中，了解这种影响的规模是至关重要的，因为它有助于量化政策变动或市场条件变化对经济行为的影响。\n",
    "\n",
    "2. **方向**：系数的符号（正或负）表明变量间的关系是正向还是负向。例如，如果某个变量的系数为正，则表明这两个变量是正相关的；如果系数为负，则两者是负相关的。\n",
    "\n",
    "3. **显著性**：统计显著性（通常通过p值来衡量）告诉我们系数是否在统计上显著，即我们观察到的关系是否有可能仅仅是由于抽样误差。p值较小（通常小于0.05）意味着我们有足够的证据认为该系数在总体中不为零。\n",
    "\n",
    "以前面的回归分析为例，我们研究了教育水平（educ）对工资（wage）的影响。根据回归结果，教育的系数是0.572，且非常显著（p值 < 0.001）。\n",
    "\n",
    "这就回答了我们最初的问题：在其他因素不变的情况下，每增加一年的教育，工资平均预期增加0.572单位。\n"
   ]
  },
  {
   "cell_type": "markdown",
   "id": "a362af50",
   "metadata": {},
   "source": [
    "\n",
    "\n",
    "### 多元回归练习题\n",
    "\n",
    "在一项研究中，研究人员收集了一批学生的高中成绩（hsGPA）、大学入学考试成绩（ACT）以及他们在大学第一年的成绩（colGPA）。该研究目的是探索高中GPA和ACT成绩对大学第一年GPA的影响。\n",
    "\n",
    "**数据集包含以下变量：**\n",
    "\n",
    "- `hsGPA`：高中GPA\n",
    "- `ACT`：大学入学考试成绩\n",
    "- `colGPA`：大学第一年GPA\n",
    "\n",
    "**研究问题：**\n",
    "高中GPA和ACT成绩如何影响大学第一年的GPA？\n",
    "\n",
    "**回归模型：**\n",
    "使用以下回归模型分析数据：\n",
    "$$\n",
    "\\text{colGPA} = \\beta_0 + \\beta_1 \\times \\text{hsGPA} + \\beta_2 \\times \\text{ACT} + u\n",
    "$$\n",
    "\n",
    "其中：\n",
    "\n",
    "- $\\beta_0$ 是截距\n",
    "- $\\beta_1$ 是高中GPA对大学GPA的影响。\n",
    "- $\\beta_2$ 是ACT成绩对大学GPA的影响。\n",
    "- $u$ 是误差项。\n",
    "\n",
    "**任务：**\n",
    "\n",
    "1. 利用提供的数据，估计上述回归模型。\n",
    "2. 解释高中GPA和ACT成绩的系数，包括意义和显著性。\n",
    "3. 思考题：讨论模型的适用性和限制。\n",
    "\n"
   ]
  },
  {
   "cell_type": "code",
   "execution_count": 17,
   "id": "617608d6",
   "metadata": {},
   "outputs": [
    {
     "data": {
      "text/plain": [
       "Index(['age', 'soph', 'junior', 'senior', 'senior5', 'male', 'campus',\n",
       "       'business', 'engineer', 'colGPA', 'hsGPA', 'ACT', 'job19', 'job20',\n",
       "       'drive', 'bike', 'walk', 'voluntr', 'PC', 'greek', 'car', 'siblings',\n",
       "       'bgfriend', 'clubs', 'skipped', 'alcohol', 'gradMI', 'fathcoll',\n",
       "       'mothcoll'],\n",
       "      dtype='object')"
      ]
     },
     "execution_count": 17,
     "metadata": {},
     "output_type": "execute_result"
    }
   ],
   "source": [
    "# 读取数据\n",
    "gpa1_data = pd.read_csv(\"data/gpa1.csv\")\n",
    "\n",
    "# 显示列名\n",
    "gpa1_data.columns"
   ]
  }
 ],
 "metadata": {
  "kernelspec": {
   "display_name": "base",
   "language": "python",
   "name": "python3"
  },
  "language_info": {
   "codemirror_mode": {
    "name": "ipython",
    "version": 3
   },
   "file_extension": ".py",
   "mimetype": "text/x-python",
   "name": "python",
   "nbconvert_exporter": "python",
   "pygments_lexer": "ipython3",
   "version": "3.11.7"
  }
 },
 "nbformat": 4,
 "nbformat_minor": 5
}
