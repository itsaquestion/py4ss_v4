{
 "cells": [
  {
   "cell_type": "code",
   "execution_count": 14,
   "metadata": {},
   "outputs": [
    {
     "name": "stdout",
     "output_type": "stream",
     "text": [
      "数据已生成并保存到 'student_scores_data_v2.csv'\n"
     ]
    }
   ],
   "source": [
    "import numpy as np\n",
    "import pandas as pd\n",
    "\n",
    "# 设置随机数种子,保证结果可重复\n",
    "np.random.seed(123)\n",
    "\n",
    "# 设置学生人数和科目数\n",
    "n_students = 500\n",
    "subjects = [\"语文\", \"英语\", \"政治\", \"数学\", \"物理\", \"化学\", \"体育\"]\n",
    "\n",
    "# 设置每门科目的平均分和标准差\n",
    "means = {\n",
    "    \"语文\": 72,\n",
    "    \"英语\": 75,\n",
    "    \"政治\": 78,\n",
    "    \"数学\": 80,\n",
    "    \"物理\": 70,\n",
    "    \"化学\": 73,\n",
    "    \"体育\": 85,\n",
    "}\n",
    "stds = {\n",
    "    \"语文\": 12,\n",
    "    \"英语\": 14,\n",
    "    \"政治\": 10,\n",
    "    \"数学\": 15,\n",
    "    \"物理\": 13,\n",
    "    \"化学\": 11,\n",
    "    \"体育\": 8,\n",
    "}\n",
    "\n",
    "# 设置科目之间的相关系数矩阵\n",
    "corr_matrix = np.array(\n",
    "    [\n",
    "        [1.0, 0.7, 0.6, 0.2, 0.1, 0.1, 0.1],  # 语文\n",
    "        [0.7, 1.0, 0.5, 0.2, 0.1, 0.1, 0.1],  # 英语\n",
    "        [0.6, 0.5, 1.0, 0.1, 0.1, 0.1, 0.1],  # 政治\n",
    "        [0.2, 0.2, 0.1, 1.0, 0.7, 0.6, 0.1],  # 数学\n",
    "        [0.1, 0.1, 0.1, 0.7, 1.0, 0.5, 0.1],  # 物理\n",
    "        [0.1, 0.1, 0.1, 0.6, 0.5, 1.0, 0.1],  # 化学\n",
    "        [0.1, 0.1, 0.1, 0.1, 0.1, 0.1, 1.0],  # 体育\n",
    "    ]\n",
    ")\n",
    "\n",
    "# 根据相关系数矩阵生成多元正态分布的随机数\n",
    "scores = np.random.multivariate_normal(\n",
    "    mean=[means[s] for s in subjects],\n",
    "    cov=np.outer(\n",
    "        np.array([stds[s] for s in subjects]), np.array([stds[s] for s in subjects])\n",
    "    )\n",
    "    * corr_matrix,\n",
    "    size=n_students,\n",
    ")\n",
    "\n",
    "# 将成绩四舍五入为整数,并限制在0-100分之间\n",
    "scores = np.round(scores).astype(int)\n",
    "scores = np.clip(scores, 0, 500)\n",
    "\n",
    "# 随机生成5%的缺失值\n",
    "# missing_mask = np.random.choice([False, True], size=scores.shape, p=[0.95, 0.05])\n",
    "# scores[missing_mask] = np.nan\n",
    "\n",
    "# 创建数据框\n",
    "df = pd.DataFrame(scores, columns=subjects)\n",
    "\n",
    "# 添加学生ID列\n",
    "df.insert(0, \"学生ID\", range(1, n_students + 1))\n",
    "\n",
    "# 保存数据到CSV文件\n",
    "df.to_csv(\"data/student_scores_data_v2.csv\", index=False)\n",
    "\n",
    "print(\"数据已生成并保存到 'student_scores_data_v2.csv'\")"
   ]
  },
  {
   "cell_type": "code",
   "execution_count": 15,
   "metadata": {},
   "outputs": [
    {
     "data": {
      "text/html": [
       "<div>\n",
       "<style scoped>\n",
       "    .dataframe tbody tr th:only-of-type {\n",
       "        vertical-align: middle;\n",
       "    }\n",
       "\n",
       "    .dataframe tbody tr th {\n",
       "        vertical-align: top;\n",
       "    }\n",
       "\n",
       "    .dataframe thead th {\n",
       "        text-align: right;\n",
       "    }\n",
       "</style>\n",
       "<table border=\"1\" class=\"dataframe\">\n",
       "  <thead>\n",
       "    <tr style=\"text-align: right;\">\n",
       "      <th></th>\n",
       "      <th>学生ID</th>\n",
       "      <th>语文</th>\n",
       "      <th>英语</th>\n",
       "      <th>政治</th>\n",
       "      <th>数学</th>\n",
       "      <th>物理</th>\n",
       "      <th>化学</th>\n",
       "      <th>体育</th>\n",
       "    </tr>\n",
       "  </thead>\n",
       "  <tbody>\n",
       "    <tr>\n",
       "      <th>0</th>\n",
       "      <td>1</td>\n",
       "      <td>100</td>\n",
       "      <td>92</td>\n",
       "      <td>71</td>\n",
       "      <td>94</td>\n",
       "      <td>68</td>\n",
       "      <td>74</td>\n",
       "      <td>89</td>\n",
       "    </tr>\n",
       "    <tr>\n",
       "      <th>1</th>\n",
       "      <td>2</td>\n",
       "      <td>91</td>\n",
       "      <td>87</td>\n",
       "      <td>84</td>\n",
       "      <td>84</td>\n",
       "      <td>57</td>\n",
       "      <td>74</td>\n",
       "      <td>88</td>\n",
       "    </tr>\n",
       "    <tr>\n",
       "      <th>2</th>\n",
       "      <td>3</td>\n",
       "      <td>72</td>\n",
       "      <td>68</td>\n",
       "      <td>89</td>\n",
       "      <td>88</td>\n",
       "      <td>91</td>\n",
       "      <td>59</td>\n",
       "      <td>79</td>\n",
       "    </tr>\n",
       "    <tr>\n",
       "      <th>3</th>\n",
       "      <td>4</td>\n",
       "      <td>60</td>\n",
       "      <td>56</td>\n",
       "      <td>51</td>\n",
       "      <td>72</td>\n",
       "      <td>60</td>\n",
       "      <td>59</td>\n",
       "      <td>84</td>\n",
       "    </tr>\n",
       "    <tr>\n",
       "      <th>4</th>\n",
       "      <td>5</td>\n",
       "      <td>55</td>\n",
       "      <td>84</td>\n",
       "      <td>59</td>\n",
       "      <td>91</td>\n",
       "      <td>67</td>\n",
       "      <td>83</td>\n",
       "      <td>92</td>\n",
       "    </tr>\n",
       "  </tbody>\n",
       "</table>\n",
       "</div>"
      ],
      "text/plain": [
       "   学生ID   语文  英语  政治  数学  物理  化学  体育\n",
       "0     1  100  92  71  94  68  74  89\n",
       "1     2   91  87  84  84  57  74  88\n",
       "2     3   72  68  89  88  91  59  79\n",
       "3     4   60  56  51  72  60  59  84\n",
       "4     5   55  84  59  91  67  83  92"
      ]
     },
     "execution_count": 15,
     "metadata": {},
     "output_type": "execute_result"
    }
   ],
   "source": [
    "df.head()"
   ]
  },
  {
   "cell_type": "code",
   "execution_count": 16,
   "metadata": {},
   "outputs": [
    {
     "name": "stdout",
     "output_type": "stream",
     "text": [
      "特征值大于1法建议提取 7 个因子\n"
     ]
    },
    {
     "data": {
      "image/png": "[encoded data removed]",
      "text/plain": [
       "<Figure size 800x600 with 1 Axes>"
      ]
     },
     "metadata": {},
     "output_type": "display_data"
    },
    {
     "name": "stdout",
     "output_type": "stream",
     "text": [
      "平行分析法建议提取 2 个因子\n",
      "理论解释法建议提取 2 个因子\n"
     ]
    }
   ],
   "source": [
    "from sklearn.decomposition import FactorAnalysis\n",
    "import numpy as np\n",
    "import pandas as pd\n",
    "import matplotlib.pyplot as plt\n",
    "\n",
    "# 加载数据\n",
    "\n",
    "X = df.drop(\"学生ID\", axis=1)\n",
    "\n",
    "# 特征值大于1法\n",
    "eigen_values, _ = np.linalg.eig(np.cov(X.T))\n",
    "num_factors_kaiser = sum(eigen_values > 1)\n",
    "print(f\"特征值大于1法建议提取 {num_factors_kaiser} 个因子\")\n",
    "\n",
    "# 碎石图法\n",
    "fa = FactorAnalysis()\n",
    "fa.fit(X)\n",
    "plt.figure(figsize=(8, 6))\n",
    "plt.plot(range(1, 8), fa.noise_variance_, marker=\"o\")\n",
    "plt.xlabel(\"Factors\")\n",
    "plt.ylabel(\"Eigenvalues\")\n",
    "plt.title(\"Scree Plot\")\n",
    "plt.show()\n",
    "\n",
    "# 平行分析法\n",
    "num_datasets = 100\n",
    "percentile = 95\n",
    "random_eigen_values = []\n",
    "for _ in range(num_datasets):\n",
    "    random_data = np.random.normal(0, 1, size=X.shape)\n",
    "    _, s, _ = np.linalg.svd(random_data)\n",
    "    random_eigen_values.append(s**2 / X.shape[0])\n",
    "\n",
    "random_eigen_values = np.percentile(random_eigen_values, percentile, axis=0)\n",
    "num_factors_pa = sum(fa.noise_variance_ > random_eigen_values)\n",
    "print(f\"平行分析法建议提取 {num_factors_pa} 个因子\")\n",
    "\n",
    "# 理论解释法\n",
    "num_factors_theory = 2  # 假设根据理论背景,我们预期提取2个因子\n",
    "print(f\"理论解释法建议提取 {num_factors_theory} 个因子\")"
   ]
  },
  {
   "cell_type": "code",
   "execution_count": 18,
   "metadata": {},
   "outputs": [],
   "source": [
    "from sklearn.datasets import load_digits\n",
    "\n",
    "X, _ = load_digits(return_X_y=True)"
   ]
  },
  {
   "cell_type": "code",
   "execution_count": 19,
   "metadata": {},
   "outputs": [
    {
     "data": {
      "text/plain": [
       "array([[ 0.,  0.,  5., ...,  0.,  0.,  0.],\n",
       "       [ 0.,  0.,  0., ..., 10.,  0.,  0.],\n",
       "       [ 0.,  0.,  0., ..., 16.,  9.,  0.],\n",
       "       ...,\n",
       "       [ 0.,  0.,  1., ...,  6.,  0.,  0.],\n",
       "       [ 0.,  0.,  2., ..., 12.,  0.,  0.],\n",
       "       [ 0.,  0., 10., ..., 12.,  1.,  0.]])"
      ]
     },
     "execution_count": 19,
     "metadata": {},
     "output_type": "execute_result"
    }
   ],
   "source": [
    "X"
   ]
  }
 ],
 "metadata": {
  "kernelspec": {
   "display_name": "base",
   "language": "python",
   "name": "python3"
  },
  "language_info": {
   "codemirror_mode": {
    "name": "ipython",
    "version": 3
   },
   "file_extension": ".py",
   "mimetype": "text/x-python",
   "name": "python",
   "nbconvert_exporter": "python",
   "pygments_lexer": "ipython3",
   "version": "3.11.7"
  }
 },
 "nbformat": 4,
 "nbformat_minor": 2
}
