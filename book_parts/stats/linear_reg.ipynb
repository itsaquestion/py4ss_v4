{
 "cells": [
  {
   "cell_type": "markdown",
   "metadata": {},
   "source": [
    "# 线性回归\n",
    "\n",
    "本章内容包括：\n",
    "\n",
    "1. 多元回归\n",
    "2. 工具变量法\n",
    "3. 混合截面数据和简单DID\n",
    "4. 面板数据\n",
    "\n",
    "工具和数据：\n",
    "\n",
    "1. 回归采用`linearmodels`包，https://bashtage.github.io/linearmodels/\n",
    "2. 部分示例和数据集来自伍德里奇《计量经济学导论》，这个数据已经被做成的Python包`Wooldridge`\n",
    "\n",
    "第一次运行之前，在任何一个Python单元格中执行以下两段代码，以安装上述2个包。注意开头有个`!`\n",
    "\n",
    "`!pip install -i https://pypi.tuna.tsinghua.edu.cn/simple linearmodels`\n",
    "\n",
    "`!pip install -i https://pypi.tuna.tsinghua.edu.cn/simple Wooldridge`"
   ]
  },
  {
   "cell_type": "markdown",
   "metadata": {},
   "source": [
    "## 普通OLS多元回归\n",
    "\n",
    "这里介绍最普通的多元线性回归的方法。采用的范例为《导论》中的例7.1，这个例子试图研究空气污染和房价之间的关系，采用的数据集是`hprice2`。"
   ]
  },
  {
   "cell_type": "markdown",
   "metadata": {},
   "source": [
    "\n",
    "\n",
    "这里介绍最普通的多元线性回归的方法。采用的范例为《导论》中的例4.5，这个例子试图研究空气污染和房价之间的关系，采用的数据集是`hprice2`。\n",
    "\n",
    "![](images/w4.5.png){width=800}"
   ]
  },
  {
   "cell_type": "code",
   "execution_count": 133,
   "metadata": {},
   "outputs": [],
   "source": [
    "# 导入需要用到的模块\n",
    "import numpy as np\n",
    "import pandas as pd\n",
    "import wooldridge\n",
    "from statsmodels.api import add_constant"
   ]
  },
  {
   "cell_type": "code",
   "execution_count": 116,
   "metadata": {},
   "outputs": [
    {
     "name": "stdout",
     "output_type": "stream",
     "text": [
      "name of dataset: hprice2\n",
      "no of variables: 12\n",
      "no of observations: 506\n",
      "\n",
      "+----------+-------------------------------+\n",
      "| variable | label                         |\n",
      "+----------+-------------------------------+\n",
      "| price    | median housing price, $       |\n",
      "| crime    | crimes committed per capita   |\n",
      "| nox      | nit ox concen; parts per 100m |\n",
      "| rooms    | avg number of rooms           |\n",
      "| dist     | wght dist to 5 employ centers |\n",
      "| radial   | access. index to rad. hghwys  |\n",
      "| proptax  | property tax per $1000        |\n",
      "| stratio  | average student-teacher ratio |\n",
      "| lowstat  | perc of people 'lower status' |\n",
      "| lprice   | log(price)                    |\n",
      "| lnox     | log(nox)                      |\n",
      "| lproptax | log(proptax)                  |\n",
      "+----------+-------------------------------+\n",
      "\n",
      "D. Harrison and D.L. Rubinfeld (1978), “Hedonic Housing Prices and the\n",
      "Demand for Clean Air,” by Harrison, D. and D.L.Rubinfeld, Journal of\n",
      "Environmental Economics and Management 5, 81-102. Diego Garcia, a\n",
      "former Ph.D. student in economics at MIT, kindly provided these data,\n",
      "which he obtained from the book Regression Diagnostics: Identifying\n",
      "Influential Data and Sources of Collinearity, by D.A. Belsey, E. Kuh,\n",
      "and R. Welsch, 1990. New York: Wiley.\n"
     ]
    },
    {
     "data": {
      "text/html": [
       "<div>\n",
       "<style scoped>\n",
       "    .dataframe tbody tr th:only-of-type {\n",
       "        vertical-align: middle;\n",
       "    }\n",
       "\n",
       "    .dataframe tbody tr th {\n",
       "        vertical-align: top;\n",
       "    }\n",
       "\n",
       "    .dataframe thead th {\n",
       "        text-align: right;\n",
       "    }\n",
       "</style>\n",
       "<table border=\"1\" class=\"dataframe\">\n",
       "  <thead>\n",
       "    <tr style=\"text-align: right;\">\n",
       "      <th></th>\n",
       "      <th>const</th>\n",
       "      <th>price</th>\n",
       "      <th>crime</th>\n",
       "      <th>nox</th>\n",
       "      <th>rooms</th>\n",
       "      <th>dist</th>\n",
       "      <th>radial</th>\n",
       "      <th>proptax</th>\n",
       "      <th>stratio</th>\n",
       "      <th>lowstat</th>\n",
       "      <th>lprice</th>\n",
       "      <th>lnox</th>\n",
       "      <th>lproptax</th>\n",
       "    </tr>\n",
       "  </thead>\n",
       "  <tbody>\n",
       "    <tr>\n",
       "      <th>0</th>\n",
       "      <td>1.0</td>\n",
       "      <td>24000.0</td>\n",
       "      <td>0.006</td>\n",
       "      <td>5.38</td>\n",
       "      <td>6.57</td>\n",
       "      <td>4.09</td>\n",
       "      <td>1</td>\n",
       "      <td>29.600000</td>\n",
       "      <td>15.300000</td>\n",
       "      <td>4.98</td>\n",
       "      <td>10.085809</td>\n",
       "      <td>1.682688</td>\n",
       "      <td>5.690360</td>\n",
       "    </tr>\n",
       "    <tr>\n",
       "      <th>1</th>\n",
       "      <td>1.0</td>\n",
       "      <td>21599.0</td>\n",
       "      <td>0.027</td>\n",
       "      <td>4.69</td>\n",
       "      <td>6.42</td>\n",
       "      <td>4.97</td>\n",
       "      <td>2</td>\n",
       "      <td>24.200001</td>\n",
       "      <td>17.799999</td>\n",
       "      <td>9.14</td>\n",
       "      <td>9.980402</td>\n",
       "      <td>1.545433</td>\n",
       "      <td>5.488938</td>\n",
       "    </tr>\n",
       "    <tr>\n",
       "      <th>2</th>\n",
       "      <td>1.0</td>\n",
       "      <td>34700.0</td>\n",
       "      <td>0.027</td>\n",
       "      <td>4.69</td>\n",
       "      <td>7.18</td>\n",
       "      <td>4.97</td>\n",
       "      <td>2</td>\n",
       "      <td>24.200001</td>\n",
       "      <td>17.799999</td>\n",
       "      <td>4.03</td>\n",
       "      <td>10.454495</td>\n",
       "      <td>1.545433</td>\n",
       "      <td>5.488938</td>\n",
       "    </tr>\n",
       "    <tr>\n",
       "      <th>3</th>\n",
       "      <td>1.0</td>\n",
       "      <td>33400.0</td>\n",
       "      <td>0.032</td>\n",
       "      <td>4.58</td>\n",
       "      <td>7.00</td>\n",
       "      <td>6.06</td>\n",
       "      <td>3</td>\n",
       "      <td>22.200001</td>\n",
       "      <td>18.700001</td>\n",
       "      <td>2.94</td>\n",
       "      <td>10.416311</td>\n",
       "      <td>1.521699</td>\n",
       "      <td>5.402678</td>\n",
       "    </tr>\n",
       "    <tr>\n",
       "      <th>4</th>\n",
       "      <td>1.0</td>\n",
       "      <td>36199.0</td>\n",
       "      <td>0.069</td>\n",
       "      <td>4.58</td>\n",
       "      <td>7.15</td>\n",
       "      <td>6.06</td>\n",
       "      <td>3</td>\n",
       "      <td>22.200001</td>\n",
       "      <td>18.700001</td>\n",
       "      <td>5.33</td>\n",
       "      <td>10.496787</td>\n",
       "      <td>1.521699</td>\n",
       "      <td>5.402678</td>\n",
       "    </tr>\n",
       "  </tbody>\n",
       "</table>\n",
       "</div>"
      ],
      "text/plain": [
       "   const    price  crime   nox  rooms  dist  radial    proptax    stratio  \\\n",
       "0    1.0  24000.0  0.006  5.38   6.57  4.09       1  29.600000  15.300000   \n",
       "1    1.0  21599.0  0.027  4.69   6.42  4.97       2  24.200001  17.799999   \n",
       "2    1.0  34700.0  0.027  4.69   7.18  4.97       2  24.200001  17.799999   \n",
       "3    1.0  33400.0  0.032  4.58   7.00  6.06       3  22.200001  18.700001   \n",
       "4    1.0  36199.0  0.069  4.58   7.15  6.06       3  22.200001  18.700001   \n",
       "\n",
       "   lowstat     lprice      lnox  lproptax  \n",
       "0     4.98  10.085809  1.682688  5.690360  \n",
       "1     9.14   9.980402  1.545433  5.488938  \n",
       "2     4.03  10.454495  1.545433  5.488938  \n",
       "3     2.94  10.416311  1.521699  5.402678  \n",
       "4     5.33  10.496787  1.521699  5.402678  "
      ]
     },
     "execution_count": 116,
     "metadata": {},
     "output_type": "execute_result"
    }
   ],
   "source": [
    "wooldridge.data(\"hprice2\", description=True)  # 打印数据的信息\n",
    "df = wooldridge.data(\"hprice2\") # 导入数据到df\n",
    "df = add_constant(df, has_constant=\"add\")\n",
    "df.head()"
   ]
  },
  {
   "cell_type": "markdown",
   "metadata": {},
   "source": [
    "注意，我们需要的变量，只有ldist不在数据集中。"
   ]
  },
  {
   "cell_type": "code",
   "execution_count": 120,
   "metadata": {},
   "outputs": [],
   "source": [
    "df[\"ldist\"] = np.log(df[\"dist\"])"
   ]
  },
  {
   "cell_type": "markdown",
   "metadata": {},
   "source": [
    "进行回归"
   ]
  },
  {
   "cell_type": "code",
   "execution_count": 132,
   "metadata": {},
   "outputs": [
    {
     "name": "stdout",
     "output_type": "stream",
     "text": [
      "                            OLS Estimation Summary                            \n",
      "==============================================================================\n",
      "Dep. Variable:                 lprice   R-squared:                      0.5840\n",
      "Estimator:                        OLS   Adj. R-squared:                 0.5807\n",
      "No. Observations:                 506   F-statistic:                    710.44\n",
      "Date:                Fri, Apr 19 2024   P-value (F-stat)                0.0000\n",
      "Time:                        18:02:05   Distribution:                  chi2(4)\n",
      "Cov. Estimator:            unadjusted                                         \n",
      "                                                                              \n",
      "                             Parameter Estimates                              \n",
      "==============================================================================\n",
      "            Parameter  Std. Err.     T-stat    P-value    Lower CI    Upper CI\n",
      "------------------------------------------------------------------------------\n",
      "const          11.084     0.3165     35.016     0.0000      10.463      11.704\n",
      "lnox          -0.9535     0.1162    -8.2086     0.0000     -1.1812     -0.7259\n",
      "ldist         -0.1343     0.0429    -3.1322     0.0017     -0.2184     -0.0503\n",
      "rooms          0.2545     0.0184     13.804     0.0000      0.2184      0.2907\n",
      "stratio       -0.0525     0.0059    -8.9387     0.0000     -0.0640     -0.0410\n",
      "==============================================================================\n"
     ]
    }
   ],
   "source": [
    "from linearmodels import OLS\n",
    "\n",
    "res_ols = OLS(df[\"lprice\"], df[[\"const\", \"lnox\", \"ldist\", \"rooms\", \"stratio\"]]).fit(\n",
    "    cov_type=\"unadjusted\"\n",
    ")\n",
    "\n",
    "print(res_ols)  # 打印一下回归结果"
   ]
  },
  {
   "cell_type": "markdown",
   "metadata": {},
   "source": [
    "也可以采用公式版的写法"
   ]
  },
  {
   "cell_type": "code",
   "execution_count": 128,
   "metadata": {},
   "outputs": [
    {
     "name": "stdout",
     "output_type": "stream",
     "text": [
      "                            OLS Estimation Summary                            \n",
      "==============================================================================\n",
      "Dep. Variable:                 lprice   R-squared:                      0.5840\n",
      "Estimator:                        OLS   Adj. R-squared:                 0.5807\n",
      "No. Observations:                 506   F-statistic:                    710.44\n",
      "Date:                Fri, Apr 19 2024   P-value (F-stat)                0.0000\n",
      "Time:                        18:00:38   Distribution:                  chi2(4)\n",
      "Cov. Estimator:            unadjusted                                         \n",
      "                                                                              \n",
      "                             Parameter Estimates                              \n",
      "==============================================================================\n",
      "            Parameter  Std. Err.     T-stat    P-value    Lower CI    Upper CI\n",
      "------------------------------------------------------------------------------\n",
      "Intercept      11.084     0.3165     35.016     0.0000      10.463      11.704\n",
      "lnox          -0.9535     0.1162    -8.2086     0.0000     -1.1812     -0.7259\n",
      "ldist         -0.1343     0.0429    -3.1322     0.0017     -0.2184     -0.0503\n",
      "rooms          0.2545     0.0184     13.804     0.0000      0.2184      0.2907\n",
      "stratio       -0.0525     0.0059    -8.9387     0.0000     -0.0640     -0.0410\n",
      "==============================================================================\n"
     ]
    }
   ],
   "source": [
    "res_ols_f = OLS.from_formula(\"lprice ~ lnox + ldist + rooms + stratio\", data=df).fit(\n",
    "    cov_type=\"unadjusted\"\n",
    ")\n",
    "\n",
    "print(res_ols_f)  "
   ]
  },
  {
   "cell_type": "markdown",
   "metadata": {},
   "source": []
  },
  {
   "cell_type": "markdown",
   "metadata": {},
   "source": [
    "\n",
    "\n",
    "这里采用伍德里奇的《计量经济学导论》中第15章中的例子。\n",
    "\n",
    "例 15.1，估计已婚女性的教育回报，这个例子中，作者想用已婚女性的受教育程度educ，来解释她的收入wage。\n",
    "\n",
    "\n",
    "\n"
   ]
  },
  {
   "cell_type": "markdown",
   "metadata": {},
   "source": [
    "在linearmodels包中已经包括了这份数据，我们可以从包中读取。当然， 一般情况下我们会从csv，dta或者excel文件中读取数据，读取数据会在Pandas的章节介绍。"
   ]
  },
  {
   "cell_type": "code",
   "execution_count": 99,
   "metadata": {},
   "outputs": [
    {
     "name": "stdout",
     "output_type": "stream",
     "text": [
      "name of dataset: mroz\n",
      "no of variables: 22\n",
      "no of observations: 753\n",
      "\n",
      "+----------+---------------------------------+\n",
      "| variable | label                           |\n",
      "+----------+---------------------------------+\n",
      "| inlf     | =1 if in lab frce, 1975         |\n",
      "| hours    | hours worked, 1975              |\n",
      "| kidslt6  | # kids < 6 years                |\n",
      "| kidsge6  | # kids 6-18                     |\n",
      "| age      | woman's age in yrs              |\n",
      "| educ     | years of schooling              |\n",
      "| wage     | est. wage from earn, hrs        |\n",
      "| repwage  | rep. wage at interview in 1976  |\n",
      "| hushrs   | hours worked by husband, 1975   |\n",
      "| husage   | husband's age                   |\n",
      "| huseduc  | husband's years of schooling    |\n",
      "| huswage  | husband's hourly wage, 1975     |\n",
      "| faminc   | family income, 1975             |\n",
      "| mtr      | fed. marg. tax rte facing woman |\n",
      "| motheduc | mother's years of schooling     |\n",
      "| fatheduc | father's years of schooling     |\n",
      "| unem     | unem. rate in county of resid.  |\n",
      "| city     | =1 if live in SMSA              |\n",
      "| exper    | actual labor mkt exper          |\n",
      "| nwifeinc | (faminc - wage*hours)/1000      |\n",
      "| lwage    | log(wage)                       |\n",
      "| expersq  | exper^2                         |\n",
      "+----------+---------------------------------+\n",
      "\n",
      "T.A. Mroz (1987), “The Sensitivity of an Empirical Model of Married\n",
      "Women’s Hours of Work to Economic and Statistical Assumptions,”\n",
      "Econometrica 55, 765-799. Professor Ernst R. Berndt, of MIT, kindly\n",
      "provided the data, which he obtained from Professor Mroz.\n",
      "None\n"
     ]
    },
    {
     "ename": "AttributeError",
     "evalue": "'DataFrame' object has no attribute 'DESCR'",
     "output_type": "error",
     "traceback": [
      "\u001b[0;31m---------------------------------------------------------------------------\u001b[0m",
      "\u001b[0;31mAttributeError\u001b[0m                            Traceback (most recent call last)",
      "\u001b[0;32m/tmp/ipykernel_1546391/2595155928.py\u001b[0m in \u001b[0;36m?\u001b[0;34m()\u001b[0m\n\u001b[1;32m      5\u001b[0m \u001b[0;34m\u001b[0m\u001b[0m\n\u001b[1;32m      6\u001b[0m \u001b[0mprint\u001b[0m\u001b[0;34m(\u001b[0m\u001b[0mwooldridge\u001b[0m\u001b[0;34m.\u001b[0m\u001b[0mdata\u001b[0m\u001b[0;34m(\u001b[0m\u001b[0;34m\"mroz\"\u001b[0m\u001b[0;34m,\u001b[0m \u001b[0mdescription\u001b[0m\u001b[0;34m=\u001b[0m\u001b[0;32mTrue\u001b[0m\u001b[0;34m)\u001b[0m\u001b[0;34m)\u001b[0m\u001b[0;34m\u001b[0m\u001b[0;34m\u001b[0m\u001b[0m\n\u001b[1;32m      7\u001b[0m \u001b[0mdf\u001b[0m \u001b[0;34m=\u001b[0m \u001b[0mwooldridge\u001b[0m\u001b[0;34m.\u001b[0m\u001b[0mdata\u001b[0m\u001b[0;34m(\u001b[0m\u001b[0;34m\"mroz\"\u001b[0m\u001b[0;34m)\u001b[0m\u001b[0;34m\u001b[0m\u001b[0;34m\u001b[0m\u001b[0m\n\u001b[1;32m      8\u001b[0m \u001b[0;34m\u001b[0m\u001b[0m\n\u001b[0;32m----> 9\u001b[0;31m \u001b[0mprint\u001b[0m\u001b[0;34m(\u001b[0m\u001b[0mdf\u001b[0m\u001b[0;34m.\u001b[0m\u001b[0mDESCR\u001b[0m\u001b[0;34m)\u001b[0m  \u001b[0;31m# 列出变量的描述\u001b[0m\u001b[0;34m\u001b[0m\u001b[0;34m\u001b[0m\u001b[0m\n\u001b[0m\u001b[1;32m     10\u001b[0m \u001b[0mdata\u001b[0m \u001b[0;34m=\u001b[0m \u001b[0mdf\u001b[0m\u001b[0;34m.\u001b[0m\u001b[0mload\u001b[0m\u001b[0;34m(\u001b[0m\u001b[0;34m)\u001b[0m  \u001b[0;31m# 读取数据\u001b[0m\u001b[0;34m\u001b[0m\u001b[0;34m\u001b[0m\u001b[0m\n\u001b[1;32m     11\u001b[0m \u001b[0mdata\u001b[0m \u001b[0;34m=\u001b[0m \u001b[0mdata\u001b[0m\u001b[0;34m.\u001b[0m\u001b[0mdropna\u001b[0m\u001b[0;34m(\u001b[0m\u001b[0;34m)\u001b[0m  \u001b[0;31m# 去掉na\u001b[0m\u001b[0;34m\u001b[0m\u001b[0;34m\u001b[0m\u001b[0m\n\u001b[1;32m     12\u001b[0m \u001b[0mdata\u001b[0m \u001b[0;34m=\u001b[0m \u001b[0madd_constant\u001b[0m\u001b[0;34m(\u001b[0m\u001b[0mdata\u001b[0m\u001b[0;34m,\u001b[0m \u001b[0mhas_constant\u001b[0m\u001b[0;34m=\u001b[0m\u001b[0;34m\"add\"\u001b[0m\u001b[0;34m)\u001b[0m  \u001b[0;31m# 添加常数项\u001b[0m\u001b[0;34m\u001b[0m\u001b[0;34m\u001b[0m\u001b[0m\n",
      "\u001b[0;32m~/anaconda3/lib/python3.11/site-packages/pandas/core/generic.py\u001b[0m in \u001b[0;36m?\u001b[0;34m(self, name)\u001b[0m\n\u001b[1;32m   5985\u001b[0m             \u001b[0;32mand\u001b[0m \u001b[0mname\u001b[0m \u001b[0;32mnot\u001b[0m \u001b[0;32min\u001b[0m \u001b[0mself\u001b[0m\u001b[0;34m.\u001b[0m\u001b[0m_accessors\u001b[0m\u001b[0;34m\u001b[0m\u001b[0;34m\u001b[0m\u001b[0m\n\u001b[1;32m   5986\u001b[0m             \u001b[0;32mand\u001b[0m \u001b[0mself\u001b[0m\u001b[0;34m.\u001b[0m\u001b[0m_info_axis\u001b[0m\u001b[0;34m.\u001b[0m\u001b[0m_can_hold_identifiers_and_holds_name\u001b[0m\u001b[0;34m(\u001b[0m\u001b[0mname\u001b[0m\u001b[0;34m)\u001b[0m\u001b[0;34m\u001b[0m\u001b[0;34m\u001b[0m\u001b[0m\n\u001b[1;32m   5987\u001b[0m         ):\n\u001b[1;32m   5988\u001b[0m             \u001b[0;32mreturn\u001b[0m \u001b[0mself\u001b[0m\u001b[0;34m[\u001b[0m\u001b[0mname\u001b[0m\u001b[0;34m]\u001b[0m\u001b[0;34m\u001b[0m\u001b[0;34m\u001b[0m\u001b[0m\n\u001b[0;32m-> 5989\u001b[0;31m         \u001b[0;32mreturn\u001b[0m \u001b[0mobject\u001b[0m\u001b[0;34m.\u001b[0m\u001b[0m__getattribute__\u001b[0m\u001b[0;34m(\u001b[0m\u001b[0mself\u001b[0m\u001b[0;34m,\u001b[0m \u001b[0mname\u001b[0m\u001b[0;34m)\u001b[0m\u001b[0;34m\u001b[0m\u001b[0;34m\u001b[0m\u001b[0m\n\u001b[0m",
      "\u001b[0;31mAttributeError\u001b[0m: 'DataFrame' object has no attribute 'DESCR'"
     ]
    }
   ],
   "source": [
    "import numpy as np\n",
    "import pandas as pd\n",
    "import wooldridge\n",
    "from statsmodels.api import add_constant\n",
    "\n",
    "print(wooldridge.data(\"mroz\", description=True))\n",
    "df = wooldridge.data(\"mroz\")\n",
    "\n",
    "print(df.DESCR)  # 列出变量的描述\n",
    "data = df.load()  # 读取数据\n",
    "data = data.dropna()  # 去掉na\n",
    "data = add_constant(data, has_constant=\"add\")  # 添加常数项"
   ]
  },
  {
   "cell_type": "markdown",
   "metadata": {},
   "source": [
    "首先我们要进行的OLS估计是：\n",
    "\n",
    "$$\\log(wage) = \\beta_0 + \\beta_1 educ + u$$\n",
    "\n",
    "我们将会使用linearmodels中的OLS对象，初始化的时候接受几个参数，第一个是被解释变量，第二个是解释变量\n",
    "\n",
    "1. 被解释变量/因变量是工资 `data['wage']`，但是这里要取对数 `np.log(data['wage'])`\n",
    "2. 解释变量/自变量是教育程度 `data['edu']`，要加上常数项，即`data[[\"const\", \"educ\"]]`。注意常数项是前面`add_constant`函数添加的。\n",
    "\n",
    "一般的用法就是：\n",
    "\n",
    "回归结果 = OLS(因变量, 自变量).fit()\n"
   ]
  },
  {
   "cell_type": "code",
   "execution_count": null,
   "metadata": {},
   "outputs": [],
   "source": [
    "from linearmodels import OLS\n",
    "\n",
    "res_ols = OLS(np.log(data[\"wage\"]), data[[\"const\", \"educ\"]]).fit()\n",
    "\n",
    "print(res_ols)  # 打印一下回归结果"
   ]
  },
  {
   "cell_type": "markdown",
   "metadata": {},
   "source": [
    "可见，教育educ的系数是0.1086，每接受多1年教育，可以获得11%的回报。P-value约等于0，非常显著。这个结果符合《导论》保持一致。"
   ]
  },
  {
   "cell_type": "markdown",
   "metadata": {},
   "source": [
    "除了你直接指定数据列，`np.log(data[\"wage\"]), data[[\"const\", \"educ\"]]`，还可以用`OLS.from_formula()`指定回归公式。\n",
    "\n",
    "这里的公式是一个字符串，一般性的写法是 \"被解释变量 ~ 解释变量1 + 解释变量2 + .... \"，并且支持常用的运算，比如取对数。默认情况下会自带常数项，因此公式里不用特别指定。\n",
    "\n",
    "那么，实现上述回归，公式就是 `\"log(wage) ~ educ\"`\n",
    "一般的用法是`OLS.from_formula(公式， data = 数据).fit()`"
   ]
  },
  {
   "cell_type": "code",
   "execution_count": null,
   "metadata": {},
   "outputs": [],
   "source": [
    "res_ols2 = OLS.from_formula(\"log(wage) ~ educ\", data=data).fit()\n",
    "print(res_ols2)"
   ]
  },
  {
   "cell_type": "markdown",
   "metadata": {},
   "source": [
    "可以对比上述两种方法，得到的结果是一样的。除了你肉眼看，还可以用compare函数来比较回归。"
   ]
  },
  {
   "cell_type": "code",
   "execution_count": null,
   "metadata": {},
   "outputs": [],
   "source": [
    "from linearmodels.iv.results import compare\n",
    "\n",
    "print(compare([res_ols, res_ols2]))"
   ]
  },
  {
   "cell_type": "markdown",
   "metadata": {},
   "source": [
    "可见educ的系数是一样的，证明OLS()和OLS.from_formula() 本质上相同，看你习惯用哪个。\n",
    "\n",
    "注意，add_constant()函数生成的常数项的名称是const，但是from_formula生成的常数项叫Intercept（截距），但只是不同的包作者习惯用不同的名称，本质上这两者是一样的。"
   ]
  },
  {
   "cell_type": "markdown",
   "metadata": {},
   "source": [
    "多元的版本也是类似，比如加入工作经验exper及其平方项作为控制变量\n",
    "\n",
    "$$\\log(wage) = \\beta_0 + \\beta_1 educ + \\beta_2 exper + \\beta_3 expersq +  u$$\n"
   ]
  },
  {
   "cell_type": "code",
   "execution_count": null,
   "metadata": {},
   "outputs": [],
   "source": [
    "from linearmodels import OLS\n",
    "\n",
    "res_ols = OLS(np.log(data[\"wage\"]), data[[\"const\", \"educ\", \"exper\", \"expersq\"]]).fit()\n",
    "\n",
    "print(res_ols) "
   ]
  },
  {
   "cell_type": "code",
   "execution_count": null,
   "metadata": {},
   "outputs": [],
   "source": [
    "from linearmodels import OLS\n",
    "\n",
    "res_ols2 = OLS.from_formula(\"log(wage) ~ educ + exper + expersq\", data=data).fit()\n",
    "\n",
    "print(res_ols2)"
   ]
  },
  {
   "cell_type": "code",
   "execution_count": null,
   "metadata": {},
   "outputs": [],
   "source": [
    "print(compare([res_ols, res_ols2]))"
   ]
  },
  {
   "cell_type": "markdown",
   "metadata": {},
   "source": [
    "## 工具变量法\n",
    "\n",
    "继续前面的例子。我们使用父亲的受教育程度 fatheduc 作为 educ 的工具变量。\n",
    "\n",
    "工具变量回归要导入IV2SLS，用法是 `IV2SLS(因变量, 外生变量, 内生变量, 工具变量)`，更通俗的表达是 `IV2SLS(因变量, 控制变量, 自变量, 工具变量)`\n",
    "\n",
    "在本案中，则是`IV2SLS(np.log(data.wage), data[[\"const\"]], data.educ, data.fathedcu)`\n",
    "\n",
    "`fit()`函数可以指定方差的计算方式，我们这里不展开。"
   ]
  },
  {
   "cell_type": "code",
   "execution_count": null,
   "metadata": {},
   "outputs": [],
   "source": [
    "from linearmodels.iv import IV2SLS\n",
    "\n",
    "res_second = IV2SLS(np.log(data.wage), data[[\"const\"]], data.educ, data.fatheduc).fit(\n",
    "    cov_type=\"unadjusted\"  # 使用传统的OLS方差估计,假设误差项是同方差的\n",
    ")\n",
    "print(res_second)"
   ]
  },
  {
   "cell_type": "markdown",
   "metadata": {},
   "source": [
    "采用公式版，公式的写法是 `dep ~ exog + [ endog ~ instruments]`"
   ]
  },
  {
   "cell_type": "code",
   "execution_count": null,
   "metadata": {},
   "outputs": [],
   "source": [
    "res_second2 = IV2SLS.from_formula(\"log(wage) ~ [educ ~ fatheduc]\", data=data).fit(\n",
    "    cov_type=\"unadjusted\"\n",
    ")\n",
    "print(res_second)"
   ]
  },
  {
   "cell_type": "markdown",
   "metadata": {},
   "source": [
    "当然两种方法的结果也是一样的，看你习惯用哪个。"
   ]
  },
  {
   "cell_type": "markdown",
   "metadata": {},
   "source": [
    "比较OLS和2SLS的回归结果"
   ]
  },
  {
   "cell_type": "code",
   "execution_count": null,
   "metadata": {},
   "outputs": [],
   "source": [
    "print(compare([res_ols, res_second]))"
   ]
  },
  {
   "cell_type": "markdown",
   "metadata": {},
   "source": [
    "2SLS的估计值为5.9%，是OLS估计的一半左右"
   ]
  },
  {
   "cell_type": "markdown",
   "metadata": {},
   "source": [
    "## 稍微复杂一点的例子\n",
    "\n",
    "例子来自 《导论》 第15章的例15.4，作者试图用男性样本中的工资和受教育程度 `educ` 来估计教育回报 `wage` ，并且用一个人是否在一所四年制大学附近成长 `nearc4` ，来自作为受教育程度的工具变量。还包括其他控制变量，等等。\n",
    "\n",
    "\n",
    "同样，希望回答的问题也是“多读一年书能多拿多少钱工资？”\n",
    "\n",
    "数据是`datasets.card`，可以看到我们需要的变量都在里面。\n"
   ]
  },
  {
   "cell_type": "code",
   "execution_count": null,
   "metadata": {},
   "outputs": [],
   "source": [
    "from linearmodels.datasets import card\n",
    "\n",
    "data = card.load()\n",
    "print(card.DESCR)\n",
    "data = add_constant(data)"
   ]
  },
  {
   "cell_type": "markdown",
   "metadata": {},
   "source": [
    "我们首先确定回归用的数据"
   ]
  },
  {
   "cell_type": "code",
   "execution_count": null,
   "metadata": {},
   "outputs": [],
   "source": [
    "dep = [\"wage\"]  # 因变量：工资\n",
    "endog = [\"educ\"]  # 自变量：教育程度\n",
    "exog = [  # 外生变量\n",
    "    \"const\",\n",
    "    \"exper\",  # 工作经验\n",
    "    \"expersq\",  # 工作经验的平方\n",
    "    \"black\",  # 是否是黑人\n",
    "    \"smsa\",  # 是否住在大城市及其郊区\n",
    "    \"south\",  # 是否住在南方\n",
    "    \"smsa66\",  # 66年时候居住在何处\n",
    "    \"reg662\",  # 一系列地区虚拟变量\n",
    "    \"reg663\",\n",
    "    \"reg664\",\n",
    "    \"reg665\",\n",
    "    \"reg666\",\n",
    "    \"reg667\",\n",
    "    \"reg668\",\n",
    "    \"reg669\",\n",
    "]\n",
    "instr = [\"nearc4\"]  # 工具变量：是否在4年制大学附近成长\n",
    "data = data[dep + exog + endog + instr].dropna()  # 把上述变量集合到data中\n",
    "data.head()"
   ]
  },
  {
   "cell_type": "markdown",
   "metadata": {},
   "source": [
    "### OLS\n",
    "\n",
    "先做一个OLS, 直接用educ来解释wage。\n",
    "\n",
    " `log(wage) ~ educ + controls`\n",
    "\n",
    "\n",
    "当我们不指定内生变量和工具变量的时候，IV2SLS()和OLS()结果一样"
   ]
  },
  {
   "cell_type": "code",
   "execution_count": null,
   "metadata": {},
   "outputs": [],
   "source": [
    "res = IV2SLS(np.log(data.wage), data[exog + endog], None, None).fit()\n",
    "print(res)"
   ]
  },
  {
   "cell_type": "markdown",
   "metadata": {},
   "source": [
    "educ的系数是7%左右，每多读书1年，工资增加7%。"
   ]
  },
  {
   "cell_type": "markdown",
   "metadata": {},
   "source": [
    "### 2SLS\n",
    "\n",
    "利用nearc4来做educ的工具变量.\n",
    "\n",
    "一阶段是: educ ~ nearc4 + controls\n",
    "\n",
    "二阶段是: "
   ]
  },
  {
   "cell_type": "markdown",
   "metadata": {},
   "source": [
    "我们首先手动做两阶段回归，然后再用一条命令完成，并从中提取第一阶段。\n",
    "\n",
    "一阶段："
   ]
  },
  {
   "cell_type": "code",
   "execution_count": null,
   "metadata": {},
   "outputs": [],
   "source": [
    "res = IV2SLS(data.educ, data[instr + exog], None, None).fit(\n",
    "    cov_type=\"unadjusted\"\n",
    ")  # 不指定内生变量和工具变量，最后2个参数都是None\n",
    "print(res)"
   ]
  },
  {
   "cell_type": "markdown",
   "metadata": {},
   "source": [
    "nearc4的系数很显著，上面的结果同《导论》的公式15.32(p495)。\n",
    "\n"
   ]
  },
  {
   "cell_type": "code",
   "execution_count": null,
   "metadata": {},
   "outputs": [],
   "source": [
    "res = IV2SLS(np.log(data.wage), data[exog + endog], None, None).fit()\n",
    "print(res)"
   ]
  },
  {
   "cell_type": "code",
   "execution_count": null,
   "metadata": {},
   "outputs": [],
   "source": [
    "res = IV2SLS(np.log(data.wage), data[exog + endog], None, None).fit()\n",
    "print(res)"
   ]
  },
  {
   "cell_type": "code",
   "execution_count": null,
   "metadata": {},
   "outputs": [],
   "source": [
    "res_2sls = IV2SLS(np.log(data.wage), data[exog], data[endog], data[instr]).fit()\n",
    "res_2sls"
   ]
  },
  {
   "cell_type": "markdown",
   "metadata": {},
   "source": [
    "公式版"
   ]
  },
  {
   "cell_type": "code",
   "execution_count": null,
   "metadata": {},
   "outputs": [],
   "source": [
    "import numpy as np\n",
    "\n",
    "formula = (\n",
    "    \"np.log(wage) ~ 1 + exper + expersq + black + smsa + south + smsa66 + reg662 + reg663 + reg664 + \"\n",
    "    \"reg665 + reg666 + reg667 + reg668 + reg669 + [educ ~ nearc4]\"\n",
    ")\n",
    "mod = IV2SLS.from_formula(formula, data)\n",
    "res_formula = mod.fit(cov_type=\"unadjusted\")\n",
    "res_formula"
   ]
  },
  {
   "cell_type": "markdown",
   "metadata": {},
   "source": [
    "## 混合截面数据和简单DID\n",
    "\n",
    "独立混合截面数据(pooled)：指从在不同的年份，从一个大的整体中进行独立抽样形成的数据，比如人口普查。两次抽样之间，被选中的个体很可能不同。\n",
    "\n",
    "### 年度虚拟变量\n",
    "\n",
    "\n",
    "最基本的方法是利用年度虚拟变量，即我们允许不同的年份有不同的截距。\n"
   ]
  },
  {
   "cell_type": "code",
   "execution_count": 96,
   "metadata": {},
   "outputs": [
    {
     "data": {
      "text/html": [
       "<div>\n",
       "<style scoped>\n",
       "    .dataframe tbody tr th:only-of-type {\n",
       "        vertical-align: middle;\n",
       "    }\n",
       "\n",
       "    .dataframe tbody tr th {\n",
       "        vertical-align: top;\n",
       "    }\n",
       "\n",
       "    .dataframe thead th {\n",
       "        text-align: right;\n",
       "    }\n",
       "</style>\n",
       "<table border=\"1\" class=\"dataframe\">\n",
       "  <thead>\n",
       "    <tr style=\"text-align: right;\">\n",
       "      <th></th>\n",
       "      <th>year</th>\n",
       "      <th>educ</th>\n",
       "      <th>meduc</th>\n",
       "      <th>feduc</th>\n",
       "      <th>age</th>\n",
       "      <th>kids</th>\n",
       "      <th>black</th>\n",
       "      <th>east</th>\n",
       "      <th>northcen</th>\n",
       "      <th>west</th>\n",
       "      <th>...</th>\n",
       "      <th>y80</th>\n",
       "      <th>y82</th>\n",
       "      <th>y84</th>\n",
       "      <th>agesq</th>\n",
       "      <th>y74educ</th>\n",
       "      <th>y76educ</th>\n",
       "      <th>y78educ</th>\n",
       "      <th>y80educ</th>\n",
       "      <th>y82educ</th>\n",
       "      <th>y84educ</th>\n",
       "    </tr>\n",
       "  </thead>\n",
       "  <tbody>\n",
       "    <tr>\n",
       "      <th>0</th>\n",
       "      <td>72</td>\n",
       "      <td>12</td>\n",
       "      <td>8</td>\n",
       "      <td>8</td>\n",
       "      <td>48</td>\n",
       "      <td>4</td>\n",
       "      <td>0</td>\n",
       "      <td>0</td>\n",
       "      <td>1</td>\n",
       "      <td>0</td>\n",
       "      <td>...</td>\n",
       "      <td>0</td>\n",
       "      <td>0</td>\n",
       "      <td>0</td>\n",
       "      <td>2304</td>\n",
       "      <td>0</td>\n",
       "      <td>0</td>\n",
       "      <td>0</td>\n",
       "      <td>0</td>\n",
       "      <td>0</td>\n",
       "      <td>0</td>\n",
       "    </tr>\n",
       "    <tr>\n",
       "      <th>1</th>\n",
       "      <td>72</td>\n",
       "      <td>17</td>\n",
       "      <td>8</td>\n",
       "      <td>18</td>\n",
       "      <td>46</td>\n",
       "      <td>3</td>\n",
       "      <td>0</td>\n",
       "      <td>0</td>\n",
       "      <td>0</td>\n",
       "      <td>0</td>\n",
       "      <td>...</td>\n",
       "      <td>0</td>\n",
       "      <td>0</td>\n",
       "      <td>0</td>\n",
       "      <td>2116</td>\n",
       "      <td>0</td>\n",
       "      <td>0</td>\n",
       "      <td>0</td>\n",
       "      <td>0</td>\n",
       "      <td>0</td>\n",
       "      <td>0</td>\n",
       "    </tr>\n",
       "    <tr>\n",
       "      <th>2</th>\n",
       "      <td>72</td>\n",
       "      <td>12</td>\n",
       "      <td>7</td>\n",
       "      <td>8</td>\n",
       "      <td>53</td>\n",
       "      <td>2</td>\n",
       "      <td>0</td>\n",
       "      <td>0</td>\n",
       "      <td>1</td>\n",
       "      <td>0</td>\n",
       "      <td>...</td>\n",
       "      <td>0</td>\n",
       "      <td>0</td>\n",
       "      <td>0</td>\n",
       "      <td>2809</td>\n",
       "      <td>0</td>\n",
       "      <td>0</td>\n",
       "      <td>0</td>\n",
       "      <td>0</td>\n",
       "      <td>0</td>\n",
       "      <td>0</td>\n",
       "    </tr>\n",
       "    <tr>\n",
       "      <th>3</th>\n",
       "      <td>72</td>\n",
       "      <td>12</td>\n",
       "      <td>12</td>\n",
       "      <td>10</td>\n",
       "      <td>42</td>\n",
       "      <td>2</td>\n",
       "      <td>0</td>\n",
       "      <td>0</td>\n",
       "      <td>1</td>\n",
       "      <td>0</td>\n",
       "      <td>...</td>\n",
       "      <td>0</td>\n",
       "      <td>0</td>\n",
       "      <td>0</td>\n",
       "      <td>1764</td>\n",
       "      <td>0</td>\n",
       "      <td>0</td>\n",
       "      <td>0</td>\n",
       "      <td>0</td>\n",
       "      <td>0</td>\n",
       "      <td>0</td>\n",
       "    </tr>\n",
       "    <tr>\n",
       "      <th>4</th>\n",
       "      <td>72</td>\n",
       "      <td>12</td>\n",
       "      <td>3</td>\n",
       "      <td>8</td>\n",
       "      <td>51</td>\n",
       "      <td>2</td>\n",
       "      <td>0</td>\n",
       "      <td>0</td>\n",
       "      <td>0</td>\n",
       "      <td>0</td>\n",
       "      <td>...</td>\n",
       "      <td>0</td>\n",
       "      <td>0</td>\n",
       "      <td>0</td>\n",
       "      <td>2601</td>\n",
       "      <td>0</td>\n",
       "      <td>0</td>\n",
       "      <td>0</td>\n",
       "      <td>0</td>\n",
       "      <td>0</td>\n",
       "      <td>0</td>\n",
       "    </tr>\n",
       "  </tbody>\n",
       "</table>\n",
       "<p>5 rows × 27 columns</p>\n",
       "</div>"
      ],
      "text/plain": [
       "   year  educ  meduc  feduc  age  kids  black  east  northcen  west  ...  y80  \\\n",
       "0    72    12      8      8   48     4      0     0         1     0  ...    0   \n",
       "1    72    17      8     18   46     3      0     0         0     0  ...    0   \n",
       "2    72    12      7      8   53     2      0     0         1     0  ...    0   \n",
       "3    72    12     12     10   42     2      0     0         1     0  ...    0   \n",
       "4    72    12      3      8   51     2      0     0         0     0  ...    0   \n",
       "\n",
       "   y82  y84  agesq  y74educ  y76educ  y78educ  y80educ  y82educ  y84educ  \n",
       "0    0    0   2304        0        0        0        0        0        0  \n",
       "1    0    0   2116        0        0        0        0        0        0  \n",
       "2    0    0   2809        0        0        0        0        0        0  \n",
       "3    0    0   1764        0        0        0        0        0        0  \n",
       "4    0    0   2601        0        0        0        0        0        0  \n",
       "\n",
       "[5 rows x 27 columns]"
      ]
     },
     "execution_count": 96,
     "metadata": {},
     "output_type": "execute_result"
    }
   ],
   "source": [
    "df = pd.read_csv(\"https://www.meyerperin.com/econometrics-python/data/fertil1.csv\")\n",
    "df.head()"
   ]
  },
  {
   "cell_type": "code",
   "execution_count": 97,
   "metadata": {},
   "outputs": [
    {
     "name": "stdout",
     "output_type": "stream",
     "text": [
      "                            OLS Estimation Summary                            \n",
      "==============================================================================\n",
      "Dep. Variable:                   kids   R-squared:                      0.0498\n",
      "Estimator:                        OLS   Adj. R-squared:                 0.0489\n",
      "No. Observations:                1129   F-statistic:                    43.960\n",
      "Date:                Fri, Apr 19 2024   P-value (F-stat)                0.0000\n",
      "Time:                        17:01:35   Distribution:                  chi2(1)\n",
      "Cov. Estimator:                robust                                         \n",
      "                                                                              \n",
      "                             Parameter Estimates                              \n",
      "==============================================================================\n",
      "            Parameter  Std. Err.     T-stat    P-value    Lower CI    Upper CI\n",
      "------------------------------------------------------------------------------\n",
      "Intercept      4.5163     0.2763     16.345     0.0000      3.9748      5.0579\n",
      "educ          -0.1397     0.0211    -6.6302     0.0000     -0.1810     -0.0984\n",
      "==============================================================================\n"
     ]
    }
   ],
   "source": [
    "m1 = OLS.from_formula(\"kids ~ educ\", data=df).fit()\n",
    "print(m1)"
   ]
  },
  {
   "cell_type": "markdown",
   "metadata": {},
   "source": [
    "\n",
    "### 兴建焚化炉对房价的影响\n",
    "\n",
    "《导论》 例13.3，计算兴建焚化炉对住房价格的影响"
   ]
  },
  {
   "cell_type": "code",
   "execution_count": 93,
   "metadata": {},
   "outputs": [
    {
     "data": {
      "text/html": [
       "<div>\n",
       "<style scoped>\n",
       "    .dataframe tbody tr th:only-of-type {\n",
       "        vertical-align: middle;\n",
       "    }\n",
       "\n",
       "    .dataframe tbody tr th {\n",
       "        vertical-align: top;\n",
       "    }\n",
       "\n",
       "    .dataframe thead th {\n",
       "        text-align: right;\n",
       "    }\n",
       "</style>\n",
       "<table border=\"1\" class=\"dataframe\">\n",
       "  <thead>\n",
       "    <tr style=\"text-align: right;\">\n",
       "      <th></th>\n",
       "      <th>year</th>\n",
       "      <th>age</th>\n",
       "      <th>agesq</th>\n",
       "      <th>nbh</th>\n",
       "      <th>cbd</th>\n",
       "      <th>intst</th>\n",
       "      <th>lintst</th>\n",
       "      <th>price</th>\n",
       "      <th>rooms</th>\n",
       "      <th>area</th>\n",
       "      <th>...</th>\n",
       "      <th>lprice</th>\n",
       "      <th>y81</th>\n",
       "      <th>larea</th>\n",
       "      <th>lland</th>\n",
       "      <th>y81ldist</th>\n",
       "      <th>lintstsq</th>\n",
       "      <th>nearinc</th>\n",
       "      <th>y81nrinc</th>\n",
       "      <th>rprice</th>\n",
       "      <th>lrprice</th>\n",
       "    </tr>\n",
       "  </thead>\n",
       "  <tbody>\n",
       "    <tr>\n",
       "      <th>0</th>\n",
       "      <td>1978</td>\n",
       "      <td>48</td>\n",
       "      <td>2304.0</td>\n",
       "      <td>4</td>\n",
       "      <td>3000.0</td>\n",
       "      <td>1000.0</td>\n",
       "      <td>6.9078</td>\n",
       "      <td>60000.0</td>\n",
       "      <td>7</td>\n",
       "      <td>1660</td>\n",
       "      <td>...</td>\n",
       "      <td>11.002100</td>\n",
       "      <td>0</td>\n",
       "      <td>7.414573</td>\n",
       "      <td>8.429017</td>\n",
       "      <td>0.0</td>\n",
       "      <td>47.717705</td>\n",
       "      <td>1</td>\n",
       "      <td>0</td>\n",
       "      <td>60000.0</td>\n",
       "      <td>11.002100</td>\n",
       "    </tr>\n",
       "    <tr>\n",
       "      <th>1</th>\n",
       "      <td>1978</td>\n",
       "      <td>83</td>\n",
       "      <td>6889.0</td>\n",
       "      <td>4</td>\n",
       "      <td>4000.0</td>\n",
       "      <td>1000.0</td>\n",
       "      <td>6.9078</td>\n",
       "      <td>40000.0</td>\n",
       "      <td>6</td>\n",
       "      <td>2612</td>\n",
       "      <td>...</td>\n",
       "      <td>10.596635</td>\n",
       "      <td>0</td>\n",
       "      <td>7.867871</td>\n",
       "      <td>9.032409</td>\n",
       "      <td>0.0</td>\n",
       "      <td>47.717705</td>\n",
       "      <td>1</td>\n",
       "      <td>0</td>\n",
       "      <td>40000.0</td>\n",
       "      <td>10.596635</td>\n",
       "    </tr>\n",
       "    <tr>\n",
       "      <th>2</th>\n",
       "      <td>1978</td>\n",
       "      <td>58</td>\n",
       "      <td>3364.0</td>\n",
       "      <td>4</td>\n",
       "      <td>4000.0</td>\n",
       "      <td>1000.0</td>\n",
       "      <td>6.9078</td>\n",
       "      <td>34000.0</td>\n",
       "      <td>6</td>\n",
       "      <td>1144</td>\n",
       "      <td>...</td>\n",
       "      <td>10.434115</td>\n",
       "      <td>0</td>\n",
       "      <td>7.042286</td>\n",
       "      <td>8.517193</td>\n",
       "      <td>0.0</td>\n",
       "      <td>47.717705</td>\n",
       "      <td>1</td>\n",
       "      <td>0</td>\n",
       "      <td>34000.0</td>\n",
       "      <td>10.434115</td>\n",
       "    </tr>\n",
       "    <tr>\n",
       "      <th>3</th>\n",
       "      <td>1978</td>\n",
       "      <td>11</td>\n",
       "      <td>121.0</td>\n",
       "      <td>4</td>\n",
       "      <td>4000.0</td>\n",
       "      <td>1000.0</td>\n",
       "      <td>6.9078</td>\n",
       "      <td>63900.0</td>\n",
       "      <td>5</td>\n",
       "      <td>1136</td>\n",
       "      <td>...</td>\n",
       "      <td>11.065075</td>\n",
       "      <td>0</td>\n",
       "      <td>7.035269</td>\n",
       "      <td>9.210340</td>\n",
       "      <td>0.0</td>\n",
       "      <td>47.717705</td>\n",
       "      <td>1</td>\n",
       "      <td>0</td>\n",
       "      <td>63900.0</td>\n",
       "      <td>11.065075</td>\n",
       "    </tr>\n",
       "    <tr>\n",
       "      <th>4</th>\n",
       "      <td>1978</td>\n",
       "      <td>48</td>\n",
       "      <td>2304.0</td>\n",
       "      <td>4</td>\n",
       "      <td>4000.0</td>\n",
       "      <td>2000.0</td>\n",
       "      <td>7.6009</td>\n",
       "      <td>44000.0</td>\n",
       "      <td>5</td>\n",
       "      <td>1868</td>\n",
       "      <td>...</td>\n",
       "      <td>10.691945</td>\n",
       "      <td>0</td>\n",
       "      <td>7.532624</td>\n",
       "      <td>9.210340</td>\n",
       "      <td>0.0</td>\n",
       "      <td>57.773682</td>\n",
       "      <td>1</td>\n",
       "      <td>0</td>\n",
       "      <td>44000.0</td>\n",
       "      <td>10.691945</td>\n",
       "    </tr>\n",
       "  </tbody>\n",
       "</table>\n",
       "<p>5 rows × 25 columns</p>\n",
       "</div>"
      ],
      "text/plain": [
       "   year  age   agesq  nbh     cbd   intst  lintst    price  rooms  area  ...  \\\n",
       "0  1978   48  2304.0    4  3000.0  1000.0  6.9078  60000.0      7  1660  ...   \n",
       "1  1978   83  6889.0    4  4000.0  1000.0  6.9078  40000.0      6  2612  ...   \n",
       "2  1978   58  3364.0    4  4000.0  1000.0  6.9078  34000.0      6  1144  ...   \n",
       "3  1978   11   121.0    4  4000.0  1000.0  6.9078  63900.0      5  1136  ...   \n",
       "4  1978   48  2304.0    4  4000.0  2000.0  7.6009  44000.0      5  1868  ...   \n",
       "\n",
       "      lprice  y81     larea     lland  y81ldist   lintstsq  nearinc  y81nrinc  \\\n",
       "0  11.002100    0  7.414573  8.429017       0.0  47.717705        1         0   \n",
       "1  10.596635    0  7.867871  9.032409       0.0  47.717705        1         0   \n",
       "2  10.434115    0  7.042286  8.517193       0.0  47.717705        1         0   \n",
       "3  11.065075    0  7.035269  9.210340       0.0  47.717705        1         0   \n",
       "4  10.691945    0  7.532624  9.210340       0.0  57.773682        1         0   \n",
       "\n",
       "    rprice    lrprice  \n",
       "0  60000.0  11.002100  \n",
       "1  40000.0  10.596635  \n",
       "2  34000.0  10.434115  \n",
       "3  63900.0  11.065075  \n",
       "4  44000.0  10.691945  \n",
       "\n",
       "[5 rows x 25 columns]"
      ]
     },
     "execution_count": 93,
     "metadata": {},
     "output_type": "execute_result"
    }
   ],
   "source": [
    "df = pd.read_csv(\"https://www.meyerperin.com/econometrics-python/data/kielmc.csv\")\n",
    "df.head()"
   ]
  },
  {
   "cell_type": "code",
   "execution_count": null,
   "metadata": {},
   "outputs": [],
   "source": [
    "pd.read_csv(\"https://www.meyerperin.com/econometrics-python/data/kielmc_info.csv\")"
   ]
  },
  {
   "cell_type": "markdown",
   "metadata": {},
   "source": [
    "只使用81年的数据，进行一个天真的回归"
   ]
  },
  {
   "cell_type": "code",
   "execution_count": null,
   "metadata": {},
   "outputs": [],
   "source": [
    "m1 = OLS.from_formula(\"rprice ~ nearinc\", data=df.query(\"y81==1\")).fit(\n",
    "    cov_type=\"unadjusted\"\n",
    ")\n",
    "print(m1)"
   ]
  },
  {
   "cell_type": "markdown",
   "metadata": {},
   "source": [
    "可见，越接近焚化炉，房屋售价越低。这是否证明房屋被焚化炉影响了？\n",
    "\n",
    "我们对81年之前的数据进行回归"
   ]
  },
  {
   "cell_type": "code",
   "execution_count": null,
   "metadata": {},
   "outputs": [],
   "source": [
    "m2 = OLS.from_formula(\"rprice ~ nearinc\", data=df.query(\"y81==0\")).fit(\n",
    "    cov_type=\"unadjusted\"\n",
    ")\n",
    "print(m2)"
   ]
  },
  {
   "cell_type": "markdown",
   "metadata": {},
   "source": [
    "可见没有焚化炉传闻时，这个地方的房价本来就低于周边。或者说，焚化炉可能故意选择一个房价最低的地方来建立。\n",
    "\n",
    "那么如何识别焚化炉对这个地区放假的影响？\n",
    "\n",
    "做个简单的DID，复原《导论》的表13.2"
   ]
  },
  {
   "cell_type": "code",
   "execution_count": null,
   "metadata": {},
   "outputs": [],
   "source": [
    "m3 = OLS.from_formula(\"rprice ~ y81 + nearinc + y81*nearinc\", data=df).fit(\n",
    "    cov_type=\"unadjusted\"\n",
    ")\n",
    "# print(m3)"
   ]
  },
  {
   "cell_type": "code",
   "execution_count": null,
   "metadata": {},
   "outputs": [],
   "source": [
    "m4 = OLS.from_formula(\n",
    "    \"rprice ~ y81 + nearinc + y81*nearinc + age + agesq\", data=df\n",
    ").fit(cov_type=\"unadjusted\")\n",
    "# print(m4)"
   ]
  },
  {
   "cell_type": "code",
   "execution_count": null,
   "metadata": {},
   "outputs": [],
   "source": [
    "m5 = OLS.from_formula(\n",
    "    \"rprice ~ y81 + nearinc + y81*nearinc + age + agesq + intst + land + area + rooms + baths\",\n",
    "    data=df,\n",
    ").fit(cov_type=\"unadjusted\")\n",
    "#  print(m5)"
   ]
  },
  {
   "cell_type": "markdown",
   "metadata": {},
   "source": [
    "和原表13.2有轻微出入，但没有实质性差异"
   ]
  },
  {
   "cell_type": "code",
   "execution_count": null,
   "metadata": {},
   "outputs": [],
   "source": [
    "print(compare([m3, m4, m5], stars=True))"
   ]
  },
  {
   "cell_type": "markdown",
   "metadata": {},
   "source": [
    "## 面板数据\n",
    "\n",
    "面板数据：对同一组个体进行多期的观察。使用面板数据可以处理不随时间变化的非观测相应（即可以切掉一些遗漏变量：不随时间变化的、不可观测的个体特征）。"
   ]
  },
  {
   "cell_type": "markdown",
   "metadata": {},
   "source": [
    "### 差分法\n",
    "\n",
    "\n",
    "\n",
    "\n",
    "\n",
    "\n"
   ]
  },
  {
   "cell_type": "code",
   "execution_count": 94,
   "metadata": {},
   "outputs": [
    {
     "data": {
      "text/html": [
       "<div>\n",
       "<style scoped>\n",
       "    .dataframe tbody tr th:only-of-type {\n",
       "        vertical-align: middle;\n",
       "    }\n",
       "\n",
       "    .dataframe tbody tr th {\n",
       "        vertical-align: top;\n",
       "    }\n",
       "\n",
       "    .dataframe thead th {\n",
       "        text-align: right;\n",
       "    }\n",
       "</style>\n",
       "<table border=\"1\" class=\"dataframe\">\n",
       "  <thead>\n",
       "    <tr style=\"text-align: right;\">\n",
       "      <th></th>\n",
       "      <th>pop</th>\n",
       "      <th>crimes</th>\n",
       "      <th>unem</th>\n",
       "      <th>officers</th>\n",
       "      <th>pcinc</th>\n",
       "      <th>west</th>\n",
       "      <th>nrtheast</th>\n",
       "      <th>south</th>\n",
       "      <th>year</th>\n",
       "      <th>area</th>\n",
       "      <th>...</th>\n",
       "      <th>clcrimes</th>\n",
       "      <th>clpop</th>\n",
       "      <th>clcrmrte</th>\n",
       "      <th>lpolpc</th>\n",
       "      <th>clpolpc</th>\n",
       "      <th>cllawexp</th>\n",
       "      <th>cunem</th>\n",
       "      <th>clpopden</th>\n",
       "      <th>lcrmrt_1</th>\n",
       "      <th>ccrmrte</th>\n",
       "    </tr>\n",
       "  </thead>\n",
       "  <tbody>\n",
       "    <tr>\n",
       "      <th>0</th>\n",
       "      <td>229528.0</td>\n",
       "      <td>17136.0</td>\n",
       "      <td>8.2</td>\n",
       "      <td>326</td>\n",
       "      <td>8532</td>\n",
       "      <td>1</td>\n",
       "      <td>0</td>\n",
       "      <td>0</td>\n",
       "      <td>82</td>\n",
       "      <td>44.599998</td>\n",
       "      <td>...</td>\n",
       "      <td>NaN</td>\n",
       "      <td>NaN</td>\n",
       "      <td>NaN</td>\n",
       "      <td>0.350872</td>\n",
       "      <td>NaN</td>\n",
       "      <td>NaN</td>\n",
       "      <td>NaN</td>\n",
       "      <td>NaN</td>\n",
       "      <td>NaN</td>\n",
       "      <td>NaN</td>\n",
       "    </tr>\n",
       "    <tr>\n",
       "      <th>1</th>\n",
       "      <td>246815.0</td>\n",
       "      <td>17306.0</td>\n",
       "      <td>3.7</td>\n",
       "      <td>321</td>\n",
       "      <td>12155</td>\n",
       "      <td>1</td>\n",
       "      <td>0</td>\n",
       "      <td>0</td>\n",
       "      <td>87</td>\n",
       "      <td>44.599998</td>\n",
       "      <td>...</td>\n",
       "      <td>0.009871</td>\n",
       "      <td>0.072614</td>\n",
       "      <td>-0.062743</td>\n",
       "      <td>0.262802</td>\n",
       "      <td>-0.08807</td>\n",
       "      <td>0.977952</td>\n",
       "      <td>-4.5</td>\n",
       "      <td>0.072615</td>\n",
       "      <td>4.312912</td>\n",
       "      <td>-4.540268</td>\n",
       "    </tr>\n",
       "    <tr>\n",
       "      <th>2</th>\n",
       "      <td>814054.0</td>\n",
       "      <td>75654.0</td>\n",
       "      <td>8.1</td>\n",
       "      <td>1621</td>\n",
       "      <td>7551</td>\n",
       "      <td>1</td>\n",
       "      <td>0</td>\n",
       "      <td>0</td>\n",
       "      <td>82</td>\n",
       "      <td>375.000000</td>\n",
       "      <td>...</td>\n",
       "      <td>NaN</td>\n",
       "      <td>NaN</td>\n",
       "      <td>NaN</td>\n",
       "      <td>0.688772</td>\n",
       "      <td>NaN</td>\n",
       "      <td>NaN</td>\n",
       "      <td>NaN</td>\n",
       "      <td>NaN</td>\n",
       "      <td>NaN</td>\n",
       "      <td>NaN</td>\n",
       "    </tr>\n",
       "    <tr>\n",
       "      <th>3</th>\n",
       "      <td>933177.0</td>\n",
       "      <td>83960.0</td>\n",
       "      <td>5.4</td>\n",
       "      <td>1803</td>\n",
       "      <td>11363</td>\n",
       "      <td>1</td>\n",
       "      <td>0</td>\n",
       "      <td>0</td>\n",
       "      <td>87</td>\n",
       "      <td>375.000000</td>\n",
       "      <td>...</td>\n",
       "      <td>0.104170</td>\n",
       "      <td>0.136568</td>\n",
       "      <td>-0.032398</td>\n",
       "      <td>0.658612</td>\n",
       "      <td>-0.03016</td>\n",
       "      <td>0.200762</td>\n",
       "      <td>-2.7</td>\n",
       "      <td>0.136568</td>\n",
       "      <td>4.531899</td>\n",
       "      <td>-2.962654</td>\n",
       "    </tr>\n",
       "    <tr>\n",
       "      <th>4</th>\n",
       "      <td>374974.0</td>\n",
       "      <td>31352.0</td>\n",
       "      <td>9.0</td>\n",
       "      <td>633</td>\n",
       "      <td>8343</td>\n",
       "      <td>1</td>\n",
       "      <td>0</td>\n",
       "      <td>0</td>\n",
       "      <td>82</td>\n",
       "      <td>49.799999</td>\n",
       "      <td>...</td>\n",
       "      <td>NaN</td>\n",
       "      <td>NaN</td>\n",
       "      <td>NaN</td>\n",
       "      <td>0.523614</td>\n",
       "      <td>NaN</td>\n",
       "      <td>NaN</td>\n",
       "      <td>NaN</td>\n",
       "      <td>NaN</td>\n",
       "      <td>NaN</td>\n",
       "      <td>NaN</td>\n",
       "    </tr>\n",
       "  </tbody>\n",
       "</table>\n",
       "<p>5 rows × 34 columns</p>\n",
       "</div>"
      ],
      "text/plain": [
       "        pop   crimes  unem  officers  pcinc  west  nrtheast  south  year  \\\n",
       "0  229528.0  17136.0   8.2       326   8532     1         0      0    82   \n",
       "1  246815.0  17306.0   3.7       321  12155     1         0      0    87   \n",
       "2  814054.0  75654.0   8.1      1621   7551     1         0      0    82   \n",
       "3  933177.0  83960.0   5.4      1803  11363     1         0      0    87   \n",
       "4  374974.0  31352.0   9.0       633   8343     1         0      0    82   \n",
       "\n",
       "         area  ...  clcrimes     clpop  clcrmrte    lpolpc  clpolpc  cllawexp  \\\n",
       "0   44.599998  ...       NaN       NaN       NaN  0.350872      NaN       NaN   \n",
       "1   44.599998  ...  0.009871  0.072614 -0.062743  0.262802 -0.08807  0.977952   \n",
       "2  375.000000  ...       NaN       NaN       NaN  0.688772      NaN       NaN   \n",
       "3  375.000000  ...  0.104170  0.136568 -0.032398  0.658612 -0.03016  0.200762   \n",
       "4   49.799999  ...       NaN       NaN       NaN  0.523614      NaN       NaN   \n",
       "\n",
       "   cunem  clpopden  lcrmrt_1   ccrmrte  \n",
       "0    NaN       NaN       NaN       NaN  \n",
       "1   -4.5  0.072615  4.312912 -4.540268  \n",
       "2    NaN       NaN       NaN       NaN  \n",
       "3   -2.7  0.136568  4.531899 -2.962654  \n",
       "4    NaN       NaN       NaN       NaN  \n",
       "\n",
       "[5 rows x 34 columns]"
      ]
     },
     "execution_count": 94,
     "metadata": {},
     "output_type": "execute_result"
    }
   ],
   "source": [
    "df = pd.read_csv(\"https://www.meyerperin.com/econometrics-python/data/crime2.csv\")\n",
    "df.head()"
   ]
  },
  {
   "cell_type": "code",
   "execution_count": null,
   "metadata": {},
   "outputs": [],
   "source": []
  },
  {
   "cell_type": "markdown",
   "metadata": {},
   "source": [
    "### 其他例子"
   ]
  },
  {
   "cell_type": "code",
   "execution_count": null,
   "metadata": {},
   "outputs": [],
   "source": [
    "import pandas as pd\n",
    "from linearmodels.datasets import wage_panel\n",
    "\n",
    "data = wage_panel.load()\n",
    "year = pd.Categorical(data.year)\n",
    "data = data.set_index([\"nr\", \"year\"])\n",
    "data[\"year\"] = year\n",
    "print(wage_panel.DESCR)\n",
    "data.head()"
   ]
  },
  {
   "cell_type": "code",
   "execution_count": null,
   "metadata": {},
   "outputs": [],
   "source": [
    "data.info()"
   ]
  },
  {
   "cell_type": "markdown",
   "metadata": {},
   "source": [
    "不考虑个体相应（不管个体在不同的年份是否相同），我们可以进行混合截面回归， PooledOLS"
   ]
  },
  {
   "cell_type": "code",
   "execution_count": null,
   "metadata": {},
   "outputs": [],
   "source": [
    "import statsmodels.api as sm\n",
    "from linearmodels.panel import PooledOLS\n",
    "\n",
    "exog_vars = [\"black\", \"hisp\", \"exper\", \"expersq\", \"married\", \"educ\", \"union\", \"year\"]\n",
    "exog = sm.add_constant(data[exog_vars])\n",
    "mod = PooledOLS(data.lwage, exog)\n",
    "pooled_res = mod.fit()\n",
    "print(pooled_res)"
   ]
  },
  {
   "cell_type": "code",
   "execution_count": null,
   "metadata": {},
   "outputs": [],
   "source": [
    "import statsmodels.api as sm\n",
    "from linearmodels.panel import PooledOLS\n",
    "\n",
    "exog_vars = [\"black\", \"hisp\", \"exper\", \"expersq\", \"married\", \"educ\", \"union\", \"year\"]\n",
    "exog = sm.add_constant(data[exog_vars])\n",
    "mod = PooledOLS(data.lwage, exog)\n",
    "pooled_res = mod.fit()\n",
    "print(pooled_res)"
   ]
  },
  {
   "cell_type": "markdown",
   "metadata": {},
   "source": [
    "固定效应模型\n"
   ]
  },
  {
   "cell_type": "code",
   "execution_count": null,
   "metadata": {},
   "outputs": [],
   "source": [
    "from linearmodels.panel import PanelOLS\n",
    "\n",
    "exog_vars = [\"expersq\", \"union\", \"married\", \"year\"]\n",
    "exog = sm.add_constant(data[exog_vars])\n",
    "mod = PanelOLS(data.lwage, exog, entity_effects=True)\n",
    "fe_res = mod.fit()\n",
    "print(fe_res)"
   ]
  },
  {
   "cell_type": "code",
   "execution_count": null,
   "metadata": {},
   "outputs": [],
   "source": [
    "exog_vars = [\"expersq\", \"union\", \"married\"]\n",
    "exog = sm.add_constant(data[exog_vars])\n",
    "mod = PanelOLS(data.lwage, exog, entity_effects=True, time_effects=True)\n",
    "fe_te_res = mod.fit()\n",
    "print(fe_te_res)"
   ]
  },
  {
   "cell_type": "code",
   "execution_count": null,
   "metadata": {},
   "outputs": [],
   "source": [
    "from linearmodels.panel.data import PanelData\n",
    "\n",
    "exog_vars = [\"expersq\", \"union\", \"married\"]\n",
    "exog = sm.add_constant(data[exog_vars])\n",
    "# Use the `PanelData` structure to simplify constructing the time IDs\n",
    "time_ids = pd.DataFrame(\n",
    "    PanelData(data.lwage).time_ids, index=data.index, columns=[\"Other Effect\"]\n",
    ")\n",
    "\n",
    "mod = PanelOLS(data.lwage, exog, entity_effects=True, other_effects=time_ids)\n",
    "fe_oe_res = mod.fit()\n",
    "print(fe_oe_res)"
   ]
  },
  {
   "cell_type": "code",
   "execution_count": null,
   "metadata": {},
   "outputs": [],
   "source": [
    "from statsmodels.datasets import grunfeld\n",
    "\n",
    "data = grunfeld.load_pandas().data\n",
    "data.head()"
   ]
  },
  {
   "cell_type": "code",
   "execution_count": null,
   "metadata": {},
   "outputs": [],
   "source": [
    "data = data.set_index([\"firm\", \"year\"])\n",
    "data.head()"
   ]
  },
  {
   "cell_type": "code",
   "execution_count": null,
   "metadata": {},
   "outputs": [],
   "source": [
    "from linearmodels import PanelOLS\n",
    "\n",
    "mod = PanelOLS.from_formula(\"invest ~ value + capital + EntityEffects\", data=data)\n",
    "print(mod.fit())"
   ]
  },
  {
   "cell_type": "code",
   "execution_count": null,
   "metadata": {},
   "outputs": [],
   "source": [
    "mod = PanelOLS.from_formula(\n",
    "    \"invest ~ 1 + value + capital + EntityEffects + TimeEffects\", data=data\n",
    ")\n",
    "print(mod.fit())"
   ]
  }
 ],
 "metadata": {
  "kernelspec": {
   "display_name": "base",
   "language": "python",
   "name": "python3"
  },
  "language_info": {
   "codemirror_mode": {
    "name": "ipython",
    "version": 3
   },
   "file_extension": ".py",
   "mimetype": "text/x-python",
   "name": "python",
   "nbconvert_exporter": "python",
   "pygments_lexer": "ipython3",
   "version": "3.11.5"
  }
 },
 "nbformat": 4,
 "nbformat_minor": 2
}
