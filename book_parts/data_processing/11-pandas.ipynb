{
  "cells": [
    {
      "cell_type": "markdown",
      "metadata": {},
      "source": [
        "::: {.callout-note}\n",
        "主要内容：\n",
        "\n",
        "1. DataFrame结构和创建\n",
        "2. 数据读取和列类型\n",
        "3. 行和列的选择与运算\n",
        "4. 值修改和数据清洗、数据合并\n",
        "5. 统计、分组和聚合\n",
        "6. 时间序列的部分操作\n",
        "7. 保存\n",
        ":::"
      ]
    },
    {
      "cell_type": "markdown",
      "metadata": {},
      "source": [
        "# Pandas：二维数据处理\n",
        "\n",
        "## 前置: Jupyter Notebook\n",
        "\n",
        "`.py`是Python的源代码文件。这里采用另一种文件，更加常用于数据分析：Jupyter Notebook，`.ipynb`。\n",
        "\n",
        "Why：单元格的输出，会直接显示在单元格的下方，比较方便看。但用起来和单元格分割的`.py`类似。\n",
        "\n",
        "新建文件，扩展名改为`.ipynb`即可。\n",
        "\n",
        "常见的分工：`.ipynb`写数据分析的过程；`.py`保存共用的代码，作为模块在`ipynb`中导入。\n",
        "\n",
        "每个单元格可以是代码，也可以Markdown格式的文本。单元个的右下角可以选择。\n",
        "\n",
        "“文本”的单元格，ctrl+enter可以看渲染的结果，双击可以回到编辑。\n",
        "\n",
        "\n",
        "## 数据基本结构\n",
        "\n",
        "Pandas处理二维表格，其中的DataFrame对象几乎可以理解为一个Excel表：有行、列、题头等等。\n",
        "\n",
        "DataFrame可以视为是“按列”组织的：n个列的横向并排：每个列是一个Series对象。\n",
        "\n",
        "一个Series表示“一列”，每个Series对象又有两个部件组成，索引index和值values，其中的值values，\n",
        "是一个numpy的ndarray。\n",
        "\n",
        "反过来，一个数据序列ndarray和一个与数据等长的索引index，组成一个列Series，多个Series横向合并，组成一个DataFrame。\n",
        "\n",
        "(index + ndarray) -> Series\n",
        "\n",
        "(index + Series + Series + ...) -> DataFrame\n",
        "\n",
        "![](images/df-dp.png)"
      ]
    },
    {
      "cell_type": "code",
      "execution_count": 1,
      "metadata": {},
      "outputs": [
        {
          "data": {
            "text/html": [
              "<div>\n",
              "<style scoped>\n",
              "    .dataframe tbody tr th:only-of-type {\n",
              "        vertical-align: middle;\n",
              "    }\n",
              "\n",
              "    .dataframe tbody tr th {\n",
              "        vertical-align: top;\n",
              "    }\n",
              "\n",
              "    .dataframe thead th {\n",
              "        text-align: right;\n",
              "    }\n",
              "</style>\n",
              "<table border=\"1\" class=\"dataframe\">\n",
              "  <thead>\n",
              "    <tr style=\"text-align: right;\">\n",
              "      <th></th>\n",
              "      <th>id</th>\n",
              "      <th>name</th>\n",
              "    </tr>\n",
              "  </thead>\n",
              "  <tbody>\n",
              "    <tr>\n",
              "      <th>0</th>\n",
              "      <td>1</td>\n",
              "      <td>a</td>\n",
              "    </tr>\n",
              "    <tr>\n",
              "      <th>1</th>\n",
              "      <td>2</td>\n",
              "      <td>b</td>\n",
              "    </tr>\n",
              "    <tr>\n",
              "      <th>2</th>\n",
              "      <td>3</td>\n",
              "      <td>c</td>\n",
              "    </tr>\n",
              "  </tbody>\n",
              "</table>\n",
              "</div>"
            ],
            "text/plain": [
              "   id name\n",
              "0   1    a\n",
              "1   2    b\n",
              "2   3    c"
            ]
          },
          "execution_count": 1,
          "metadata": {},
          "output_type": "execute_result"
        }
      ],
      "source": [
        "# 惯例导入2个模块\n",
        "import pandas as pd\n",
        "import numpy as np\n",
        "\n",
        "# 从字典创建，后面会详述\n",
        "df = pd.DataFrame(dict(id=[1, 2, 3], name=[\"a\", \"b\", \"c\"]))\n",
        "\n",
        "df"
      ]
    },
    {
      "cell_type": "code",
      "execution_count": 2,
      "metadata": {},
      "outputs": [
        {
          "name": "stdout",
          "output_type": "stream",
          "text": [
            "0    a\n",
            "1    b\n",
            "2    c\n",
            "Name: name, dtype: object\n",
            "<class 'pandas.core.series.Series'>\n"
          ]
        }
      ],
      "source": [
        "# 取某一列：得到一个Series，注意Series由index和value组成\n",
        "x = df[\"name\"]\n",
        "print(x)\n",
        "print(type(x))"
      ]
    },
    {
      "cell_type": "code",
      "execution_count": 3,
      "metadata": {},
      "outputs": [
        {
          "name": "stdout",
          "output_type": "stream",
          "text": [
            "RangeIndex(start=0, stop=3, step=1)\n",
            "<class 'pandas.core.indexes.range.RangeIndex'>\n"
          ]
        }
      ],
      "source": [
        "# x的index\n",
        "print(x.index)\n",
        "print(type(x.index))"
      ]
    },
    {
      "cell_type": "code",
      "execution_count": 4,
      "metadata": {},
      "outputs": [
        {
          "name": "stdout",
          "output_type": "stream",
          "text": [
            "['a' 'b' 'c']\n",
            "<class 'numpy.ndarray'>\n"
          ]
        }
      ],
      "source": [
        "# x的value\n",
        "print(x.values)\n",
        "print(type(x.values))  # 是一个ndarray"
      ]
    },
    {
      "cell_type": "markdown",
      "metadata": {},
      "source": [
        "## Series的创建"
      ]
    },
    {
      "cell_type": "markdown",
      "metadata": {},
      "source": [
        "Series可以视为二维表格的一列。我们先用`pd.Series()`函数构建"
      ]
    },
    {
      "cell_type": "code",
      "execution_count": 5,
      "metadata": {},
      "outputs": [
        {
          "data": {
            "text/plain": [
              "0    a\n",
              "1    b\n",
              "2    c\n",
              "3    d\n",
              "dtype: object"
            ]
          },
          "execution_count": 5,
          "metadata": {},
          "output_type": "execute_result"
        }
      ],
      "source": [
        "# 使用pd.Series构建一列，参数可以是一个序列结构，比如一个List\n",
        "x = pd.Series([\"a\", \"b\", \"c\", \"d\"])\n",
        "x"
      ]
    },
    {
      "cell_type": "markdown",
      "metadata": {},
      "source": [
        "此时默认的index（看左侧）是从0开始的整数，并且这一列没有名称。我们可以用索引访问Series中的值。"
      ]
    },
    {
      "cell_type": "code",
      "execution_count": 6,
      "metadata": {},
      "outputs": [
        {
          "data": {
            "text/plain": [
              "'c'"
            ]
          },
          "execution_count": 6,
          "metadata": {},
          "output_type": "execute_result"
        }
      ],
      "source": [
        "x[2]  # 注意2指的是index"
      ]
    },
    {
      "cell_type": "code",
      "execution_count": 7,
      "metadata": {},
      "outputs": [
        {
          "data": {
            "text/plain": [
              "0     a\n",
              "1     b\n",
              "2    99\n",
              "3     d\n",
              "dtype: object"
            ]
          },
          "execution_count": 7,
          "metadata": {},
          "output_type": "execute_result"
        }
      ],
      "source": [
        "# 当然也可以写入\n",
        "x[2] = 99\n",
        "x"
      ]
    },
    {
      "cell_type": "markdown",
      "metadata": {},
      "source": [
        "创建的时候可以指定index和name，name后面会成为DataFrame（二维表格，即多个列Series的横向合并）中这一列的标题。"
      ]
    },
    {
      "cell_type": "code",
      "execution_count": 8,
      "metadata": {},
      "outputs": [
        {
          "name": "stdout",
          "output_type": "stream",
          "text": [
            "Alice      85\n",
            "Bob        92\n",
            "Charlie    78\n",
            "David      90\n",
            "Name: score, dtype: int64\n",
            "Alice的分数是: 85\n"
          ]
        }
      ],
      "source": [
        "# 创建一个简单的 Series，指定index和name\n",
        "grades = pd.Series(\n",
        "    [85, 92, 78, 90], index=[\"Alice\", \"Bob\", \"Charlie\", \"David\"], name=\"score\"\n",
        ")\n",
        "\n",
        "# 打印 Series\n",
        "print(grades)\n",
        "\n",
        "# 通过索引获取数据\n",
        "print(\"Alice的分数是:\", grades[\"Alice\"])"
      ]
    },
    {
      "cell_type": "markdown",
      "metadata": {},
      "source": [
        "## DataFrame的创建"
      ]
    },
    {
      "cell_type": "code",
      "execution_count": 9,
      "metadata": {},
      "outputs": [
        {
          "name": "stdout",
          "output_type": "stream",
          "text": [
            "[8 6 4 2]\n"
          ]
        },
        {
          "data": {
            "text/html": [
              "<div>\n",
              "<style scoped>\n",
              "    .dataframe tbody tr th:only-of-type {\n",
              "        vertical-align: middle;\n",
              "    }\n",
              "\n",
              "    .dataframe tbody tr th {\n",
              "        vertical-align: top;\n",
              "    }\n",
              "\n",
              "    .dataframe thead th {\n",
              "        text-align: right;\n",
              "    }\n",
              "</style>\n",
              "<table border=\"1\" class=\"dataframe\">\n",
              "  <thead>\n",
              "    <tr style=\"text-align: right;\">\n",
              "      <th></th>\n",
              "      <th>0</th>\n",
              "    </tr>\n",
              "  </thead>\n",
              "  <tbody>\n",
              "    <tr>\n",
              "      <th>0</th>\n",
              "      <td>8</td>\n",
              "    </tr>\n",
              "    <tr>\n",
              "      <th>1</th>\n",
              "      <td>6</td>\n",
              "    </tr>\n",
              "    <tr>\n",
              "      <th>2</th>\n",
              "      <td>4</td>\n",
              "    </tr>\n",
              "    <tr>\n",
              "      <th>3</th>\n",
              "      <td>2</td>\n",
              "    </tr>\n",
              "  </tbody>\n",
              "</table>\n",
              "</div>"
            ],
            "text/plain": [
              "   0\n",
              "0  8\n",
              "1  6\n",
              "2  4\n",
              "3  2"
            ]
          },
          "execution_count": 9,
          "metadata": {},
          "output_type": "execute_result"
        }
      ],
      "source": [
        "# 从ndarray或者list创建\n",
        "\n",
        "a = np.array([8, 6, 4, 2])\n",
        "print(a)\n",
        "\n",
        "df1 = pd.DataFrame(a)\n",
        "df1"
      ]
    },
    {
      "cell_type": "code",
      "execution_count": 10,
      "metadata": {},
      "outputs": [
        {
          "name": "stdout",
          "output_type": "stream",
          "text": [
            "['a', 'p', 'p', 'l', 'e']\n"
          ]
        },
        {
          "data": {
            "text/html": [
              "<div>\n",
              "<style scoped>\n",
              "    .dataframe tbody tr th:only-of-type {\n",
              "        vertical-align: middle;\n",
              "    }\n",
              "\n",
              "    .dataframe tbody tr th {\n",
              "        vertical-align: top;\n",
              "    }\n",
              "\n",
              "    .dataframe thead th {\n",
              "        text-align: right;\n",
              "    }\n",
              "</style>\n",
              "<table border=\"1\" class=\"dataframe\">\n",
              "  <thead>\n",
              "    <tr style=\"text-align: right;\">\n",
              "      <th></th>\n",
              "      <th>B</th>\n",
              "    </tr>\n",
              "  </thead>\n",
              "  <tbody>\n",
              "    <tr>\n",
              "      <th>a</th>\n",
              "      <td>a</td>\n",
              "    </tr>\n",
              "    <tr>\n",
              "      <th>b</th>\n",
              "      <td>p</td>\n",
              "    </tr>\n",
              "    <tr>\n",
              "      <th>c</th>\n",
              "      <td>p</td>\n",
              "    </tr>\n",
              "    <tr>\n",
              "      <th>d</th>\n",
              "      <td>l</td>\n",
              "    </tr>\n",
              "    <tr>\n",
              "      <th>e</th>\n",
              "      <td>e</td>\n",
              "    </tr>\n",
              "  </tbody>\n",
              "</table>\n",
              "</div>"
            ],
            "text/plain": [
              "   B\n",
              "a  a\n",
              "b  p\n",
              "c  p\n",
              "d  l\n",
              "e  e"
            ]
          },
          "execution_count": 10,
          "metadata": {},
          "output_type": "execute_result"
        }
      ],
      "source": [
        "b = list(\"apple\")\n",
        "print(b)\n",
        "df2 = pd.DataFrame(b, columns=[\"B\"], index=list(\"abcde\"))  # 指定columns和index\n",
        "df2"
      ]
    },
    {
      "cell_type": "code",
      "execution_count": 11,
      "metadata": {},
      "outputs": [
        {
          "name": "stdout",
          "output_type": "stream",
          "text": [
            "{'A': [1, 2, 3, 4, 5], 'B': ['A', 'P', 'P', 'L', 'E']}\n"
          ]
        },
        {
          "data": {
            "text/html": [
              "<div>\n",
              "<style scoped>\n",
              "    .dataframe tbody tr th:only-of-type {\n",
              "        vertical-align: middle;\n",
              "    }\n",
              "\n",
              "    .dataframe tbody tr th {\n",
              "        vertical-align: top;\n",
              "    }\n",
              "\n",
              "    .dataframe thead th {\n",
              "        text-align: right;\n",
              "    }\n",
              "</style>\n",
              "<table border=\"1\" class=\"dataframe\">\n",
              "  <thead>\n",
              "    <tr style=\"text-align: right;\">\n",
              "      <th></th>\n",
              "      <th>A</th>\n",
              "      <th>B</th>\n",
              "    </tr>\n",
              "  </thead>\n",
              "  <tbody>\n",
              "    <tr>\n",
              "      <th>0</th>\n",
              "      <td>1</td>\n",
              "      <td>A</td>\n",
              "    </tr>\n",
              "    <tr>\n",
              "      <th>1</th>\n",
              "      <td>2</td>\n",
              "      <td>P</td>\n",
              "    </tr>\n",
              "    <tr>\n",
              "      <th>2</th>\n",
              "      <td>3</td>\n",
              "      <td>P</td>\n",
              "    </tr>\n",
              "    <tr>\n",
              "      <th>3</th>\n",
              "      <td>4</td>\n",
              "      <td>L</td>\n",
              "    </tr>\n",
              "    <tr>\n",
              "      <th>4</th>\n",
              "      <td>5</td>\n",
              "      <td>E</td>\n",
              "    </tr>\n",
              "  </tbody>\n",
              "</table>\n",
              "</div>"
            ],
            "text/plain": [
              "   A  B\n",
              "0  1  A\n",
              "1  2  P\n",
              "2  3  P\n",
              "3  4  L\n",
              "4  5  E"
            ]
          },
          "execution_count": 11,
          "metadata": {},
          "output_type": "execute_result"
        }
      ],
      "source": [
        "# 从字典创建\n",
        "\n",
        "# 字典的每一个item会成为表格的一列，key会成为列标签（列的标题），value会成为列的值\n",
        "x = dict(A=[1, 2, 3, 4, 5], B=list(\"APPLE\"))\n",
        "print(x)\n",
        "df = pd.DataFrame(x)\n",
        "df"
      ]
    },
    {
      "cell_type": "code",
      "execution_count": 12,
      "metadata": {},
      "outputs": [
        {
          "name": "stdout",
          "output_type": "stream",
          "text": [
            "Index(['A', 'B'], dtype='object')\n"
          ]
        },
        {
          "data": {
            "text/html": [
              "<div>\n",
              "<style scoped>\n",
              "    .dataframe tbody tr th:only-of-type {\n",
              "        vertical-align: middle;\n",
              "    }\n",
              "\n",
              "    .dataframe tbody tr th {\n",
              "        vertical-align: top;\n",
              "    }\n",
              "\n",
              "    .dataframe thead th {\n",
              "        text-align: right;\n",
              "    }\n",
              "</style>\n",
              "<table border=\"1\" class=\"dataframe\">\n",
              "  <thead>\n",
              "    <tr style=\"text-align: right;\">\n",
              "      <th></th>\n",
              "      <th>C</th>\n",
              "      <th>D</th>\n",
              "    </tr>\n",
              "  </thead>\n",
              "  <tbody>\n",
              "    <tr>\n",
              "      <th>0</th>\n",
              "      <td>1</td>\n",
              "      <td>A</td>\n",
              "    </tr>\n",
              "    <tr>\n",
              "      <th>1</th>\n",
              "      <td>2</td>\n",
              "      <td>P</td>\n",
              "    </tr>\n",
              "    <tr>\n",
              "      <th>2</th>\n",
              "      <td>3</td>\n",
              "      <td>P</td>\n",
              "    </tr>\n",
              "    <tr>\n",
              "      <th>3</th>\n",
              "      <td>4</td>\n",
              "      <td>L</td>\n",
              "    </tr>\n",
              "    <tr>\n",
              "      <th>4</th>\n",
              "      <td>5</td>\n",
              "      <td>E</td>\n",
              "    </tr>\n",
              "  </tbody>\n",
              "</table>\n",
              "</div>"
            ],
            "text/plain": [
              "   C  D\n",
              "0  1  A\n",
              "1  2  P\n",
              "2  3  P\n",
              "3  4  L\n",
              "4  5  E"
            ]
          },
          "execution_count": 12,
          "metadata": {},
          "output_type": "execute_result"
        }
      ],
      "source": [
        "# 单独设置或者修改列标签（columns）\n",
        "print(df.columns)\n",
        "df.columns = [\"C\", \"D\"]\n",
        "df"
      ]
    },
    {
      "cell_type": "code",
      "execution_count": 13,
      "metadata": {},
      "outputs": [
        {
          "name": "stdout",
          "output_type": "stream",
          "text": [
            "RangeIndex(start=0, stop=5, step=1)\n"
          ]
        },
        {
          "data": {
            "text/html": [
              "<div>\n",
              "<style scoped>\n",
              "    .dataframe tbody tr th:only-of-type {\n",
              "        vertical-align: middle;\n",
              "    }\n",
              "\n",
              "    .dataframe tbody tr th {\n",
              "        vertical-align: top;\n",
              "    }\n",
              "\n",
              "    .dataframe thead th {\n",
              "        text-align: right;\n",
              "    }\n",
              "</style>\n",
              "<table border=\"1\" class=\"dataframe\">\n",
              "  <thead>\n",
              "    <tr style=\"text-align: right;\">\n",
              "      <th></th>\n",
              "      <th>C</th>\n",
              "      <th>D</th>\n",
              "    </tr>\n",
              "  </thead>\n",
              "  <tbody>\n",
              "    <tr>\n",
              "      <th>5</th>\n",
              "      <td>1</td>\n",
              "      <td>A</td>\n",
              "    </tr>\n",
              "    <tr>\n",
              "      <th>6</th>\n",
              "      <td>2</td>\n",
              "      <td>P</td>\n",
              "    </tr>\n",
              "    <tr>\n",
              "      <th>7</th>\n",
              "      <td>3</td>\n",
              "      <td>P</td>\n",
              "    </tr>\n",
              "    <tr>\n",
              "      <th>8</th>\n",
              "      <td>4</td>\n",
              "      <td>L</td>\n",
              "    </tr>\n",
              "    <tr>\n",
              "      <th>9</th>\n",
              "      <td>5</td>\n",
              "      <td>E</td>\n",
              "    </tr>\n",
              "  </tbody>\n",
              "</table>\n",
              "</div>"
            ],
            "text/plain": [
              "   C  D\n",
              "5  1  A\n",
              "6  2  P\n",
              "7  3  P\n",
              "8  4  L\n",
              "9  5  E"
            ]
          },
          "execution_count": 13,
          "metadata": {},
          "output_type": "execute_result"
        }
      ],
      "source": [
        "# 单独修改行标签（index）\n",
        "print(df.index)\n",
        "df.index = [5, 6, 7, 8, 9]\n",
        "df"
      ]
    },
    {
      "cell_type": "markdown",
      "metadata": {},
      "source": [
        "## 数据读取\n",
        "\n",
        "### 预备知识：常见数据格式\n",
        "\n",
        "一般常见的数据格式包括：\n",
        "\n",
        "1. 微软的Excel格式：2007版以后扩展名为`.xlsx`，2007版之前为`.xls`，可以直接用Excel打开处理，不详细叙述。\n",
        "2. CSV格式：扩展名为`.csv`，也可以用Excel打开。但这种文件本质上是一个纯文本文件，和`.txt`文件或者python代码`.py`文件并无区别，都可以用记事本或者vscode打开。\n",
        "\n",
        "其中：\n",
        "\n",
        "1. CSV文件：其中所有的信息都是数据，不包括格式、排版、颜色等等，文件体积小，几乎任何数据处理软件都可以处理CSV文件。可以视为通用标准，你不知道要保存成什么格式，就可以用CSV。\n",
        "2. Excel文件：文件里包括了大量的格式、排版、颜色等信息，文件体积比较大，多数数据处理软件都可以处理。如果你可以选择，就选择新版格式`.xlsx`。\n",
        "\n",
        "对于我们大部分工作，两种保存数据的格式都没有本质的区别。\n",
        "\n",
        "\n",
        "以下数据如果不做说明，都来自CSMAR（国泰安）数据库。\n",
        "\n",
        "vscode管理工程以目录为基础，很多功能需要你**打开一个目录**才能生效。你在vscode中打开的目录即**工作目录**。\n",
        "\n",
        "在本课程中，所有的数据，都会放在工作目录下的**data**文件夹。即`data`文件夹现在这个`.ipynb`处于目录同一层。\n",
        "\n",
        "所用数据包括：\n",
        "\n",
        "1. data/basic_info.xlsx：部分上市公司的基本信息。 [下载](data/basic_info.xlsx)\n"
      ]
    },
    {
      "cell_type": "code",
      "execution_count": 14,
      "metadata": {},
      "outputs": [],
      "source": [
        "# 导入pandas和numpy是惯例\n",
        "import pandas as pd\n",
        "import numpy as np\n",
        "\n",
        "# 读取工作目录下的data文件夹下的basic_info.xlsx文件\n",
        "# 保存到df变量\n",
        "df = pd.read_excel(\"data/basic_info.xlsx\")"
      ]
    },
    {
      "cell_type": "markdown",
      "metadata": {},
      "source": [
        "注意：如果read_excel出错，提示你缺少`openpyxl`包（你应该可以看懂出错信息），那么按照这个包可以用以下方法二选一：\n",
        "\n",
        "1. 可以在任何一个python单元格中执行以下命令（开头有感叹号）：\n",
        "\n",
        "```\n",
        "!pip install -i https://pypi.tuna.tsinghua.edu.cn/simple openpyxl\n",
        "```\n",
        "\n",
        "2. 或者在anaconda prompt（开始菜单中有）执行（开头没感叹号）：\n",
        "\n",
        "```\n",
        "pip install -i https://pypi.tuna.tsinghua.edu.cn/simple openpyxl\n",
        "```\n",
        "\n"
      ]
    },
    {
      "cell_type": "markdown",
      "metadata": {},
      "source": [
        "读取数据后，首先检查数据读取是否符合预期。\n",
        "\n",
        "用`.head()`方法检查前几行，`.tail()`检查后几行，默认都是5行。"
      ]
    },
    {
      "cell_type": "code",
      "execution_count": 15,
      "metadata": {},
      "outputs": [
        {
          "data": {
            "text/html": [
              "<div>\n",
              "<style scoped>\n",
              "    .dataframe tbody tr th:only-of-type {\n",
              "        vertical-align: middle;\n",
              "    }\n",
              "\n",
              "    .dataframe tbody tr th {\n",
              "        vertical-align: top;\n",
              "    }\n",
              "\n",
              "    .dataframe thead th {\n",
              "        text-align: right;\n",
              "    }\n",
              "</style>\n",
              "<table border=\"1\" class=\"dataframe\">\n",
              "  <thead>\n",
              "    <tr style=\"text-align: right;\">\n",
              "      <th></th>\n",
              "      <th>股票代码</th>\n",
              "      <th>股票简称</th>\n",
              "      <th>公司成立日期</th>\n",
              "      <th>注册资本</th>\n",
              "      <th>首次上市日期</th>\n",
              "      <th>所属省份</th>\n",
              "      <th>所属城市</th>\n",
              "      <th>上市状态</th>\n",
              "    </tr>\n",
              "  </thead>\n",
              "  <tbody>\n",
              "    <tr>\n",
              "      <th>0</th>\n",
              "      <td>1</td>\n",
              "      <td>平安银行</td>\n",
              "      <td>1987-12-22</td>\n",
              "      <td>19405918198</td>\n",
              "      <td>1991-04-03</td>\n",
              "      <td>广东省</td>\n",
              "      <td>深圳市</td>\n",
              "      <td>正常上市</td>\n",
              "    </tr>\n",
              "    <tr>\n",
              "      <th>1</th>\n",
              "      <td>2</td>\n",
              "      <td>万科A</td>\n",
              "      <td>1988-11-01</td>\n",
              "      <td>11625383375</td>\n",
              "      <td>1991-01-29</td>\n",
              "      <td>广东省</td>\n",
              "      <td>深圳市</td>\n",
              "      <td>正常上市</td>\n",
              "    </tr>\n",
              "    <tr>\n",
              "      <th>2</th>\n",
              "      <td>4</td>\n",
              "      <td>国华网安</td>\n",
              "      <td>1986-05-05</td>\n",
              "      <td>156003000</td>\n",
              "      <td>1991-01-14</td>\n",
              "      <td>广东省</td>\n",
              "      <td>深圳市</td>\n",
              "      <td>ST</td>\n",
              "    </tr>\n",
              "    <tr>\n",
              "      <th>3</th>\n",
              "      <td>5</td>\n",
              "      <td>ST 星源</td>\n",
              "      <td>1990-02-01</td>\n",
              "      <td>1058536842</td>\n",
              "      <td>1990-12-10</td>\n",
              "      <td>广东省</td>\n",
              "      <td>深圳市</td>\n",
              "      <td>ST</td>\n",
              "    </tr>\n",
              "    <tr>\n",
              "      <th>4</th>\n",
              "      <td>6</td>\n",
              "      <td>深振业A</td>\n",
              "      <td>1989-04-01</td>\n",
              "      <td>1349995046</td>\n",
              "      <td>1992-04-27</td>\n",
              "      <td>广东省</td>\n",
              "      <td>深圳市</td>\n",
              "      <td>正常上市</td>\n",
              "    </tr>\n",
              "  </tbody>\n",
              "</table>\n",
              "</div>"
            ],
            "text/plain": [
              "   股票代码   股票简称      公司成立日期         注册资本      首次上市日期 所属省份 所属城市  上市状态\n",
              "0     1   平安银行  1987-12-22  19405918198  1991-04-03  广东省  深圳市  正常上市\n",
              "1     2    万科A  1988-11-01  11625383375  1991-01-29  广东省  深圳市  正常上市\n",
              "2     4   国华网安  1986-05-05    156003000  1991-01-14  广东省  深圳市    ST\n",
              "3     5  ST 星源  1990-02-01   1058536842  1990-12-10  广东省  深圳市    ST\n",
              "4     6   深振业A  1989-04-01   1349995046  1992-04-27  广东省  深圳市  正常上市"
            ]
          },
          "execution_count": 15,
          "metadata": {},
          "output_type": "execute_result"
        }
      ],
      "source": [
        "df.head()  # 查看df的前5行"
      ]
    },
    {
      "cell_type": "markdown",
      "metadata": {},
      "source": [
        "再用`.info()`看每一列的信息，主要看格式。"
      ]
    },
    {
      "cell_type": "code",
      "execution_count": 16,
      "metadata": {},
      "outputs": [
        {
          "name": "stdout",
          "output_type": "stream",
          "text": [
            "<class 'pandas.core.frame.DataFrame'>\n",
            "RangeIndex: 39 entries, 0 to 38\n",
            "Data columns (total 8 columns):\n",
            " #   Column  Non-Null Count  Dtype \n",
            "---  ------  --------------  ----- \n",
            " 0   股票代码    39 non-null     int64 \n",
            " 1   股票简称    39 non-null     object\n",
            " 2   公司成立日期  39 non-null     object\n",
            " 3   注册资本    39 non-null     int64 \n",
            " 4   首次上市日期  39 non-null     object\n",
            " 5   所属省份    39 non-null     object\n",
            " 6   所属城市    39 non-null     object\n",
            " 7   上市状态    39 non-null     object\n",
            "dtypes: int64(2), object(6)\n",
            "memory usage: 2.6+ KB\n"
          ]
        }
      ],
      "source": [
        "df.info()  # 每一列的信息"
      ]
    },
    {
      "cell_type": "markdown",
      "metadata": {},
      "source": [
        "### 数据格式的转换\n",
        "\n",
        "我们首先观察到：\n",
        "\n",
        "1. 股票代码不对，如平安银行的代码应该是`000001`。\n",
        "读取时默认把`股票代码`列识别为数字`int64`（见`info()`的结果），\n",
        "因此前面的0就被去掉了。\n",
        "2. 日期不是日期格式：从`info()`结果看，数据类型`Dtype`中，字符串`str`会被显示为`object`。\n",
        "（更深入的解释见 <https://stackoverflow.com/questions/21018654/strings-in-a-dataframe-but-dtype-is-object> ）\n",
        "\n",
        "（为什么日期数据最好是日期格式？比如你可以比较日期的先后，两个日期相减获得相差几天等等，但你无法对字符串型的日期做这类操作。）\n",
        "\n",
        "处理这类问题一般可以 1. 在读取数据的时候就指定格式。2. 读取了数据后再转换。 \n",
        "\n",
        "1. 读取时指定格式：\n",
        "\n",
        "`pd.read_xxx()`方法，可以接收一个参数`converters`，这个参数是一个字典，其中key为列名，value转换的函数。\n",
        "\n",
        "这里我们指定`股票代码`为字符串`str`，用`str`函数即可；公司成立日期为`datetime`格式，用`pd.to_datetime`函数。（这里故意漏掉`首次上市日期`）\n",
        "\n",
        "注：这里只是告诉pandas可以用什么函数来转换指定的列，而不是你自己去调用某个函数，因此只要函数名即可。\n"
      ]
    },
    {
      "cell_type": "code",
      "execution_count": 17,
      "metadata": {},
      "outputs": [
        {
          "data": {
            "text/html": [
              "<div>\n",
              "<style scoped>\n",
              "    .dataframe tbody tr th:only-of-type {\n",
              "        vertical-align: middle;\n",
              "    }\n",
              "\n",
              "    .dataframe tbody tr th {\n",
              "        vertical-align: top;\n",
              "    }\n",
              "\n",
              "    .dataframe thead th {\n",
              "        text-align: right;\n",
              "    }\n",
              "</style>\n",
              "<table border=\"1\" class=\"dataframe\">\n",
              "  <thead>\n",
              "    <tr style=\"text-align: right;\">\n",
              "      <th></th>\n",
              "      <th>股票代码</th>\n",
              "      <th>股票简称</th>\n",
              "      <th>公司成立日期</th>\n",
              "      <th>注册资本</th>\n",
              "      <th>首次上市日期</th>\n",
              "      <th>所属省份</th>\n",
              "      <th>所属城市</th>\n",
              "      <th>上市状态</th>\n",
              "    </tr>\n",
              "  </thead>\n",
              "  <tbody>\n",
              "    <tr>\n",
              "      <th>0</th>\n",
              "      <td>000001</td>\n",
              "      <td>平安银行</td>\n",
              "      <td>1987-12-22</td>\n",
              "      <td>19405918198</td>\n",
              "      <td>1991-04-03</td>\n",
              "      <td>广东省</td>\n",
              "      <td>深圳市</td>\n",
              "      <td>正常上市</td>\n",
              "    </tr>\n",
              "    <tr>\n",
              "      <th>1</th>\n",
              "      <td>000002</td>\n",
              "      <td>万科A</td>\n",
              "      <td>1988-11-01</td>\n",
              "      <td>11625383375</td>\n",
              "      <td>1991-01-29</td>\n",
              "      <td>广东省</td>\n",
              "      <td>深圳市</td>\n",
              "      <td>正常上市</td>\n",
              "    </tr>\n",
              "    <tr>\n",
              "      <th>2</th>\n",
              "      <td>000004</td>\n",
              "      <td>国华网安</td>\n",
              "      <td>1986-05-05</td>\n",
              "      <td>156003000</td>\n",
              "      <td>1991-01-14</td>\n",
              "      <td>广东省</td>\n",
              "      <td>深圳市</td>\n",
              "      <td>ST</td>\n",
              "    </tr>\n",
              "    <tr>\n",
              "      <th>3</th>\n",
              "      <td>000005</td>\n",
              "      <td>ST 星源</td>\n",
              "      <td>1990-02-01</td>\n",
              "      <td>1058536842</td>\n",
              "      <td>1990-12-10</td>\n",
              "      <td>广东省</td>\n",
              "      <td>深圳市</td>\n",
              "      <td>ST</td>\n",
              "    </tr>\n",
              "    <tr>\n",
              "      <th>4</th>\n",
              "      <td>000006</td>\n",
              "      <td>深振业A</td>\n",
              "      <td>1989-04-01</td>\n",
              "      <td>1349995046</td>\n",
              "      <td>1992-04-27</td>\n",
              "      <td>广东省</td>\n",
              "      <td>深圳市</td>\n",
              "      <td>正常上市</td>\n",
              "    </tr>\n",
              "  </tbody>\n",
              "</table>\n",
              "</div>"
            ],
            "text/plain": [
              "     股票代码   股票简称     公司成立日期         注册资本      首次上市日期 所属省份 所属城市  上市状态\n",
              "0  000001   平安银行 1987-12-22  19405918198  1991-04-03  广东省  深圳市  正常上市\n",
              "1  000002    万科A 1988-11-01  11625383375  1991-01-29  广东省  深圳市  正常上市\n",
              "2  000004   国华网安 1986-05-05    156003000  1991-01-14  广东省  深圳市    ST\n",
              "3  000005  ST 星源 1990-02-01   1058536842  1990-12-10  广东省  深圳市    ST\n",
              "4  000006   深振业A 1989-04-01   1349995046  1992-04-27  广东省  深圳市  正常上市"
            ]
          },
          "execution_count": 17,
          "metadata": {},
          "output_type": "execute_result"
        }
      ],
      "source": [
        "df = pd.read_excel(\n",
        "    \"data/basic_info.xlsx\", converters={\"股票代码\": str, \"公司成立日期\": pd.to_datetime}\n",
        ")\n",
        "\n",
        "df.head()"
      ]
    },
    {
      "cell_type": "code",
      "execution_count": 18,
      "metadata": {},
      "outputs": [
        {
          "name": "stdout",
          "output_type": "stream",
          "text": [
            "<class 'pandas.core.frame.DataFrame'>\n",
            "RangeIndex: 39 entries, 0 to 38\n",
            "Data columns (total 8 columns):\n",
            " #   Column  Non-Null Count  Dtype         \n",
            "---  ------  --------------  -----         \n",
            " 0   股票代码    39 non-null     object        \n",
            " 1   股票简称    39 non-null     object        \n",
            " 2   公司成立日期  39 non-null     datetime64[ns]\n",
            " 3   注册资本    39 non-null     int64         \n",
            " 4   首次上市日期  39 non-null     object        \n",
            " 5   所属省份    39 non-null     object        \n",
            " 6   所属城市    39 non-null     object        \n",
            " 7   上市状态    39 non-null     object        \n",
            "dtypes: datetime64[ns](1), int64(1), object(6)\n",
            "memory usage: 2.6+ KB\n"
          ]
        }
      ],
      "source": [
        "df.info()"
      ]
    },
    {
      "cell_type": "markdown",
      "metadata": {},
      "source": [
        "查看数据的前几行以及列信息，股票代码和公司成立日期都符合我们的要求了。\n",
        "\n",
        "2. 读取后再转换\n",
        "\n",
        "读取`首次上市日期`列，转换格式，再写回到同一列中。对行和列的读写是后面的内容，但逻辑还是比较简单。"
      ]
    },
    {
      "cell_type": "code",
      "execution_count": 19,
      "metadata": {},
      "outputs": [
        {
          "name": "stdout",
          "output_type": "stream",
          "text": [
            "<class 'pandas.core.frame.DataFrame'>\n",
            "RangeIndex: 39 entries, 0 to 38\n",
            "Data columns (total 8 columns):\n",
            " #   Column  Non-Null Count  Dtype         \n",
            "---  ------  --------------  -----         \n",
            " 0   股票代码    39 non-null     object        \n",
            " 1   股票简称    39 non-null     object        \n",
            " 2   公司成立日期  39 non-null     datetime64[ns]\n",
            " 3   注册资本    39 non-null     int64         \n",
            " 4   首次上市日期  39 non-null     datetime64[ns]\n",
            " 5   所属省份    39 non-null     object        \n",
            " 6   所属城市    39 non-null     object        \n",
            " 7   上市状态    39 non-null     object        \n",
            "dtypes: datetime64[ns](2), int64(1), object(5)\n",
            "memory usage: 2.6+ KB\n"
          ]
        }
      ],
      "source": [
        "df[\"首次上市日期\"] = pd.to_datetime(df[\"首次上市日期\"])\n",
        "df.info()"
      ]
    },
    {
      "cell_type": "markdown",
      "metadata": {},
      "source": [
        "查看`info()`，数据已经符合我们的要求。\n",
        "\n",
        "## DataFrame的索引和行列标签\n"
      ]
    },
    {
      "cell_type": "code",
      "execution_count": 20,
      "metadata": {},
      "outputs": [
        {
          "data": {
            "text/html": [
              "<div>\n",
              "<style scoped>\n",
              "    .dataframe tbody tr th:only-of-type {\n",
              "        vertical-align: middle;\n",
              "    }\n",
              "\n",
              "    .dataframe tbody tr th {\n",
              "        vertical-align: top;\n",
              "    }\n",
              "\n",
              "    .dataframe thead th {\n",
              "        text-align: right;\n",
              "    }\n",
              "</style>\n",
              "<table border=\"1\" class=\"dataframe\">\n",
              "  <thead>\n",
              "    <tr style=\"text-align: right;\">\n",
              "      <th></th>\n",
              "      <th>股票代码</th>\n",
              "      <th>股票简称</th>\n",
              "      <th>公司成立日期</th>\n",
              "      <th>注册资本</th>\n",
              "      <th>首次上市日期</th>\n",
              "      <th>所属省份</th>\n",
              "      <th>所属城市</th>\n",
              "      <th>上市状态</th>\n",
              "    </tr>\n",
              "  </thead>\n",
              "  <tbody>\n",
              "    <tr>\n",
              "      <th>0</th>\n",
              "      <td>000001</td>\n",
              "      <td>平安银行</td>\n",
              "      <td>1987-12-22</td>\n",
              "      <td>19405918198</td>\n",
              "      <td>1991-04-03</td>\n",
              "      <td>广东省</td>\n",
              "      <td>深圳市</td>\n",
              "      <td>正常上市</td>\n",
              "    </tr>\n",
              "    <tr>\n",
              "      <th>1</th>\n",
              "      <td>000002</td>\n",
              "      <td>万科A</td>\n",
              "      <td>1988-11-01</td>\n",
              "      <td>11625383375</td>\n",
              "      <td>1991-01-29</td>\n",
              "      <td>广东省</td>\n",
              "      <td>深圳市</td>\n",
              "      <td>正常上市</td>\n",
              "    </tr>\n",
              "    <tr>\n",
              "      <th>2</th>\n",
              "      <td>000004</td>\n",
              "      <td>国华网安</td>\n",
              "      <td>1986-05-05</td>\n",
              "      <td>156003000</td>\n",
              "      <td>1991-01-14</td>\n",
              "      <td>广东省</td>\n",
              "      <td>深圳市</td>\n",
              "      <td>ST</td>\n",
              "    </tr>\n",
              "    <tr>\n",
              "      <th>3</th>\n",
              "      <td>000005</td>\n",
              "      <td>ST 星源</td>\n",
              "      <td>1990-02-01</td>\n",
              "      <td>1058536842</td>\n",
              "      <td>1990-12-10</td>\n",
              "      <td>广东省</td>\n",
              "      <td>深圳市</td>\n",
              "      <td>ST</td>\n",
              "    </tr>\n",
              "    <tr>\n",
              "      <th>4</th>\n",
              "      <td>000006</td>\n",
              "      <td>深振业A</td>\n",
              "      <td>1989-04-01</td>\n",
              "      <td>1349995046</td>\n",
              "      <td>1992-04-27</td>\n",
              "      <td>广东省</td>\n",
              "      <td>深圳市</td>\n",
              "      <td>正常上市</td>\n",
              "    </tr>\n",
              "  </tbody>\n",
              "</table>\n",
              "</div>"
            ],
            "text/plain": [
              "     股票代码   股票简称     公司成立日期         注册资本     首次上市日期 所属省份 所属城市  上市状态\n",
              "0  000001   平安银行 1987-12-22  19405918198 1991-04-03  广东省  深圳市  正常上市\n",
              "1  000002    万科A 1988-11-01  11625383375 1991-01-29  广东省  深圳市  正常上市\n",
              "2  000004   国华网安 1986-05-05    156003000 1991-01-14  广东省  深圳市    ST\n",
              "3  000005  ST 星源 1990-02-01   1058536842 1990-12-10  广东省  深圳市    ST\n",
              "4  000006   深振业A 1989-04-01   1349995046 1992-04-27  广东省  深圳市  正常上市"
            ]
          },
          "execution_count": 20,
          "metadata": {},
          "output_type": "execute_result"
        }
      ],
      "source": [
        "df.head()"
      ]
    },
    {
      "cell_type": "markdown",
      "metadata": {},
      "source": [
        "对于一个DataFrame对象，每一列的标题（题头）和每一行的索引，其实都是索引index，或可称为行索引和列索引。\n",
        "\n",
        "\n",
        "获得所有的列名（即获得所有的列索引）：这是一个字符串类型的索引，包括每一列的列名。"
      ]
    },
    {
      "cell_type": "code",
      "execution_count": 21,
      "metadata": {},
      "outputs": [
        {
          "data": {
            "text/plain": [
              "Index(['股票代码', '股票简称', '公司成立日期', '注册资本', '首次上市日期', '所属省份', '所属城市', '上市状态'], dtype='object')"
            ]
          },
          "execution_count": 21,
          "metadata": {},
          "output_type": "execute_result"
        }
      ],
      "source": [
        "df.columns"
      ]
    },
    {
      "cell_type": "markdown",
      "metadata": {},
      "source": [
        "获得所有的行索引：这是一个range类的索引，从0到39。如果是时间序列数据，还可以是日期格式的行索引。"
      ]
    },
    {
      "cell_type": "code",
      "execution_count": 22,
      "metadata": {},
      "outputs": [
        {
          "data": {
            "text/plain": [
              "RangeIndex(start=0, stop=39, step=1)"
            ]
          },
          "execution_count": 22,
          "metadata": {},
          "output_type": "execute_result"
        }
      ],
      "source": [
        "df.index"
      ]
    },
    {
      "cell_type": "markdown",
      "metadata": {},
      "source": [
        "我们可以用`set_index()`指定一列作为行索引，比如股票代码。"
      ]
    },
    {
      "cell_type": "code",
      "execution_count": 23,
      "metadata": {},
      "outputs": [
        {
          "data": {
            "text/html": [
              "<div>\n",
              "<style scoped>\n",
              "    .dataframe tbody tr th:only-of-type {\n",
              "        vertical-align: middle;\n",
              "    }\n",
              "\n",
              "    .dataframe tbody tr th {\n",
              "        vertical-align: top;\n",
              "    }\n",
              "\n",
              "    .dataframe thead th {\n",
              "        text-align: right;\n",
              "    }\n",
              "</style>\n",
              "<table border=\"1\" class=\"dataframe\">\n",
              "  <thead>\n",
              "    <tr style=\"text-align: right;\">\n",
              "      <th></th>\n",
              "      <th>股票简称</th>\n",
              "      <th>公司成立日期</th>\n",
              "      <th>注册资本</th>\n",
              "      <th>首次上市日期</th>\n",
              "      <th>所属省份</th>\n",
              "      <th>所属城市</th>\n",
              "      <th>上市状态</th>\n",
              "    </tr>\n",
              "    <tr>\n",
              "      <th>股票代码</th>\n",
              "      <th></th>\n",
              "      <th></th>\n",
              "      <th></th>\n",
              "      <th></th>\n",
              "      <th></th>\n",
              "      <th></th>\n",
              "      <th></th>\n",
              "    </tr>\n",
              "  </thead>\n",
              "  <tbody>\n",
              "    <tr>\n",
              "      <th>000001</th>\n",
              "      <td>平安银行</td>\n",
              "      <td>1987-12-22</td>\n",
              "      <td>19405918198</td>\n",
              "      <td>1991-04-03</td>\n",
              "      <td>广东省</td>\n",
              "      <td>深圳市</td>\n",
              "      <td>正常上市</td>\n",
              "    </tr>\n",
              "    <tr>\n",
              "      <th>000002</th>\n",
              "      <td>万科A</td>\n",
              "      <td>1988-11-01</td>\n",
              "      <td>11625383375</td>\n",
              "      <td>1991-01-29</td>\n",
              "      <td>广东省</td>\n",
              "      <td>深圳市</td>\n",
              "      <td>正常上市</td>\n",
              "    </tr>\n",
              "    <tr>\n",
              "      <th>000004</th>\n",
              "      <td>国华网安</td>\n",
              "      <td>1986-05-05</td>\n",
              "      <td>156003000</td>\n",
              "      <td>1991-01-14</td>\n",
              "      <td>广东省</td>\n",
              "      <td>深圳市</td>\n",
              "      <td>ST</td>\n",
              "    </tr>\n",
              "    <tr>\n",
              "      <th>000005</th>\n",
              "      <td>ST 星源</td>\n",
              "      <td>1990-02-01</td>\n",
              "      <td>1058536842</td>\n",
              "      <td>1990-12-10</td>\n",
              "      <td>广东省</td>\n",
              "      <td>深圳市</td>\n",
              "      <td>ST</td>\n",
              "    </tr>\n",
              "    <tr>\n",
              "      <th>000006</th>\n",
              "      <td>深振业A</td>\n",
              "      <td>1989-04-01</td>\n",
              "      <td>1349995046</td>\n",
              "      <td>1992-04-27</td>\n",
              "      <td>广东省</td>\n",
              "      <td>深圳市</td>\n",
              "      <td>正常上市</td>\n",
              "    </tr>\n",
              "  </tbody>\n",
              "</table>\n",
              "</div>"
            ],
            "text/plain": [
              "         股票简称     公司成立日期         注册资本     首次上市日期 所属省份 所属城市  上市状态\n",
              "股票代码                                                            \n",
              "000001   平安银行 1987-12-22  19405918198 1991-04-03  广东省  深圳市  正常上市\n",
              "000002    万科A 1988-11-01  11625383375 1991-01-29  广东省  深圳市  正常上市\n",
              "000004   国华网安 1986-05-05    156003000 1991-01-14  广东省  深圳市    ST\n",
              "000005  ST 星源 1990-02-01   1058536842 1990-12-10  广东省  深圳市    ST\n",
              "000006   深振业A 1989-04-01   1349995046 1992-04-27  广东省  深圳市  正常上市"
            ]
          },
          "execution_count": 23,
          "metadata": {},
          "output_type": "execute_result"
        }
      ],
      "source": [
        "df = df.set_index(\"股票代码\")\n",
        "df.head()"
      ]
    },
    {
      "cell_type": "markdown",
      "metadata": {},
      "source": [
        "注意：pandas中，大部分“写”操作（修改某个东西），默认都“不会改变原值”：你会获得一个包括修改后的新数据的DataFrame。\n",
        "因此，如果要改变原值，可以把新数据重新赋值给原来的变量名（如上个cell），也可以加入参数`inplace = True`，如"
      ]
    },
    {
      "cell_type": "code",
      "execution_count": 24,
      "metadata": {},
      "outputs": [],
      "source": [
        "# 仅作示范，不要执行，因为经过上个cell之后，已经没有`股票代码`这一列了\n",
        "# df.set_index('股票代码',inplace = True)"
      ]
    },
    {
      "cell_type": "markdown",
      "metadata": {},
      "source": [
        "再看`df.index`，此时索引已经变成我们指定列，"
      ]
    },
    {
      "cell_type": "code",
      "execution_count": 25,
      "metadata": {},
      "outputs": [
        {
          "data": {
            "text/plain": [
              "Index(['000001', '000002', '000004', '000005', '000006', '000007', '000008',\n",
              "       '000009', '000010', '000011', '000012', '000014', '000016', '000017',\n",
              "       '000019', '000020', '000021', '000023', '000025', '000026', '000027',\n",
              "       '000028', '000029', '000030', '000031', '000032', '000034', '000035',\n",
              "       '000036', '000037', '000038', '000039', '000040', '000042', '000045',\n",
              "       '000046', '000048', '000049', '000050'],\n",
              "      dtype='object', name='股票代码')"
            ]
          },
          "execution_count": 25,
          "metadata": {},
          "output_type": "execute_result"
        }
      ],
      "source": [
        "df.index"
      ]
    },
    {
      "cell_type": "markdown",
      "metadata": {},
      "source": [
        "重命名列标签是可以常用操作（改列名），一般有两种方式：\n",
        "\n",
        "1. 使用`.rename()`方法：这个方法接受一个字典参数`columns`，其中key是旧名，value是新名。(从旧到新的映射)\n",
        "2. 对`df.columns` 整体重新赋值。注意，这个方法会直接修改原数据。\n",
        "  \n",
        "例如：把“首次上市日期”改为“IPO_DATE”："
      ]
    },
    {
      "cell_type": "code",
      "execution_count": 26,
      "metadata": {},
      "outputs": [
        {
          "data": {
            "text/html": [
              "<div>\n",
              "<style scoped>\n",
              "    .dataframe tbody tr th:only-of-type {\n",
              "        vertical-align: middle;\n",
              "    }\n",
              "\n",
              "    .dataframe tbody tr th {\n",
              "        vertical-align: top;\n",
              "    }\n",
              "\n",
              "    .dataframe thead th {\n",
              "        text-align: right;\n",
              "    }\n",
              "</style>\n",
              "<table border=\"1\" class=\"dataframe\">\n",
              "  <thead>\n",
              "    <tr style=\"text-align: right;\">\n",
              "      <th></th>\n",
              "      <th>股票简称</th>\n",
              "      <th>公司成立日期</th>\n",
              "      <th>注册资本</th>\n",
              "      <th>IPO_DATE</th>\n",
              "      <th>所属省份</th>\n",
              "      <th>所属城市</th>\n",
              "      <th>上市状态</th>\n",
              "    </tr>\n",
              "    <tr>\n",
              "      <th>股票代码</th>\n",
              "      <th></th>\n",
              "      <th></th>\n",
              "      <th></th>\n",
              "      <th></th>\n",
              "      <th></th>\n",
              "      <th></th>\n",
              "      <th></th>\n",
              "    </tr>\n",
              "  </thead>\n",
              "  <tbody>\n",
              "    <tr>\n",
              "      <th>000001</th>\n",
              "      <td>平安银行</td>\n",
              "      <td>1987-12-22</td>\n",
              "      <td>19405918198</td>\n",
              "      <td>1991-04-03</td>\n",
              "      <td>广东省</td>\n",
              "      <td>深圳市</td>\n",
              "      <td>正常上市</td>\n",
              "    </tr>\n",
              "    <tr>\n",
              "      <th>000002</th>\n",
              "      <td>万科A</td>\n",
              "      <td>1988-11-01</td>\n",
              "      <td>11625383375</td>\n",
              "      <td>1991-01-29</td>\n",
              "      <td>广东省</td>\n",
              "      <td>深圳市</td>\n",
              "      <td>正常上市</td>\n",
              "    </tr>\n",
              "    <tr>\n",
              "      <th>000004</th>\n",
              "      <td>国华网安</td>\n",
              "      <td>1986-05-05</td>\n",
              "      <td>156003000</td>\n",
              "      <td>1991-01-14</td>\n",
              "      <td>广东省</td>\n",
              "      <td>深圳市</td>\n",
              "      <td>ST</td>\n",
              "    </tr>\n",
              "    <tr>\n",
              "      <th>000005</th>\n",
              "      <td>ST 星源</td>\n",
              "      <td>1990-02-01</td>\n",
              "      <td>1058536842</td>\n",
              "      <td>1990-12-10</td>\n",
              "      <td>广东省</td>\n",
              "      <td>深圳市</td>\n",
              "      <td>ST</td>\n",
              "    </tr>\n",
              "    <tr>\n",
              "      <th>000006</th>\n",
              "      <td>深振业A</td>\n",
              "      <td>1989-04-01</td>\n",
              "      <td>1349995046</td>\n",
              "      <td>1992-04-27</td>\n",
              "      <td>广东省</td>\n",
              "      <td>深圳市</td>\n",
              "      <td>正常上市</td>\n",
              "    </tr>\n",
              "  </tbody>\n",
              "</table>\n",
              "</div>"
            ],
            "text/plain": [
              "         股票简称     公司成立日期         注册资本   IPO_DATE 所属省份 所属城市  上市状态\n",
              "股票代码                                                            \n",
              "000001   平安银行 1987-12-22  19405918198 1991-04-03  广东省  深圳市  正常上市\n",
              "000002    万科A 1988-11-01  11625383375 1991-01-29  广东省  深圳市  正常上市\n",
              "000004   国华网安 1986-05-05    156003000 1991-01-14  广东省  深圳市    ST\n",
              "000005  ST 星源 1990-02-01   1058536842 1990-12-10  广东省  深圳市    ST\n",
              "000006   深振业A 1989-04-01   1349995046 1992-04-27  广东省  深圳市  正常上市"
            ]
          },
          "execution_count": 26,
          "metadata": {},
          "output_type": "execute_result"
        }
      ],
      "source": [
        "# 方法1：rename()\n",
        "\n",
        "df.rename(columns={\"首次上市日期\": \"IPO_DATE\"}).head()\n",
        "# 这里不使用inplace = True，因此会返回一个新的数据，不会改写原数据。"
      ]
    },
    {
      "cell_type": "code",
      "execution_count": 27,
      "metadata": {},
      "outputs": [
        {
          "data": {
            "text/html": [
              "<div>\n",
              "<style scoped>\n",
              "    .dataframe tbody tr th:only-of-type {\n",
              "        vertical-align: middle;\n",
              "    }\n",
              "\n",
              "    .dataframe tbody tr th {\n",
              "        vertical-align: top;\n",
              "    }\n",
              "\n",
              "    .dataframe thead th {\n",
              "        text-align: right;\n",
              "    }\n",
              "</style>\n",
              "<table border=\"1\" class=\"dataframe\">\n",
              "  <thead>\n",
              "    <tr style=\"text-align: right;\">\n",
              "      <th></th>\n",
              "      <th>A</th>\n",
              "      <th>B</th>\n",
              "      <th>C</th>\n",
              "      <th>D</th>\n",
              "      <th>E</th>\n",
              "      <th>F</th>\n",
              "      <th>G</th>\n",
              "    </tr>\n",
              "    <tr>\n",
              "      <th>股票代码</th>\n",
              "      <th></th>\n",
              "      <th></th>\n",
              "      <th></th>\n",
              "      <th></th>\n",
              "      <th></th>\n",
              "      <th></th>\n",
              "      <th></th>\n",
              "    </tr>\n",
              "  </thead>\n",
              "  <tbody>\n",
              "    <tr>\n",
              "      <th>000001</th>\n",
              "      <td>平安银行</td>\n",
              "      <td>1987-12-22</td>\n",
              "      <td>19405918198</td>\n",
              "      <td>1991-04-03</td>\n",
              "      <td>广东省</td>\n",
              "      <td>深圳市</td>\n",
              "      <td>正常上市</td>\n",
              "    </tr>\n",
              "    <tr>\n",
              "      <th>000002</th>\n",
              "      <td>万科A</td>\n",
              "      <td>1988-11-01</td>\n",
              "      <td>11625383375</td>\n",
              "      <td>1991-01-29</td>\n",
              "      <td>广东省</td>\n",
              "      <td>深圳市</td>\n",
              "      <td>正常上市</td>\n",
              "    </tr>\n",
              "    <tr>\n",
              "      <th>000004</th>\n",
              "      <td>国华网安</td>\n",
              "      <td>1986-05-05</td>\n",
              "      <td>156003000</td>\n",
              "      <td>1991-01-14</td>\n",
              "      <td>广东省</td>\n",
              "      <td>深圳市</td>\n",
              "      <td>ST</td>\n",
              "    </tr>\n",
              "    <tr>\n",
              "      <th>000005</th>\n",
              "      <td>ST 星源</td>\n",
              "      <td>1990-02-01</td>\n",
              "      <td>1058536842</td>\n",
              "      <td>1990-12-10</td>\n",
              "      <td>广东省</td>\n",
              "      <td>深圳市</td>\n",
              "      <td>ST</td>\n",
              "    </tr>\n",
              "    <tr>\n",
              "      <th>000006</th>\n",
              "      <td>深振业A</td>\n",
              "      <td>1989-04-01</td>\n",
              "      <td>1349995046</td>\n",
              "      <td>1992-04-27</td>\n",
              "      <td>广东省</td>\n",
              "      <td>深圳市</td>\n",
              "      <td>正常上市</td>\n",
              "    </tr>\n",
              "  </tbody>\n",
              "</table>\n",
              "</div>"
            ],
            "text/plain": [
              "            A          B            C          D    E    F     G\n",
              "股票代码                                                            \n",
              "000001   平安银行 1987-12-22  19405918198 1991-04-03  广东省  深圳市  正常上市\n",
              "000002    万科A 1988-11-01  11625383375 1991-01-29  广东省  深圳市  正常上市\n",
              "000004   国华网安 1986-05-05    156003000 1991-01-14  广东省  深圳市    ST\n",
              "000005  ST 星源 1990-02-01   1058536842 1990-12-10  广东省  深圳市    ST\n",
              "000006   深振业A 1989-04-01   1349995046 1992-04-27  广东省  深圳市  正常上市"
            ]
          },
          "execution_count": 27,
          "metadata": {},
          "output_type": "execute_result"
        }
      ],
      "source": [
        "# 方法2：对columns重新赋值\n",
        "\n",
        "df2 = df.copy()  # 这个方法会直接修改原值。为了保持原数据不变，在一个副本上演示。\n",
        "\n",
        "df2.columns = list(\"ABCDEFG\")  # 赋值一个同样长度的list。\n",
        "df2.head()  # df2的列名直接被改变了。"
      ]
    },
    {
      "cell_type": "markdown",
      "metadata": {},
      "source": [
        "## 在行与列上工作\n",
        "\n",
        "选择行和列的一万种方法。\n",
        "\n",
        "### 选择列\n",
        "\n",
        "选1列，`[列名]`，返回一个`Series`对象。"
      ]
    },
    {
      "cell_type": "code",
      "execution_count": 28,
      "metadata": {},
      "outputs": [
        {
          "data": {
            "text/plain": [
              "股票代码\n",
              "000001     平安银行\n",
              "000002      万科A\n",
              "000004     国华网安\n",
              "000005    ST 星源\n",
              "000006     深振业A\n",
              "Name: 股票简称, dtype: object"
            ]
          },
          "execution_count": 28,
          "metadata": {},
          "output_type": "execute_result"
        }
      ],
      "source": [
        "sec_name = df[\"股票简称\"]\n",
        "sec_name.head()"
      ]
    },
    {
      "cell_type": "markdown",
      "metadata": {},
      "source": [
        "查看列的类型"
      ]
    },
    {
      "cell_type": "code",
      "execution_count": 29,
      "metadata": {},
      "outputs": [
        {
          "data": {
            "text/plain": [
              "pandas.core.series.Series"
            ]
          },
          "execution_count": 29,
          "metadata": {},
          "output_type": "execute_result"
        }
      ],
      "source": [
        "type(sec_name)  # pandas.core.series.Series"
      ]
    },
    {
      "cell_type": "markdown",
      "metadata": {},
      "source": [
        "选择多列，`[[列名的List]]`，返回一个`DataFrame`对象。"
      ]
    },
    {
      "cell_type": "code",
      "execution_count": 30,
      "metadata": {},
      "outputs": [
        {
          "data": {
            "text/html": [
              "<div>\n",
              "<style scoped>\n",
              "    .dataframe tbody tr th:only-of-type {\n",
              "        vertical-align: middle;\n",
              "    }\n",
              "\n",
              "    .dataframe tbody tr th {\n",
              "        vertical-align: top;\n",
              "    }\n",
              "\n",
              "    .dataframe thead th {\n",
              "        text-align: right;\n",
              "    }\n",
              "</style>\n",
              "<table border=\"1\" class=\"dataframe\">\n",
              "  <thead>\n",
              "    <tr style=\"text-align: right;\">\n",
              "      <th></th>\n",
              "      <th>股票简称</th>\n",
              "      <th>上市状态</th>\n",
              "    </tr>\n",
              "    <tr>\n",
              "      <th>股票代码</th>\n",
              "      <th></th>\n",
              "      <th></th>\n",
              "    </tr>\n",
              "  </thead>\n",
              "  <tbody>\n",
              "    <tr>\n",
              "      <th>000001</th>\n",
              "      <td>平安银行</td>\n",
              "      <td>正常上市</td>\n",
              "    </tr>\n",
              "    <tr>\n",
              "      <th>000002</th>\n",
              "      <td>万科A</td>\n",
              "      <td>正常上市</td>\n",
              "    </tr>\n",
              "    <tr>\n",
              "      <th>000004</th>\n",
              "      <td>国华网安</td>\n",
              "      <td>ST</td>\n",
              "    </tr>\n",
              "    <tr>\n",
              "      <th>000005</th>\n",
              "      <td>ST 星源</td>\n",
              "      <td>ST</td>\n",
              "    </tr>\n",
              "    <tr>\n",
              "      <th>000006</th>\n",
              "      <td>深振业A</td>\n",
              "      <td>正常上市</td>\n",
              "    </tr>\n",
              "  </tbody>\n",
              "</table>\n",
              "</div>"
            ],
            "text/plain": [
              "         股票简称  上市状态\n",
              "股票代码               \n",
              "000001   平安银行  正常上市\n",
              "000002    万科A  正常上市\n",
              "000004   国华网安    ST\n",
              "000005  ST 星源    ST\n",
              "000006   深振业A  正常上市"
            ]
          },
          "execution_count": 30,
          "metadata": {},
          "output_type": "execute_result"
        }
      ],
      "source": [
        "df[[\"股票简称\", \"上市状态\"]].head()"
      ]
    },
    {
      "cell_type": "markdown",
      "metadata": {},
      "source": [
        "### loc：按索引取得行和列\n",
        "\n",
        "`.loc[行索引，列索引]`可以按**索引**选择行或者列（行的索引是index，列的索引是columns）"
      ]
    },
    {
      "cell_type": "code",
      "execution_count": 31,
      "metadata": {},
      "outputs": [
        {
          "data": {
            "text/html": [
              "<div>\n",
              "<style scoped>\n",
              "    .dataframe tbody tr th:only-of-type {\n",
              "        vertical-align: middle;\n",
              "    }\n",
              "\n",
              "    .dataframe tbody tr th {\n",
              "        vertical-align: top;\n",
              "    }\n",
              "\n",
              "    .dataframe thead th {\n",
              "        text-align: right;\n",
              "    }\n",
              "</style>\n",
              "<table border=\"1\" class=\"dataframe\">\n",
              "  <thead>\n",
              "    <tr style=\"text-align: right;\">\n",
              "      <th></th>\n",
              "      <th>股票简称</th>\n",
              "      <th>上市状态</th>\n",
              "    </tr>\n",
              "    <tr>\n",
              "      <th>股票代码</th>\n",
              "      <th></th>\n",
              "      <th></th>\n",
              "    </tr>\n",
              "  </thead>\n",
              "  <tbody>\n",
              "    <tr>\n",
              "      <th>000001</th>\n",
              "      <td>平安银行</td>\n",
              "      <td>正常上市</td>\n",
              "    </tr>\n",
              "    <tr>\n",
              "      <th>000002</th>\n",
              "      <td>万科A</td>\n",
              "      <td>正常上市</td>\n",
              "    </tr>\n",
              "  </tbody>\n",
              "</table>\n",
              "</div>"
            ],
            "text/plain": [
              "        股票简称  上市状态\n",
              "股票代码              \n",
              "000001  平安银行  正常上市\n",
              "000002   万科A  正常上市"
            ]
          },
          "execution_count": 31,
          "metadata": {},
          "output_type": "execute_result"
        }
      ],
      "source": [
        "df.loc[[\"000001\", \"000002\"], [\"股票简称\", \"上市状态\"]]"
      ]
    },
    {
      "cell_type": "markdown",
      "metadata": {},
      "source": [
        "也可以只取一个值："
      ]
    },
    {
      "cell_type": "code",
      "execution_count": 32,
      "metadata": {},
      "outputs": [
        {
          "data": {
            "text/plain": [
              "'平安银行'"
            ]
          },
          "execution_count": 32,
          "metadata": {},
          "output_type": "execute_result"
        }
      ],
      "source": [
        "df.loc[\"000001\", \"股票简称\"]"
      ]
    },
    {
      "cell_type": "markdown",
      "metadata": {},
      "source": [
        "行索引和列索引位置，都可以用冒号`:`表示起点和终点（注：起点终点都包括，和Python的List切片不同！）。\n",
        "\n",
        "如果只有`:`，则代表所有行或者列。\n",
        "\n",
        "比如：获取行索引为`000001`到`000005`，列索引为`股票简称`到`注册资本`之间的所有数据。"
      ]
    },
    {
      "cell_type": "code",
      "execution_count": 33,
      "metadata": {},
      "outputs": [
        {
          "data": {
            "text/html": [
              "<div>\n",
              "<style scoped>\n",
              "    .dataframe tbody tr th:only-of-type {\n",
              "        vertical-align: middle;\n",
              "    }\n",
              "\n",
              "    .dataframe tbody tr th {\n",
              "        vertical-align: top;\n",
              "    }\n",
              "\n",
              "    .dataframe thead th {\n",
              "        text-align: right;\n",
              "    }\n",
              "</style>\n",
              "<table border=\"1\" class=\"dataframe\">\n",
              "  <thead>\n",
              "    <tr style=\"text-align: right;\">\n",
              "      <th></th>\n",
              "      <th>股票简称</th>\n",
              "      <th>公司成立日期</th>\n",
              "      <th>注册资本</th>\n",
              "    </tr>\n",
              "    <tr>\n",
              "      <th>股票代码</th>\n",
              "      <th></th>\n",
              "      <th></th>\n",
              "      <th></th>\n",
              "    </tr>\n",
              "  </thead>\n",
              "  <tbody>\n",
              "    <tr>\n",
              "      <th>000001</th>\n",
              "      <td>平安银行</td>\n",
              "      <td>1987-12-22</td>\n",
              "      <td>19405918198</td>\n",
              "    </tr>\n",
              "    <tr>\n",
              "      <th>000002</th>\n",
              "      <td>万科A</td>\n",
              "      <td>1988-11-01</td>\n",
              "      <td>11625383375</td>\n",
              "    </tr>\n",
              "    <tr>\n",
              "      <th>000004</th>\n",
              "      <td>国华网安</td>\n",
              "      <td>1986-05-05</td>\n",
              "      <td>156003000</td>\n",
              "    </tr>\n",
              "    <tr>\n",
              "      <th>000005</th>\n",
              "      <td>ST 星源</td>\n",
              "      <td>1990-02-01</td>\n",
              "      <td>1058536842</td>\n",
              "    </tr>\n",
              "  </tbody>\n",
              "</table>\n",
              "</div>"
            ],
            "text/plain": [
              "         股票简称     公司成立日期         注册资本\n",
              "股票代码                                 \n",
              "000001   平安银行 1987-12-22  19405918198\n",
              "000002    万科A 1988-11-01  11625383375\n",
              "000004   国华网安 1986-05-05    156003000\n",
              "000005  ST 星源 1990-02-01   1058536842"
            ]
          },
          "execution_count": 33,
          "metadata": {},
          "output_type": "execute_result"
        }
      ],
      "source": [
        "df.loc[\"000001\":\"000005\", \"股票简称\":\"注册资本\"]"
      ]
    },
    {
      "cell_type": "markdown",
      "metadata": {},
      "source": [
        "获取“所有行（所有股票）的股票简称和上市状况”。但太长，只查看前几行"
      ]
    },
    {
      "cell_type": "code",
      "execution_count": 34,
      "metadata": {},
      "outputs": [
        {
          "data": {
            "text/html": [
              "<div>\n",
              "<style scoped>\n",
              "    .dataframe tbody tr th:only-of-type {\n",
              "        vertical-align: middle;\n",
              "    }\n",
              "\n",
              "    .dataframe tbody tr th {\n",
              "        vertical-align: top;\n",
              "    }\n",
              "\n",
              "    .dataframe thead th {\n",
              "        text-align: right;\n",
              "    }\n",
              "</style>\n",
              "<table border=\"1\" class=\"dataframe\">\n",
              "  <thead>\n",
              "    <tr style=\"text-align: right;\">\n",
              "      <th></th>\n",
              "      <th>股票简称</th>\n",
              "      <th>上市状态</th>\n",
              "    </tr>\n",
              "    <tr>\n",
              "      <th>股票代码</th>\n",
              "      <th></th>\n",
              "      <th></th>\n",
              "    </tr>\n",
              "  </thead>\n",
              "  <tbody>\n",
              "    <tr>\n",
              "      <th>000001</th>\n",
              "      <td>平安银行</td>\n",
              "      <td>正常上市</td>\n",
              "    </tr>\n",
              "    <tr>\n",
              "      <th>000002</th>\n",
              "      <td>万科A</td>\n",
              "      <td>正常上市</td>\n",
              "    </tr>\n",
              "    <tr>\n",
              "      <th>000004</th>\n",
              "      <td>国华网安</td>\n",
              "      <td>ST</td>\n",
              "    </tr>\n",
              "    <tr>\n",
              "      <th>000005</th>\n",
              "      <td>ST 星源</td>\n",
              "      <td>ST</td>\n",
              "    </tr>\n",
              "    <tr>\n",
              "      <th>000006</th>\n",
              "      <td>深振业A</td>\n",
              "      <td>正常上市</td>\n",
              "    </tr>\n",
              "  </tbody>\n",
              "</table>\n",
              "</div>"
            ],
            "text/plain": [
              "         股票简称  上市状态\n",
              "股票代码               \n",
              "000001   平安银行  正常上市\n",
              "000002    万科A  正常上市\n",
              "000004   国华网安    ST\n",
              "000005  ST 星源    ST\n",
              "000006   深振业A  正常上市"
            ]
          },
          "execution_count": 34,
          "metadata": {},
          "output_type": "execute_result"
        }
      ],
      "source": [
        "x = df.loc[:, [\"股票简称\", \"上市状态\"]]\n",
        "x.head()"
      ]
    },
    {
      "cell_type": "markdown",
      "metadata": {},
      "source": [
        "当然，如果只是取某列的全部行，上面的代码就和`df[['股票简称','上市状态']]`等价。\n",
        "\n",
        "同Python的切片，冒号一侧不写，则表示“到尽头”。"
      ]
    },
    {
      "cell_type": "code",
      "execution_count": 35,
      "metadata": {},
      "outputs": [
        {
          "data": {
            "text/html": [
              "<div>\n",
              "<style scoped>\n",
              "    .dataframe tbody tr th:only-of-type {\n",
              "        vertical-align: middle;\n",
              "    }\n",
              "\n",
              "    .dataframe tbody tr th {\n",
              "        vertical-align: top;\n",
              "    }\n",
              "\n",
              "    .dataframe thead th {\n",
              "        text-align: right;\n",
              "    }\n",
              "</style>\n",
              "<table border=\"1\" class=\"dataframe\">\n",
              "  <thead>\n",
              "    <tr style=\"text-align: right;\">\n",
              "      <th></th>\n",
              "      <th>所属城市</th>\n",
              "      <th>上市状态</th>\n",
              "    </tr>\n",
              "    <tr>\n",
              "      <th>股票代码</th>\n",
              "      <th></th>\n",
              "      <th></th>\n",
              "    </tr>\n",
              "  </thead>\n",
              "  <tbody>\n",
              "    <tr>\n",
              "      <th>000001</th>\n",
              "      <td>深圳市</td>\n",
              "      <td>正常上市</td>\n",
              "    </tr>\n",
              "    <tr>\n",
              "      <th>000002</th>\n",
              "      <td>深圳市</td>\n",
              "      <td>正常上市</td>\n",
              "    </tr>\n",
              "  </tbody>\n",
              "</table>\n",
              "</div>"
            ],
            "text/plain": [
              "       所属城市  上市状态\n",
              "股票代码             \n",
              "000001  深圳市  正常上市\n",
              "000002  深圳市  正常上市"
            ]
          },
          "execution_count": 35,
          "metadata": {},
          "output_type": "execute_result"
        }
      ],
      "source": [
        "x = df.loc[:\"000002\", \"所属城市\":]\n",
        "x"
      ]
    },
    {
      "cell_type": "markdown",
      "metadata": {},
      "source": [
        "\n",
        "### 列的次序\n",
        "\n",
        "在选择列的操作中，列的次序和你提供的列名List的次序完全一样。因此，取列的操作，包括`[]`和`.loc[]`，都可以用于改变列的次序。\n",
        "\n",
        "例如，把列名逆序：（当然，只要你获得了列名的List，就可以任意排序）"
      ]
    },
    {
      "cell_type": "code",
      "execution_count": 36,
      "metadata": {},
      "outputs": [
        {
          "data": {
            "text/html": [
              "<div>\n",
              "<style scoped>\n",
              "    .dataframe tbody tr th:only-of-type {\n",
              "        vertical-align: middle;\n",
              "    }\n",
              "\n",
              "    .dataframe tbody tr th {\n",
              "        vertical-align: top;\n",
              "    }\n",
              "\n",
              "    .dataframe thead th {\n",
              "        text-align: right;\n",
              "    }\n",
              "</style>\n",
              "<table border=\"1\" class=\"dataframe\">\n",
              "  <thead>\n",
              "    <tr style=\"text-align: right;\">\n",
              "      <th></th>\n",
              "      <th>上市状态</th>\n",
              "      <th>所属城市</th>\n",
              "      <th>所属省份</th>\n",
              "      <th>首次上市日期</th>\n",
              "      <th>注册资本</th>\n",
              "      <th>公司成立日期</th>\n",
              "      <th>股票简称</th>\n",
              "    </tr>\n",
              "    <tr>\n",
              "      <th>股票代码</th>\n",
              "      <th></th>\n",
              "      <th></th>\n",
              "      <th></th>\n",
              "      <th></th>\n",
              "      <th></th>\n",
              "      <th></th>\n",
              "      <th></th>\n",
              "    </tr>\n",
              "  </thead>\n",
              "  <tbody>\n",
              "    <tr>\n",
              "      <th>000001</th>\n",
              "      <td>正常上市</td>\n",
              "      <td>深圳市</td>\n",
              "      <td>广东省</td>\n",
              "      <td>1991-04-03</td>\n",
              "      <td>19405918198</td>\n",
              "      <td>1987-12-22</td>\n",
              "      <td>平安银行</td>\n",
              "    </tr>\n",
              "    <tr>\n",
              "      <th>000002</th>\n",
              "      <td>正常上市</td>\n",
              "      <td>深圳市</td>\n",
              "      <td>广东省</td>\n",
              "      <td>1991-01-29</td>\n",
              "      <td>11625383375</td>\n",
              "      <td>1988-11-01</td>\n",
              "      <td>万科A</td>\n",
              "    </tr>\n",
              "    <tr>\n",
              "      <th>000004</th>\n",
              "      <td>ST</td>\n",
              "      <td>深圳市</td>\n",
              "      <td>广东省</td>\n",
              "      <td>1991-01-14</td>\n",
              "      <td>156003000</td>\n",
              "      <td>1986-05-05</td>\n",
              "      <td>国华网安</td>\n",
              "    </tr>\n",
              "    <tr>\n",
              "      <th>000005</th>\n",
              "      <td>ST</td>\n",
              "      <td>深圳市</td>\n",
              "      <td>广东省</td>\n",
              "      <td>1990-12-10</td>\n",
              "      <td>1058536842</td>\n",
              "      <td>1990-02-01</td>\n",
              "      <td>ST 星源</td>\n",
              "    </tr>\n",
              "    <tr>\n",
              "      <th>000006</th>\n",
              "      <td>正常上市</td>\n",
              "      <td>深圳市</td>\n",
              "      <td>广东省</td>\n",
              "      <td>1992-04-27</td>\n",
              "      <td>1349995046</td>\n",
              "      <td>1989-04-01</td>\n",
              "      <td>深振业A</td>\n",
              "    </tr>\n",
              "  </tbody>\n",
              "</table>\n",
              "</div>"
            ],
            "text/plain": [
              "        上市状态 所属城市 所属省份     首次上市日期         注册资本     公司成立日期   股票简称\n",
              "股票代码                                                            \n",
              "000001  正常上市  深圳市  广东省 1991-04-03  19405918198 1987-12-22   平安银行\n",
              "000002  正常上市  深圳市  广东省 1991-01-29  11625383375 1988-11-01    万科A\n",
              "000004    ST  深圳市  广东省 1991-01-14    156003000 1986-05-05   国华网安\n",
              "000005    ST  深圳市  广东省 1990-12-10   1058536842 1990-02-01  ST 星源\n",
              "000006  正常上市  深圳市  广东省 1992-04-27   1349995046 1989-04-01   深振业A"
            ]
          },
          "execution_count": 36,
          "metadata": {},
          "output_type": "execute_result"
        }
      ],
      "source": [
        "# 逆序列名\n",
        "cols = df.columns  # 取得列名\n",
        "df[\n",
        "    cols[::-1]\n",
        "].head()  # 对逆序后的列名，用`[]`取列。当然，用df.loc[:,cols[::-1]]也一样。"
      ]
    },
    {
      "cell_type": "markdown",
      "metadata": {},
      "source": [
        "### 列运算\n",
        "\n",
        "每一列之间可以很方便地进行运算：任何操作都会自动应用到每一列的所有元素（如同NumPy中的广播）\n",
        "\n",
        "例如，注册资本转换为亿元，并保留2位数字。\n"
      ]
    },
    {
      "cell_type": "code",
      "execution_count": 37,
      "metadata": {},
      "outputs": [
        {
          "data": {
            "text/plain": [
              "股票代码\n",
              "000001    194.06\n",
              "000002    116.25\n",
              "000004      1.56\n",
              "000005     10.59\n",
              "000006     13.50\n",
              "Name: 注册资本, dtype: float64"
            ]
          },
          "execution_count": 37,
          "metadata": {},
          "output_type": "execute_result"
        }
      ],
      "source": [
        "(df[\"注册资本\"] / 100000000).round(2).head()"
      ]
    },
    {
      "cell_type": "markdown",
      "metadata": {},
      "source": [
        "注意到，Series经过运算后也会得到一个Series，可以加入原数据中的一个列：直接=赋值即可。"
      ]
    },
    {
      "cell_type": "code",
      "execution_count": 38,
      "metadata": {},
      "outputs": [
        {
          "data": {
            "text/html": [
              "<div>\n",
              "<style scoped>\n",
              "    .dataframe tbody tr th:only-of-type {\n",
              "        vertical-align: middle;\n",
              "    }\n",
              "\n",
              "    .dataframe tbody tr th {\n",
              "        vertical-align: top;\n",
              "    }\n",
              "\n",
              "    .dataframe thead th {\n",
              "        text-align: right;\n",
              "    }\n",
              "</style>\n",
              "<table border=\"1\" class=\"dataframe\">\n",
              "  <thead>\n",
              "    <tr style=\"text-align: right;\">\n",
              "      <th></th>\n",
              "      <th>股票简称</th>\n",
              "      <th>公司成立日期</th>\n",
              "      <th>注册资本</th>\n",
              "      <th>首次上市日期</th>\n",
              "      <th>所属省份</th>\n",
              "      <th>所属城市</th>\n",
              "      <th>上市状态</th>\n",
              "      <th>注册资本_亿</th>\n",
              "    </tr>\n",
              "    <tr>\n",
              "      <th>股票代码</th>\n",
              "      <th></th>\n",
              "      <th></th>\n",
              "      <th></th>\n",
              "      <th></th>\n",
              "      <th></th>\n",
              "      <th></th>\n",
              "      <th></th>\n",
              "      <th></th>\n",
              "    </tr>\n",
              "  </thead>\n",
              "  <tbody>\n",
              "    <tr>\n",
              "      <th>000001</th>\n",
              "      <td>平安银行</td>\n",
              "      <td>1987-12-22</td>\n",
              "      <td>19405918198</td>\n",
              "      <td>1991-04-03</td>\n",
              "      <td>广东省</td>\n",
              "      <td>深圳市</td>\n",
              "      <td>正常上市</td>\n",
              "      <td>194.06</td>\n",
              "    </tr>\n",
              "    <tr>\n",
              "      <th>000002</th>\n",
              "      <td>万科A</td>\n",
              "      <td>1988-11-01</td>\n",
              "      <td>11625383375</td>\n",
              "      <td>1991-01-29</td>\n",
              "      <td>广东省</td>\n",
              "      <td>深圳市</td>\n",
              "      <td>正常上市</td>\n",
              "      <td>116.25</td>\n",
              "    </tr>\n",
              "    <tr>\n",
              "      <th>000004</th>\n",
              "      <td>国华网安</td>\n",
              "      <td>1986-05-05</td>\n",
              "      <td>156003000</td>\n",
              "      <td>1991-01-14</td>\n",
              "      <td>广东省</td>\n",
              "      <td>深圳市</td>\n",
              "      <td>ST</td>\n",
              "      <td>1.56</td>\n",
              "    </tr>\n",
              "    <tr>\n",
              "      <th>000005</th>\n",
              "      <td>ST 星源</td>\n",
              "      <td>1990-02-01</td>\n",
              "      <td>1058536842</td>\n",
              "      <td>1990-12-10</td>\n",
              "      <td>广东省</td>\n",
              "      <td>深圳市</td>\n",
              "      <td>ST</td>\n",
              "      <td>10.59</td>\n",
              "    </tr>\n",
              "    <tr>\n",
              "      <th>000006</th>\n",
              "      <td>深振业A</td>\n",
              "      <td>1989-04-01</td>\n",
              "      <td>1349995046</td>\n",
              "      <td>1992-04-27</td>\n",
              "      <td>广东省</td>\n",
              "      <td>深圳市</td>\n",
              "      <td>正常上市</td>\n",
              "      <td>13.50</td>\n",
              "    </tr>\n",
              "  </tbody>\n",
              "</table>\n",
              "</div>"
            ],
            "text/plain": [
              "         股票简称     公司成立日期         注册资本     首次上市日期 所属省份 所属城市  上市状态  注册资本_亿\n",
              "股票代码                                                                    \n",
              "000001   平安银行 1987-12-22  19405918198 1991-04-03  广东省  深圳市  正常上市  194.06\n",
              "000002    万科A 1988-11-01  11625383375 1991-01-29  广东省  深圳市  正常上市  116.25\n",
              "000004   国华网安 1986-05-05    156003000 1991-01-14  广东省  深圳市    ST    1.56\n",
              "000005  ST 星源 1990-02-01   1058536842 1990-12-10  广东省  深圳市    ST   10.59\n",
              "000006   深振业A 1989-04-01   1349995046 1992-04-27  广东省  深圳市  正常上市   13.50"
            ]
          },
          "execution_count": 38,
          "metadata": {},
          "output_type": "execute_result"
        }
      ],
      "source": [
        "df[\"注册资本_亿\"] = (df[\"注册资本\"] / 100000000).round(2)\n",
        "df.head()"
      ]
    },
    {
      "cell_type": "markdown",
      "metadata": {},
      "source": [
        "### 删除行或者列\n",
        "\n",
        "使用`df.drop(行或者列标签,axis=0|1)`删除行或者列，其中参数axis = 0为行，=1为列。"
      ]
    },
    {
      "cell_type": "code",
      "execution_count": 39,
      "metadata": {},
      "outputs": [
        {
          "data": {
            "text/html": [
              "<div>\n",
              "<style scoped>\n",
              "    .dataframe tbody tr th:only-of-type {\n",
              "        vertical-align: middle;\n",
              "    }\n",
              "\n",
              "    .dataframe tbody tr th {\n",
              "        vertical-align: top;\n",
              "    }\n",
              "\n",
              "    .dataframe thead th {\n",
              "        text-align: right;\n",
              "    }\n",
              "</style>\n",
              "<table border=\"1\" class=\"dataframe\">\n",
              "  <thead>\n",
              "    <tr style=\"text-align: right;\">\n",
              "      <th></th>\n",
              "      <th>股票简称</th>\n",
              "      <th>公司成立日期</th>\n",
              "      <th>首次上市日期</th>\n",
              "      <th>所属省份</th>\n",
              "      <th>所属城市</th>\n",
              "      <th>上市状态</th>\n",
              "      <th>注册资本_亿</th>\n",
              "    </tr>\n",
              "    <tr>\n",
              "      <th>股票代码</th>\n",
              "      <th></th>\n",
              "      <th></th>\n",
              "      <th></th>\n",
              "      <th></th>\n",
              "      <th></th>\n",
              "      <th></th>\n",
              "      <th></th>\n",
              "    </tr>\n",
              "  </thead>\n",
              "  <tbody>\n",
              "    <tr>\n",
              "      <th>000001</th>\n",
              "      <td>平安银行</td>\n",
              "      <td>1987-12-22</td>\n",
              "      <td>1991-04-03</td>\n",
              "      <td>广东省</td>\n",
              "      <td>深圳市</td>\n",
              "      <td>正常上市</td>\n",
              "      <td>194.06</td>\n",
              "    </tr>\n",
              "    <tr>\n",
              "      <th>000002</th>\n",
              "      <td>万科A</td>\n",
              "      <td>1988-11-01</td>\n",
              "      <td>1991-01-29</td>\n",
              "      <td>广东省</td>\n",
              "      <td>深圳市</td>\n",
              "      <td>正常上市</td>\n",
              "      <td>116.25</td>\n",
              "    </tr>\n",
              "    <tr>\n",
              "      <th>000004</th>\n",
              "      <td>国华网安</td>\n",
              "      <td>1986-05-05</td>\n",
              "      <td>1991-01-14</td>\n",
              "      <td>广东省</td>\n",
              "      <td>深圳市</td>\n",
              "      <td>ST</td>\n",
              "      <td>1.56</td>\n",
              "    </tr>\n",
              "    <tr>\n",
              "      <th>000005</th>\n",
              "      <td>ST 星源</td>\n",
              "      <td>1990-02-01</td>\n",
              "      <td>1990-12-10</td>\n",
              "      <td>广东省</td>\n",
              "      <td>深圳市</td>\n",
              "      <td>ST</td>\n",
              "      <td>10.59</td>\n",
              "    </tr>\n",
              "    <tr>\n",
              "      <th>000006</th>\n",
              "      <td>深振业A</td>\n",
              "      <td>1989-04-01</td>\n",
              "      <td>1992-04-27</td>\n",
              "      <td>广东省</td>\n",
              "      <td>深圳市</td>\n",
              "      <td>正常上市</td>\n",
              "      <td>13.50</td>\n",
              "    </tr>\n",
              "  </tbody>\n",
              "</table>\n",
              "</div>"
            ],
            "text/plain": [
              "         股票简称     公司成立日期     首次上市日期 所属省份 所属城市  上市状态  注册资本_亿\n",
              "股票代码                                                       \n",
              "000001   平安银行 1987-12-22 1991-04-03  广东省  深圳市  正常上市  194.06\n",
              "000002    万科A 1988-11-01 1991-01-29  广东省  深圳市  正常上市  116.25\n",
              "000004   国华网安 1986-05-05 1991-01-14  广东省  深圳市    ST    1.56\n",
              "000005  ST 星源 1990-02-01 1990-12-10  广东省  深圳市    ST   10.59\n",
              "000006   深振业A 1989-04-01 1992-04-27  广东省  深圳市  正常上市   13.50"
            ]
          },
          "execution_count": 39,
          "metadata": {},
          "output_type": "execute_result"
        }
      ],
      "source": [
        "# 删除“注册资本”列；如果要修改df本身，则inplace = True\n",
        "df.drop(\"注册资本\", axis=1).head()"
      ]
    },
    {
      "cell_type": "code",
      "execution_count": 40,
      "metadata": {},
      "outputs": [
        {
          "data": {
            "text/html": [
              "<div>\n",
              "<style scoped>\n",
              "    .dataframe tbody tr th:only-of-type {\n",
              "        vertical-align: middle;\n",
              "    }\n",
              "\n",
              "    .dataframe tbody tr th {\n",
              "        vertical-align: top;\n",
              "    }\n",
              "\n",
              "    .dataframe thead th {\n",
              "        text-align: right;\n",
              "    }\n",
              "</style>\n",
              "<table border=\"1\" class=\"dataframe\">\n",
              "  <thead>\n",
              "    <tr style=\"text-align: right;\">\n",
              "      <th></th>\n",
              "      <th>股票简称</th>\n",
              "      <th>公司成立日期</th>\n",
              "      <th>注册资本</th>\n",
              "      <th>首次上市日期</th>\n",
              "      <th>所属省份</th>\n",
              "      <th>所属城市</th>\n",
              "      <th>上市状态</th>\n",
              "      <th>注册资本_亿</th>\n",
              "    </tr>\n",
              "    <tr>\n",
              "      <th>股票代码</th>\n",
              "      <th></th>\n",
              "      <th></th>\n",
              "      <th></th>\n",
              "      <th></th>\n",
              "      <th></th>\n",
              "      <th></th>\n",
              "      <th></th>\n",
              "      <th></th>\n",
              "    </tr>\n",
              "  </thead>\n",
              "  <tbody>\n",
              "    <tr>\n",
              "      <th>000002</th>\n",
              "      <td>万科A</td>\n",
              "      <td>1988-11-01</td>\n",
              "      <td>11625383375</td>\n",
              "      <td>1991-01-29</td>\n",
              "      <td>广东省</td>\n",
              "      <td>深圳市</td>\n",
              "      <td>正常上市</td>\n",
              "      <td>116.25</td>\n",
              "    </tr>\n",
              "    <tr>\n",
              "      <th>000004</th>\n",
              "      <td>国华网安</td>\n",
              "      <td>1986-05-05</td>\n",
              "      <td>156003000</td>\n",
              "      <td>1991-01-14</td>\n",
              "      <td>广东省</td>\n",
              "      <td>深圳市</td>\n",
              "      <td>ST</td>\n",
              "      <td>1.56</td>\n",
              "    </tr>\n",
              "    <tr>\n",
              "      <th>000005</th>\n",
              "      <td>ST 星源</td>\n",
              "      <td>1990-02-01</td>\n",
              "      <td>1058536842</td>\n",
              "      <td>1990-12-10</td>\n",
              "      <td>广东省</td>\n",
              "      <td>深圳市</td>\n",
              "      <td>ST</td>\n",
              "      <td>10.59</td>\n",
              "    </tr>\n",
              "    <tr>\n",
              "      <th>000006</th>\n",
              "      <td>深振业A</td>\n",
              "      <td>1989-04-01</td>\n",
              "      <td>1349995046</td>\n",
              "      <td>1992-04-27</td>\n",
              "      <td>广东省</td>\n",
              "      <td>深圳市</td>\n",
              "      <td>正常上市</td>\n",
              "      <td>13.50</td>\n",
              "    </tr>\n",
              "    <tr>\n",
              "      <th>000007</th>\n",
              "      <td>*ST 全新</td>\n",
              "      <td>1988-11-21</td>\n",
              "      <td>346448044</td>\n",
              "      <td>1992-04-13</td>\n",
              "      <td>广东省</td>\n",
              "      <td>深圳市</td>\n",
              "      <td>正常上市</td>\n",
              "      <td>3.46</td>\n",
              "    </tr>\n",
              "  </tbody>\n",
              "</table>\n",
              "</div>"
            ],
            "text/plain": [
              "          股票简称     公司成立日期         注册资本     首次上市日期 所属省份 所属城市  上市状态  注册资本_亿\n",
              "股票代码                                                                     \n",
              "000002     万科A 1988-11-01  11625383375 1991-01-29  广东省  深圳市  正常上市  116.25\n",
              "000004    国华网安 1986-05-05    156003000 1991-01-14  广东省  深圳市    ST    1.56\n",
              "000005   ST 星源 1990-02-01   1058536842 1990-12-10  广东省  深圳市    ST   10.59\n",
              "000006    深振业A 1989-04-01   1349995046 1992-04-27  广东省  深圳市  正常上市   13.50\n",
              "000007  *ST 全新 1988-11-21    346448044 1992-04-13  广东省  深圳市  正常上市    3.46"
            ]
          },
          "execution_count": 40,
          "metadata": {},
          "output_type": "execute_result"
        }
      ],
      "source": [
        "# 删除标签为00001的行\n",
        "df.drop(\"000001\", axis=0).head()"
      ]
    },
    {
      "cell_type": "markdown",
      "metadata": {},
      "source": [
        "<FONT COLOR=\"RED\">注意</FONT>: pandas中，包括drop在内，很多操作“默认不修改原数据”，而是“修改后的数据作为返回值”。因此，需要这样把修改后的数据再次赋值。\n",
        "\n",
        "```{python}\n",
        "df = df.drop( <参数> ) # 把修改后的数据再次赋值给df\n",
        "```\n",
        "\n",
        "如果要“原地修改”，直接改变原始数据，那么需要添加 `inplace=True`，此时原值被修改，返回值变为None。\n",
        "\n",
        "```{python}\n",
        "df.drop( <参数>, inplace=True ) # 在原始数据上修改，不用再赋值\n",
        "```"
      ]
    },
    {
      "cell_type": "markdown",
      "metadata": {},
      "source": [
        "### iloc：按位置取得行和列\n",
        "\n",
        "`.iloc[行坐标，列坐标]`：用法和`loc`非常类似，但只是把索引index（索引可以是任何序列），换成下标（从0开始）。\n",
        "\n",
        "用法和Python的切片很类似。\n"
      ]
    },
    {
      "cell_type": "code",
      "execution_count": 41,
      "metadata": {},
      "outputs": [
        {
          "data": {
            "text/html": [
              "<div>\n",
              "<style scoped>\n",
              "    .dataframe tbody tr th:only-of-type {\n",
              "        vertical-align: middle;\n",
              "    }\n",
              "\n",
              "    .dataframe tbody tr th {\n",
              "        vertical-align: top;\n",
              "    }\n",
              "\n",
              "    .dataframe thead th {\n",
              "        text-align: right;\n",
              "    }\n",
              "</style>\n",
              "<table border=\"1\" class=\"dataframe\">\n",
              "  <thead>\n",
              "    <tr style=\"text-align: right;\">\n",
              "      <th></th>\n",
              "      <th>股票代码</th>\n",
              "      <th>股票简称</th>\n",
              "      <th>公司成立日期</th>\n",
              "      <th>注册资本</th>\n",
              "      <th>首次上市日期</th>\n",
              "      <th>所属省份</th>\n",
              "      <th>所属城市</th>\n",
              "      <th>上市状态</th>\n",
              "      <th>注册资本_亿</th>\n",
              "    </tr>\n",
              "  </thead>\n",
              "  <tbody>\n",
              "    <tr>\n",
              "      <th>0</th>\n",
              "      <td>000001</td>\n",
              "      <td>平安银行</td>\n",
              "      <td>1987-12-22</td>\n",
              "      <td>19405918198</td>\n",
              "      <td>1991-04-03</td>\n",
              "      <td>广东省</td>\n",
              "      <td>深圳市</td>\n",
              "      <td>正常上市</td>\n",
              "      <td>194.06</td>\n",
              "    </tr>\n",
              "    <tr>\n",
              "      <th>1</th>\n",
              "      <td>000002</td>\n",
              "      <td>万科A</td>\n",
              "      <td>1988-11-01</td>\n",
              "      <td>11625383375</td>\n",
              "      <td>1991-01-29</td>\n",
              "      <td>广东省</td>\n",
              "      <td>深圳市</td>\n",
              "      <td>正常上市</td>\n",
              "      <td>116.25</td>\n",
              "    </tr>\n",
              "    <tr>\n",
              "      <th>2</th>\n",
              "      <td>000004</td>\n",
              "      <td>国华网安</td>\n",
              "      <td>1986-05-05</td>\n",
              "      <td>156003000</td>\n",
              "      <td>1991-01-14</td>\n",
              "      <td>广东省</td>\n",
              "      <td>深圳市</td>\n",
              "      <td>ST</td>\n",
              "      <td>1.56</td>\n",
              "    </tr>\n",
              "    <tr>\n",
              "      <th>3</th>\n",
              "      <td>000005</td>\n",
              "      <td>ST 星源</td>\n",
              "      <td>1990-02-01</td>\n",
              "      <td>1058536842</td>\n",
              "      <td>1990-12-10</td>\n",
              "      <td>广东省</td>\n",
              "      <td>深圳市</td>\n",
              "      <td>ST</td>\n",
              "      <td>10.59</td>\n",
              "    </tr>\n",
              "    <tr>\n",
              "      <th>4</th>\n",
              "      <td>000006</td>\n",
              "      <td>深振业A</td>\n",
              "      <td>1989-04-01</td>\n",
              "      <td>1349995046</td>\n",
              "      <td>1992-04-27</td>\n",
              "      <td>广东省</td>\n",
              "      <td>深圳市</td>\n",
              "      <td>正常上市</td>\n",
              "      <td>13.50</td>\n",
              "    </tr>\n",
              "  </tbody>\n",
              "</table>\n",
              "</div>"
            ],
            "text/plain": [
              "     股票代码   股票简称     公司成立日期         注册资本     首次上市日期 所属省份 所属城市  上市状态  注册资本_亿\n",
              "0  000001   平安银行 1987-12-22  19405918198 1991-04-03  广东省  深圳市  正常上市  194.06\n",
              "1  000002    万科A 1988-11-01  11625383375 1991-01-29  广东省  深圳市  正常上市  116.25\n",
              "2  000004   国华网安 1986-05-05    156003000 1991-01-14  广东省  深圳市    ST    1.56\n",
              "3  000005  ST 星源 1990-02-01   1058536842 1990-12-10  广东省  深圳市    ST   10.59\n",
              "4  000006   深振业A 1989-04-01   1349995046 1992-04-27  广东省  深圳市  正常上市   13.50"
            ]
          },
          "execution_count": 41,
          "metadata": {},
          "output_type": "execute_result"
        }
      ],
      "source": [
        "# 首先把股票代码还原成普通的列\n",
        "df.reset_index(inplace=True)\n",
        "df.head()"
      ]
    },
    {
      "cell_type": "code",
      "execution_count": 42,
      "metadata": {},
      "outputs": [
        {
          "data": {
            "text/html": [
              "<div>\n",
              "<style scoped>\n",
              "    .dataframe tbody tr th:only-of-type {\n",
              "        vertical-align: middle;\n",
              "    }\n",
              "\n",
              "    .dataframe tbody tr th {\n",
              "        vertical-align: top;\n",
              "    }\n",
              "\n",
              "    .dataframe thead th {\n",
              "        text-align: right;\n",
              "    }\n",
              "</style>\n",
              "<table border=\"1\" class=\"dataframe\">\n",
              "  <thead>\n",
              "    <tr style=\"text-align: right;\">\n",
              "      <th></th>\n",
              "      <th>股票代码</th>\n",
              "      <th>股票简称</th>\n",
              "      <th>公司成立日期</th>\n",
              "      <th>注册资本</th>\n",
              "      <th>首次上市日期</th>\n",
              "      <th>所属省份</th>\n",
              "      <th>所属城市</th>\n",
              "      <th>上市状态</th>\n",
              "      <th>注册资本_亿</th>\n",
              "    </tr>\n",
              "  </thead>\n",
              "  <tbody>\n",
              "    <tr>\n",
              "      <th>0</th>\n",
              "      <td>000001</td>\n",
              "      <td>平安银行</td>\n",
              "      <td>1987-12-22</td>\n",
              "      <td>19405918198</td>\n",
              "      <td>1991-04-03</td>\n",
              "      <td>广东省</td>\n",
              "      <td>深圳市</td>\n",
              "      <td>正常上市</td>\n",
              "      <td>194.06</td>\n",
              "    </tr>\n",
              "    <tr>\n",
              "      <th>1</th>\n",
              "      <td>000002</td>\n",
              "      <td>万科A</td>\n",
              "      <td>1988-11-01</td>\n",
              "      <td>11625383375</td>\n",
              "      <td>1991-01-29</td>\n",
              "      <td>广东省</td>\n",
              "      <td>深圳市</td>\n",
              "      <td>正常上市</td>\n",
              "      <td>116.25</td>\n",
              "    </tr>\n",
              "    <tr>\n",
              "      <th>2</th>\n",
              "      <td>000004</td>\n",
              "      <td>国华网安</td>\n",
              "      <td>1986-05-05</td>\n",
              "      <td>156003000</td>\n",
              "      <td>1991-01-14</td>\n",
              "      <td>广东省</td>\n",
              "      <td>深圳市</td>\n",
              "      <td>ST</td>\n",
              "      <td>1.56</td>\n",
              "    </tr>\n",
              "    <tr>\n",
              "      <th>3</th>\n",
              "      <td>000005</td>\n",
              "      <td>ST 星源</td>\n",
              "      <td>1990-02-01</td>\n",
              "      <td>1058536842</td>\n",
              "      <td>1990-12-10</td>\n",
              "      <td>广东省</td>\n",
              "      <td>深圳市</td>\n",
              "      <td>ST</td>\n",
              "      <td>10.59</td>\n",
              "    </tr>\n",
              "    <tr>\n",
              "      <th>4</th>\n",
              "      <td>000006</td>\n",
              "      <td>深振业A</td>\n",
              "      <td>1989-04-01</td>\n",
              "      <td>1349995046</td>\n",
              "      <td>1992-04-27</td>\n",
              "      <td>广东省</td>\n",
              "      <td>深圳市</td>\n",
              "      <td>正常上市</td>\n",
              "      <td>13.50</td>\n",
              "    </tr>\n",
              "  </tbody>\n",
              "</table>\n",
              "</div>"
            ],
            "text/plain": [
              "     股票代码   股票简称     公司成立日期         注册资本     首次上市日期 所属省份 所属城市  上市状态  注册资本_亿\n",
              "0  000001   平安银行 1987-12-22  19405918198 1991-04-03  广东省  深圳市  正常上市  194.06\n",
              "1  000002    万科A 1988-11-01  11625383375 1991-01-29  广东省  深圳市  正常上市  116.25\n",
              "2  000004   国华网安 1986-05-05    156003000 1991-01-14  广东省  深圳市    ST    1.56\n",
              "3  000005  ST 星源 1990-02-01   1058536842 1990-12-10  广东省  深圳市    ST   10.59\n",
              "4  000006   深振业A 1989-04-01   1349995046 1992-04-27  广东省  深圳市  正常上市   13.50"
            ]
          },
          "execution_count": 42,
          "metadata": {},
          "output_type": "execute_result"
        }
      ],
      "source": [
        "# 取前5行，近似于df.head()\n",
        "df.iloc[:5]"
      ]
    },
    {
      "cell_type": "code",
      "execution_count": 43,
      "metadata": {},
      "outputs": [
        {
          "data": {
            "text/html": [
              "<div>\n",
              "<style scoped>\n",
              "    .dataframe tbody tr th:only-of-type {\n",
              "        vertical-align: middle;\n",
              "    }\n",
              "\n",
              "    .dataframe tbody tr th {\n",
              "        vertical-align: top;\n",
              "    }\n",
              "\n",
              "    .dataframe thead th {\n",
              "        text-align: right;\n",
              "    }\n",
              "</style>\n",
              "<table border=\"1\" class=\"dataframe\">\n",
              "  <thead>\n",
              "    <tr style=\"text-align: right;\">\n",
              "      <th></th>\n",
              "      <th>股票代码</th>\n",
              "      <th>股票简称</th>\n",
              "      <th>公司成立日期</th>\n",
              "      <th>注册资本</th>\n",
              "      <th>首次上市日期</th>\n",
              "      <th>所属省份</th>\n",
              "      <th>所属城市</th>\n",
              "      <th>上市状态</th>\n",
              "      <th>注册资本_亿</th>\n",
              "    </tr>\n",
              "  </thead>\n",
              "  <tbody>\n",
              "    <tr>\n",
              "      <th>0</th>\n",
              "      <td>000001</td>\n",
              "      <td>平安银行</td>\n",
              "      <td>1987-12-22</td>\n",
              "      <td>19405918198</td>\n",
              "      <td>1991-04-03</td>\n",
              "      <td>广东省</td>\n",
              "      <td>深圳市</td>\n",
              "      <td>正常上市</td>\n",
              "      <td>194.06</td>\n",
              "    </tr>\n",
              "    <tr>\n",
              "      <th>2</th>\n",
              "      <td>000004</td>\n",
              "      <td>国华网安</td>\n",
              "      <td>1986-05-05</td>\n",
              "      <td>156003000</td>\n",
              "      <td>1991-01-14</td>\n",
              "      <td>广东省</td>\n",
              "      <td>深圳市</td>\n",
              "      <td>ST</td>\n",
              "      <td>1.56</td>\n",
              "    </tr>\n",
              "    <tr>\n",
              "      <th>4</th>\n",
              "      <td>000006</td>\n",
              "      <td>深振业A</td>\n",
              "      <td>1989-04-01</td>\n",
              "      <td>1349995046</td>\n",
              "      <td>1992-04-27</td>\n",
              "      <td>广东省</td>\n",
              "      <td>深圳市</td>\n",
              "      <td>正常上市</td>\n",
              "      <td>13.50</td>\n",
              "    </tr>\n",
              "    <tr>\n",
              "      <th>6</th>\n",
              "      <td>000008</td>\n",
              "      <td>神州高铁</td>\n",
              "      <td>1989-10-11</td>\n",
              "      <td>2780795346</td>\n",
              "      <td>1992-05-07</td>\n",
              "      <td>北京市</td>\n",
              "      <td>北京市</td>\n",
              "      <td>正常上市</td>\n",
              "      <td>27.81</td>\n",
              "    </tr>\n",
              "  </tbody>\n",
              "</table>\n",
              "</div>"
            ],
            "text/plain": [
              "     股票代码  股票简称     公司成立日期         注册资本     首次上市日期 所属省份 所属城市  上市状态  注册资本_亿\n",
              "0  000001  平安银行 1987-12-22  19405918198 1991-04-03  广东省  深圳市  正常上市  194.06\n",
              "2  000004  国华网安 1986-05-05    156003000 1991-01-14  广东省  深圳市    ST    1.56\n",
              "4  000006  深振业A 1989-04-01   1349995046 1992-04-27  广东省  深圳市  正常上市   13.50\n",
              "6  000008  神州高铁 1989-10-11   2780795346 1992-05-07  北京市  北京市  正常上市   27.81"
            ]
          },
          "execution_count": 43,
          "metadata": {},
          "output_type": "execute_result"
        }
      ],
      "source": [
        "# iloc接受列表，如取0,2,4,6行\n",
        "df.iloc[[0, 2, 4, 6]]"
      ]
    },
    {
      "cell_type": "code",
      "execution_count": 44,
      "metadata": {},
      "outputs": [
        {
          "data": {
            "text/html": [
              "<div>\n",
              "<style scoped>\n",
              "    .dataframe tbody tr th:only-of-type {\n",
              "        vertical-align: middle;\n",
              "    }\n",
              "\n",
              "    .dataframe tbody tr th {\n",
              "        vertical-align: top;\n",
              "    }\n",
              "\n",
              "    .dataframe thead th {\n",
              "        text-align: right;\n",
              "    }\n",
              "</style>\n",
              "<table border=\"1\" class=\"dataframe\">\n",
              "  <thead>\n",
              "    <tr style=\"text-align: right;\">\n",
              "      <th></th>\n",
              "      <th>股票代码</th>\n",
              "      <th>股票简称</th>\n",
              "      <th>公司成立日期</th>\n",
              "      <th>注册资本</th>\n",
              "      <th>首次上市日期</th>\n",
              "      <th>所属省份</th>\n",
              "      <th>所属城市</th>\n",
              "      <th>上市状态</th>\n",
              "      <th>注册资本_亿</th>\n",
              "    </tr>\n",
              "  </thead>\n",
              "  <tbody>\n",
              "    <tr>\n",
              "      <th>19</th>\n",
              "      <td>000026</td>\n",
              "      <td>飞亚达</td>\n",
              "      <td>1993-04-18</td>\n",
              "      <td>426051015</td>\n",
              "      <td>1993-06-03</td>\n",
              "      <td>广东省</td>\n",
              "      <td>深圳市</td>\n",
              "      <td>正常上市</td>\n",
              "      <td>4.26</td>\n",
              "    </tr>\n",
              "    <tr>\n",
              "      <th>38</th>\n",
              "      <td>000050</td>\n",
              "      <td>深天马A</td>\n",
              "      <td>1983-11-08</td>\n",
              "      <td>2457747661</td>\n",
              "      <td>1995-03-15</td>\n",
              "      <td>广东省</td>\n",
              "      <td>深圳市</td>\n",
              "      <td>正常上市</td>\n",
              "      <td>24.58</td>\n",
              "    </tr>\n",
              "    <tr>\n",
              "      <th>31</th>\n",
              "      <td>000039</td>\n",
              "      <td>中集集团</td>\n",
              "      <td>1992-09-30</td>\n",
              "      <td>3595014000</td>\n",
              "      <td>1994-03-23</td>\n",
              "      <td>广东省</td>\n",
              "      <td>深圳市</td>\n",
              "      <td>正常上市</td>\n",
              "      <td>35.95</td>\n",
              "    </tr>\n",
              "    <tr>\n",
              "      <th>32</th>\n",
              "      <td>000040</td>\n",
              "      <td>东旭蓝天</td>\n",
              "      <td>1994-06-15</td>\n",
              "      <td>1486873870</td>\n",
              "      <td>1994-08-08</td>\n",
              "      <td>广东省</td>\n",
              "      <td>深圳市</td>\n",
              "      <td>正常上市</td>\n",
              "      <td>14.87</td>\n",
              "    </tr>\n",
              "    <tr>\n",
              "      <th>15</th>\n",
              "      <td>000020</td>\n",
              "      <td>深华发A</td>\n",
              "      <td>1992-03-20</td>\n",
              "      <td>283161227</td>\n",
              "      <td>1992-04-28</td>\n",
              "      <td>广东省</td>\n",
              "      <td>深圳市</td>\n",
              "      <td>正常上市</td>\n",
              "      <td>2.83</td>\n",
              "    </tr>\n",
              "  </tbody>\n",
              "</table>\n",
              "</div>"
            ],
            "text/plain": [
              "      股票代码  股票简称     公司成立日期        注册资本     首次上市日期 所属省份 所属城市  上市状态  注册资本_亿\n",
              "19  000026   飞亚达 1993-04-18   426051015 1993-06-03  广东省  深圳市  正常上市    4.26\n",
              "38  000050  深天马A 1983-11-08  2457747661 1995-03-15  广东省  深圳市  正常上市   24.58\n",
              "31  000039  中集集团 1992-09-30  3595014000 1994-03-23  广东省  深圳市  正常上市   35.95\n",
              "32  000040  东旭蓝天 1994-06-15  1486873870 1994-08-08  广东省  深圳市  正常上市   14.87\n",
              "15  000020  深华发A 1992-03-20   283161227 1992-04-28  广东省  深圳市  正常上市    2.83"
            ]
          },
          "execution_count": 44,
          "metadata": {},
          "output_type": "execute_result"
        }
      ],
      "source": [
        "# 抽样：随机选行。\n",
        "df.sample(5)"
      ]
    },
    {
      "cell_type": "markdown",
      "metadata": {},
      "source": [
        "### 按条件筛选"
      ]
    },
    {
      "cell_type": "code",
      "execution_count": 45,
      "metadata": {},
      "outputs": [
        {
          "data": {
            "text/plain": [
              "0     True\n",
              "1     True\n",
              "2    False\n",
              "3    False\n",
              "4    False\n",
              "Name: 注册资本, dtype: bool"
            ]
          },
          "execution_count": 45,
          "metadata": {},
          "output_type": "execute_result"
        }
      ],
      "source": [
        "# 按条件筛选：如，选择注册资本大于20亿的公司\n",
        "\n",
        "# 创建条件\n",
        "mask = df[\"注册资本\"] > 2000000000\n",
        "mask.head()"
      ]
    },
    {
      "cell_type": "code",
      "execution_count": 46,
      "metadata": {},
      "outputs": [
        {
          "data": {
            "text/html": [
              "<div>\n",
              "<style scoped>\n",
              "    .dataframe tbody tr th:only-of-type {\n",
              "        vertical-align: middle;\n",
              "    }\n",
              "\n",
              "    .dataframe tbody tr th {\n",
              "        vertical-align: top;\n",
              "    }\n",
              "\n",
              "    .dataframe thead th {\n",
              "        text-align: right;\n",
              "    }\n",
              "</style>\n",
              "<table border=\"1\" class=\"dataframe\">\n",
              "  <thead>\n",
              "    <tr style=\"text-align: right;\">\n",
              "      <th></th>\n",
              "      <th>股票代码</th>\n",
              "      <th>股票简称</th>\n",
              "      <th>公司成立日期</th>\n",
              "      <th>注册资本</th>\n",
              "      <th>首次上市日期</th>\n",
              "      <th>所属省份</th>\n",
              "      <th>所属城市</th>\n",
              "      <th>上市状态</th>\n",
              "      <th>注册资本_亿</th>\n",
              "    </tr>\n",
              "  </thead>\n",
              "  <tbody>\n",
              "    <tr>\n",
              "      <th>0</th>\n",
              "      <td>000001</td>\n",
              "      <td>平安银行</td>\n",
              "      <td>1987-12-22</td>\n",
              "      <td>19405918198</td>\n",
              "      <td>1991-04-03</td>\n",
              "      <td>广东省</td>\n",
              "      <td>深圳市</td>\n",
              "      <td>正常上市</td>\n",
              "      <td>194.06</td>\n",
              "    </tr>\n",
              "    <tr>\n",
              "      <th>1</th>\n",
              "      <td>000002</td>\n",
              "      <td>万科A</td>\n",
              "      <td>1988-11-01</td>\n",
              "      <td>11625383375</td>\n",
              "      <td>1991-01-29</td>\n",
              "      <td>广东省</td>\n",
              "      <td>深圳市</td>\n",
              "      <td>正常上市</td>\n",
              "      <td>116.25</td>\n",
              "    </tr>\n",
              "    <tr>\n",
              "      <th>6</th>\n",
              "      <td>000008</td>\n",
              "      <td>神州高铁</td>\n",
              "      <td>1989-10-11</td>\n",
              "      <td>2780795346</td>\n",
              "      <td>1992-05-07</td>\n",
              "      <td>北京市</td>\n",
              "      <td>北京市</td>\n",
              "      <td>正常上市</td>\n",
              "      <td>27.81</td>\n",
              "    </tr>\n",
              "    <tr>\n",
              "      <th>7</th>\n",
              "      <td>000009</td>\n",
              "      <td>中国宝安</td>\n",
              "      <td>1990-09-01</td>\n",
              "      <td>2579213965</td>\n",
              "      <td>1991-06-25</td>\n",
              "      <td>广东省</td>\n",
              "      <td>深圳市</td>\n",
              "      <td>正常上市</td>\n",
              "      <td>25.79</td>\n",
              "    </tr>\n",
              "    <tr>\n",
              "      <th>10</th>\n",
              "      <td>000012</td>\n",
              "      <td>南玻A</td>\n",
              "      <td>1984-09-10</td>\n",
              "      <td>3070692107</td>\n",
              "      <td>1992-02-28</td>\n",
              "      <td>广东省</td>\n",
              "      <td>深圳市</td>\n",
              "      <td>正常上市</td>\n",
              "      <td>30.71</td>\n",
              "    </tr>\n",
              "    <tr>\n",
              "      <th>12</th>\n",
              "      <td>000016</td>\n",
              "      <td>深康佳A</td>\n",
              "      <td>1980-10-01</td>\n",
              "      <td>2407945408</td>\n",
              "      <td>1992-03-27</td>\n",
              "      <td>广东省</td>\n",
              "      <td>深圳市</td>\n",
              "      <td>正常上市</td>\n",
              "      <td>24.08</td>\n",
              "    </tr>\n",
              "    <tr>\n",
              "      <th>20</th>\n",
              "      <td>000027</td>\n",
              "      <td>深圳能源</td>\n",
              "      <td>1993-06-02</td>\n",
              "      <td>4757389916</td>\n",
              "      <td>1993-09-03</td>\n",
              "      <td>广东省</td>\n",
              "      <td>深圳市</td>\n",
              "      <td>正常上市</td>\n",
              "      <td>47.57</td>\n",
              "    </tr>\n",
              "    <tr>\n",
              "      <th>24</th>\n",
              "      <td>000031</td>\n",
              "      <td>大悦城</td>\n",
              "      <td>1993-09-26</td>\n",
              "      <td>4286313339</td>\n",
              "      <td>1993-10-08</td>\n",
              "      <td>广东省</td>\n",
              "      <td>深圳市</td>\n",
              "      <td>正常上市</td>\n",
              "      <td>42.86</td>\n",
              "    </tr>\n",
              "    <tr>\n",
              "      <th>27</th>\n",
              "      <td>000035</td>\n",
              "      <td>中国天楹</td>\n",
              "      <td>1994-01-08</td>\n",
              "      <td>2523777297</td>\n",
              "      <td>1994-04-08</td>\n",
              "      <td>江苏省</td>\n",
              "      <td>南通市</td>\n",
              "      <td>正常上市</td>\n",
              "      <td>25.24</td>\n",
              "    </tr>\n",
              "    <tr>\n",
              "      <th>31</th>\n",
              "      <td>000039</td>\n",
              "      <td>中集集团</td>\n",
              "      <td>1992-09-30</td>\n",
              "      <td>3595014000</td>\n",
              "      <td>1994-03-23</td>\n",
              "      <td>广东省</td>\n",
              "      <td>深圳市</td>\n",
              "      <td>正常上市</td>\n",
              "      <td>35.95</td>\n",
              "    </tr>\n",
              "    <tr>\n",
              "      <th>35</th>\n",
              "      <td>000046</td>\n",
              "      <td>泛海控股</td>\n",
              "      <td>1989-01-04</td>\n",
              "      <td>5196200656</td>\n",
              "      <td>1994-09-12</td>\n",
              "      <td>北京市</td>\n",
              "      <td>北京市</td>\n",
              "      <td>正常上市</td>\n",
              "      <td>51.96</td>\n",
              "    </tr>\n",
              "    <tr>\n",
              "      <th>38</th>\n",
              "      <td>000050</td>\n",
              "      <td>深天马A</td>\n",
              "      <td>1983-11-08</td>\n",
              "      <td>2457747661</td>\n",
              "      <td>1995-03-15</td>\n",
              "      <td>广东省</td>\n",
              "      <td>深圳市</td>\n",
              "      <td>正常上市</td>\n",
              "      <td>24.58</td>\n",
              "    </tr>\n",
              "  </tbody>\n",
              "</table>\n",
              "</div>"
            ],
            "text/plain": [
              "      股票代码  股票简称     公司成立日期         注册资本     首次上市日期 所属省份 所属城市  上市状态  注册资本_亿\n",
              "0   000001  平安银行 1987-12-22  19405918198 1991-04-03  广东省  深圳市  正常上市  194.06\n",
              "1   000002   万科A 1988-11-01  11625383375 1991-01-29  广东省  深圳市  正常上市  116.25\n",
              "6   000008  神州高铁 1989-10-11   2780795346 1992-05-07  北京市  北京市  正常上市   27.81\n",
              "7   000009  中国宝安 1990-09-01   2579213965 1991-06-25  广东省  深圳市  正常上市   25.79\n",
              "10  000012   南玻A 1984-09-10   3070692107 1992-02-28  广东省  深圳市  正常上市   30.71\n",
              "12  000016  深康佳A 1980-10-01   2407945408 1992-03-27  广东省  深圳市  正常上市   24.08\n",
              "20  000027  深圳能源 1993-06-02   4757389916 1993-09-03  广东省  深圳市  正常上市   47.57\n",
              "24  000031   大悦城 1993-09-26   4286313339 1993-10-08  广东省  深圳市  正常上市   42.86\n",
              "27  000035  中国天楹 1994-01-08   2523777297 1994-04-08  江苏省  南通市  正常上市   25.24\n",
              "31  000039  中集集团 1992-09-30   3595014000 1994-03-23  广东省  深圳市  正常上市   35.95\n",
              "35  000046  泛海控股 1989-01-04   5196200656 1994-09-12  北京市  北京市  正常上市   51.96\n",
              "38  000050  深天马A 1983-11-08   2457747661 1995-03-15  广东省  深圳市  正常上市   24.58"
            ]
          },
          "execution_count": 46,
          "metadata": {},
          "output_type": "execute_result"
        }
      ],
      "source": [
        "df[mask]"
      ]
    },
    {
      "cell_type": "code",
      "execution_count": 47,
      "metadata": {},
      "outputs": [
        {
          "data": {
            "text/html": [
              "<div>\n",
              "<style scoped>\n",
              "    .dataframe tbody tr th:only-of-type {\n",
              "        vertical-align: middle;\n",
              "    }\n",
              "\n",
              "    .dataframe tbody tr th {\n",
              "        vertical-align: top;\n",
              "    }\n",
              "\n",
              "    .dataframe thead th {\n",
              "        text-align: right;\n",
              "    }\n",
              "</style>\n",
              "<table border=\"1\" class=\"dataframe\">\n",
              "  <thead>\n",
              "    <tr style=\"text-align: right;\">\n",
              "      <th></th>\n",
              "      <th>股票代码</th>\n",
              "      <th>股票简称</th>\n",
              "      <th>公司成立日期</th>\n",
              "      <th>注册资本</th>\n",
              "      <th>首次上市日期</th>\n",
              "      <th>所属省份</th>\n",
              "      <th>所属城市</th>\n",
              "      <th>上市状态</th>\n",
              "      <th>注册资本_亿</th>\n",
              "    </tr>\n",
              "  </thead>\n",
              "  <tbody>\n",
              "    <tr>\n",
              "      <th>0</th>\n",
              "      <td>000001</td>\n",
              "      <td>平安银行</td>\n",
              "      <td>1987-12-22</td>\n",
              "      <td>19405918198</td>\n",
              "      <td>1991-04-03</td>\n",
              "      <td>广东省</td>\n",
              "      <td>深圳市</td>\n",
              "      <td>正常上市</td>\n",
              "      <td>194.06</td>\n",
              "    </tr>\n",
              "    <tr>\n",
              "      <th>1</th>\n",
              "      <td>000002</td>\n",
              "      <td>万科A</td>\n",
              "      <td>1988-11-01</td>\n",
              "      <td>11625383375</td>\n",
              "      <td>1991-01-29</td>\n",
              "      <td>广东省</td>\n",
              "      <td>深圳市</td>\n",
              "      <td>正常上市</td>\n",
              "      <td>116.25</td>\n",
              "    </tr>\n",
              "    <tr>\n",
              "      <th>6</th>\n",
              "      <td>000008</td>\n",
              "      <td>神州高铁</td>\n",
              "      <td>1989-10-11</td>\n",
              "      <td>2780795346</td>\n",
              "      <td>1992-05-07</td>\n",
              "      <td>北京市</td>\n",
              "      <td>北京市</td>\n",
              "      <td>正常上市</td>\n",
              "      <td>27.81</td>\n",
              "    </tr>\n",
              "    <tr>\n",
              "      <th>7</th>\n",
              "      <td>000009</td>\n",
              "      <td>中国宝安</td>\n",
              "      <td>1990-09-01</td>\n",
              "      <td>2579213965</td>\n",
              "      <td>1991-06-25</td>\n",
              "      <td>广东省</td>\n",
              "      <td>深圳市</td>\n",
              "      <td>正常上市</td>\n",
              "      <td>25.79</td>\n",
              "    </tr>\n",
              "    <tr>\n",
              "      <th>10</th>\n",
              "      <td>000012</td>\n",
              "      <td>南玻A</td>\n",
              "      <td>1984-09-10</td>\n",
              "      <td>3070692107</td>\n",
              "      <td>1992-02-28</td>\n",
              "      <td>广东省</td>\n",
              "      <td>深圳市</td>\n",
              "      <td>正常上市</td>\n",
              "      <td>30.71</td>\n",
              "    </tr>\n",
              "    <tr>\n",
              "      <th>12</th>\n",
              "      <td>000016</td>\n",
              "      <td>深康佳A</td>\n",
              "      <td>1980-10-01</td>\n",
              "      <td>2407945408</td>\n",
              "      <td>1992-03-27</td>\n",
              "      <td>广东省</td>\n",
              "      <td>深圳市</td>\n",
              "      <td>正常上市</td>\n",
              "      <td>24.08</td>\n",
              "    </tr>\n",
              "    <tr>\n",
              "      <th>20</th>\n",
              "      <td>000027</td>\n",
              "      <td>深圳能源</td>\n",
              "      <td>1993-06-02</td>\n",
              "      <td>4757389916</td>\n",
              "      <td>1993-09-03</td>\n",
              "      <td>广东省</td>\n",
              "      <td>深圳市</td>\n",
              "      <td>正常上市</td>\n",
              "      <td>47.57</td>\n",
              "    </tr>\n",
              "    <tr>\n",
              "      <th>24</th>\n",
              "      <td>000031</td>\n",
              "      <td>大悦城</td>\n",
              "      <td>1993-09-26</td>\n",
              "      <td>4286313339</td>\n",
              "      <td>1993-10-08</td>\n",
              "      <td>广东省</td>\n",
              "      <td>深圳市</td>\n",
              "      <td>正常上市</td>\n",
              "      <td>42.86</td>\n",
              "    </tr>\n",
              "    <tr>\n",
              "      <th>27</th>\n",
              "      <td>000035</td>\n",
              "      <td>中国天楹</td>\n",
              "      <td>1994-01-08</td>\n",
              "      <td>2523777297</td>\n",
              "      <td>1994-04-08</td>\n",
              "      <td>江苏省</td>\n",
              "      <td>南通市</td>\n",
              "      <td>正常上市</td>\n",
              "      <td>25.24</td>\n",
              "    </tr>\n",
              "    <tr>\n",
              "      <th>31</th>\n",
              "      <td>000039</td>\n",
              "      <td>中集集团</td>\n",
              "      <td>1992-09-30</td>\n",
              "      <td>3595014000</td>\n",
              "      <td>1994-03-23</td>\n",
              "      <td>广东省</td>\n",
              "      <td>深圳市</td>\n",
              "      <td>正常上市</td>\n",
              "      <td>35.95</td>\n",
              "    </tr>\n",
              "    <tr>\n",
              "      <th>35</th>\n",
              "      <td>000046</td>\n",
              "      <td>泛海控股</td>\n",
              "      <td>1989-01-04</td>\n",
              "      <td>5196200656</td>\n",
              "      <td>1994-09-12</td>\n",
              "      <td>北京市</td>\n",
              "      <td>北京市</td>\n",
              "      <td>正常上市</td>\n",
              "      <td>51.96</td>\n",
              "    </tr>\n",
              "    <tr>\n",
              "      <th>38</th>\n",
              "      <td>000050</td>\n",
              "      <td>深天马A</td>\n",
              "      <td>1983-11-08</td>\n",
              "      <td>2457747661</td>\n",
              "      <td>1995-03-15</td>\n",
              "      <td>广东省</td>\n",
              "      <td>深圳市</td>\n",
              "      <td>正常上市</td>\n",
              "      <td>24.58</td>\n",
              "    </tr>\n",
              "  </tbody>\n",
              "</table>\n",
              "</div>"
            ],
            "text/plain": [
              "      股票代码  股票简称     公司成立日期         注册资本     首次上市日期 所属省份 所属城市  上市状态  注册资本_亿\n",
              "0   000001  平安银行 1987-12-22  19405918198 1991-04-03  广东省  深圳市  正常上市  194.06\n",
              "1   000002   万科A 1988-11-01  11625383375 1991-01-29  广东省  深圳市  正常上市  116.25\n",
              "6   000008  神州高铁 1989-10-11   2780795346 1992-05-07  北京市  北京市  正常上市   27.81\n",
              "7   000009  中国宝安 1990-09-01   2579213965 1991-06-25  广东省  深圳市  正常上市   25.79\n",
              "10  000012   南玻A 1984-09-10   3070692107 1992-02-28  广东省  深圳市  正常上市   30.71\n",
              "12  000016  深康佳A 1980-10-01   2407945408 1992-03-27  广东省  深圳市  正常上市   24.08\n",
              "20  000027  深圳能源 1993-06-02   4757389916 1993-09-03  广东省  深圳市  正常上市   47.57\n",
              "24  000031   大悦城 1993-09-26   4286313339 1993-10-08  广东省  深圳市  正常上市   42.86\n",
              "27  000035  中国天楹 1994-01-08   2523777297 1994-04-08  江苏省  南通市  正常上市   25.24\n",
              "31  000039  中集集团 1992-09-30   3595014000 1994-03-23  广东省  深圳市  正常上市   35.95\n",
              "35  000046  泛海控股 1989-01-04   5196200656 1994-09-12  北京市  北京市  正常上市   51.96\n",
              "38  000050  深天马A 1983-11-08   2457747661 1995-03-15  广东省  深圳市  正常上市   24.58"
            ]
          },
          "execution_count": 47,
          "metadata": {},
          "output_type": "execute_result"
        }
      ],
      "source": [
        "# 用loc操作也可以\n",
        "df.loc[mask]"
      ]
    },
    {
      "cell_type": "markdown",
      "metadata": {},
      "source": [
        "### 复合条件和字符串方法"
      ]
    },
    {
      "cell_type": "code",
      "execution_count": 48,
      "metadata": {},
      "outputs": [
        {
          "data": {
            "text/html": [
              "<div>\n",
              "<style scoped>\n",
              "    .dataframe tbody tr th:only-of-type {\n",
              "        vertical-align: middle;\n",
              "    }\n",
              "\n",
              "    .dataframe tbody tr th {\n",
              "        vertical-align: top;\n",
              "    }\n",
              "\n",
              "    .dataframe thead th {\n",
              "        text-align: right;\n",
              "    }\n",
              "</style>\n",
              "<table border=\"1\" class=\"dataframe\">\n",
              "  <thead>\n",
              "    <tr style=\"text-align: right;\">\n",
              "      <th></th>\n",
              "      <th>股票代码</th>\n",
              "      <th>股票简称</th>\n",
              "      <th>公司成立日期</th>\n",
              "      <th>注册资本</th>\n",
              "      <th>首次上市日期</th>\n",
              "      <th>所属省份</th>\n",
              "      <th>所属城市</th>\n",
              "      <th>上市状态</th>\n",
              "      <th>注册资本_亿</th>\n",
              "    </tr>\n",
              "  </thead>\n",
              "  <tbody>\n",
              "    <tr>\n",
              "      <th>0</th>\n",
              "      <td>000001</td>\n",
              "      <td>平安银行</td>\n",
              "      <td>1987-12-22</td>\n",
              "      <td>19405918198</td>\n",
              "      <td>1991-04-03</td>\n",
              "      <td>广东省</td>\n",
              "      <td>深圳市</td>\n",
              "      <td>正常上市</td>\n",
              "      <td>194.06</td>\n",
              "    </tr>\n",
              "    <tr>\n",
              "      <th>1</th>\n",
              "      <td>000002</td>\n",
              "      <td>万科A</td>\n",
              "      <td>1988-11-01</td>\n",
              "      <td>11625383375</td>\n",
              "      <td>1991-01-29</td>\n",
              "      <td>广东省</td>\n",
              "      <td>深圳市</td>\n",
              "      <td>正常上市</td>\n",
              "      <td>116.25</td>\n",
              "    </tr>\n",
              "    <tr>\n",
              "      <th>7</th>\n",
              "      <td>000009</td>\n",
              "      <td>中国宝安</td>\n",
              "      <td>1990-09-01</td>\n",
              "      <td>2579213965</td>\n",
              "      <td>1991-06-25</td>\n",
              "      <td>广东省</td>\n",
              "      <td>深圳市</td>\n",
              "      <td>正常上市</td>\n",
              "      <td>25.79</td>\n",
              "    </tr>\n",
              "    <tr>\n",
              "      <th>10</th>\n",
              "      <td>000012</td>\n",
              "      <td>南玻A</td>\n",
              "      <td>1984-09-10</td>\n",
              "      <td>3070692107</td>\n",
              "      <td>1992-02-28</td>\n",
              "      <td>广东省</td>\n",
              "      <td>深圳市</td>\n",
              "      <td>正常上市</td>\n",
              "      <td>30.71</td>\n",
              "    </tr>\n",
              "    <tr>\n",
              "      <th>12</th>\n",
              "      <td>000016</td>\n",
              "      <td>深康佳A</td>\n",
              "      <td>1980-10-01</td>\n",
              "      <td>2407945408</td>\n",
              "      <td>1992-03-27</td>\n",
              "      <td>广东省</td>\n",
              "      <td>深圳市</td>\n",
              "      <td>正常上市</td>\n",
              "      <td>24.08</td>\n",
              "    </tr>\n",
              "    <tr>\n",
              "      <th>20</th>\n",
              "      <td>000027</td>\n",
              "      <td>深圳能源</td>\n",
              "      <td>1993-06-02</td>\n",
              "      <td>4757389916</td>\n",
              "      <td>1993-09-03</td>\n",
              "      <td>广东省</td>\n",
              "      <td>深圳市</td>\n",
              "      <td>正常上市</td>\n",
              "      <td>47.57</td>\n",
              "    </tr>\n",
              "    <tr>\n",
              "      <th>24</th>\n",
              "      <td>000031</td>\n",
              "      <td>大悦城</td>\n",
              "      <td>1993-09-26</td>\n",
              "      <td>4286313339</td>\n",
              "      <td>1993-10-08</td>\n",
              "      <td>广东省</td>\n",
              "      <td>深圳市</td>\n",
              "      <td>正常上市</td>\n",
              "      <td>42.86</td>\n",
              "    </tr>\n",
              "    <tr>\n",
              "      <th>31</th>\n",
              "      <td>000039</td>\n",
              "      <td>中集集团</td>\n",
              "      <td>1992-09-30</td>\n",
              "      <td>3595014000</td>\n",
              "      <td>1994-03-23</td>\n",
              "      <td>广东省</td>\n",
              "      <td>深圳市</td>\n",
              "      <td>正常上市</td>\n",
              "      <td>35.95</td>\n",
              "    </tr>\n",
              "    <tr>\n",
              "      <th>38</th>\n",
              "      <td>000050</td>\n",
              "      <td>深天马A</td>\n",
              "      <td>1983-11-08</td>\n",
              "      <td>2457747661</td>\n",
              "      <td>1995-03-15</td>\n",
              "      <td>广东省</td>\n",
              "      <td>深圳市</td>\n",
              "      <td>正常上市</td>\n",
              "      <td>24.58</td>\n",
              "    </tr>\n",
              "  </tbody>\n",
              "</table>\n",
              "</div>"
            ],
            "text/plain": [
              "      股票代码  股票简称     公司成立日期         注册资本     首次上市日期 所属省份 所属城市  上市状态  注册资本_亿\n",
              "0   000001  平安银行 1987-12-22  19405918198 1991-04-03  广东省  深圳市  正常上市  194.06\n",
              "1   000002   万科A 1988-11-01  11625383375 1991-01-29  广东省  深圳市  正常上市  116.25\n",
              "7   000009  中国宝安 1990-09-01   2579213965 1991-06-25  广东省  深圳市  正常上市   25.79\n",
              "10  000012   南玻A 1984-09-10   3070692107 1992-02-28  广东省  深圳市  正常上市   30.71\n",
              "12  000016  深康佳A 1980-10-01   2407945408 1992-03-27  广东省  深圳市  正常上市   24.08\n",
              "20  000027  深圳能源 1993-06-02   4757389916 1993-09-03  广东省  深圳市  正常上市   47.57\n",
              "24  000031   大悦城 1993-09-26   4286313339 1993-10-08  广东省  深圳市  正常上市   42.86\n",
              "31  000039  中集集团 1992-09-30   3595014000 1994-03-23  广东省  深圳市  正常上市   35.95\n",
              "38  000050  深天马A 1983-11-08   2457747661 1995-03-15  广东省  深圳市  正常上市   24.58"
            ]
          },
          "execution_count": 48,
          "metadata": {},
          "output_type": "execute_result"
        }
      ],
      "source": [
        "# 复合条件：选择注册资本>20亿，且所属省份位广东省的公司\n",
        "\n",
        "cond1 = df[\"注册资本\"] > 2000000000  # 数字列，可以直接运算（包括算数运算和条件运算）\n",
        "cond2 = df[\"所属省份\"].str.contains(\n",
        "    \"广东\"\n",
        ")  # 字符串列，需要调用字符串方法`.str.某函数()`,\n",
        "\n",
        "# Pandas字符串方法见https://pandas.pydata.org/pandas-docs/stable/user_guide/text.html\n",
        "# 常用的如包含.str.contains()，以什么开头.str.startswith()，以什么结尾.str.endswith()\n",
        "\n",
        "# 方法1，用np.logical_xxx()函数，构造一个新的布尔型序列\n",
        "mask = np.logical_and(cond1, cond2)\n",
        "df[mask]"
      ]
    },
    {
      "cell_type": "code",
      "execution_count": 49,
      "metadata": {},
      "outputs": [
        {
          "data": {
            "text/html": [
              "<div>\n",
              "<style scoped>\n",
              "    .dataframe tbody tr th:only-of-type {\n",
              "        vertical-align: middle;\n",
              "    }\n",
              "\n",
              "    .dataframe tbody tr th {\n",
              "        vertical-align: top;\n",
              "    }\n",
              "\n",
              "    .dataframe thead th {\n",
              "        text-align: right;\n",
              "    }\n",
              "</style>\n",
              "<table border=\"1\" class=\"dataframe\">\n",
              "  <thead>\n",
              "    <tr style=\"text-align: right;\">\n",
              "      <th></th>\n",
              "      <th>股票代码</th>\n",
              "      <th>股票简称</th>\n",
              "      <th>公司成立日期</th>\n",
              "      <th>注册资本</th>\n",
              "      <th>首次上市日期</th>\n",
              "      <th>所属省份</th>\n",
              "      <th>所属城市</th>\n",
              "      <th>上市状态</th>\n",
              "      <th>注册资本_亿</th>\n",
              "    </tr>\n",
              "  </thead>\n",
              "  <tbody>\n",
              "    <tr>\n",
              "      <th>0</th>\n",
              "      <td>000001</td>\n",
              "      <td>平安银行</td>\n",
              "      <td>1987-12-22</td>\n",
              "      <td>19405918198</td>\n",
              "      <td>1991-04-03</td>\n",
              "      <td>广东省</td>\n",
              "      <td>深圳市</td>\n",
              "      <td>正常上市</td>\n",
              "      <td>194.06</td>\n",
              "    </tr>\n",
              "    <tr>\n",
              "      <th>1</th>\n",
              "      <td>000002</td>\n",
              "      <td>万科A</td>\n",
              "      <td>1988-11-01</td>\n",
              "      <td>11625383375</td>\n",
              "      <td>1991-01-29</td>\n",
              "      <td>广东省</td>\n",
              "      <td>深圳市</td>\n",
              "      <td>正常上市</td>\n",
              "      <td>116.25</td>\n",
              "    </tr>\n",
              "    <tr>\n",
              "      <th>7</th>\n",
              "      <td>000009</td>\n",
              "      <td>中国宝安</td>\n",
              "      <td>1990-09-01</td>\n",
              "      <td>2579213965</td>\n",
              "      <td>1991-06-25</td>\n",
              "      <td>广东省</td>\n",
              "      <td>深圳市</td>\n",
              "      <td>正常上市</td>\n",
              "      <td>25.79</td>\n",
              "    </tr>\n",
              "    <tr>\n",
              "      <th>10</th>\n",
              "      <td>000012</td>\n",
              "      <td>南玻A</td>\n",
              "      <td>1984-09-10</td>\n",
              "      <td>3070692107</td>\n",
              "      <td>1992-02-28</td>\n",
              "      <td>广东省</td>\n",
              "      <td>深圳市</td>\n",
              "      <td>正常上市</td>\n",
              "      <td>30.71</td>\n",
              "    </tr>\n",
              "    <tr>\n",
              "      <th>12</th>\n",
              "      <td>000016</td>\n",
              "      <td>深康佳A</td>\n",
              "      <td>1980-10-01</td>\n",
              "      <td>2407945408</td>\n",
              "      <td>1992-03-27</td>\n",
              "      <td>广东省</td>\n",
              "      <td>深圳市</td>\n",
              "      <td>正常上市</td>\n",
              "      <td>24.08</td>\n",
              "    </tr>\n",
              "    <tr>\n",
              "      <th>20</th>\n",
              "      <td>000027</td>\n",
              "      <td>深圳能源</td>\n",
              "      <td>1993-06-02</td>\n",
              "      <td>4757389916</td>\n",
              "      <td>1993-09-03</td>\n",
              "      <td>广东省</td>\n",
              "      <td>深圳市</td>\n",
              "      <td>正常上市</td>\n",
              "      <td>47.57</td>\n",
              "    </tr>\n",
              "    <tr>\n",
              "      <th>24</th>\n",
              "      <td>000031</td>\n",
              "      <td>大悦城</td>\n",
              "      <td>1993-09-26</td>\n",
              "      <td>4286313339</td>\n",
              "      <td>1993-10-08</td>\n",
              "      <td>广东省</td>\n",
              "      <td>深圳市</td>\n",
              "      <td>正常上市</td>\n",
              "      <td>42.86</td>\n",
              "    </tr>\n",
              "    <tr>\n",
              "      <th>31</th>\n",
              "      <td>000039</td>\n",
              "      <td>中集集团</td>\n",
              "      <td>1992-09-30</td>\n",
              "      <td>3595014000</td>\n",
              "      <td>1994-03-23</td>\n",
              "      <td>广东省</td>\n",
              "      <td>深圳市</td>\n",
              "      <td>正常上市</td>\n",
              "      <td>35.95</td>\n",
              "    </tr>\n",
              "    <tr>\n",
              "      <th>38</th>\n",
              "      <td>000050</td>\n",
              "      <td>深天马A</td>\n",
              "      <td>1983-11-08</td>\n",
              "      <td>2457747661</td>\n",
              "      <td>1995-03-15</td>\n",
              "      <td>广东省</td>\n",
              "      <td>深圳市</td>\n",
              "      <td>正常上市</td>\n",
              "      <td>24.58</td>\n",
              "    </tr>\n",
              "  </tbody>\n",
              "</table>\n",
              "</div>"
            ],
            "text/plain": [
              "      股票代码  股票简称     公司成立日期         注册资本     首次上市日期 所属省份 所属城市  上市状态  注册资本_亿\n",
              "0   000001  平安银行 1987-12-22  19405918198 1991-04-03  广东省  深圳市  正常上市  194.06\n",
              "1   000002   万科A 1988-11-01  11625383375 1991-01-29  广东省  深圳市  正常上市  116.25\n",
              "7   000009  中国宝安 1990-09-01   2579213965 1991-06-25  广东省  深圳市  正常上市   25.79\n",
              "10  000012   南玻A 1984-09-10   3070692107 1992-02-28  广东省  深圳市  正常上市   30.71\n",
              "12  000016  深康佳A 1980-10-01   2407945408 1992-03-27  广东省  深圳市  正常上市   24.08\n",
              "20  000027  深圳能源 1993-06-02   4757389916 1993-09-03  广东省  深圳市  正常上市   47.57\n",
              "24  000031   大悦城 1993-09-26   4286313339 1993-10-08  广东省  深圳市  正常上市   42.86\n",
              "31  000039  中集集团 1992-09-30   3595014000 1994-03-23  广东省  深圳市  正常上市   35.95\n",
              "38  000050  深天马A 1983-11-08   2457747661 1995-03-15  广东省  深圳市  正常上市   24.58"
            ]
          },
          "execution_count": 49,
          "metadata": {},
          "output_type": "execute_result"
        }
      ],
      "source": [
        "# 方法2，直接在DataFrame中选，Pandas的[]操作，接受\"与&， 或|，非~\"操作\n",
        "df[cond1 & cond2]"
      ]
    },
    {
      "cell_type": "code",
      "execution_count": 50,
      "metadata": {},
      "outputs": [
        {
          "data": {
            "text/html": [
              "<div>\n",
              "<style scoped>\n",
              "    .dataframe tbody tr th:only-of-type {\n",
              "        vertical-align: middle;\n",
              "    }\n",
              "\n",
              "    .dataframe tbody tr th {\n",
              "        vertical-align: top;\n",
              "    }\n",
              "\n",
              "    .dataframe thead th {\n",
              "        text-align: right;\n",
              "    }\n",
              "</style>\n",
              "<table border=\"1\" class=\"dataframe\">\n",
              "  <thead>\n",
              "    <tr style=\"text-align: right;\">\n",
              "      <th></th>\n",
              "      <th>股票代码</th>\n",
              "      <th>股票简称</th>\n",
              "      <th>公司成立日期</th>\n",
              "      <th>注册资本</th>\n",
              "      <th>首次上市日期</th>\n",
              "      <th>所属省份</th>\n",
              "      <th>所属城市</th>\n",
              "      <th>上市状态</th>\n",
              "      <th>注册资本_亿</th>\n",
              "    </tr>\n",
              "  </thead>\n",
              "  <tbody>\n",
              "    <tr>\n",
              "      <th>6</th>\n",
              "      <td>000008</td>\n",
              "      <td>神州高铁</td>\n",
              "      <td>1989-10-11</td>\n",
              "      <td>2780795346</td>\n",
              "      <td>1992-05-07</td>\n",
              "      <td>北京市</td>\n",
              "      <td>北京市</td>\n",
              "      <td>正常上市</td>\n",
              "      <td>27.81</td>\n",
              "    </tr>\n",
              "    <tr>\n",
              "      <th>27</th>\n",
              "      <td>000035</td>\n",
              "      <td>中国天楹</td>\n",
              "      <td>1994-01-08</td>\n",
              "      <td>2523777297</td>\n",
              "      <td>1994-04-08</td>\n",
              "      <td>江苏省</td>\n",
              "      <td>南通市</td>\n",
              "      <td>正常上市</td>\n",
              "      <td>25.24</td>\n",
              "    </tr>\n",
              "    <tr>\n",
              "      <th>35</th>\n",
              "      <td>000046</td>\n",
              "      <td>泛海控股</td>\n",
              "      <td>1989-01-04</td>\n",
              "      <td>5196200656</td>\n",
              "      <td>1994-09-12</td>\n",
              "      <td>北京市</td>\n",
              "      <td>北京市</td>\n",
              "      <td>正常上市</td>\n",
              "      <td>51.96</td>\n",
              "    </tr>\n",
              "  </tbody>\n",
              "</table>\n",
              "</div>"
            ],
            "text/plain": [
              "      股票代码  股票简称     公司成立日期        注册资本     首次上市日期 所属省份 所属城市  上市状态  注册资本_亿\n",
              "6   000008  神州高铁 1989-10-11  2780795346 1992-05-07  北京市  北京市  正常上市   27.81\n",
              "27  000035  中国天楹 1994-01-08  2523777297 1994-04-08  江苏省  南通市  正常上市   25.24\n",
              "35  000046  泛海控股 1989-01-04  5196200656 1994-09-12  北京市  北京市  正常上市   51.96"
            ]
          },
          "execution_count": 50,
          "metadata": {},
          "output_type": "execute_result"
        }
      ],
      "source": [
        "# 稍微复杂一点，注册资本大于20亿，但不在广东省\n",
        "df[cond1 & (~cond2)]"
      ]
    },
    {
      "cell_type": "markdown",
      "metadata": {},
      "source": [
        "### 时间方法"
      ]
    },
    {
      "cell_type": "code",
      "execution_count": 51,
      "metadata": {},
      "outputs": [
        {
          "data": {
            "text/html": [
              "<div>\n",
              "<style scoped>\n",
              "    .dataframe tbody tr th:only-of-type {\n",
              "        vertical-align: middle;\n",
              "    }\n",
              "\n",
              "    .dataframe tbody tr th {\n",
              "        vertical-align: top;\n",
              "    }\n",
              "\n",
              "    .dataframe thead th {\n",
              "        text-align: right;\n",
              "    }\n",
              "</style>\n",
              "<table border=\"1\" class=\"dataframe\">\n",
              "  <thead>\n",
              "    <tr style=\"text-align: right;\">\n",
              "      <th></th>\n",
              "      <th>股票代码</th>\n",
              "      <th>股票简称</th>\n",
              "      <th>公司成立日期</th>\n",
              "      <th>注册资本</th>\n",
              "      <th>首次上市日期</th>\n",
              "      <th>所属省份</th>\n",
              "      <th>所属城市</th>\n",
              "      <th>上市状态</th>\n",
              "      <th>注册资本_亿</th>\n",
              "    </tr>\n",
              "  </thead>\n",
              "  <tbody>\n",
              "    <tr>\n",
              "      <th>7</th>\n",
              "      <td>000009</td>\n",
              "      <td>中国宝安</td>\n",
              "      <td>1990-09-01</td>\n",
              "      <td>2579213965</td>\n",
              "      <td>1991-06-25</td>\n",
              "      <td>广东省</td>\n",
              "      <td>深圳市</td>\n",
              "      <td>正常上市</td>\n",
              "      <td>25.79</td>\n",
              "    </tr>\n",
              "  </tbody>\n",
              "</table>\n",
              "</div>"
            ],
            "text/plain": [
              "     股票代码  股票简称     公司成立日期        注册资本     首次上市日期 所属省份 所属城市  上市状态  注册资本_亿\n",
              "7  000009  中国宝安 1990-09-01  2579213965 1991-06-25  广东省  深圳市  正常上市   25.79"
            ]
          },
          "execution_count": 51,
          "metadata": {},
          "output_type": "execute_result"
        }
      ],
      "source": [
        "# 时间方法: '.dt.某函数()'或者'.dt.某属性'\n",
        "# 更多时间方法，见https://pandas.pydata.org/pandas-docs/stable/user_guide/timeseries.html\n",
        "# 常见如取得年月日：.dt.year, .dt.month，.dt.day，取得星期几.dt.weekday等等\n",
        "\n",
        "# 如：选择91年下半年上市的公司\n",
        "\n",
        "cond1 = df[\"首次上市日期\"].dt.year == 1991\n",
        "cond2 = df[\"首次上市日期\"].dt.month >= 6\n",
        "df[cond1 & cond2]"
      ]
    },
    {
      "cell_type": "markdown",
      "metadata": {},
      "source": [
        "### 查询语句"
      ]
    },
    {
      "cell_type": "code",
      "execution_count": 52,
      "metadata": {},
      "outputs": [
        {
          "data": {
            "text/html": [
              "<div>\n",
              "<style scoped>\n",
              "    .dataframe tbody tr th:only-of-type {\n",
              "        vertical-align: middle;\n",
              "    }\n",
              "\n",
              "    .dataframe tbody tr th {\n",
              "        vertical-align: top;\n",
              "    }\n",
              "\n",
              "    .dataframe thead th {\n",
              "        text-align: right;\n",
              "    }\n",
              "</style>\n",
              "<table border=\"1\" class=\"dataframe\">\n",
              "  <thead>\n",
              "    <tr style=\"text-align: right;\">\n",
              "      <th></th>\n",
              "      <th>股票代码</th>\n",
              "      <th>股票简称</th>\n",
              "      <th>公司成立日期</th>\n",
              "      <th>注册资本</th>\n",
              "      <th>首次上市日期</th>\n",
              "      <th>所属省份</th>\n",
              "      <th>所属城市</th>\n",
              "      <th>上市状态</th>\n",
              "      <th>注册资本_亿</th>\n",
              "    </tr>\n",
              "  </thead>\n",
              "  <tbody>\n",
              "    <tr>\n",
              "      <th>1</th>\n",
              "      <td>000002</td>\n",
              "      <td>万科A</td>\n",
              "      <td>1988-11-01</td>\n",
              "      <td>11625383375</td>\n",
              "      <td>1991-01-29</td>\n",
              "      <td>广东省</td>\n",
              "      <td>深圳市</td>\n",
              "      <td>正常上市</td>\n",
              "      <td>116.25</td>\n",
              "    </tr>\n",
              "  </tbody>\n",
              "</table>\n",
              "</div>"
            ],
            "text/plain": [
              "     股票代码 股票简称     公司成立日期         注册资本     首次上市日期 所属省份 所属城市  上市状态  注册资本_亿\n",
              "1  000002  万科A 1988-11-01  11625383375 1991-01-29  广东省  深圳市  正常上市  116.25"
            ]
          },
          "execution_count": 52,
          "metadata": {},
          "output_type": "execute_result"
        }
      ],
      "source": [
        "# 查询函数query()，可以把几个条件写成一个查询字符串\n",
        "# 注意引号的嵌套：字符串必须有引号，如'万科A'，查询语句本身也是字符串，\n",
        "# 因此外层可以用不同的引号。这里内层用单引号，外层用双引号。\n",
        "\n",
        "df.query(\" 股票简称 == '万科A' \")"
      ]
    },
    {
      "cell_type": "code",
      "execution_count": 53,
      "metadata": {},
      "outputs": [
        {
          "data": {
            "text/html": [
              "<div>\n",
              "<style scoped>\n",
              "    .dataframe tbody tr th:only-of-type {\n",
              "        vertical-align: middle;\n",
              "    }\n",
              "\n",
              "    .dataframe tbody tr th {\n",
              "        vertical-align: top;\n",
              "    }\n",
              "\n",
              "    .dataframe thead th {\n",
              "        text-align: right;\n",
              "    }\n",
              "</style>\n",
              "<table border=\"1\" class=\"dataframe\">\n",
              "  <thead>\n",
              "    <tr style=\"text-align: right;\">\n",
              "      <th></th>\n",
              "      <th>股票代码</th>\n",
              "      <th>股票简称</th>\n",
              "      <th>公司成立日期</th>\n",
              "      <th>注册资本</th>\n",
              "      <th>首次上市日期</th>\n",
              "      <th>所属省份</th>\n",
              "      <th>所属城市</th>\n",
              "      <th>上市状态</th>\n",
              "      <th>注册资本_亿</th>\n",
              "    </tr>\n",
              "  </thead>\n",
              "  <tbody>\n",
              "    <tr>\n",
              "      <th>6</th>\n",
              "      <td>000008</td>\n",
              "      <td>神州高铁</td>\n",
              "      <td>1989-10-11</td>\n",
              "      <td>2780795346</td>\n",
              "      <td>1992-05-07</td>\n",
              "      <td>北京市</td>\n",
              "      <td>北京市</td>\n",
              "      <td>正常上市</td>\n",
              "      <td>27.81</td>\n",
              "    </tr>\n",
              "  </tbody>\n",
              "</table>\n",
              "</div>"
            ],
            "text/plain": [
              "     股票代码  股票简称     公司成立日期        注册资本     首次上市日期 所属省份 所属城市  上市状态  注册资本_亿\n",
              "6  000008  神州高铁 1989-10-11  2780795346 1992-05-07  北京市  北京市  正常上市   27.81"
            ]
          },
          "execution_count": 53,
          "metadata": {},
          "output_type": "execute_result"
        }
      ],
      "source": [
        "# 查询语句也可以用复合(& | ~)条件\n",
        "# 并且接受变量作为条件，只要在查询字符串中加入`@变量名` 即可\n",
        "\n",
        "# 上市年份 = a_year，且省份不是广东省\n",
        "\n",
        "a_year = 1992\n",
        "df.query(\n",
        "    \"首次上市日期.dt.year == @a_year & ~( 所属省份 == '广东省')\"\n",
        ")  # 用\"所属省份 != '广东省'\"也可"
      ]
    },
    {
      "cell_type": "markdown",
      "metadata": {},
      "source": [
        "### 排序\n",
        "\n",
        "`df.sort_values( [<列名>] )`可以按某一列排序，多个列名可以使用List。参数`ascending=True`为从小到大排序，默认为`True`。\n",
        "\n",
        "类似的，`df.sort_index`可以按索引排序。"
      ]
    },
    {
      "cell_type": "code",
      "execution_count": 54,
      "metadata": {},
      "outputs": [
        {
          "data": {
            "text/html": [
              "<div>\n",
              "<style scoped>\n",
              "    .dataframe tbody tr th:only-of-type {\n",
              "        vertical-align: middle;\n",
              "    }\n",
              "\n",
              "    .dataframe tbody tr th {\n",
              "        vertical-align: top;\n",
              "    }\n",
              "\n",
              "    .dataframe thead th {\n",
              "        text-align: right;\n",
              "    }\n",
              "</style>\n",
              "<table border=\"1\" class=\"dataframe\">\n",
              "  <thead>\n",
              "    <tr style=\"text-align: right;\">\n",
              "      <th></th>\n",
              "      <th>股票代码</th>\n",
              "      <th>股票简称</th>\n",
              "      <th>公司成立日期</th>\n",
              "      <th>注册资本</th>\n",
              "      <th>首次上市日期</th>\n",
              "      <th>所属省份</th>\n",
              "      <th>所属城市</th>\n",
              "      <th>上市状态</th>\n",
              "      <th>注册资本_亿</th>\n",
              "    </tr>\n",
              "  </thead>\n",
              "  <tbody>\n",
              "    <tr>\n",
              "      <th>0</th>\n",
              "      <td>000001</td>\n",
              "      <td>平安银行</td>\n",
              "      <td>1987-12-22</td>\n",
              "      <td>19405918198</td>\n",
              "      <td>1991-04-03</td>\n",
              "      <td>广东省</td>\n",
              "      <td>深圳市</td>\n",
              "      <td>正常上市</td>\n",
              "      <td>194.06</td>\n",
              "    </tr>\n",
              "    <tr>\n",
              "      <th>1</th>\n",
              "      <td>000002</td>\n",
              "      <td>万科A</td>\n",
              "      <td>1988-11-01</td>\n",
              "      <td>11625383375</td>\n",
              "      <td>1991-01-29</td>\n",
              "      <td>广东省</td>\n",
              "      <td>深圳市</td>\n",
              "      <td>正常上市</td>\n",
              "      <td>116.25</td>\n",
              "    </tr>\n",
              "    <tr>\n",
              "      <th>35</th>\n",
              "      <td>000046</td>\n",
              "      <td>泛海控股</td>\n",
              "      <td>1989-01-04</td>\n",
              "      <td>5196200656</td>\n",
              "      <td>1994-09-12</td>\n",
              "      <td>北京市</td>\n",
              "      <td>北京市</td>\n",
              "      <td>正常上市</td>\n",
              "      <td>51.96</td>\n",
              "    </tr>\n",
              "    <tr>\n",
              "      <th>20</th>\n",
              "      <td>000027</td>\n",
              "      <td>深圳能源</td>\n",
              "      <td>1993-06-02</td>\n",
              "      <td>4757389916</td>\n",
              "      <td>1993-09-03</td>\n",
              "      <td>广东省</td>\n",
              "      <td>深圳市</td>\n",
              "      <td>正常上市</td>\n",
              "      <td>47.57</td>\n",
              "    </tr>\n",
              "    <tr>\n",
              "      <th>24</th>\n",
              "      <td>000031</td>\n",
              "      <td>大悦城</td>\n",
              "      <td>1993-09-26</td>\n",
              "      <td>4286313339</td>\n",
              "      <td>1993-10-08</td>\n",
              "      <td>广东省</td>\n",
              "      <td>深圳市</td>\n",
              "      <td>正常上市</td>\n",
              "      <td>42.86</td>\n",
              "    </tr>\n",
              "  </tbody>\n",
              "</table>\n",
              "</div>"
            ],
            "text/plain": [
              "      股票代码  股票简称     公司成立日期         注册资本     首次上市日期 所属省份 所属城市  上市状态  注册资本_亿\n",
              "0   000001  平安银行 1987-12-22  19405918198 1991-04-03  广东省  深圳市  正常上市  194.06\n",
              "1   000002   万科A 1988-11-01  11625383375 1991-01-29  广东省  深圳市  正常上市  116.25\n",
              "35  000046  泛海控股 1989-01-04   5196200656 1994-09-12  北京市  北京市  正常上市   51.96\n",
              "20  000027  深圳能源 1993-06-02   4757389916 1993-09-03  广东省  深圳市  正常上市   47.57\n",
              "24  000031   大悦城 1993-09-26   4286313339 1993-10-08  广东省  深圳市  正常上市   42.86"
            ]
          },
          "execution_count": 54,
          "metadata": {},
          "output_type": "execute_result"
        }
      ],
      "source": [
        "# 按注册资本，逆序排序，看最前面（最大）5个\n",
        "df.sort_values(\"注册资本\", ascending=False).head()"
      ]
    },
    {
      "cell_type": "code",
      "execution_count": 55,
      "metadata": {},
      "outputs": [
        {
          "data": {
            "text/html": [
              "<div>\n",
              "<style scoped>\n",
              "    .dataframe tbody tr th:only-of-type {\n",
              "        vertical-align: middle;\n",
              "    }\n",
              "\n",
              "    .dataframe tbody tr th {\n",
              "        vertical-align: top;\n",
              "    }\n",
              "\n",
              "    .dataframe thead th {\n",
              "        text-align: right;\n",
              "    }\n",
              "</style>\n",
              "<table border=\"1\" class=\"dataframe\">\n",
              "  <thead>\n",
              "    <tr style=\"text-align: right;\">\n",
              "      <th></th>\n",
              "      <th>股票代码</th>\n",
              "      <th>股票简称</th>\n",
              "      <th>公司成立日期</th>\n",
              "      <th>注册资本</th>\n",
              "      <th>首次上市日期</th>\n",
              "      <th>所属省份</th>\n",
              "      <th>所属城市</th>\n",
              "      <th>上市状态</th>\n",
              "      <th>注册资本_亿</th>\n",
              "    </tr>\n",
              "  </thead>\n",
              "  <tbody>\n",
              "    <tr>\n",
              "      <th>6</th>\n",
              "      <td>000008</td>\n",
              "      <td>神州高铁</td>\n",
              "      <td>1989-10-11</td>\n",
              "      <td>2780795346</td>\n",
              "      <td>1992-05-07</td>\n",
              "      <td>北京市</td>\n",
              "      <td>北京市</td>\n",
              "      <td>正常上市</td>\n",
              "      <td>27.81</td>\n",
              "    </tr>\n",
              "    <tr>\n",
              "      <th>35</th>\n",
              "      <td>000046</td>\n",
              "      <td>泛海控股</td>\n",
              "      <td>1989-01-04</td>\n",
              "      <td>5196200656</td>\n",
              "      <td>1994-09-12</td>\n",
              "      <td>北京市</td>\n",
              "      <td>北京市</td>\n",
              "      <td>正常上市</td>\n",
              "      <td>51.96</td>\n",
              "    </tr>\n",
              "    <tr>\n",
              "      <th>23</th>\n",
              "      <td>000030</td>\n",
              "      <td>富奥股份</td>\n",
              "      <td>1993-08-28</td>\n",
              "      <td>1810552111</td>\n",
              "      <td>1993-09-29</td>\n",
              "      <td>吉林省</td>\n",
              "      <td>长春市</td>\n",
              "      <td>正常上市</td>\n",
              "      <td>18.11</td>\n",
              "    </tr>\n",
              "    <tr>\n",
              "      <th>17</th>\n",
              "      <td>000023</td>\n",
              "      <td>深天地A</td>\n",
              "      <td>1984-09-18</td>\n",
              "      <td>138756240</td>\n",
              "      <td>1993-04-29</td>\n",
              "      <td>广东省</td>\n",
              "      <td>深圳市</td>\n",
              "      <td>正常上市</td>\n",
              "      <td>1.39</td>\n",
              "    </tr>\n",
              "    <tr>\n",
              "      <th>2</th>\n",
              "      <td>000004</td>\n",
              "      <td>国华网安</td>\n",
              "      <td>1986-05-05</td>\n",
              "      <td>156003000</td>\n",
              "      <td>1991-01-14</td>\n",
              "      <td>广东省</td>\n",
              "      <td>深圳市</td>\n",
              "      <td>ST</td>\n",
              "      <td>1.56</td>\n",
              "    </tr>\n",
              "    <tr>\n",
              "      <th>11</th>\n",
              "      <td>000014</td>\n",
              "      <td>沙河股份</td>\n",
              "      <td>1992-04-21</td>\n",
              "      <td>201705187</td>\n",
              "      <td>1992-06-02</td>\n",
              "      <td>广东省</td>\n",
              "      <td>深圳市</td>\n",
              "      <td>正常上市</td>\n",
              "      <td>2.02</td>\n",
              "    </tr>\n",
              "    <tr>\n",
              "      <th>15</th>\n",
              "      <td>000020</td>\n",
              "      <td>深华发A</td>\n",
              "      <td>1992-03-20</td>\n",
              "      <td>283161227</td>\n",
              "      <td>1992-04-28</td>\n",
              "      <td>广东省</td>\n",
              "      <td>深圳市</td>\n",
              "      <td>正常上市</td>\n",
              "      <td>2.83</td>\n",
              "    </tr>\n",
              "    <tr>\n",
              "      <th>37</th>\n",
              "      <td>000049</td>\n",
              "      <td>德赛电池</td>\n",
              "      <td>1995-02-18</td>\n",
              "      <td>300298970</td>\n",
              "      <td>1995-03-20</td>\n",
              "      <td>广东省</td>\n",
              "      <td>深圳市</td>\n",
              "      <td>正常上市</td>\n",
              "      <td>3.00</td>\n",
              "    </tr>\n",
              "    <tr>\n",
              "      <th>5</th>\n",
              "      <td>000007</td>\n",
              "      <td>*ST 全新</td>\n",
              "      <td>1988-11-21</td>\n",
              "      <td>346448044</td>\n",
              "      <td>1992-04-13</td>\n",
              "      <td>广东省</td>\n",
              "      <td>深圳市</td>\n",
              "      <td>正常上市</td>\n",
              "      <td>3.46</td>\n",
              "    </tr>\n",
              "    <tr>\n",
              "      <th>19</th>\n",
              "      <td>000026</td>\n",
              "      <td>飞亚达</td>\n",
              "      <td>1993-04-18</td>\n",
              "      <td>426051015</td>\n",
              "      <td>1993-06-03</td>\n",
              "      <td>广东省</td>\n",
              "      <td>深圳市</td>\n",
              "      <td>正常上市</td>\n",
              "      <td>4.26</td>\n",
              "    </tr>\n",
              "  </tbody>\n",
              "</table>\n",
              "</div>"
            ],
            "text/plain": [
              "      股票代码    股票简称     公司成立日期        注册资本     首次上市日期 所属省份 所属城市  上市状态  注册资本_亿\n",
              "6   000008    神州高铁 1989-10-11  2780795346 1992-05-07  北京市  北京市  正常上市   27.81\n",
              "35  000046    泛海控股 1989-01-04  5196200656 1994-09-12  北京市  北京市  正常上市   51.96\n",
              "23  000030    富奥股份 1993-08-28  1810552111 1993-09-29  吉林省  长春市  正常上市   18.11\n",
              "17  000023    深天地A 1984-09-18   138756240 1993-04-29  广东省  深圳市  正常上市    1.39\n",
              "2   000004    国华网安 1986-05-05   156003000 1991-01-14  广东省  深圳市    ST    1.56\n",
              "11  000014    沙河股份 1992-04-21   201705187 1992-06-02  广东省  深圳市  正常上市    2.02\n",
              "15  000020    深华发A 1992-03-20   283161227 1992-04-28  广东省  深圳市  正常上市    2.83\n",
              "37  000049    德赛电池 1995-02-18   300298970 1995-03-20  广东省  深圳市  正常上市    3.00\n",
              "5   000007  *ST 全新 1988-11-21   346448044 1992-04-13  广东省  深圳市  正常上市    3.46\n",
              "19  000026     飞亚达 1993-04-18   426051015 1993-06-03  广东省  深圳市  正常上市    4.26"
            ]
          },
          "execution_count": 55,
          "metadata": {},
          "output_type": "execute_result"
        }
      ],
      "source": [
        "# 先按省份排序，同省份内，按注册资本排序\n",
        "df.sort_values([\"所属省份\", \"注册资本_亿\"]).head(10)"
      ]
    },
    {
      "cell_type": "markdown",
      "metadata": {},
      "source": [
        "### 行列基本操作练习\n",
        "\n",
        "继续利用上述`basic_info.xlsx`数据，建立一个新的ipynb文件（完整学号-姓名-行列基本操作练习.ipynb），完成以下练习。（题目如果要求打印DF，都只打印前5行）\n",
        "\n",
        "**练习1：基础操作**\n",
        "\n",
        "从 DataFrame `df` 中选择 `股票代码` 和 `股票简称` 两列，并保存到变量 `selected_columns`。然后选择 `股票代码` 为 `000002` 的行，并仅显示 `公司成立日期` 和 `注册资本` 两列，保存到变量 `selected_row`。打印 `selected_columns` 和 `selected_row`。\n",
        "\n",
        "**练习2：列运算与删除列**\n",
        "\n",
        "在 `df` 中添加一个新列 `注册资本（亿）`，其值为 `注册资本` 列的值除以 10^8，然后删除 `注册资本` 列。保存修改后的 DataFrame到变量 `df_modified`，并打印前5行。\n",
        "\n",
        "**练习3：按条件筛选与排序**\n",
        "\n",
        "筛选出 `所属省份` 为 `广东省` 且 `上市状态` 为 `正常上市` 的所有行，并按 `公司成立日期` 降序排列。将结果保存到变量 `sorted_df`，并打印 `sorted_df`。\n",
        "\n",
        "**练习4：复合条件筛选与字符串方法**\n",
        "\n",
        "筛选出 `公司成立日期` 在 `1990年` 之前且 `股票简称` 包含 `A` 字符的所有行，并创建一个新列 `成立年份`，其值为 `公司成立日期` 的年份。将结果保存到变量 `filtered_df`，并打印 `filtered_df`。\n",
        "\n",
        "**练习5：复杂逻辑判断和后续操作**\n",
        "\n",
        "将 `首次上市日期` 转换为 `datetime` 格式。筛选出 `首次上市日期` 早于 `1992-01-01` 的公司，并判断这些公司的 `注册资本（亿）` 是否大于 100 亿元。如果大于 100 亿元，则标记为 \"大公司\"，否则标记为 \"小公司\"。将这个标记作为新列 `公司规模` 加入 DataFrame。将结果保存到变量 `final_df`，并打印 `final_df`。\n",
        "\n"
      ]
    },
    {
      "cell_type": "markdown",
      "metadata": {},
      "source": [
        "## 修改DataFrame中的值"
      ]
    },
    {
      "cell_type": "markdown",
      "metadata": {},
      "source": [
        "构造一个示例数据"
      ]
    },
    {
      "cell_type": "code",
      "execution_count": 56,
      "metadata": {},
      "outputs": [
        {
          "data": {
            "text/html": [
              "<div>\n",
              "<style scoped>\n",
              "    .dataframe tbody tr th:only-of-type {\n",
              "        vertical-align: middle;\n",
              "    }\n",
              "\n",
              "    .dataframe tbody tr th {\n",
              "        vertical-align: top;\n",
              "    }\n",
              "\n",
              "    .dataframe thead th {\n",
              "        text-align: right;\n",
              "    }\n",
              "</style>\n",
              "<table border=\"1\" class=\"dataframe\">\n",
              "  <thead>\n",
              "    <tr style=\"text-align: right;\">\n",
              "      <th></th>\n",
              "      <th>A</th>\n",
              "      <th>B</th>\n",
              "    </tr>\n",
              "  </thead>\n",
              "  <tbody>\n",
              "    <tr>\n",
              "      <th>0</th>\n",
              "      <td>1</td>\n",
              "      <td>1.074429</td>\n",
              "    </tr>\n",
              "    <tr>\n",
              "      <th>1</th>\n",
              "      <td>2</td>\n",
              "      <td>-1.244722</td>\n",
              "    </tr>\n",
              "    <tr>\n",
              "      <th>2</th>\n",
              "      <td>3</td>\n",
              "      <td>0.874934</td>\n",
              "    </tr>\n",
              "    <tr>\n",
              "      <th>3</th>\n",
              "      <td>4</td>\n",
              "      <td>-0.881983</td>\n",
              "    </tr>\n",
              "    <tr>\n",
              "      <th>4</th>\n",
              "      <td>5</td>\n",
              "      <td>0.011209</td>\n",
              "    </tr>\n",
              "    <tr>\n",
              "      <th>5</th>\n",
              "      <td>6</td>\n",
              "      <td>-0.577859</td>\n",
              "    </tr>\n",
              "    <tr>\n",
              "      <th>6</th>\n",
              "      <td>7</td>\n",
              "      <td>-0.246587</td>\n",
              "    </tr>\n",
              "    <tr>\n",
              "      <th>7</th>\n",
              "      <td>8</td>\n",
              "      <td>0.317394</td>\n",
              "    </tr>\n",
              "  </tbody>\n",
              "</table>\n",
              "</div>"
            ],
            "text/plain": [
              "   A         B\n",
              "0  1  1.074429\n",
              "1  2 -1.244722\n",
              "2  3  0.874934\n",
              "3  4 -0.881983\n",
              "4  5  0.011209\n",
              "5  6 -0.577859\n",
              "6  7 -0.246587\n",
              "7  8  0.317394"
            ]
          },
          "execution_count": 56,
          "metadata": {},
          "output_type": "execute_result"
        }
      ],
      "source": [
        "import pandas as pd\n",
        "import numpy as np\n",
        "\n",
        "# np.arange(8) + 1 生成1-8的数组\n",
        "# np.random.randn(8) 生成标准正态分布随机数\n",
        "df = pd.DataFrame(dict(A=np.arange(8) + 1, B=np.random.randn(8)))\n",
        "df"
      ]
    },
    {
      "cell_type": "markdown",
      "metadata": {},
      "source": [
        "### 按条件修改值\n",
        "\n",
        "可以（**并且推荐**）采用`.loc[ <行> , <列>]`，可以引用指定列上的指定列的值。\n",
        "\n",
        "例如：把负数全部改为0"
      ]
    },
    {
      "cell_type": "code",
      "execution_count": 57,
      "metadata": {},
      "outputs": [
        {
          "data": {
            "text/html": [
              "<div>\n",
              "<style scoped>\n",
              "    .dataframe tbody tr th:only-of-type {\n",
              "        vertical-align: middle;\n",
              "    }\n",
              "\n",
              "    .dataframe tbody tr th {\n",
              "        vertical-align: top;\n",
              "    }\n",
              "\n",
              "    .dataframe thead th {\n",
              "        text-align: right;\n",
              "    }\n",
              "</style>\n",
              "<table border=\"1\" class=\"dataframe\">\n",
              "  <thead>\n",
              "    <tr style=\"text-align: right;\">\n",
              "      <th></th>\n",
              "      <th>A</th>\n",
              "      <th>B</th>\n",
              "    </tr>\n",
              "  </thead>\n",
              "  <tbody>\n",
              "    <tr>\n",
              "      <th>0</th>\n",
              "      <td>1</td>\n",
              "      <td>1.074429</td>\n",
              "    </tr>\n",
              "    <tr>\n",
              "      <th>1</th>\n",
              "      <td>2</td>\n",
              "      <td>0.000000</td>\n",
              "    </tr>\n",
              "    <tr>\n",
              "      <th>2</th>\n",
              "      <td>3</td>\n",
              "      <td>0.874934</td>\n",
              "    </tr>\n",
              "    <tr>\n",
              "      <th>3</th>\n",
              "      <td>4</td>\n",
              "      <td>0.000000</td>\n",
              "    </tr>\n",
              "    <tr>\n",
              "      <th>4</th>\n",
              "      <td>5</td>\n",
              "      <td>0.011209</td>\n",
              "    </tr>\n",
              "    <tr>\n",
              "      <th>5</th>\n",
              "      <td>6</td>\n",
              "      <td>0.000000</td>\n",
              "    </tr>\n",
              "    <tr>\n",
              "      <th>6</th>\n",
              "      <td>7</td>\n",
              "      <td>0.000000</td>\n",
              "    </tr>\n",
              "    <tr>\n",
              "      <th>7</th>\n",
              "      <td>8</td>\n",
              "      <td>0.317394</td>\n",
              "    </tr>\n",
              "  </tbody>\n",
              "</table>\n",
              "</div>"
            ],
            "text/plain": [
              "   A         B\n",
              "0  1  1.074429\n",
              "1  2  0.000000\n",
              "2  3  0.874934\n",
              "3  4  0.000000\n",
              "4  5  0.011209\n",
              "5  6  0.000000\n",
              "6  7  0.000000\n",
              "7  8  0.317394"
            ]
          },
          "execution_count": 57,
          "metadata": {},
          "output_type": "execute_result"
        }
      ],
      "source": [
        "mask = df.B < 0  # 一个bool序列\n",
        "df.loc[mask, \"B\"] = 0  # 简写成 df.loc[df.B < 0 , 'B']也可以\n",
        "df"
      ]
    },
    {
      "cell_type": "markdown",
      "metadata": {},
      "source": [
        "如果新数据在另一个列表、ndarray或者Series中，向要覆盖到原数据的指定位置，\n",
        "同样采用`loc[]`。"
      ]
    },
    {
      "cell_type": "code",
      "execution_count": 58,
      "metadata": {},
      "outputs": [
        {
          "data": {
            "text/html": [
              "<div>\n",
              "<style scoped>\n",
              "    .dataframe tbody tr th:only-of-type {\n",
              "        vertical-align: middle;\n",
              "    }\n",
              "\n",
              "    .dataframe tbody tr th {\n",
              "        vertical-align: top;\n",
              "    }\n",
              "\n",
              "    .dataframe thead th {\n",
              "        text-align: right;\n",
              "    }\n",
              "</style>\n",
              "<table border=\"1\" class=\"dataframe\">\n",
              "  <thead>\n",
              "    <tr style=\"text-align: right;\">\n",
              "      <th></th>\n",
              "      <th>A</th>\n",
              "      <th>B</th>\n",
              "    </tr>\n",
              "  </thead>\n",
              "  <tbody>\n",
              "    <tr>\n",
              "      <th>0</th>\n",
              "      <td>1</td>\n",
              "      <td>97.000000</td>\n",
              "    </tr>\n",
              "    <tr>\n",
              "      <th>1</th>\n",
              "      <td>2</td>\n",
              "      <td>0.000000</td>\n",
              "    </tr>\n",
              "    <tr>\n",
              "      <th>2</th>\n",
              "      <td>3</td>\n",
              "      <td>0.874934</td>\n",
              "    </tr>\n",
              "    <tr>\n",
              "      <th>3</th>\n",
              "      <td>4</td>\n",
              "      <td>98.000000</td>\n",
              "    </tr>\n",
              "    <tr>\n",
              "      <th>4</th>\n",
              "      <td>5</td>\n",
              "      <td>0.011209</td>\n",
              "    </tr>\n",
              "    <tr>\n",
              "      <th>5</th>\n",
              "      <td>6</td>\n",
              "      <td>0.000000</td>\n",
              "    </tr>\n",
              "    <tr>\n",
              "      <th>6</th>\n",
              "      <td>7</td>\n",
              "      <td>99.000000</td>\n",
              "    </tr>\n",
              "    <tr>\n",
              "      <th>7</th>\n",
              "      <td>8</td>\n",
              "      <td>0.317394</td>\n",
              "    </tr>\n",
              "  </tbody>\n",
              "</table>\n",
              "</div>"
            ],
            "text/plain": [
              "   A          B\n",
              "0  1  97.000000\n",
              "1  2   0.000000\n",
              "2  3   0.874934\n",
              "3  4  98.000000\n",
              "4  5   0.011209\n",
              "5  6   0.000000\n",
              "6  7  99.000000\n",
              "7  8   0.317394"
            ]
          },
          "execution_count": 58,
          "metadata": {},
          "output_type": "execute_result"
        }
      ],
      "source": [
        "# 新数据在另一个array或者Series中\n",
        "new_data = np.array([97, 98, 99])\n",
        "\n",
        "\n",
        "# 要替换的值，在index的0,3,6号\n",
        "mask = df.index % 3 == 0\n",
        "# 0,3,6号是True\n",
        "\n",
        "# 把new_data覆盖到df的B列的指定位置\n",
        "df.loc[mask, \"B\"] = new_data\n",
        "\n",
        "df"
      ]
    },
    {
      "cell_type": "markdown",
      "metadata": {},
      "source": [
        "### 副本（拷贝）和视图\n",
        "\n",
        "还是那个问题：Pandas也要区分副本和视图。\n",
        "\n",
        "1. 某些操作会产生视图：比如`loc[]`，你对此进行赋值，将会修改原数据。\n",
        "2. 某些操作会产生拷贝：比如**链式操作**，**查询语句`.query()`**。你对此赋值，不会改变原值。\n",
        "\n",
        "但问题在于：这两种操作的区分往往不明显，因此直接修改DF数据时，最好复查。"
      ]
    },
    {
      "cell_type": "code",
      "execution_count": 59,
      "metadata": {},
      "outputs": [
        {
          "data": {
            "text/html": [
              "<div>\n",
              "<style scoped>\n",
              "    .dataframe tbody tr th:only-of-type {\n",
              "        vertical-align: middle;\n",
              "    }\n",
              "\n",
              "    .dataframe tbody tr th {\n",
              "        vertical-align: top;\n",
              "    }\n",
              "\n",
              "    .dataframe thead th {\n",
              "        text-align: right;\n",
              "    }\n",
              "</style>\n",
              "<table border=\"1\" class=\"dataframe\">\n",
              "  <thead>\n",
              "    <tr style=\"text-align: right;\">\n",
              "      <th></th>\n",
              "      <th>A</th>\n",
              "      <th>B</th>\n",
              "    </tr>\n",
              "  </thead>\n",
              "  <tbody>\n",
              "    <tr>\n",
              "      <th>0</th>\n",
              "      <td>1</td>\n",
              "      <td>-0.043541</td>\n",
              "    </tr>\n",
              "    <tr>\n",
              "      <th>1</th>\n",
              "      <td>2</td>\n",
              "      <td>0.758782</td>\n",
              "    </tr>\n",
              "    <tr>\n",
              "      <th>2</th>\n",
              "      <td>3</td>\n",
              "      <td>0.204050</td>\n",
              "    </tr>\n",
              "    <tr>\n",
              "      <th>3</th>\n",
              "      <td>4</td>\n",
              "      <td>0.771142</td>\n",
              "    </tr>\n",
              "    <tr>\n",
              "      <th>4</th>\n",
              "      <td>5</td>\n",
              "      <td>-0.028145</td>\n",
              "    </tr>\n",
              "    <tr>\n",
              "      <th>5</th>\n",
              "      <td>6</td>\n",
              "      <td>-0.537927</td>\n",
              "    </tr>\n",
              "    <tr>\n",
              "      <th>6</th>\n",
              "      <td>7</td>\n",
              "      <td>0.107722</td>\n",
              "    </tr>\n",
              "    <tr>\n",
              "      <th>7</th>\n",
              "      <td>8</td>\n",
              "      <td>-0.700706</td>\n",
              "    </tr>\n",
              "  </tbody>\n",
              "</table>\n",
              "</div>"
            ],
            "text/plain": [
              "   A         B\n",
              "0  1 -0.043541\n",
              "1  2  0.758782\n",
              "2  3  0.204050\n",
              "3  4  0.771142\n",
              "4  5 -0.028145\n",
              "5  6 -0.537927\n",
              "6  7  0.107722\n",
              "7  8 -0.700706"
            ]
          },
          "execution_count": 59,
          "metadata": {},
          "output_type": "execute_result"
        }
      ],
      "source": [
        "df = pd.DataFrame(dict(A=np.arange(8) + 1, B=np.random.randn(8)))\n",
        "df"
      ]
    },
    {
      "cell_type": "code",
      "execution_count": 60,
      "metadata": {},
      "outputs": [
        {
          "data": {
            "text/html": [
              "<div>\n",
              "<style scoped>\n",
              "    .dataframe tbody tr th:only-of-type {\n",
              "        vertical-align: middle;\n",
              "    }\n",
              "\n",
              "    .dataframe tbody tr th {\n",
              "        vertical-align: top;\n",
              "    }\n",
              "\n",
              "    .dataframe thead th {\n",
              "        text-align: right;\n",
              "    }\n",
              "</style>\n",
              "<table border=\"1\" class=\"dataframe\">\n",
              "  <thead>\n",
              "    <tr style=\"text-align: right;\">\n",
              "      <th></th>\n",
              "      <th>A</th>\n",
              "      <th>B</th>\n",
              "    </tr>\n",
              "  </thead>\n",
              "  <tbody>\n",
              "    <tr>\n",
              "      <th>0</th>\n",
              "      <td>1</td>\n",
              "      <td>-0.043541</td>\n",
              "    </tr>\n",
              "    <tr>\n",
              "      <th>1</th>\n",
              "      <td>99</td>\n",
              "      <td>0.758782</td>\n",
              "    </tr>\n",
              "    <tr>\n",
              "      <th>2</th>\n",
              "      <td>99</td>\n",
              "      <td>0.204050</td>\n",
              "    </tr>\n",
              "    <tr>\n",
              "      <th>3</th>\n",
              "      <td>99</td>\n",
              "      <td>0.771142</td>\n",
              "    </tr>\n",
              "    <tr>\n",
              "      <th>4</th>\n",
              "      <td>5</td>\n",
              "      <td>-0.028145</td>\n",
              "    </tr>\n",
              "    <tr>\n",
              "      <th>5</th>\n",
              "      <td>6</td>\n",
              "      <td>-0.537927</td>\n",
              "    </tr>\n",
              "    <tr>\n",
              "      <th>6</th>\n",
              "      <td>99</td>\n",
              "      <td>0.107722</td>\n",
              "    </tr>\n",
              "    <tr>\n",
              "      <th>7</th>\n",
              "      <td>8</td>\n",
              "      <td>-0.700706</td>\n",
              "    </tr>\n",
              "  </tbody>\n",
              "</table>\n",
              "</div>"
            ],
            "text/plain": [
              "    A         B\n",
              "0   1 -0.043541\n",
              "1  99  0.758782\n",
              "2  99  0.204050\n",
              "3  99  0.771142\n",
              "4   5 -0.028145\n",
              "5   6 -0.537927\n",
              "6  99  0.107722\n",
              "7   8 -0.700706"
            ]
          },
          "execution_count": 60,
          "metadata": {},
          "output_type": "execute_result"
        }
      ],
      "source": [
        "df1 = df.copy()  # 把df拷贝一份\n",
        "\n",
        "\n",
        "# 选择B > 0 的样本，并且把他们的A属性改为99\n",
        "\n",
        "# `loc[]`生成一个视图，直接赋值可以正常修改原值\n",
        "\n",
        "df1.loc[df1.B > 0, \"A\"] = 99\n",
        "df1"
      ]
    },
    {
      "cell_type": "code",
      "execution_count": 61,
      "metadata": {},
      "outputs": [
        {
          "name": "stderr",
          "output_type": "stream",
          "text": [
            "/tmp/ipykernel_3555889/2321145153.py:5: SettingWithCopyWarning: \n",
            "A value is trying to be set on a copy of a slice from a DataFrame.\n",
            "Try using .loc[row_indexer,col_indexer] = value instead\n",
            "\n",
            "See the caveats in the documentation: https://pandas.pydata.org/pandas-docs/stable/user_guide/indexing.html#returning-a-view-versus-a-copy\n",
            "  df2.loc[df2.B > 0][\"A\"] = 99\n"
          ]
        },
        {
          "data": {
            "text/html": [
              "<div>\n",
              "<style scoped>\n",
              "    .dataframe tbody tr th:only-of-type {\n",
              "        vertical-align: middle;\n",
              "    }\n",
              "\n",
              "    .dataframe tbody tr th {\n",
              "        vertical-align: top;\n",
              "    }\n",
              "\n",
              "    .dataframe thead th {\n",
              "        text-align: right;\n",
              "    }\n",
              "</style>\n",
              "<table border=\"1\" class=\"dataframe\">\n",
              "  <thead>\n",
              "    <tr style=\"text-align: right;\">\n",
              "      <th></th>\n",
              "      <th>A</th>\n",
              "      <th>B</th>\n",
              "    </tr>\n",
              "  </thead>\n",
              "  <tbody>\n",
              "    <tr>\n",
              "      <th>0</th>\n",
              "      <td>1</td>\n",
              "      <td>-0.043541</td>\n",
              "    </tr>\n",
              "    <tr>\n",
              "      <th>1</th>\n",
              "      <td>2</td>\n",
              "      <td>0.758782</td>\n",
              "    </tr>\n",
              "    <tr>\n",
              "      <th>2</th>\n",
              "      <td>3</td>\n",
              "      <td>0.204050</td>\n",
              "    </tr>\n",
              "    <tr>\n",
              "      <th>3</th>\n",
              "      <td>4</td>\n",
              "      <td>0.771142</td>\n",
              "    </tr>\n",
              "    <tr>\n",
              "      <th>4</th>\n",
              "      <td>5</td>\n",
              "      <td>-0.028145</td>\n",
              "    </tr>\n",
              "    <tr>\n",
              "      <th>5</th>\n",
              "      <td>6</td>\n",
              "      <td>-0.537927</td>\n",
              "    </tr>\n",
              "    <tr>\n",
              "      <th>6</th>\n",
              "      <td>7</td>\n",
              "      <td>0.107722</td>\n",
              "    </tr>\n",
              "    <tr>\n",
              "      <th>7</th>\n",
              "      <td>8</td>\n",
              "      <td>-0.700706</td>\n",
              "    </tr>\n",
              "  </tbody>\n",
              "</table>\n",
              "</div>"
            ],
            "text/plain": [
              "   A         B\n",
              "0  1 -0.043541\n",
              "1  2  0.758782\n",
              "2  3  0.204050\n",
              "3  4  0.771142\n",
              "4  5 -0.028145\n",
              "5  6 -0.537927\n",
              "6  7  0.107722\n",
              "7  8 -0.700706"
            ]
          },
          "execution_count": 61,
          "metadata": {},
          "output_type": "execute_result"
        }
      ],
      "source": [
        "df2 = df.copy()\n",
        "\n",
        "# 链式操作：多次取行或列，串联在一起，最终赋值\n",
        "# 先选择B>0的行，在选择A列，赋值\n",
        "df2.loc[df2.B > 0][\"A\"] = 99\n",
        "\n",
        "# 修改原值失败！并且弹出警告\n",
        "# A value is trying to be set on a copy of a slice from a DataFrame.\n",
        "df2"
      ]
    },
    {
      "cell_type": "code",
      "execution_count": 62,
      "metadata": {},
      "outputs": [
        {
          "data": {
            "text/html": [
              "<div>\n",
              "<style scoped>\n",
              "    .dataframe tbody tr th:only-of-type {\n",
              "        vertical-align: middle;\n",
              "    }\n",
              "\n",
              "    .dataframe tbody tr th {\n",
              "        vertical-align: top;\n",
              "    }\n",
              "\n",
              "    .dataframe thead th {\n",
              "        text-align: right;\n",
              "    }\n",
              "</style>\n",
              "<table border=\"1\" class=\"dataframe\">\n",
              "  <thead>\n",
              "    <tr style=\"text-align: right;\">\n",
              "      <th></th>\n",
              "      <th>A</th>\n",
              "      <th>B</th>\n",
              "    </tr>\n",
              "  </thead>\n",
              "  <tbody>\n",
              "    <tr>\n",
              "      <th>0</th>\n",
              "      <td>1</td>\n",
              "      <td>-0.043541</td>\n",
              "    </tr>\n",
              "    <tr>\n",
              "      <th>1</th>\n",
              "      <td>2</td>\n",
              "      <td>0.758782</td>\n",
              "    </tr>\n",
              "    <tr>\n",
              "      <th>2</th>\n",
              "      <td>3</td>\n",
              "      <td>0.204050</td>\n",
              "    </tr>\n",
              "    <tr>\n",
              "      <th>3</th>\n",
              "      <td>4</td>\n",
              "      <td>0.771142</td>\n",
              "    </tr>\n",
              "    <tr>\n",
              "      <th>4</th>\n",
              "      <td>5</td>\n",
              "      <td>-0.028145</td>\n",
              "    </tr>\n",
              "    <tr>\n",
              "      <th>5</th>\n",
              "      <td>6</td>\n",
              "      <td>-0.537927</td>\n",
              "    </tr>\n",
              "    <tr>\n",
              "      <th>6</th>\n",
              "      <td>7</td>\n",
              "      <td>0.107722</td>\n",
              "    </tr>\n",
              "    <tr>\n",
              "      <th>7</th>\n",
              "      <td>8</td>\n",
              "      <td>-0.700706</td>\n",
              "    </tr>\n",
              "  </tbody>\n",
              "</table>\n",
              "</div>"
            ],
            "text/plain": [
              "   A         B\n",
              "0  1 -0.043541\n",
              "1  2  0.758782\n",
              "2  3  0.204050\n",
              "3  4  0.771142\n",
              "4  5 -0.028145\n",
              "5  6 -0.537927\n",
              "6  7  0.107722\n",
              "7  8 -0.700706"
            ]
          },
          "execution_count": 62,
          "metadata": {},
          "output_type": "execute_result"
        }
      ],
      "source": [
        "# 失败但无警告\n",
        "\n",
        "df3 = df.copy()\n",
        "\n",
        "# 这是个隐蔽的链式操作！\n",
        "# 等价于 df3[['A','B']].loc[df3.B>0,'A'] = 999\n",
        "x = df3[[\"A\", \"B\"]]\n",
        "x.loc[df3.B > 0, \"A\"] = 999\n",
        "df3"
      ]
    },
    {
      "cell_type": "markdown",
      "metadata": {},
      "source": [
        "### 小练习\n",
        "\n",
        "利用以下虚拟数据，在Passed列中，把合格的同学标记为True，不合格的同学标记为False，并打印数据。"
      ]
    },
    {
      "cell_type": "code",
      "execution_count": 63,
      "metadata": {},
      "outputs": [
        {
          "data": {
            "text/html": [
              "<div>\n",
              "<style scoped>\n",
              "    .dataframe tbody tr th:only-of-type {\n",
              "        vertical-align: middle;\n",
              "    }\n",
              "\n",
              "    .dataframe tbody tr th {\n",
              "        vertical-align: top;\n",
              "    }\n",
              "\n",
              "    .dataframe thead th {\n",
              "        text-align: right;\n",
              "    }\n",
              "</style>\n",
              "<table border=\"1\" class=\"dataframe\">\n",
              "  <thead>\n",
              "    <tr style=\"text-align: right;\">\n",
              "      <th></th>\n",
              "      <th>Name</th>\n",
              "      <th>Score</th>\n",
              "      <th>Passed</th>\n",
              "    </tr>\n",
              "  </thead>\n",
              "  <tbody>\n",
              "    <tr>\n",
              "      <th>0</th>\n",
              "      <td>Alice</td>\n",
              "      <td>88</td>\n",
              "      <td>False</td>\n",
              "    </tr>\n",
              "    <tr>\n",
              "      <th>1</th>\n",
              "      <td>Bob</td>\n",
              "      <td>58</td>\n",
              "      <td>False</td>\n",
              "    </tr>\n",
              "    <tr>\n",
              "      <th>2</th>\n",
              "      <td>Charlie</td>\n",
              "      <td>65</td>\n",
              "      <td>False</td>\n",
              "    </tr>\n",
              "    <tr>\n",
              "      <th>3</th>\n",
              "      <td>David</td>\n",
              "      <td>95</td>\n",
              "      <td>False</td>\n",
              "    </tr>\n",
              "    <tr>\n",
              "      <th>4</th>\n",
              "      <td>Eve</td>\n",
              "      <td>78</td>\n",
              "      <td>False</td>\n",
              "    </tr>\n",
              "    <tr>\n",
              "      <th>5</th>\n",
              "      <td>Frank</td>\n",
              "      <td>55</td>\n",
              "      <td>False</td>\n",
              "    </tr>\n",
              "    <tr>\n",
              "      <th>6</th>\n",
              "      <td>Grace</td>\n",
              "      <td>90</td>\n",
              "      <td>False</td>\n",
              "    </tr>\n",
              "    <tr>\n",
              "      <th>7</th>\n",
              "      <td>Hannah</td>\n",
              "      <td>87</td>\n",
              "      <td>False</td>\n",
              "    </tr>\n",
              "    <tr>\n",
              "      <th>8</th>\n",
              "      <td>Isaac</td>\n",
              "      <td>52</td>\n",
              "      <td>False</td>\n",
              "    </tr>\n",
              "    <tr>\n",
              "      <th>9</th>\n",
              "      <td>Jack</td>\n",
              "      <td>91</td>\n",
              "      <td>False</td>\n",
              "    </tr>\n",
              "  </tbody>\n",
              "</table>\n",
              "</div>"
            ],
            "text/plain": [
              "      Name  Score  Passed\n",
              "0    Alice     88   False\n",
              "1      Bob     58   False\n",
              "2  Charlie     65   False\n",
              "3    David     95   False\n",
              "4      Eve     78   False\n",
              "5    Frank     55   False\n",
              "6    Grace     90   False\n",
              "7   Hannah     87   False\n",
              "8    Isaac     52   False\n",
              "9     Jack     91   False"
            ]
          },
          "execution_count": 63,
          "metadata": {},
          "output_type": "execute_result"
        }
      ],
      "source": [
        "import pandas as pd\n",
        "\n",
        "# 创建数据集\n",
        "data = {\n",
        "    \"Name\": [\n",
        "        \"Alice\",\n",
        "        \"Bob\",\n",
        "        \"Charlie\",\n",
        "        \"David\",\n",
        "        \"Eve\",\n",
        "        \"Frank\",\n",
        "        \"Grace\",\n",
        "        \"Hannah\",\n",
        "        \"Isaac\",\n",
        "        \"Jack\",\n",
        "    ],\n",
        "    \"Score\": [88, 58, 65, 95, 78, 55, 90, 87, 52, 91],\n",
        "    \"Passed\": [False] * 10,\n",
        "}\n",
        "df = pd.DataFrame(data)\n",
        "df"
      ]
    },
    {
      "cell_type": "markdown",
      "metadata": {},
      "source": [
        "## 数据清洗\n",
        "\n",
        "### 处理缺失值\n",
        "\n",
        "Pandas使用依然使用`np.nan`来表示缺失值。\n",
        "\n",
        "构造一个带有缺失值的Series对象（一个列）：\n"
      ]
    },
    {
      "cell_type": "code",
      "execution_count": 64,
      "metadata": {},
      "outputs": [
        {
          "name": "stdout",
          "output_type": "stream",
          "text": [
            "0      a\n",
            "1      b\n",
            "2    NaN\n",
            "3      d\n",
            "4    NaN\n",
            "dtype: object\n"
          ]
        }
      ],
      "source": [
        "df = pd.Series([\"a\", \"b\", np.nan, \"d\", np.nan])  # 创建一个Series对象（一列）\n",
        "print(df)"
      ]
    },
    {
      "cell_type": "markdown",
      "metadata": {},
      "source": [
        "常用的NA方法有：\n",
        "\n",
        "1. `isnull()`: 判断什么值为缺失值\n",
        "2. `notnull()`: 与上一个方法相反。\n",
        "3. `dropna()`：去除缺失值\n",
        "4. `fillna()`: 按一定的规则填充缺失值\n"
      ]
    },
    {
      "cell_type": "code",
      "execution_count": 65,
      "metadata": {},
      "outputs": [
        {
          "data": {
            "text/plain": [
              "0    False\n",
              "1    False\n",
              "2     True\n",
              "3    False\n",
              "4     True\n",
              "dtype: bool"
            ]
          },
          "execution_count": 65,
          "metadata": {},
          "output_type": "execute_result"
        }
      ],
      "source": [
        "df.isnull()  # 使用Series对象自带的isnull()方法"
      ]
    },
    {
      "cell_type": "markdown",
      "metadata": {},
      "source": [
        "问：这一列是否有NA，或者有多少个？对上述结果求和即可！True会被是为1，False被视为0"
      ]
    },
    {
      "cell_type": "code",
      "execution_count": 66,
      "metadata": {},
      "outputs": [
        {
          "data": {
            "text/plain": [
              "2"
            ]
          },
          "execution_count": 66,
          "metadata": {},
          "output_type": "execute_result"
        }
      ],
      "source": [
        "df.isnull().sum()  # 2个缺失值"
      ]
    },
    {
      "cell_type": "markdown",
      "metadata": {},
      "source": [
        "使用`dropna`可以返回所有非NA的值："
      ]
    },
    {
      "cell_type": "code",
      "execution_count": 67,
      "metadata": {},
      "outputs": [
        {
          "data": {
            "text/plain": [
              "0    a\n",
              "1    b\n",
              "3    d\n",
              "dtype: object"
            ]
          },
          "execution_count": 67,
          "metadata": {},
          "output_type": "execute_result"
        }
      ],
      "source": [
        "df.dropna()  # 注意，要修改df本身，需要用参数inplace = True，"
      ]
    },
    {
      "cell_type": "markdown",
      "metadata": {},
      "source": [
        "与下面的代码是等价的。"
      ]
    },
    {
      "cell_type": "code",
      "execution_count": 68,
      "metadata": {},
      "outputs": [
        {
          "data": {
            "text/plain": [
              "0    a\n",
              "1    b\n",
              "3    d\n",
              "dtype: object"
            ]
          },
          "execution_count": 68,
          "metadata": {},
          "output_type": "execute_result"
        }
      ],
      "source": [
        "df[df.notna()]  # 先获得非na值的布尔序列，再筛选。"
      ]
    },
    {
      "cell_type": "markdown",
      "metadata": {},
      "source": [
        "但是对于DataFrame对象（二维表格，多个列的横向合并），情况稍微复杂一点：不同的列的缺失值可能在不同的位置。\n",
        "\n"
      ]
    },
    {
      "cell_type": "code",
      "execution_count": 69,
      "metadata": {},
      "outputs": [
        {
          "data": {
            "text/html": [
              "<div>\n",
              "<style scoped>\n",
              "    .dataframe tbody tr th:only-of-type {\n",
              "        vertical-align: middle;\n",
              "    }\n",
              "\n",
              "    .dataframe tbody tr th {\n",
              "        vertical-align: top;\n",
              "    }\n",
              "\n",
              "    .dataframe thead th {\n",
              "        text-align: right;\n",
              "    }\n",
              "</style>\n",
              "<table border=\"1\" class=\"dataframe\">\n",
              "  <thead>\n",
              "    <tr style=\"text-align: right;\">\n",
              "      <th></th>\n",
              "      <th>A</th>\n",
              "      <th>B</th>\n",
              "      <th>C</th>\n",
              "    </tr>\n",
              "  </thead>\n",
              "  <tbody>\n",
              "    <tr>\n",
              "      <th>0</th>\n",
              "      <td>1.0</td>\n",
              "      <td>4.0</td>\n",
              "      <td>7.0</td>\n",
              "    </tr>\n",
              "    <tr>\n",
              "      <th>1</th>\n",
              "      <td>2.0</td>\n",
              "      <td>NaN</td>\n",
              "      <td>NaN</td>\n",
              "    </tr>\n",
              "    <tr>\n",
              "      <th>2</th>\n",
              "      <td>NaN</td>\n",
              "      <td>NaN</td>\n",
              "      <td>NaN</td>\n",
              "    </tr>\n",
              "    <tr>\n",
              "      <th>3</th>\n",
              "      <td>NaN</td>\n",
              "      <td>7.0</td>\n",
              "      <td>0.0</td>\n",
              "    </tr>\n",
              "  </tbody>\n",
              "</table>\n",
              "</div>"
            ],
            "text/plain": [
              "     A    B    C\n",
              "0  1.0  4.0  7.0\n",
              "1  2.0  NaN  NaN\n",
              "2  NaN  NaN  NaN\n",
              "3  NaN  7.0  0.0"
            ]
          },
          "execution_count": 69,
          "metadata": {},
          "output_type": "execute_result"
        }
      ],
      "source": [
        "df = pd.DataFrame(\n",
        "    dict(A=[1, 2, np.nan, np.nan], B=[4, np.nan, np.nan, 7], C=[7, np.nan, np.nan, 0])\n",
        ")\n",
        "df"
      ]
    },
    {
      "cell_type": "markdown",
      "metadata": {},
      "source": [
        "`dropna()`默认会去掉包括“任何”缺失值的行：只要有缺失值，这一行就会被去掉。"
      ]
    },
    {
      "cell_type": "code",
      "execution_count": 70,
      "metadata": {},
      "outputs": [
        {
          "data": {
            "text/html": [
              "<div>\n",
              "<style scoped>\n",
              "    .dataframe tbody tr th:only-of-type {\n",
              "        vertical-align: middle;\n",
              "    }\n",
              "\n",
              "    .dataframe tbody tr th {\n",
              "        vertical-align: top;\n",
              "    }\n",
              "\n",
              "    .dataframe thead th {\n",
              "        text-align: right;\n",
              "    }\n",
              "</style>\n",
              "<table border=\"1\" class=\"dataframe\">\n",
              "  <thead>\n",
              "    <tr style=\"text-align: right;\">\n",
              "      <th></th>\n",
              "      <th>A</th>\n",
              "      <th>B</th>\n",
              "      <th>C</th>\n",
              "    </tr>\n",
              "  </thead>\n",
              "  <tbody>\n",
              "    <tr>\n",
              "      <th>0</th>\n",
              "      <td>1.0</td>\n",
              "      <td>4.0</td>\n",
              "      <td>7.0</td>\n",
              "    </tr>\n",
              "  </tbody>\n",
              "</table>\n",
              "</div>"
            ],
            "text/plain": [
              "     A    B    C\n",
              "0  1.0  4.0  7.0"
            ]
          },
          "execution_count": 70,
          "metadata": {},
          "output_type": "execute_result"
        }
      ],
      "source": [
        "df.dropna()"
      ]
    },
    {
      "cell_type": "markdown",
      "metadata": {},
      "source": [
        "参数`how='all'`只会去掉所有值都是NA的行。"
      ]
    },
    {
      "cell_type": "code",
      "execution_count": 71,
      "metadata": {},
      "outputs": [
        {
          "data": {
            "text/html": [
              "<div>\n",
              "<style scoped>\n",
              "    .dataframe tbody tr th:only-of-type {\n",
              "        vertical-align: middle;\n",
              "    }\n",
              "\n",
              "    .dataframe tbody tr th {\n",
              "        vertical-align: top;\n",
              "    }\n",
              "\n",
              "    .dataframe thead th {\n",
              "        text-align: right;\n",
              "    }\n",
              "</style>\n",
              "<table border=\"1\" class=\"dataframe\">\n",
              "  <thead>\n",
              "    <tr style=\"text-align: right;\">\n",
              "      <th></th>\n",
              "      <th>A</th>\n",
              "      <th>B</th>\n",
              "      <th>C</th>\n",
              "    </tr>\n",
              "  </thead>\n",
              "  <tbody>\n",
              "    <tr>\n",
              "      <th>0</th>\n",
              "      <td>1.0</td>\n",
              "      <td>4.0</td>\n",
              "      <td>7.0</td>\n",
              "    </tr>\n",
              "    <tr>\n",
              "      <th>1</th>\n",
              "      <td>2.0</td>\n",
              "      <td>NaN</td>\n",
              "      <td>NaN</td>\n",
              "    </tr>\n",
              "    <tr>\n",
              "      <th>3</th>\n",
              "      <td>NaN</td>\n",
              "      <td>7.0</td>\n",
              "      <td>0.0</td>\n",
              "    </tr>\n",
              "  </tbody>\n",
              "</table>\n",
              "</div>"
            ],
            "text/plain": [
              "     A    B    C\n",
              "0  1.0  4.0  7.0\n",
              "1  2.0  NaN  NaN\n",
              "3  NaN  7.0  0.0"
            ]
          },
          "execution_count": 71,
          "metadata": {},
          "output_type": "execute_result"
        }
      ],
      "source": [
        "df.dropna(how=\"all\")"
      ]
    },
    {
      "cell_type": "markdown",
      "metadata": {},
      "source": [
        "参数`axis = 0|1`指示对行还是列操作（默认是行），所以要对列操作，只要加入`axis = 1`"
      ]
    },
    {
      "cell_type": "code",
      "execution_count": 72,
      "metadata": {},
      "outputs": [
        {
          "data": {
            "text/html": [
              "<div>\n",
              "<style scoped>\n",
              "    .dataframe tbody tr th:only-of-type {\n",
              "        vertical-align: middle;\n",
              "    }\n",
              "\n",
              "    .dataframe tbody tr th {\n",
              "        vertical-align: top;\n",
              "    }\n",
              "\n",
              "    .dataframe thead th {\n",
              "        text-align: right;\n",
              "    }\n",
              "</style>\n",
              "<table border=\"1\" class=\"dataframe\">\n",
              "  <thead>\n",
              "    <tr style=\"text-align: right;\">\n",
              "      <th></th>\n",
              "      <th>A</th>\n",
              "      <th>B</th>\n",
              "      <th>C</th>\n",
              "      <th>D</th>\n",
              "    </tr>\n",
              "  </thead>\n",
              "  <tbody>\n",
              "    <tr>\n",
              "      <th>0</th>\n",
              "      <td>1.0</td>\n",
              "      <td>4.0</td>\n",
              "      <td>7.0</td>\n",
              "      <td>NaN</td>\n",
              "    </tr>\n",
              "    <tr>\n",
              "      <th>1</th>\n",
              "      <td>2.0</td>\n",
              "      <td>NaN</td>\n",
              "      <td>NaN</td>\n",
              "      <td>NaN</td>\n",
              "    </tr>\n",
              "    <tr>\n",
              "      <th>2</th>\n",
              "      <td>NaN</td>\n",
              "      <td>NaN</td>\n",
              "      <td>NaN</td>\n",
              "      <td>NaN</td>\n",
              "    </tr>\n",
              "    <tr>\n",
              "      <th>3</th>\n",
              "      <td>NaN</td>\n",
              "      <td>7.0</td>\n",
              "      <td>0.0</td>\n",
              "      <td>NaN</td>\n",
              "    </tr>\n",
              "  </tbody>\n",
              "</table>\n",
              "</div>"
            ],
            "text/plain": [
              "     A    B    C   D\n",
              "0  1.0  4.0  7.0 NaN\n",
              "1  2.0  NaN  NaN NaN\n",
              "2  NaN  NaN  NaN NaN\n",
              "3  NaN  7.0  0.0 NaN"
            ]
          },
          "execution_count": 72,
          "metadata": {},
          "output_type": "execute_result"
        }
      ],
      "source": [
        "df[\"D\"] = np.nan  # 加一列全NA列\n",
        "df"
      ]
    },
    {
      "cell_type": "code",
      "execution_count": 73,
      "metadata": {},
      "outputs": [
        {
          "data": {
            "text/html": [
              "<div>\n",
              "<style scoped>\n",
              "    .dataframe tbody tr th:only-of-type {\n",
              "        vertical-align: middle;\n",
              "    }\n",
              "\n",
              "    .dataframe tbody tr th {\n",
              "        vertical-align: top;\n",
              "    }\n",
              "\n",
              "    .dataframe thead th {\n",
              "        text-align: right;\n",
              "    }\n",
              "</style>\n",
              "<table border=\"1\" class=\"dataframe\">\n",
              "  <thead>\n",
              "    <tr style=\"text-align: right;\">\n",
              "      <th></th>\n",
              "      <th>A</th>\n",
              "      <th>B</th>\n",
              "      <th>C</th>\n",
              "    </tr>\n",
              "  </thead>\n",
              "  <tbody>\n",
              "    <tr>\n",
              "      <th>0</th>\n",
              "      <td>1.0</td>\n",
              "      <td>4.0</td>\n",
              "      <td>7.0</td>\n",
              "    </tr>\n",
              "    <tr>\n",
              "      <th>1</th>\n",
              "      <td>2.0</td>\n",
              "      <td>NaN</td>\n",
              "      <td>NaN</td>\n",
              "    </tr>\n",
              "    <tr>\n",
              "      <th>2</th>\n",
              "      <td>NaN</td>\n",
              "      <td>NaN</td>\n",
              "      <td>NaN</td>\n",
              "    </tr>\n",
              "    <tr>\n",
              "      <th>3</th>\n",
              "      <td>NaN</td>\n",
              "      <td>7.0</td>\n",
              "      <td>0.0</td>\n",
              "    </tr>\n",
              "  </tbody>\n",
              "</table>\n",
              "</div>"
            ],
            "text/plain": [
              "     A    B    C\n",
              "0  1.0  4.0  7.0\n",
              "1  2.0  NaN  NaN\n",
              "2  NaN  NaN  NaN\n",
              "3  NaN  7.0  0.0"
            ]
          },
          "execution_count": 73,
          "metadata": {},
          "output_type": "execute_result"
        }
      ],
      "source": [
        "df.dropna(how=\"all\", axis=1)  # 去掉所有值都为NA的列。"
      ]
    },
    {
      "cell_type": "markdown",
      "metadata": {},
      "source": [
        "### 填充缺失值\n",
        "如果需要填充缺失值，而不是去除，可以使用`fillna()`。"
      ]
    },
    {
      "cell_type": "code",
      "execution_count": 74,
      "metadata": {},
      "outputs": [
        {
          "data": {
            "text/html": [
              "<div>\n",
              "<style scoped>\n",
              "    .dataframe tbody tr th:only-of-type {\n",
              "        vertical-align: middle;\n",
              "    }\n",
              "\n",
              "    .dataframe tbody tr th {\n",
              "        vertical-align: top;\n",
              "    }\n",
              "\n",
              "    .dataframe thead th {\n",
              "        text-align: right;\n",
              "    }\n",
              "</style>\n",
              "<table border=\"1\" class=\"dataframe\">\n",
              "  <thead>\n",
              "    <tr style=\"text-align: right;\">\n",
              "      <th></th>\n",
              "      <th>A</th>\n",
              "      <th>B</th>\n",
              "      <th>C</th>\n",
              "    </tr>\n",
              "  </thead>\n",
              "  <tbody>\n",
              "    <tr>\n",
              "      <th>0</th>\n",
              "      <td>-0.293811</td>\n",
              "      <td>-1.708470</td>\n",
              "      <td>NaN</td>\n",
              "    </tr>\n",
              "    <tr>\n",
              "      <th>1</th>\n",
              "      <td>-0.754209</td>\n",
              "      <td>2.221121</td>\n",
              "      <td>NaN</td>\n",
              "    </tr>\n",
              "    <tr>\n",
              "      <th>2</th>\n",
              "      <td>-0.632106</td>\n",
              "      <td>NaN</td>\n",
              "      <td>0.581108</td>\n",
              "    </tr>\n",
              "    <tr>\n",
              "      <th>3</th>\n",
              "      <td>-1.070064</td>\n",
              "      <td>NaN</td>\n",
              "      <td>0.011758</td>\n",
              "    </tr>\n",
              "    <tr>\n",
              "      <th>4</th>\n",
              "      <td>0.276283</td>\n",
              "      <td>NaN</td>\n",
              "      <td>0.025015</td>\n",
              "    </tr>\n",
              "    <tr>\n",
              "      <th>5</th>\n",
              "      <td>1.011524</td>\n",
              "      <td>-1.273671</td>\n",
              "      <td>0.989935</td>\n",
              "    </tr>\n",
              "    <tr>\n",
              "      <th>6</th>\n",
              "      <td>-0.587565</td>\n",
              "      <td>0.716118</td>\n",
              "      <td>-0.086710</td>\n",
              "    </tr>\n",
              "  </tbody>\n",
              "</table>\n",
              "</div>"
            ],
            "text/plain": [
              "          A         B         C\n",
              "0 -0.293811 -1.708470       NaN\n",
              "1 -0.754209  2.221121       NaN\n",
              "2 -0.632106       NaN  0.581108\n",
              "3 -1.070064       NaN  0.011758\n",
              "4  0.276283       NaN  0.025015\n",
              "5  1.011524 -1.273671  0.989935\n",
              "6 -0.587565  0.716118 -0.086710"
            ]
          },
          "execution_count": 74,
          "metadata": {},
          "output_type": "execute_result"
        }
      ],
      "source": [
        "# 创建随机数df,\n",
        "\n",
        "# 利用np.random.randn()创建7行3列的标准正态分布随机数，转为DataFrame\n",
        "\n",
        "df = pd.DataFrame(np.random.randn(7, 3))\n",
        "df.columns = [\"A\", \"B\", \"C\"]\n",
        "df.iloc[2:5, 1] = np.nan\n",
        "df.iloc[:2, 2] = np.nan\n",
        "df"
      ]
    },
    {
      "cell_type": "code",
      "execution_count": 75,
      "metadata": {},
      "outputs": [
        {
          "data": {
            "text/html": [
              "<div>\n",
              "<style scoped>\n",
              "    .dataframe tbody tr th:only-of-type {\n",
              "        vertical-align: middle;\n",
              "    }\n",
              "\n",
              "    .dataframe tbody tr th {\n",
              "        vertical-align: top;\n",
              "    }\n",
              "\n",
              "    .dataframe thead th {\n",
              "        text-align: right;\n",
              "    }\n",
              "</style>\n",
              "<table border=\"1\" class=\"dataframe\">\n",
              "  <thead>\n",
              "    <tr style=\"text-align: right;\">\n",
              "      <th></th>\n",
              "      <th>A</th>\n",
              "      <th>B</th>\n",
              "      <th>C</th>\n",
              "    </tr>\n",
              "  </thead>\n",
              "  <tbody>\n",
              "    <tr>\n",
              "      <th>0</th>\n",
              "      <td>-0.293811</td>\n",
              "      <td>-1.708470</td>\n",
              "      <td>0.000000</td>\n",
              "    </tr>\n",
              "    <tr>\n",
              "      <th>1</th>\n",
              "      <td>-0.754209</td>\n",
              "      <td>2.221121</td>\n",
              "      <td>0.000000</td>\n",
              "    </tr>\n",
              "    <tr>\n",
              "      <th>2</th>\n",
              "      <td>-0.632106</td>\n",
              "      <td>0.000000</td>\n",
              "      <td>0.581108</td>\n",
              "    </tr>\n",
              "    <tr>\n",
              "      <th>3</th>\n",
              "      <td>-1.070064</td>\n",
              "      <td>0.000000</td>\n",
              "      <td>0.011758</td>\n",
              "    </tr>\n",
              "    <tr>\n",
              "      <th>4</th>\n",
              "      <td>0.276283</td>\n",
              "      <td>0.000000</td>\n",
              "      <td>0.025015</td>\n",
              "    </tr>\n",
              "    <tr>\n",
              "      <th>5</th>\n",
              "      <td>1.011524</td>\n",
              "      <td>-1.273671</td>\n",
              "      <td>0.989935</td>\n",
              "    </tr>\n",
              "    <tr>\n",
              "      <th>6</th>\n",
              "      <td>-0.587565</td>\n",
              "      <td>0.716118</td>\n",
              "      <td>-0.086710</td>\n",
              "    </tr>\n",
              "  </tbody>\n",
              "</table>\n",
              "</div>"
            ],
            "text/plain": [
              "          A         B         C\n",
              "0 -0.293811 -1.708470  0.000000\n",
              "1 -0.754209  2.221121  0.000000\n",
              "2 -0.632106  0.000000  0.581108\n",
              "3 -1.070064  0.000000  0.011758\n",
              "4  0.276283  0.000000  0.025015\n",
              "5  1.011524 -1.273671  0.989935\n",
              "6 -0.587565  0.716118 -0.086710"
            ]
          },
          "execution_count": 75,
          "metadata": {},
          "output_type": "execute_result"
        }
      ],
      "source": [
        "df.fillna(0)  # 用0填充缺失值"
      ]
    },
    {
      "cell_type": "code",
      "execution_count": 76,
      "metadata": {},
      "outputs": [
        {
          "data": {
            "text/html": [
              "<div>\n",
              "<style scoped>\n",
              "    .dataframe tbody tr th:only-of-type {\n",
              "        vertical-align: middle;\n",
              "    }\n",
              "\n",
              "    .dataframe tbody tr th {\n",
              "        vertical-align: top;\n",
              "    }\n",
              "\n",
              "    .dataframe thead th {\n",
              "        text-align: right;\n",
              "    }\n",
              "</style>\n",
              "<table border=\"1\" class=\"dataframe\">\n",
              "  <thead>\n",
              "    <tr style=\"text-align: right;\">\n",
              "      <th></th>\n",
              "      <th>A</th>\n",
              "      <th>B</th>\n",
              "      <th>C</th>\n",
              "    </tr>\n",
              "  </thead>\n",
              "  <tbody>\n",
              "    <tr>\n",
              "      <th>0</th>\n",
              "      <td>-0.293811</td>\n",
              "      <td>-1.708470</td>\n",
              "      <td>NaN</td>\n",
              "    </tr>\n",
              "    <tr>\n",
              "      <th>1</th>\n",
              "      <td>-0.754209</td>\n",
              "      <td>2.221121</td>\n",
              "      <td>NaN</td>\n",
              "    </tr>\n",
              "    <tr>\n",
              "      <th>2</th>\n",
              "      <td>-0.632106</td>\n",
              "      <td>2.221121</td>\n",
              "      <td>0.581108</td>\n",
              "    </tr>\n",
              "    <tr>\n",
              "      <th>3</th>\n",
              "      <td>-1.070064</td>\n",
              "      <td>2.221121</td>\n",
              "      <td>0.011758</td>\n",
              "    </tr>\n",
              "    <tr>\n",
              "      <th>4</th>\n",
              "      <td>0.276283</td>\n",
              "      <td>2.221121</td>\n",
              "      <td>0.025015</td>\n",
              "    </tr>\n",
              "    <tr>\n",
              "      <th>5</th>\n",
              "      <td>1.011524</td>\n",
              "      <td>-1.273671</td>\n",
              "      <td>0.989935</td>\n",
              "    </tr>\n",
              "    <tr>\n",
              "      <th>6</th>\n",
              "      <td>-0.587565</td>\n",
              "      <td>0.716118</td>\n",
              "      <td>-0.086710</td>\n",
              "    </tr>\n",
              "  </tbody>\n",
              "</table>\n",
              "</div>"
            ],
            "text/plain": [
              "          A         B         C\n",
              "0 -0.293811 -1.708470       NaN\n",
              "1 -0.754209  2.221121       NaN\n",
              "2 -0.632106  2.221121  0.581108\n",
              "3 -1.070064  2.221121  0.011758\n",
              "4  0.276283  2.221121  0.025015\n",
              "5  1.011524 -1.273671  0.989935\n",
              "6 -0.587565  0.716118 -0.086710"
            ]
          },
          "execution_count": 76,
          "metadata": {},
          "output_type": "execute_result"
        }
      ],
      "source": [
        "# 用前值填充。如果第一个值就是NA就无法填充了。\n",
        "# df.fillna(method=\"ffill\")  # 老版本Pandas的方法\n",
        "df.ffill()  # 新版的方法"
      ]
    },
    {
      "cell_type": "code",
      "execution_count": 77,
      "metadata": {},
      "outputs": [
        {
          "data": {
            "text/html": [
              "<div>\n",
              "<style scoped>\n",
              "    .dataframe tbody tr th:only-of-type {\n",
              "        vertical-align: middle;\n",
              "    }\n",
              "\n",
              "    .dataframe tbody tr th {\n",
              "        vertical-align: top;\n",
              "    }\n",
              "\n",
              "    .dataframe thead th {\n",
              "        text-align: right;\n",
              "    }\n",
              "</style>\n",
              "<table border=\"1\" class=\"dataframe\">\n",
              "  <thead>\n",
              "    <tr style=\"text-align: right;\">\n",
              "      <th></th>\n",
              "      <th>A</th>\n",
              "      <th>B</th>\n",
              "      <th>C</th>\n",
              "    </tr>\n",
              "  </thead>\n",
              "  <tbody>\n",
              "    <tr>\n",
              "      <th>0</th>\n",
              "      <td>-0.293811</td>\n",
              "      <td>-1.708470</td>\n",
              "      <td>0.581108</td>\n",
              "    </tr>\n",
              "    <tr>\n",
              "      <th>1</th>\n",
              "      <td>-0.754209</td>\n",
              "      <td>2.221121</td>\n",
              "      <td>0.581108</td>\n",
              "    </tr>\n",
              "    <tr>\n",
              "      <th>2</th>\n",
              "      <td>-0.632106</td>\n",
              "      <td>-1.273671</td>\n",
              "      <td>0.581108</td>\n",
              "    </tr>\n",
              "    <tr>\n",
              "      <th>3</th>\n",
              "      <td>-1.070064</td>\n",
              "      <td>-1.273671</td>\n",
              "      <td>0.011758</td>\n",
              "    </tr>\n",
              "    <tr>\n",
              "      <th>4</th>\n",
              "      <td>0.276283</td>\n",
              "      <td>-1.273671</td>\n",
              "      <td>0.025015</td>\n",
              "    </tr>\n",
              "    <tr>\n",
              "      <th>5</th>\n",
              "      <td>1.011524</td>\n",
              "      <td>-1.273671</td>\n",
              "      <td>0.989935</td>\n",
              "    </tr>\n",
              "    <tr>\n",
              "      <th>6</th>\n",
              "      <td>-0.587565</td>\n",
              "      <td>0.716118</td>\n",
              "      <td>-0.086710</td>\n",
              "    </tr>\n",
              "  </tbody>\n",
              "</table>\n",
              "</div>"
            ],
            "text/plain": [
              "          A         B         C\n",
              "0 -0.293811 -1.708470  0.581108\n",
              "1 -0.754209  2.221121  0.581108\n",
              "2 -0.632106 -1.273671  0.581108\n",
              "3 -1.070064 -1.273671  0.011758\n",
              "4  0.276283 -1.273671  0.025015\n",
              "5  1.011524 -1.273671  0.989935\n",
              "6 -0.587565  0.716118 -0.086710"
            ]
          },
          "execution_count": 77,
          "metadata": {},
          "output_type": "execute_result"
        }
      ],
      "source": [
        "# 用后值填充。\n",
        "# df.fillna(method=\"bfill\")  # 老版本Pandas的方法\n",
        "df.bfill()  # 新版的方法"
      ]
    },
    {
      "cell_type": "markdown",
      "metadata": {},
      "source": [
        "还可以用均值填充，这样填充后不改变均值"
      ]
    },
    {
      "cell_type": "code",
      "execution_count": 78,
      "metadata": {},
      "outputs": [],
      "source": [
        "# 还可以填充均值或者中位数\n",
        "df.B.fillna(df.B.mean(), inplace=True)  # 用均值填充\n",
        "df.C.fillna(df.C.median(), inplace=True)  # 用中位数填充"
      ]
    },
    {
      "cell_type": "markdown",
      "metadata": {},
      "source": [
        "### 数据转换\n",
        "\n",
        "#### 去除重复行"
      ]
    },
    {
      "cell_type": "code",
      "execution_count": 79,
      "metadata": {},
      "outputs": [
        {
          "data": {
            "text/html": [
              "<div>\n",
              "<style scoped>\n",
              "    .dataframe tbody tr th:only-of-type {\n",
              "        vertical-align: middle;\n",
              "    }\n",
              "\n",
              "    .dataframe tbody tr th {\n",
              "        vertical-align: top;\n",
              "    }\n",
              "\n",
              "    .dataframe thead th {\n",
              "        text-align: right;\n",
              "    }\n",
              "</style>\n",
              "<table border=\"1\" class=\"dataframe\">\n",
              "  <thead>\n",
              "    <tr style=\"text-align: right;\">\n",
              "      <th></th>\n",
              "      <th>A</th>\n",
              "      <th>B</th>\n",
              "    </tr>\n",
              "  </thead>\n",
              "  <tbody>\n",
              "    <tr>\n",
              "      <th>0</th>\n",
              "      <td>a</td>\n",
              "      <td>1</td>\n",
              "    </tr>\n",
              "    <tr>\n",
              "      <th>1</th>\n",
              "      <td>b</td>\n",
              "      <td>2</td>\n",
              "    </tr>\n",
              "    <tr>\n",
              "      <th>2</th>\n",
              "      <td>c</td>\n",
              "      <td>3</td>\n",
              "    </tr>\n",
              "    <tr>\n",
              "      <th>3</th>\n",
              "      <td>a</td>\n",
              "      <td>1</td>\n",
              "    </tr>\n",
              "    <tr>\n",
              "      <th>4</th>\n",
              "      <td>b</td>\n",
              "      <td>2</td>\n",
              "    </tr>\n",
              "    <tr>\n",
              "      <th>5</th>\n",
              "      <td>c</td>\n",
              "      <td>3</td>\n",
              "    </tr>\n",
              "  </tbody>\n",
              "</table>\n",
              "</div>"
            ],
            "text/plain": [
              "   A  B\n",
              "0  a  1\n",
              "1  b  2\n",
              "2  c  3\n",
              "3  a  1\n",
              "4  b  2\n",
              "5  c  3"
            ]
          },
          "execution_count": 79,
          "metadata": {},
          "output_type": "execute_result"
        }
      ],
      "source": [
        "df = pd.DataFrame(dict(A=[\"a\", \"b\", \"c\"] * 2, B=[1, 2, 3] * 2))\n",
        "df"
      ]
    },
    {
      "cell_type": "code",
      "execution_count": 80,
      "metadata": {},
      "outputs": [
        {
          "data": {
            "text/plain": [
              "0    False\n",
              "1    False\n",
              "2    False\n",
              "3     True\n",
              "4     True\n",
              "5     True\n",
              "dtype: bool"
            ]
          },
          "execution_count": 80,
          "metadata": {},
          "output_type": "execute_result"
        }
      ],
      "source": [
        "df.duplicated()  # 判断这一整行是否前面出现过（默认以首次出现为基准）"
      ]
    },
    {
      "cell_type": "code",
      "execution_count": 81,
      "metadata": {},
      "outputs": [
        {
          "data": {
            "text/html": [
              "<div>\n",
              "<style scoped>\n",
              "    .dataframe tbody tr th:only-of-type {\n",
              "        vertical-align: middle;\n",
              "    }\n",
              "\n",
              "    .dataframe tbody tr th {\n",
              "        vertical-align: top;\n",
              "    }\n",
              "\n",
              "    .dataframe thead th {\n",
              "        text-align: right;\n",
              "    }\n",
              "</style>\n",
              "<table border=\"1\" class=\"dataframe\">\n",
              "  <thead>\n",
              "    <tr style=\"text-align: right;\">\n",
              "      <th></th>\n",
              "      <th>A</th>\n",
              "      <th>B</th>\n",
              "    </tr>\n",
              "  </thead>\n",
              "  <tbody>\n",
              "    <tr>\n",
              "      <th>0</th>\n",
              "      <td>a</td>\n",
              "      <td>1</td>\n",
              "    </tr>\n",
              "    <tr>\n",
              "      <th>1</th>\n",
              "      <td>b</td>\n",
              "      <td>2</td>\n",
              "    </tr>\n",
              "    <tr>\n",
              "      <th>2</th>\n",
              "      <td>c</td>\n",
              "      <td>3</td>\n",
              "    </tr>\n",
              "  </tbody>\n",
              "</table>\n",
              "</div>"
            ],
            "text/plain": [
              "   A  B\n",
              "0  a  1\n",
              "1  b  2\n",
              "2  c  3"
            ]
          },
          "execution_count": 81,
          "metadata": {},
          "output_type": "execute_result"
        }
      ],
      "source": [
        "df.drop_duplicates()  # 去除重复行\n",
        "# 下面代码等价\n",
        "# df[~df.duplicated()] # 获得重复行，取反作为筛选条件"
      ]
    },
    {
      "cell_type": "markdown",
      "metadata": {},
      "source": [
        "#### 使用函数或者映射进行转换"
      ]
    },
    {
      "cell_type": "code",
      "execution_count": 82,
      "metadata": {},
      "outputs": [
        {
          "data": {
            "text/html": [
              "<div>\n",
              "<style scoped>\n",
              "    .dataframe tbody tr th:only-of-type {\n",
              "        vertical-align: middle;\n",
              "    }\n",
              "\n",
              "    .dataframe tbody tr th {\n",
              "        vertical-align: top;\n",
              "    }\n",
              "\n",
              "    .dataframe thead th {\n",
              "        text-align: right;\n",
              "    }\n",
              "</style>\n",
              "<table border=\"1\" class=\"dataframe\">\n",
              "  <thead>\n",
              "    <tr style=\"text-align: right;\">\n",
              "      <th></th>\n",
              "      <th>name</th>\n",
              "      <th>score</th>\n",
              "    </tr>\n",
              "  </thead>\n",
              "  <tbody>\n",
              "    <tr>\n",
              "      <th>0</th>\n",
              "      <td>陈</td>\n",
              "      <td>86.1</td>\n",
              "    </tr>\n",
              "    <tr>\n",
              "      <th>1</th>\n",
              "      <td>李</td>\n",
              "      <td>32.2</td>\n",
              "    </tr>\n",
              "    <tr>\n",
              "      <th>2</th>\n",
              "      <td>张</td>\n",
              "      <td>36.3</td>\n",
              "    </tr>\n",
              "    <tr>\n",
              "      <th>3</th>\n",
              "      <td>王</td>\n",
              "      <td>36.4</td>\n",
              "    </tr>\n",
              "    <tr>\n",
              "      <th>4</th>\n",
              "      <td>周</td>\n",
              "      <td>68.4</td>\n",
              "    </tr>\n",
              "    <tr>\n",
              "      <th>5</th>\n",
              "      <td>吴</td>\n",
              "      <td>41.4</td>\n",
              "    </tr>\n",
              "  </tbody>\n",
              "</table>\n",
              "</div>"
            ],
            "text/plain": [
              "  name  score\n",
              "0    陈   86.1\n",
              "1    李   32.2\n",
              "2    张   36.3\n",
              "3    王   36.4\n",
              "4    周   68.4\n",
              "5    吴   41.4"
            ]
          },
          "execution_count": 82,
          "metadata": {},
          "output_type": "execute_result"
        }
      ],
      "source": [
        "scores = np.random.uniform(30, 100, 6).round(1)\n",
        "df = pd.DataFrame(dict(name=list(\"陈李张王周吴\"), score=scores))\n",
        "df"
      ]
    },
    {
      "cell_type": "markdown",
      "metadata": {},
      "source": [
        "例如，把score列转为rank（ABCDE）。\n",
        "\n",
        "1. 映射（map）转换：提供一个字典。\n",
        "\n",
        "利用map()函数，你提供一个转换器（字典），可以把ii某一列所有的值，转为\n",
        "dadf"
      ]
    },
    {
      "cell_type": "code",
      "execution_count": 83,
      "metadata": {},
      "outputs": [
        {
          "data": {
            "text/plain": [
              "0    8.0\n",
              "1    3.0\n",
              "2    3.0\n",
              "3    3.0\n",
              "4    6.0\n",
              "5    4.0\n",
              "Name: score, dtype: float64"
            ]
          },
          "execution_count": 83,
          "metadata": {},
          "output_type": "execute_result"
        }
      ],
      "source": [
        "score10x = df.score // 10  # 分数整除（获得十位）\n",
        "score10x  # 这是一个Series"
      ]
    },
    {
      "cell_type": "code",
      "execution_count": 84,
      "metadata": {},
      "outputs": [
        {
          "data": {
            "text/plain": [
              "0      B\n",
              "1    NaN\n",
              "2    NaN\n",
              "3    NaN\n",
              "4      D\n",
              "5    NaN\n",
              "Name: score, dtype: object"
            ]
          },
          "execution_count": 84,
          "metadata": {},
          "output_type": "execute_result"
        }
      ],
      "source": [
        "score_to_rank = {10: \"A\", 9: \"A\", 8: \"B\", 7: \"C\", 6: \"D\"}  # 不同的分数段，对应的评级\n",
        "rank = score10x.map(score_to_rank)  # 利用map()函数，把分数的10位映射为rank\n",
        "rank"
      ]
    },
    {
      "cell_type": "code",
      "execution_count": 85,
      "metadata": {},
      "outputs": [
        {
          "data": {
            "text/html": [
              "<div>\n",
              "<style scoped>\n",
              "    .dataframe tbody tr th:only-of-type {\n",
              "        vertical-align: middle;\n",
              "    }\n",
              "\n",
              "    .dataframe tbody tr th {\n",
              "        vertical-align: top;\n",
              "    }\n",
              "\n",
              "    .dataframe thead th {\n",
              "        text-align: right;\n",
              "    }\n",
              "</style>\n",
              "<table border=\"1\" class=\"dataframe\">\n",
              "  <thead>\n",
              "    <tr style=\"text-align: right;\">\n",
              "      <th></th>\n",
              "      <th>name</th>\n",
              "      <th>score</th>\n",
              "      <th>rank</th>\n",
              "    </tr>\n",
              "  </thead>\n",
              "  <tbody>\n",
              "    <tr>\n",
              "      <th>0</th>\n",
              "      <td>陈</td>\n",
              "      <td>86.1</td>\n",
              "      <td>B</td>\n",
              "    </tr>\n",
              "    <tr>\n",
              "      <th>1</th>\n",
              "      <td>李</td>\n",
              "      <td>32.2</td>\n",
              "      <td>E</td>\n",
              "    </tr>\n",
              "    <tr>\n",
              "      <th>2</th>\n",
              "      <td>张</td>\n",
              "      <td>36.3</td>\n",
              "      <td>E</td>\n",
              "    </tr>\n",
              "    <tr>\n",
              "      <th>3</th>\n",
              "      <td>王</td>\n",
              "      <td>36.4</td>\n",
              "      <td>E</td>\n",
              "    </tr>\n",
              "    <tr>\n",
              "      <th>4</th>\n",
              "      <td>周</td>\n",
              "      <td>68.4</td>\n",
              "      <td>D</td>\n",
              "    </tr>\n",
              "    <tr>\n",
              "      <th>5</th>\n",
              "      <td>吴</td>\n",
              "      <td>41.4</td>\n",
              "      <td>E</td>\n",
              "    </tr>\n",
              "  </tbody>\n",
              "</table>\n",
              "</div>"
            ],
            "text/plain": [
              "  name  score rank\n",
              "0    陈   86.1    B\n",
              "1    李   32.2    E\n",
              "2    张   36.3    E\n",
              "3    王   36.4    E\n",
              "4    周   68.4    D\n",
              "5    吴   41.4    E"
            ]
          },
          "execution_count": 85,
          "metadata": {},
          "output_type": "execute_result"
        }
      ],
      "source": [
        "df[\"rank\"] = rank.fillna(\"E\")  # 低于60不在字典中，会映射为NA，填充'E'即可\n",
        "df"
      ]
    },
    {
      "cell_type": "markdown",
      "metadata": {},
      "source": [
        "2. 函数转换：提供一个函数\n",
        "\n",
        "除了提供一个字典，也可以提供一个函数。显然函数的灵活性会高一点，比如可以写函数说明，参数检查，简单测试等等。"
      ]
    },
    {
      "cell_type": "code",
      "execution_count": 86,
      "metadata": {},
      "outputs": [],
      "source": [
        "def calc_rank(x):\n",
        "    \"\"\"根据分数0~100，计算评级rank，返回字符串ABC等\"\"\"\n",
        "\n",
        "    # 参数的定义域检测等略\n",
        "    score_to_rank = {\n",
        "        10: \"A\",\n",
        "        9: \"A\",\n",
        "        8: \"B\",\n",
        "        7: \"C\",\n",
        "        6: \"D\",\n",
        "    }  # 不同的分数段，对应的评级\n",
        "    if x >= 60:\n",
        "        return score_to_rank[x // 10]  # 直接利用前面定义好的字典\n",
        "\n",
        "    return \"E\"\n",
        "\n",
        "\n",
        "# 简单测试一下\n",
        "assert calc_rank(40) == \"E\"\n",
        "assert calc_rank(100) == \"A\""
      ]
    },
    {
      "cell_type": "code",
      "execution_count": 87,
      "metadata": {},
      "outputs": [
        {
          "data": {
            "text/plain": [
              "0    B\n",
              "1    E\n",
              "2    E\n",
              "3    E\n",
              "4    D\n",
              "5    E\n",
              "Name: score, dtype: object"
            ]
          },
          "execution_count": 87,
          "metadata": {},
          "output_type": "execute_result"
        }
      ],
      "source": [
        "df.score.map(calc_rank)  # Series的map方法，既可以接受字典dict，也可以接受函数。"
      ]
    },
    {
      "cell_type": "markdown",
      "metadata": {},
      "source": [
        "#### 特定值替代\n",
        "\n",
        "某些特殊的值有特殊的含义，比如被访者不在，拒绝回答，无法识别答案等等。\n"
      ]
    },
    {
      "cell_type": "code",
      "execution_count": 88,
      "metadata": {},
      "outputs": [
        {
          "data": {
            "text/plain": [
              "0      1\n",
              "1      2\n",
              "2    999\n",
              "3      3\n",
              "4      4\n",
              "5     -1\n",
              "dtype: int64"
            ]
          },
          "execution_count": 88,
          "metadata": {},
          "output_type": "execute_result"
        }
      ],
      "source": [
        "# 有一列数据，999和-1分别表示不同的异常情况，比如999是拒绝回答，-1是被访者不在\n",
        "df = pd.Series([1, 2, 999, 3, 4, -1])\n",
        "df"
      ]
    },
    {
      "cell_type": "code",
      "execution_count": 89,
      "metadata": {},
      "outputs": [
        {
          "data": {
            "text/plain": [
              "0    1.0\n",
              "1    2.0\n",
              "2    NaN\n",
              "3    3.0\n",
              "4    4.0\n",
              "5    0.0\n",
              "dtype: float64"
            ]
          },
          "execution_count": 89,
          "metadata": {},
          "output_type": "execute_result"
        }
      ],
      "source": [
        "# replace()方法可以接受一个字典，其中定义了不同值的替代，如999 -> nan，-1 -> 0。\n",
        "\n",
        "df.replace({999: np.nan, -1: 0})"
      ]
    },
    {
      "cell_type": "code",
      "execution_count": 90,
      "metadata": {},
      "outputs": [
        {
          "data": {
            "text/plain": [
              "0    1.0\n",
              "1    2.0\n",
              "2    NaN\n",
              "3    3.0\n",
              "4    4.0\n",
              "5    NaN\n",
              "dtype: float64"
            ]
          },
          "execution_count": 90,
          "metadata": {},
          "output_type": "execute_result"
        }
      ],
      "source": [
        "df.replace([999, -1], np.nan)  # 或者多个值转为1个值: 999和-1都转为nan。"
      ]
    },
    {
      "cell_type": "markdown",
      "metadata": {},
      "source": [
        "### 小练习\n",
        "\n",
        "使用以下虚拟数据，完成下列练习。全部完成后，打印最终数据。\n",
        "\n",
        "注意：和前面的所有练习一样，这个练习也有一个小知识点需要大家自行探索， **并且题目中埋了个雷**。\n",
        "\n",
        "1. 检查缺失值\n",
        "\n",
        "  - 使用代码检查数据集中每一列是否有，有多少缺失值，打印你的回答。\n",
        "\n",
        "2. 删除重复数据\n",
        "\n",
        "  - 删除数据集中所有重复的行，只保留一份。\n",
        "\n",
        "3. 填补缺失值\n",
        "\n",
        "  - 使用平均值填补`Age`列中的缺失值。\n",
        "  - 使用中位数填补`Score`列中的缺失值。\n",
        "  - 使用字符串\"Unknown\"填补City列中的缺失值。\n",
        "\n",
        "4. 特殊值替代\n",
        "\n",
        "  - 将`Age`列中的特殊值-1替换为平均年龄。\n",
        "  - 将`Score`列中的特殊值9999替换为中位数。\n",
        "  - 将`City`列中的特殊值-1替换为最常见的城市。\n",
        "\n",
        "5. 数据转换\n",
        "\n",
        "  - 将`Score`列中所有大于90分的分数都转换为\"Excellent\"，其他值为\"Not Excellent\"，并添加一列`Performance`来存储这个结果。\n",
        "  - 将`City`列中的所有城市名称转换为大写。\n",
        "\n",
        "全部完成后，打印最终数据。"
      ]
    },
    {
      "cell_type": "code",
      "execution_count": 91,
      "metadata": {},
      "outputs": [],
      "source": [
        "import numpy as np\n",
        "\n",
        "# 创建数据集\n",
        "data = {\n",
        "    \"ID\": [1, 2, 3, 4, 5, 6, 7, 8, 9, 10, 11, 12],\n",
        "    \"Name\": [\n",
        "        \"Alice\",\n",
        "        \"Bob\",\n",
        "        \"Charlie\",\n",
        "        \"David\",\n",
        "        \"Eve\",\n",
        "        \"Frank\",\n",
        "        \"Grace\",\n",
        "        \"Hannah\",\n",
        "        \"Isaac\",\n",
        "        \"Jack\",\n",
        "        \"Bob\",\n",
        "        \"Grace\",\n",
        "    ],\n",
        "    \"Age\": [23, -1, 22, 24, 29, np.nan, 26, 21, 24, 28, -1, 26],\n",
        "    \"Score\": [88, 92, 9999, 95, 78, 85, 90, 88, 89, 91, 92, 90],\n",
        "    \"City\": [\n",
        "        \"New York\",\n",
        "        \"Los Angeles\",\n",
        "        \"Chicago\",\n",
        "        -1,\n",
        "        \"Houston\",\n",
        "        -1,\n",
        "        \"San Francisco\",\n",
        "        \"New York\",\n",
        "        \"Chicago\",\n",
        "        np.nan,\n",
        "        \"Los Angeles\",\n",
        "        \"San Francisco\",\n",
        "    ],\n",
        "}\n",
        "\n",
        "df = pd.DataFrame(data)"
      ]
    },
    {
      "cell_type": "markdown",
      "metadata": {},
      "source": [
        "## 数据合并\n",
        "\n",
        "Series是序列对象，DataFrame是二维表格对象。序列可以看成是表格的一行或者一列，\n",
        "表格可以也看出由序列横向或者纵向合并而成。\n",
        "\n",
        "Series可以由Python的列表，或者NumPy的ndarray创建。"
      ]
    },
    {
      "cell_type": "code",
      "execution_count": 92,
      "metadata": {},
      "outputs": [
        {
          "data": {
            "text/plain": [
              "0    5\n",
              "1    6\n",
              "2    7\n",
              "3    8\n",
              "dtype: int64"
            ]
          },
          "execution_count": 92,
          "metadata": {},
          "output_type": "execute_result"
        }
      ],
      "source": [
        "import pandas as pd\n",
        "import numpy as np\n",
        "\n",
        "a = pd.Series([5, 6, 7, 8])\n",
        "a"
      ]
    },
    {
      "cell_type": "markdown",
      "metadata": {},
      "source": [
        "可见，Series创建时已经自带了index。也可以在创建时指定name属性，以及自定index"
      ]
    },
    {
      "cell_type": "code",
      "execution_count": 93,
      "metadata": {},
      "outputs": [
        {
          "data": {
            "text/plain": [
              "a    5\n",
              "b    6\n",
              "c    7\n",
              "d    8\n",
              "Name: A, dtype: int64"
            ]
          },
          "execution_count": 93,
          "metadata": {},
          "output_type": "execute_result"
        }
      ],
      "source": [
        "a = pd.Series([5, 6, 7, 8], name=\"A\", index=list(\"abcd\"))\n",
        "a"
      ]
    },
    {
      "cell_type": "markdown",
      "metadata": {},
      "source": [
        "我们后面用默认的整数索引，因此用`.reset_index()`方法重置索引。（当然，上一个cell中，不用index参数也一样）"
      ]
    },
    {
      "cell_type": "code",
      "execution_count": 94,
      "metadata": {},
      "outputs": [
        {
          "data": {
            "text/plain": [
              "0    5\n",
              "1    6\n",
              "2    7\n",
              "3    8\n",
              "Name: A, dtype: int64"
            ]
          },
          "execution_count": 94,
          "metadata": {},
          "output_type": "execute_result"
        }
      ],
      "source": [
        "a = a.reset_index(drop=True)  # drop=True会完全丢弃索引；默认为false，索引会成为index列\n",
        "a"
      ]
    },
    {
      "cell_type": "markdown",
      "metadata": {},
      "source": [
        "创建另一个索引，名字叫B"
      ]
    },
    {
      "cell_type": "code",
      "execution_count": 95,
      "metadata": {},
      "outputs": [
        {
          "data": {
            "text/plain": [
              "0    A\n",
              "1    B\n",
              "2    C\n",
              "3    D\n",
              "Name: B, dtype: object"
            ]
          },
          "execution_count": 95,
          "metadata": {},
          "output_type": "execute_result"
        }
      ],
      "source": [
        "b = pd.Series(list(\"ABCD\"), name=\"B\")\n",
        "b"
      ]
    },
    {
      "cell_type": "markdown",
      "metadata": {},
      "source": [
        "### Concat \n",
        "\n",
        "`pd.concat()`可以把Series或者DataFrame横向或者纵向地“粘贴”在一起，并且对齐行标签（横向粘贴）或者对其列标签（纵向粘贴）。\n",
        "\n",
        "我们可以把两个Series横向合并，获得一个DataFrame。\n",
        "\n",
        "此时，Series的name属性，会成为每一列的header。\n",
        "\n",
        "注意，`pd.concat`接收的参数是要合并的Series或者DataFrame的列表。参数`axis=1`表示横向合并（列合并）。"
      ]
    },
    {
      "cell_type": "code",
      "execution_count": 96,
      "metadata": {},
      "outputs": [
        {
          "data": {
            "text/html": [
              "<div>\n",
              "<style scoped>\n",
              "    .dataframe tbody tr th:only-of-type {\n",
              "        vertical-align: middle;\n",
              "    }\n",
              "\n",
              "    .dataframe tbody tr th {\n",
              "        vertical-align: top;\n",
              "    }\n",
              "\n",
              "    .dataframe thead th {\n",
              "        text-align: right;\n",
              "    }\n",
              "</style>\n",
              "<table border=\"1\" class=\"dataframe\">\n",
              "  <thead>\n",
              "    <tr style=\"text-align: right;\">\n",
              "      <th></th>\n",
              "      <th>A</th>\n",
              "      <th>B</th>\n",
              "    </tr>\n",
              "  </thead>\n",
              "  <tbody>\n",
              "    <tr>\n",
              "      <th>0</th>\n",
              "      <td>5</td>\n",
              "      <td>A</td>\n",
              "    </tr>\n",
              "    <tr>\n",
              "      <th>1</th>\n",
              "      <td>6</td>\n",
              "      <td>B</td>\n",
              "    </tr>\n",
              "    <tr>\n",
              "      <th>2</th>\n",
              "      <td>7</td>\n",
              "      <td>C</td>\n",
              "    </tr>\n",
              "    <tr>\n",
              "      <th>3</th>\n",
              "      <td>8</td>\n",
              "      <td>D</td>\n",
              "    </tr>\n",
              "  </tbody>\n",
              "</table>\n",
              "</div>"
            ],
            "text/plain": [
              "   A  B\n",
              "0  5  A\n",
              "1  6  B\n",
              "2  7  C\n",
              "3  8  D"
            ]
          },
          "execution_count": 96,
          "metadata": {},
          "output_type": "execute_result"
        }
      ],
      "source": [
        "df = pd.concat([a, b], axis=1)\n",
        "df"
      ]
    },
    {
      "cell_type": "markdown",
      "metadata": {},
      "source": [
        "显然，把Series横向合并到DataFrame也是常用操作。"
      ]
    },
    {
      "cell_type": "code",
      "execution_count": 97,
      "metadata": {},
      "outputs": [
        {
          "data": {
            "text/html": [
              "<div>\n",
              "<style scoped>\n",
              "    .dataframe tbody tr th:only-of-type {\n",
              "        vertical-align: middle;\n",
              "    }\n",
              "\n",
              "    .dataframe tbody tr th {\n",
              "        vertical-align: top;\n",
              "    }\n",
              "\n",
              "    .dataframe thead th {\n",
              "        text-align: right;\n",
              "    }\n",
              "</style>\n",
              "<table border=\"1\" class=\"dataframe\">\n",
              "  <thead>\n",
              "    <tr style=\"text-align: right;\">\n",
              "      <th></th>\n",
              "      <th>A</th>\n",
              "      <th>B</th>\n",
              "      <th>C</th>\n",
              "    </tr>\n",
              "  </thead>\n",
              "  <tbody>\n",
              "    <tr>\n",
              "      <th>0</th>\n",
              "      <td>5</td>\n",
              "      <td>A</td>\n",
              "      <td>陈</td>\n",
              "    </tr>\n",
              "    <tr>\n",
              "      <th>1</th>\n",
              "      <td>6</td>\n",
              "      <td>B</td>\n",
              "      <td>李</td>\n",
              "    </tr>\n",
              "    <tr>\n",
              "      <th>2</th>\n",
              "      <td>7</td>\n",
              "      <td>C</td>\n",
              "      <td>张</td>\n",
              "    </tr>\n",
              "    <tr>\n",
              "      <th>3</th>\n",
              "      <td>8</td>\n",
              "      <td>D</td>\n",
              "      <td>黄</td>\n",
              "    </tr>\n",
              "  </tbody>\n",
              "</table>\n",
              "</div>"
            ],
            "text/plain": [
              "   A  B  C\n",
              "0  5  A  陈\n",
              "1  6  B  李\n",
              "2  7  C  张\n",
              "3  8  D  黄"
            ]
          },
          "execution_count": 97,
          "metadata": {},
          "output_type": "execute_result"
        }
      ],
      "source": [
        "c = pd.Series([\"陈\", \"李\", \"张\", \"黄\"], name=\"C\")\n",
        "pd.concat([df, c], axis=1)"
      ]
    },
    {
      "cell_type": "markdown",
      "metadata": {},
      "source": [
        "如果index不完全相同，会发生什么？"
      ]
    },
    {
      "cell_type": "code",
      "execution_count": 98,
      "metadata": {},
      "outputs": [
        {
          "data": {
            "text/html": [
              "<div>\n",
              "<style scoped>\n",
              "    .dataframe tbody tr th:only-of-type {\n",
              "        vertical-align: middle;\n",
              "    }\n",
              "\n",
              "    .dataframe tbody tr th {\n",
              "        vertical-align: top;\n",
              "    }\n",
              "\n",
              "    .dataframe thead th {\n",
              "        text-align: right;\n",
              "    }\n",
              "</style>\n",
              "<table border=\"1\" class=\"dataframe\">\n",
              "  <thead>\n",
              "    <tr style=\"text-align: right;\">\n",
              "      <th></th>\n",
              "      <th>A</th>\n",
              "      <th>B</th>\n",
              "      <th>C</th>\n",
              "    </tr>\n",
              "  </thead>\n",
              "  <tbody>\n",
              "    <tr>\n",
              "      <th>0</th>\n",
              "      <td>5.0</td>\n",
              "      <td>A</td>\n",
              "      <td>NaN</td>\n",
              "    </tr>\n",
              "    <tr>\n",
              "      <th>1</th>\n",
              "      <td>6.0</td>\n",
              "      <td>B</td>\n",
              "      <td>陈</td>\n",
              "    </tr>\n",
              "    <tr>\n",
              "      <th>2</th>\n",
              "      <td>7.0</td>\n",
              "      <td>C</td>\n",
              "      <td>李</td>\n",
              "    </tr>\n",
              "    <tr>\n",
              "      <th>3</th>\n",
              "      <td>8.0</td>\n",
              "      <td>D</td>\n",
              "      <td>张</td>\n",
              "    </tr>\n",
              "    <tr>\n",
              "      <th>4</th>\n",
              "      <td>NaN</td>\n",
              "      <td>NaN</td>\n",
              "      <td>黄</td>\n",
              "    </tr>\n",
              "  </tbody>\n",
              "</table>\n",
              "</div>"
            ],
            "text/plain": [
              "     A    B    C\n",
              "0  5.0    A  NaN\n",
              "1  6.0    B    陈\n",
              "2  7.0    C    李\n",
              "3  8.0    D    张\n",
              "4  NaN  NaN    黄"
            ]
          },
          "execution_count": 98,
          "metadata": {},
          "output_type": "execute_result"
        }
      ],
      "source": [
        "c = pd.Series([\"陈\", \"李\", \"张\", \"黄\"], name=\"C\", index=[1, 2, 3, 4])\n",
        "pd.concat([df, c], axis=1)"
      ]
    },
    {
      "cell_type": "markdown",
      "metadata": {},
      "source": [
        "注意：连接操作`pd.concat`会自动对齐所有要合并的对象的索引，如上一个cell。\n",
        "\n",
        "如果你想忽略索引，只是想简单粗暴地合并，那么可以用 `reset_index(drop=True)`，把2个df的索引重置成0开始的序列，即可把2个df强行粘贴到一起。当然，只要你保持2个df的索引一致，比如你把其中一个df的索引改写为另一个df的索引，也是可以的。"
      ]
    },
    {
      "cell_type": "code",
      "execution_count": 102,
      "metadata": {},
      "outputs": [
        {
          "data": {
            "text/html": [
              "<div>\n",
              "<style scoped>\n",
              "    .dataframe tbody tr th:only-of-type {\n",
              "        vertical-align: middle;\n",
              "    }\n",
              "\n",
              "    .dataframe tbody tr th {\n",
              "        vertical-align: top;\n",
              "    }\n",
              "\n",
              "    .dataframe thead th {\n",
              "        text-align: right;\n",
              "    }\n",
              "</style>\n",
              "<table border=\"1\" class=\"dataframe\">\n",
              "  <thead>\n",
              "    <tr style=\"text-align: right;\">\n",
              "      <th></th>\n",
              "      <th>A</th>\n",
              "      <th>B</th>\n",
              "      <th>C</th>\n",
              "    </tr>\n",
              "  </thead>\n",
              "  <tbody>\n",
              "    <tr>\n",
              "      <th>0</th>\n",
              "      <td>5</td>\n",
              "      <td>A</td>\n",
              "      <td>陈</td>\n",
              "    </tr>\n",
              "    <tr>\n",
              "      <th>1</th>\n",
              "      <td>6</td>\n",
              "      <td>B</td>\n",
              "      <td>李</td>\n",
              "    </tr>\n",
              "    <tr>\n",
              "      <th>2</th>\n",
              "      <td>7</td>\n",
              "      <td>C</td>\n",
              "      <td>张</td>\n",
              "    </tr>\n",
              "    <tr>\n",
              "      <th>3</th>\n",
              "      <td>8</td>\n",
              "      <td>D</td>\n",
              "      <td>黄</td>\n",
              "    </tr>\n",
              "  </tbody>\n",
              "</table>\n",
              "</div>"
            ],
            "text/plain": [
              "   A  B  C\n",
              "0  5  A  陈\n",
              "1  6  B  李\n",
              "2  7  C  张\n",
              "3  8  D  黄"
            ]
          },
          "execution_count": 102,
          "metadata": {},
          "output_type": "execute_result"
        }
      ],
      "source": [
        "c = pd.Series([\"陈\", \"李\", \"张\", \"黄\"], name=\"C\", index=[1, 2, 3, 4])\n",
        "d = pd.concat([df.reset_index(drop=True), c.reset_index(drop=True)], axis=1)\n",
        "d"
      ]
    },
    {
      "cell_type": "markdown",
      "metadata": {},
      "source": [
        "当然，纵向合并（增加行）也完全可以。以2个DataFrame为例：\n",
        "\n",
        "先构造2个DataFrame"
      ]
    },
    {
      "cell_type": "code",
      "execution_count": 97,
      "metadata": {},
      "outputs": [
        {
          "data": {
            "text/html": [
              "<div>\n",
              "<style scoped>\n",
              "    .dataframe tbody tr th:only-of-type {\n",
              "        vertical-align: middle;\n",
              "    }\n",
              "\n",
              "    .dataframe tbody tr th {\n",
              "        vertical-align: top;\n",
              "    }\n",
              "\n",
              "    .dataframe thead th {\n",
              "        text-align: right;\n",
              "    }\n",
              "</style>\n",
              "<table border=\"1\" class=\"dataframe\">\n",
              "  <thead>\n",
              "    <tr style=\"text-align: right;\">\n",
              "      <th></th>\n",
              "      <th>A</th>\n",
              "      <th>B</th>\n",
              "      <th>C</th>\n",
              "    </tr>\n",
              "  </thead>\n",
              "  <tbody>\n",
              "    <tr>\n",
              "      <th>0</th>\n",
              "      <td>5</td>\n",
              "      <td>A</td>\n",
              "      <td>陈</td>\n",
              "    </tr>\n",
              "    <tr>\n",
              "      <th>1</th>\n",
              "      <td>6</td>\n",
              "      <td>B</td>\n",
              "      <td>李</td>\n",
              "    </tr>\n",
              "  </tbody>\n",
              "</table>\n",
              "</div>"
            ],
            "text/plain": [
              "   A  B  C\n",
              "0  5  A  陈\n",
              "1  6  B  李"
            ]
          },
          "execution_count": 97,
          "metadata": {},
          "output_type": "execute_result"
        }
      ],
      "source": [
        "g = d.iloc[:2]\n",
        "g"
      ]
    },
    {
      "cell_type": "code",
      "execution_count": 98,
      "metadata": {},
      "outputs": [
        {
          "data": {
            "text/html": [
              "<div>\n",
              "<style scoped>\n",
              "    .dataframe tbody tr th:only-of-type {\n",
              "        vertical-align: middle;\n",
              "    }\n",
              "\n",
              "    .dataframe tbody tr th {\n",
              "        vertical-align: top;\n",
              "    }\n",
              "\n",
              "    .dataframe thead th {\n",
              "        text-align: right;\n",
              "    }\n",
              "</style>\n",
              "<table border=\"1\" class=\"dataframe\">\n",
              "  <thead>\n",
              "    <tr style=\"text-align: right;\">\n",
              "      <th></th>\n",
              "      <th>A</th>\n",
              "      <th>B</th>\n",
              "      <th>C</th>\n",
              "    </tr>\n",
              "  </thead>\n",
              "  <tbody>\n",
              "    <tr>\n",
              "      <th>0</th>\n",
              "      <td>7</td>\n",
              "      <td>C</td>\n",
              "      <td>张</td>\n",
              "    </tr>\n",
              "    <tr>\n",
              "      <th>1</th>\n",
              "      <td>8</td>\n",
              "      <td>D</td>\n",
              "      <td>黄</td>\n",
              "    </tr>\n",
              "  </tbody>\n",
              "</table>\n",
              "</div>"
            ],
            "text/plain": [
              "   A  B  C\n",
              "0  7  C  张\n",
              "1  8  D  黄"
            ]
          },
          "execution_count": 98,
          "metadata": {},
          "output_type": "execute_result"
        }
      ],
      "source": [
        "h = d.iloc[2:]\n",
        "h = h.reset_index(drop=True)\n",
        "h"
      ]
    },
    {
      "cell_type": "markdown",
      "metadata": {},
      "source": [
        "2个DataFrame的index会原样保留，`axis=0`表示纵向（上下）合并。"
      ]
    },
    {
      "cell_type": "code",
      "execution_count": 99,
      "metadata": {},
      "outputs": [
        {
          "data": {
            "text/html": [
              "<div>\n",
              "<style scoped>\n",
              "    .dataframe tbody tr th:only-of-type {\n",
              "        vertical-align: middle;\n",
              "    }\n",
              "\n",
              "    .dataframe tbody tr th {\n",
              "        vertical-align: top;\n",
              "    }\n",
              "\n",
              "    .dataframe thead th {\n",
              "        text-align: right;\n",
              "    }\n",
              "</style>\n",
              "<table border=\"1\" class=\"dataframe\">\n",
              "  <thead>\n",
              "    <tr style=\"text-align: right;\">\n",
              "      <th></th>\n",
              "      <th>A</th>\n",
              "      <th>B</th>\n",
              "      <th>C</th>\n",
              "    </tr>\n",
              "  </thead>\n",
              "  <tbody>\n",
              "    <tr>\n",
              "      <th>0</th>\n",
              "      <td>5</td>\n",
              "      <td>A</td>\n",
              "      <td>陈</td>\n",
              "    </tr>\n",
              "    <tr>\n",
              "      <th>1</th>\n",
              "      <td>6</td>\n",
              "      <td>B</td>\n",
              "      <td>李</td>\n",
              "    </tr>\n",
              "    <tr>\n",
              "      <th>0</th>\n",
              "      <td>7</td>\n",
              "      <td>C</td>\n",
              "      <td>张</td>\n",
              "    </tr>\n",
              "    <tr>\n",
              "      <th>1</th>\n",
              "      <td>8</td>\n",
              "      <td>D</td>\n",
              "      <td>黄</td>\n",
              "    </tr>\n",
              "  </tbody>\n",
              "</table>\n",
              "</div>"
            ],
            "text/plain": [
              "   A  B  C\n",
              "0  5  A  陈\n",
              "1  6  B  李\n",
              "0  7  C  张\n",
              "1  8  D  黄"
            ]
          },
          "execution_count": 99,
          "metadata": {},
          "output_type": "execute_result"
        }
      ],
      "source": [
        "pd.concat([g, h], axis=0)"
      ]
    },
    {
      "cell_type": "markdown",
      "metadata": {},
      "source": [
        "参数`ignore_index = True`则会重置index。"
      ]
    },
    {
      "cell_type": "code",
      "execution_count": 100,
      "metadata": {},
      "outputs": [
        {
          "data": {
            "text/html": [
              "<div>\n",
              "<style scoped>\n",
              "    .dataframe tbody tr th:only-of-type {\n",
              "        vertical-align: middle;\n",
              "    }\n",
              "\n",
              "    .dataframe tbody tr th {\n",
              "        vertical-align: top;\n",
              "    }\n",
              "\n",
              "    .dataframe thead th {\n",
              "        text-align: right;\n",
              "    }\n",
              "</style>\n",
              "<table border=\"1\" class=\"dataframe\">\n",
              "  <thead>\n",
              "    <tr style=\"text-align: right;\">\n",
              "      <th></th>\n",
              "      <th>A</th>\n",
              "      <th>B</th>\n",
              "      <th>C</th>\n",
              "    </tr>\n",
              "  </thead>\n",
              "  <tbody>\n",
              "    <tr>\n",
              "      <th>0</th>\n",
              "      <td>5</td>\n",
              "      <td>A</td>\n",
              "      <td>陈</td>\n",
              "    </tr>\n",
              "    <tr>\n",
              "      <th>1</th>\n",
              "      <td>6</td>\n",
              "      <td>B</td>\n",
              "      <td>李</td>\n",
              "    </tr>\n",
              "    <tr>\n",
              "      <th>2</th>\n",
              "      <td>7</td>\n",
              "      <td>C</td>\n",
              "      <td>张</td>\n",
              "    </tr>\n",
              "    <tr>\n",
              "      <th>3</th>\n",
              "      <td>8</td>\n",
              "      <td>D</td>\n",
              "      <td>黄</td>\n",
              "    </tr>\n",
              "  </tbody>\n",
              "</table>\n",
              "</div>"
            ],
            "text/plain": [
              "   A  B  C\n",
              "0  5  A  陈\n",
              "1  6  B  李\n",
              "2  7  C  张\n",
              "3  8  D  黄"
            ]
          },
          "execution_count": 100,
          "metadata": {},
          "output_type": "execute_result"
        }
      ],
      "source": [
        "pd.concat([g, h], axis=0, ignore_index=True)"
      ]
    },
    {
      "cell_type": "markdown",
      "metadata": {},
      "source": [
        "### Merge\n",
        "\n",
        "Merge和横向的concat有点类似，但是Merge横向合并2个DataFrame的依据是某一列，或者多列。\n",
        "\n",
        "构造2个示范数据："
      ]
    },
    {
      "cell_type": "code",
      "execution_count": 101,
      "metadata": {},
      "outputs": [
        {
          "data": {
            "text/html": [
              "<div>\n",
              "<style scoped>\n",
              "    .dataframe tbody tr th:only-of-type {\n",
              "        vertical-align: middle;\n",
              "    }\n",
              "\n",
              "    .dataframe tbody tr th {\n",
              "        vertical-align: top;\n",
              "    }\n",
              "\n",
              "    .dataframe thead th {\n",
              "        text-align: right;\n",
              "    }\n",
              "</style>\n",
              "<table border=\"1\" class=\"dataframe\">\n",
              "  <thead>\n",
              "    <tr style=\"text-align: right;\">\n",
              "      <th></th>\n",
              "      <th>id</th>\n",
              "      <th>name</th>\n",
              "    </tr>\n",
              "  </thead>\n",
              "  <tbody>\n",
              "    <tr>\n",
              "      <th>0</th>\n",
              "      <td>1</td>\n",
              "      <td>A</td>\n",
              "    </tr>\n",
              "    <tr>\n",
              "      <th>1</th>\n",
              "      <td>2</td>\n",
              "      <td>B</td>\n",
              "    </tr>\n",
              "    <tr>\n",
              "      <th>2</th>\n",
              "      <td>3</td>\n",
              "      <td>C</td>\n",
              "    </tr>\n",
              "  </tbody>\n",
              "</table>\n",
              "</div>"
            ],
            "text/plain": [
              "   id name\n",
              "0   1    A\n",
              "1   2    B\n",
              "2   3    C"
            ]
          },
          "execution_count": 101,
          "metadata": {},
          "output_type": "execute_result"
        }
      ],
      "source": [
        "# 同学信息\n",
        "df1 = pd.DataFrame(dict(id=[1, 2, 3], name=[\"A\", \"B\", \"C\"]))\n",
        "df1"
      ]
    },
    {
      "cell_type": "code",
      "execution_count": 102,
      "metadata": {},
      "outputs": [
        {
          "data": {
            "text/html": [
              "<div>\n",
              "<style scoped>\n",
              "    .dataframe tbody tr th:only-of-type {\n",
              "        vertical-align: middle;\n",
              "    }\n",
              "\n",
              "    .dataframe tbody tr th {\n",
              "        vertical-align: top;\n",
              "    }\n",
              "\n",
              "    .dataframe thead th {\n",
              "        text-align: right;\n",
              "    }\n",
              "</style>\n",
              "<table border=\"1\" class=\"dataframe\">\n",
              "  <thead>\n",
              "    <tr style=\"text-align: right;\">\n",
              "      <th></th>\n",
              "      <th>id</th>\n",
              "      <th>math</th>\n",
              "    </tr>\n",
              "  </thead>\n",
              "  <tbody>\n",
              "    <tr>\n",
              "      <th>0</th>\n",
              "      <td>2</td>\n",
              "      <td>80</td>\n",
              "    </tr>\n",
              "    <tr>\n",
              "      <th>1</th>\n",
              "      <td>3</td>\n",
              "      <td>90</td>\n",
              "    </tr>\n",
              "    <tr>\n",
              "      <th>2</th>\n",
              "      <td>4</td>\n",
              "      <td>95</td>\n",
              "    </tr>\n",
              "  </tbody>\n",
              "</table>\n",
              "</div>"
            ],
            "text/plain": [
              "   id  math\n",
              "0   2    80\n",
              "1   3    90\n",
              "2   4    95"
            ]
          },
          "execution_count": 102,
          "metadata": {},
          "output_type": "execute_result"
        }
      ],
      "source": [
        "# 数学成绩表\n",
        "df2 = pd.DataFrame(dict(id=[2, 3, 4], math=[80, 90, 95]))\n",
        "df2"
      ]
    },
    {
      "cell_type": "markdown",
      "metadata": {},
      "source": [
        "`pd.merge(df1, df2)`接收2个DataFrame，并且会自动识别同名的列，并以同名列为标准，合并2个表。\n",
        "\n",
        "也可以用`on`参数指定。\n",
        "\n",
        "默认情况下取2个表的同名列的交集：2个表都存在的个案，才会合并。"
      ]
    },
    {
      "cell_type": "code",
      "execution_count": 103,
      "metadata": {},
      "outputs": [
        {
          "data": {
            "text/html": [
              "<div>\n",
              "<style scoped>\n",
              "    .dataframe tbody tr th:only-of-type {\n",
              "        vertical-align: middle;\n",
              "    }\n",
              "\n",
              "    .dataframe tbody tr th {\n",
              "        vertical-align: top;\n",
              "    }\n",
              "\n",
              "    .dataframe thead th {\n",
              "        text-align: right;\n",
              "    }\n",
              "</style>\n",
              "<table border=\"1\" class=\"dataframe\">\n",
              "  <thead>\n",
              "    <tr style=\"text-align: right;\">\n",
              "      <th></th>\n",
              "      <th>id</th>\n",
              "      <th>name</th>\n",
              "      <th>math</th>\n",
              "    </tr>\n",
              "  </thead>\n",
              "  <tbody>\n",
              "    <tr>\n",
              "      <th>0</th>\n",
              "      <td>2</td>\n",
              "      <td>B</td>\n",
              "      <td>80</td>\n",
              "    </tr>\n",
              "    <tr>\n",
              "      <th>1</th>\n",
              "      <td>3</td>\n",
              "      <td>C</td>\n",
              "      <td>90</td>\n",
              "    </tr>\n",
              "  </tbody>\n",
              "</table>\n",
              "</div>"
            ],
            "text/plain": [
              "   id name  math\n",
              "0   2    B    80\n",
              "1   3    C    90"
            ]
          },
          "execution_count": 103,
          "metadata": {},
          "output_type": "execute_result"
        }
      ],
      "source": [
        "# 例如，把个人信息和数学成绩合并\n",
        "# 同名列是id，因此merge时会自动对齐id\n",
        "pd.merge(df1, df2)  # 默认情况是取交集：id = 1 同学没数学成绩，因此不会被合并进来"
      ]
    },
    {
      "cell_type": "code",
      "execution_count": 104,
      "metadata": {},
      "outputs": [
        {
          "data": {
            "text/html": [
              "<div>\n",
              "<style scoped>\n",
              "    .dataframe tbody tr th:only-of-type {\n",
              "        vertical-align: middle;\n",
              "    }\n",
              "\n",
              "    .dataframe tbody tr th {\n",
              "        vertical-align: top;\n",
              "    }\n",
              "\n",
              "    .dataframe thead th {\n",
              "        text-align: right;\n",
              "    }\n",
              "</style>\n",
              "<table border=\"1\" class=\"dataframe\">\n",
              "  <thead>\n",
              "    <tr style=\"text-align: right;\">\n",
              "      <th></th>\n",
              "      <th>id</th>\n",
              "      <th>name</th>\n",
              "      <th>math</th>\n",
              "    </tr>\n",
              "  </thead>\n",
              "  <tbody>\n",
              "    <tr>\n",
              "      <th>0</th>\n",
              "      <td>2</td>\n",
              "      <td>B</td>\n",
              "      <td>80</td>\n",
              "    </tr>\n",
              "    <tr>\n",
              "      <th>1</th>\n",
              "      <td>3</td>\n",
              "      <td>C</td>\n",
              "      <td>90</td>\n",
              "    </tr>\n",
              "  </tbody>\n",
              "</table>\n",
              "</div>"
            ],
            "text/plain": [
              "   id name  math\n",
              "0   2    B    80\n",
              "1   3    C    90"
            ]
          },
          "execution_count": 104,
          "metadata": {},
          "output_type": "execute_result"
        }
      ],
      "source": [
        "pd.merge(\n",
        "    df1, df2, on=\"id\"\n",
        ")  # 和上一段代码等价。id列是同名列，因此可以选择是否手动指定。"
      ]
    },
    {
      "cell_type": "markdown",
      "metadata": {},
      "source": [
        "参数 `how = 'outer'`，可以进行外合并（取并集），缺失的部分自动填充NaN。"
      ]
    },
    {
      "cell_type": "code",
      "execution_count": 105,
      "metadata": {},
      "outputs": [
        {
          "data": {
            "text/html": [
              "<div>\n",
              "<style scoped>\n",
              "    .dataframe tbody tr th:only-of-type {\n",
              "        vertical-align: middle;\n",
              "    }\n",
              "\n",
              "    .dataframe tbody tr th {\n",
              "        vertical-align: top;\n",
              "    }\n",
              "\n",
              "    .dataframe thead th {\n",
              "        text-align: right;\n",
              "    }\n",
              "</style>\n",
              "<table border=\"1\" class=\"dataframe\">\n",
              "  <thead>\n",
              "    <tr style=\"text-align: right;\">\n",
              "      <th></th>\n",
              "      <th>id</th>\n",
              "      <th>name</th>\n",
              "      <th>math</th>\n",
              "    </tr>\n",
              "  </thead>\n",
              "  <tbody>\n",
              "    <tr>\n",
              "      <th>0</th>\n",
              "      <td>1</td>\n",
              "      <td>A</td>\n",
              "      <td>NaN</td>\n",
              "    </tr>\n",
              "    <tr>\n",
              "      <th>1</th>\n",
              "      <td>2</td>\n",
              "      <td>B</td>\n",
              "      <td>80.0</td>\n",
              "    </tr>\n",
              "    <tr>\n",
              "      <th>2</th>\n",
              "      <td>3</td>\n",
              "      <td>C</td>\n",
              "      <td>90.0</td>\n",
              "    </tr>\n",
              "    <tr>\n",
              "      <th>3</th>\n",
              "      <td>4</td>\n",
              "      <td>NaN</td>\n",
              "      <td>95.0</td>\n",
              "    </tr>\n",
              "  </tbody>\n",
              "</table>\n",
              "</div>"
            ],
            "text/plain": [
              "   id name  math\n",
              "0   1    A   NaN\n",
              "1   2    B  80.0\n",
              "2   3    C  90.0\n",
              "3   4  NaN  95.0"
            ]
          },
          "execution_count": 105,
          "metadata": {},
          "output_type": "execute_result"
        }
      ],
      "source": [
        "pd.merge(df1, df2, how=\"outer\")"
      ]
    },
    {
      "cell_type": "markdown",
      "metadata": {},
      "source": [
        "还可以以“左表”（`how ='left'`）或者“右表”(`how ='right'`)为标准，只保留指定的表的个案。"
      ]
    },
    {
      "cell_type": "code",
      "execution_count": 106,
      "metadata": {},
      "outputs": [
        {
          "data": {
            "text/html": [
              "<div>\n",
              "<style scoped>\n",
              "    .dataframe tbody tr th:only-of-type {\n",
              "        vertical-align: middle;\n",
              "    }\n",
              "\n",
              "    .dataframe tbody tr th {\n",
              "        vertical-align: top;\n",
              "    }\n",
              "\n",
              "    .dataframe thead th {\n",
              "        text-align: right;\n",
              "    }\n",
              "</style>\n",
              "<table border=\"1\" class=\"dataframe\">\n",
              "  <thead>\n",
              "    <tr style=\"text-align: right;\">\n",
              "      <th></th>\n",
              "      <th>id</th>\n",
              "      <th>name</th>\n",
              "      <th>math</th>\n",
              "    </tr>\n",
              "  </thead>\n",
              "  <tbody>\n",
              "    <tr>\n",
              "      <th>0</th>\n",
              "      <td>2</td>\n",
              "      <td>B</td>\n",
              "      <td>80</td>\n",
              "    </tr>\n",
              "    <tr>\n",
              "      <th>1</th>\n",
              "      <td>3</td>\n",
              "      <td>C</td>\n",
              "      <td>90</td>\n",
              "    </tr>\n",
              "    <tr>\n",
              "      <th>2</th>\n",
              "      <td>4</td>\n",
              "      <td>NaN</td>\n",
              "      <td>95</td>\n",
              "    </tr>\n",
              "  </tbody>\n",
              "</table>\n",
              "</div>"
            ],
            "text/plain": [
              "   id name  math\n",
              "0   2    B    80\n",
              "1   3    C    90\n",
              "2   4  NaN    95"
            ]
          },
          "execution_count": 106,
          "metadata": {},
          "output_type": "execute_result"
        }
      ],
      "source": [
        "pd.merge(df1, df2, how=\"right\")  # 只保留df2“右表”中有的个案，左表没有的个案会填充NaN"
      ]
    },
    {
      "cell_type": "markdown",
      "metadata": {},
      "source": [
        "merge()除了可以自动判断同名列，还可以有你指定列名。\n",
        "\n",
        "构造一个新的df，其中学号的列名为`stu_id`"
      ]
    },
    {
      "cell_type": "code",
      "execution_count": 107,
      "metadata": {},
      "outputs": [
        {
          "data": {
            "text/html": [
              "<div>\n",
              "<style scoped>\n",
              "    .dataframe tbody tr th:only-of-type {\n",
              "        vertical-align: middle;\n",
              "    }\n",
              "\n",
              "    .dataframe tbody tr th {\n",
              "        vertical-align: top;\n",
              "    }\n",
              "\n",
              "    .dataframe thead th {\n",
              "        text-align: right;\n",
              "    }\n",
              "</style>\n",
              "<table border=\"1\" class=\"dataframe\">\n",
              "  <thead>\n",
              "    <tr style=\"text-align: right;\">\n",
              "      <th></th>\n",
              "      <th>stu_id</th>\n",
              "      <th>python</th>\n",
              "    </tr>\n",
              "  </thead>\n",
              "  <tbody>\n",
              "    <tr>\n",
              "      <th>0</th>\n",
              "      <td>1</td>\n",
              "      <td>75</td>\n",
              "    </tr>\n",
              "    <tr>\n",
              "      <th>1</th>\n",
              "      <td>2</td>\n",
              "      <td>85</td>\n",
              "    </tr>\n",
              "  </tbody>\n",
              "</table>\n",
              "</div>"
            ],
            "text/plain": [
              "   stu_id  python\n",
              "0       1      75\n",
              "1       2      85"
            ]
          },
          "execution_count": 107,
          "metadata": {},
          "output_type": "execute_result"
        }
      ],
      "source": [
        "df3 = pd.DataFrame(dict(stu_id=[1, 2], python=[75, 85]))\n",
        "df3"
      ]
    },
    {
      "cell_type": "markdown",
      "metadata": {},
      "source": [
        "参数`left_on`和`right_on`分别指定坐标和右表的列"
      ]
    },
    {
      "cell_type": "code",
      "execution_count": 108,
      "metadata": {},
      "outputs": [
        {
          "data": {
            "text/html": [
              "<div>\n",
              "<style scoped>\n",
              "    .dataframe tbody tr th:only-of-type {\n",
              "        vertical-align: middle;\n",
              "    }\n",
              "\n",
              "    .dataframe tbody tr th {\n",
              "        vertical-align: top;\n",
              "    }\n",
              "\n",
              "    .dataframe thead th {\n",
              "        text-align: right;\n",
              "    }\n",
              "</style>\n",
              "<table border=\"1\" class=\"dataframe\">\n",
              "  <thead>\n",
              "    <tr style=\"text-align: right;\">\n",
              "      <th></th>\n",
              "      <th>id</th>\n",
              "      <th>name</th>\n",
              "      <th>stu_id</th>\n",
              "      <th>python</th>\n",
              "    </tr>\n",
              "  </thead>\n",
              "  <tbody>\n",
              "    <tr>\n",
              "      <th>0</th>\n",
              "      <td>1</td>\n",
              "      <td>A</td>\n",
              "      <td>1.0</td>\n",
              "      <td>75.0</td>\n",
              "    </tr>\n",
              "    <tr>\n",
              "      <th>1</th>\n",
              "      <td>2</td>\n",
              "      <td>B</td>\n",
              "      <td>2.0</td>\n",
              "      <td>85.0</td>\n",
              "    </tr>\n",
              "    <tr>\n",
              "      <th>2</th>\n",
              "      <td>3</td>\n",
              "      <td>C</td>\n",
              "      <td>NaN</td>\n",
              "      <td>NaN</td>\n",
              "    </tr>\n",
              "  </tbody>\n",
              "</table>\n",
              "</div>"
            ],
            "text/plain": [
              "   id name  stu_id  python\n",
              "0   1    A     1.0    75.0\n",
              "1   2    B     2.0    85.0\n",
              "2   3    C     NaN     NaN"
            ]
          },
          "execution_count": 108,
          "metadata": {},
          "output_type": "execute_result"
        }
      ],
      "source": [
        "# 左表指定id，右表指定stu_id\n",
        "pd.merge(df1, df3, left_on=\"id\", right_on=\"stu_id\", how=\"outer\")"
      ]
    },
    {
      "cell_type": "markdown",
      "metadata": {},
      "source": [
        "merge还可以串联：merge的结果是一个新的DataFrame，因此可以持续地merge下去。"
      ]
    },
    {
      "cell_type": "code",
      "execution_count": 109,
      "metadata": {},
      "outputs": [
        {
          "data": {
            "text/html": [
              "<div>\n",
              "<style scoped>\n",
              "    .dataframe tbody tr th:only-of-type {\n",
              "        vertical-align: middle;\n",
              "    }\n",
              "\n",
              "    .dataframe tbody tr th {\n",
              "        vertical-align: top;\n",
              "    }\n",
              "\n",
              "    .dataframe thead th {\n",
              "        text-align: right;\n",
              "    }\n",
              "</style>\n",
              "<table border=\"1\" class=\"dataframe\">\n",
              "  <thead>\n",
              "    <tr style=\"text-align: right;\">\n",
              "      <th></th>\n",
              "      <th>id</th>\n",
              "      <th>name</th>\n",
              "      <th>math</th>\n",
              "      <th>python</th>\n",
              "    </tr>\n",
              "  </thead>\n",
              "  <tbody>\n",
              "    <tr>\n",
              "      <th>0</th>\n",
              "      <td>1</td>\n",
              "      <td>A</td>\n",
              "      <td>NaN</td>\n",
              "      <td>75.0</td>\n",
              "    </tr>\n",
              "    <tr>\n",
              "      <th>1</th>\n",
              "      <td>2</td>\n",
              "      <td>B</td>\n",
              "      <td>80.0</td>\n",
              "      <td>85.0</td>\n",
              "    </tr>\n",
              "    <tr>\n",
              "      <th>2</th>\n",
              "      <td>3</td>\n",
              "      <td>C</td>\n",
              "      <td>90.0</td>\n",
              "      <td>NaN</td>\n",
              "    </tr>\n",
              "    <tr>\n",
              "      <th>3</th>\n",
              "      <td>4</td>\n",
              "      <td>NaN</td>\n",
              "      <td>95.0</td>\n",
              "      <td>NaN</td>\n",
              "    </tr>\n",
              "  </tbody>\n",
              "</table>\n",
              "</div>"
            ],
            "text/plain": [
              "   id name  math  python\n",
              "0   1    A   NaN    75.0\n",
              "1   2    B  80.0    85.0\n",
              "2   3    C  90.0     NaN\n",
              "3   4  NaN  95.0     NaN"
            ]
          },
          "execution_count": 109,
          "metadata": {},
          "output_type": "execute_result"
        }
      ],
      "source": [
        "df4 = (\n",
        "    df1.merge(df2, how=\"outer\")\n",
        "    .merge(df3, left_on=\"id\", right_on=\"stu_id\", how=\"outer\")\n",
        "    .drop(\"stu_id\", axis=1)\n",
        ")\n",
        "df4"
      ]
    },
    {
      "cell_type": "markdown",
      "metadata": {},
      "source": [
        "### 小练习\n",
        "\n",
        "见专门的ipynb文件。\n"
      ]
    },
    {
      "cell_type": "markdown",
      "metadata": {},
      "source": [
        "## 简单统计、分组与聚合\n",
        "\n",
        "先构造一个示例数据。"
      ]
    },
    {
      "cell_type": "code",
      "execution_count": 110,
      "metadata": {},
      "outputs": [
        {
          "data": {
            "text/html": [
              "<div>\n",
              "<style scoped>\n",
              "    .dataframe tbody tr th:only-of-type {\n",
              "        vertical-align: middle;\n",
              "    }\n",
              "\n",
              "    .dataframe tbody tr th {\n",
              "        vertical-align: top;\n",
              "    }\n",
              "\n",
              "    .dataframe thead th {\n",
              "        text-align: right;\n",
              "    }\n",
              "</style>\n",
              "<table border=\"1\" class=\"dataframe\">\n",
              "  <thead>\n",
              "    <tr style=\"text-align: right;\">\n",
              "      <th></th>\n",
              "      <th>class_id</th>\n",
              "      <th>name</th>\n",
              "      <th>math</th>\n",
              "      <th>python</th>\n",
              "      <th>math_rank</th>\n",
              "      <th>python_rank</th>\n",
              "    </tr>\n",
              "  </thead>\n",
              "  <tbody>\n",
              "    <tr>\n",
              "      <th>0</th>\n",
              "      <td>1</td>\n",
              "      <td>A</td>\n",
              "      <td>69</td>\n",
              "      <td>45</td>\n",
              "      <td>D</td>\n",
              "      <td>E</td>\n",
              "    </tr>\n",
              "    <tr>\n",
              "      <th>2</th>\n",
              "      <td>3</td>\n",
              "      <td>C</td>\n",
              "      <td>84</td>\n",
              "      <td>93</td>\n",
              "      <td>B</td>\n",
              "      <td>A</td>\n",
              "    </tr>\n",
              "    <tr>\n",
              "      <th>3</th>\n",
              "      <td>4</td>\n",
              "      <td>D</td>\n",
              "      <td>69</td>\n",
              "      <td>94</td>\n",
              "      <td>D</td>\n",
              "      <td>A</td>\n",
              "    </tr>\n",
              "    <tr>\n",
              "      <th>5</th>\n",
              "      <td>2</td>\n",
              "      <td>F</td>\n",
              "      <td>52</td>\n",
              "      <td>51</td>\n",
              "      <td>E</td>\n",
              "      <td>E</td>\n",
              "    </tr>\n",
              "    <tr>\n",
              "      <th>6</th>\n",
              "      <td>3</td>\n",
              "      <td>G</td>\n",
              "      <td>76</td>\n",
              "      <td>57</td>\n",
              "      <td>C</td>\n",
              "      <td>E</td>\n",
              "    </tr>\n",
              "    <tr>\n",
              "      <th>7</th>\n",
              "      <td>4</td>\n",
              "      <td>H</td>\n",
              "      <td>92</td>\n",
              "      <td>65</td>\n",
              "      <td>A</td>\n",
              "      <td>D</td>\n",
              "    </tr>\n",
              "    <tr>\n",
              "      <th>8</th>\n",
              "      <td>1</td>\n",
              "      <td>I</td>\n",
              "      <td>83</td>\n",
              "      <td>87</td>\n",
              "      <td>B</td>\n",
              "      <td>B</td>\n",
              "    </tr>\n",
              "    <tr>\n",
              "      <th>9</th>\n",
              "      <td>2</td>\n",
              "      <td>J</td>\n",
              "      <td>99</td>\n",
              "      <td>75</td>\n",
              "      <td>A</td>\n",
              "      <td>C</td>\n",
              "    </tr>\n",
              "    <tr>\n",
              "      <th>10</th>\n",
              "      <td>3</td>\n",
              "      <td>K</td>\n",
              "      <td>92</td>\n",
              "      <td>67</td>\n",
              "      <td>A</td>\n",
              "      <td>D</td>\n",
              "    </tr>\n",
              "    <tr>\n",
              "      <th>11</th>\n",
              "      <td>4</td>\n",
              "      <td>L</td>\n",
              "      <td>89</td>\n",
              "      <td>88</td>\n",
              "      <td>B</td>\n",
              "      <td>B</td>\n",
              "    </tr>\n",
              "  </tbody>\n",
              "</table>\n",
              "</div>"
            ],
            "text/plain": [
              "   class_id name  math  python math_rank python_rank\n",
              "0         1    A    69      45         D           E\n",
              "2         3    C    84      93         B           A\n",
              "3         4    D    69      94         D           A\n",
              "5         2    F    52      51         E           E\n",
              "6         3    G    76      57         C           E\n",
              "7         4    H    92      65         A           D\n",
              "8         1    I    83      87         B           B\n",
              "9         2    J    99      75         A           C\n",
              "10        3    K    92      67         A           D\n",
              "11        4    L    89      88         B           B"
            ]
          },
          "execution_count": 110,
          "metadata": {},
          "output_type": "execute_result"
        }
      ],
      "source": [
        "# 例行公事\n",
        "import pandas as pd\n",
        "import numpy as np\n",
        "\n",
        "# 创建示例代码\n",
        "# 创建4个班，12位同学\n",
        "df = pd.DataFrame(dict(class_id=list(\"1234\") * 3, name=list(\"ABCDEFGHIJKL\")))\n",
        "\n",
        "# 随机分配2门课的分数\n",
        "df[\"math\"] = np.random.randint(50, 100, 12)  # 随机整数（起点，终点，数量）\n",
        "df[\"python\"] = np.random.randint(45, 95, 12)\n",
        "df[\"math_rank\"] = df.math.map(\n",
        "    calc_rank\n",
        ")  # 如果提示找不到calc_rank，记得把前面定义calc_rank的cell执行一下\n",
        "df[\"python_rank\"] = df.python.map(calc_rank)\n",
        "\n",
        "df = df.sample(10).sort_index()  # 抽取10人/随机排除2人，再按index排序\n",
        "df"
      ]
    },
    {
      "cell_type": "markdown",
      "metadata": {},
      "source": [
        "### 简单的统计\n",
        "\n",
        "在进行分组和聚合之前，先说明一些简单统计的方法。\n",
        "\n",
        "1. `.describe()` ：计算数值列的：个案数，均值，标准差，最小值，分位数：25%、50%（中位数）、75%，最大值\n",
        "2. 对指定列调用统计方法，如`.mean()`。\n",
        "3. `.agg()`聚合：计算列的多种统计值。\n",
        "4. `.value_counts()`：计算离散变量出现的频率。"
      ]
    },
    {
      "cell_type": "markdown",
      "metadata": {},
      "source": [
        "统计型描述：`.describe()`：\n",
        "\n",
        "计算数值列的：个案数，均值，标准差，最小值，分位数：25%、50%（中位数）、75%，最大值"
      ]
    },
    {
      "cell_type": "code",
      "execution_count": 111,
      "metadata": {},
      "outputs": [
        {
          "data": {
            "text/html": [
              "<div>\n",
              "<style scoped>\n",
              "    .dataframe tbody tr th:only-of-type {\n",
              "        vertical-align: middle;\n",
              "    }\n",
              "\n",
              "    .dataframe tbody tr th {\n",
              "        vertical-align: top;\n",
              "    }\n",
              "\n",
              "    .dataframe thead th {\n",
              "        text-align: right;\n",
              "    }\n",
              "</style>\n",
              "<table border=\"1\" class=\"dataframe\">\n",
              "  <thead>\n",
              "    <tr style=\"text-align: right;\">\n",
              "      <th></th>\n",
              "      <th>math</th>\n",
              "      <th>python</th>\n",
              "    </tr>\n",
              "  </thead>\n",
              "  <tbody>\n",
              "    <tr>\n",
              "      <th>count</th>\n",
              "      <td>10.00</td>\n",
              "      <td>10.00</td>\n",
              "    </tr>\n",
              "    <tr>\n",
              "      <th>mean</th>\n",
              "      <td>80.50</td>\n",
              "      <td>72.20</td>\n",
              "    </tr>\n",
              "    <tr>\n",
              "      <th>std</th>\n",
              "      <td>14.12</td>\n",
              "      <td>17.90</td>\n",
              "    </tr>\n",
              "    <tr>\n",
              "      <th>min</th>\n",
              "      <td>52.00</td>\n",
              "      <td>45.00</td>\n",
              "    </tr>\n",
              "    <tr>\n",
              "      <th>25%</th>\n",
              "      <td>70.75</td>\n",
              "      <td>59.00</td>\n",
              "    </tr>\n",
              "    <tr>\n",
              "      <th>50%</th>\n",
              "      <td>83.50</td>\n",
              "      <td>71.00</td>\n",
              "    </tr>\n",
              "    <tr>\n",
              "      <th>75%</th>\n",
              "      <td>91.25</td>\n",
              "      <td>87.75</td>\n",
              "    </tr>\n",
              "    <tr>\n",
              "      <th>max</th>\n",
              "      <td>99.00</td>\n",
              "      <td>94.00</td>\n",
              "    </tr>\n",
              "  </tbody>\n",
              "</table>\n",
              "</div>"
            ],
            "text/plain": [
              "        math  python\n",
              "count  10.00   10.00\n",
              "mean   80.50   72.20\n",
              "std    14.12   17.90\n",
              "min    52.00   45.00\n",
              "25%    70.75   59.00\n",
              "50%    83.50   71.00\n",
              "75%    91.25   87.75\n",
              "max    99.00   94.00"
            ]
          },
          "execution_count": 111,
          "metadata": {},
          "output_type": "execute_result"
        }
      ],
      "source": [
        "df.describe().round(2)"
      ]
    },
    {
      "cell_type": "markdown",
      "metadata": {},
      "source": [
        "计算某个统计量，如均值："
      ]
    },
    {
      "cell_type": "code",
      "execution_count": 112,
      "metadata": {},
      "outputs": [
        {
          "data": {
            "text/plain": [
              "math      80.5\n",
              "python    72.2\n",
              "dtype: float64"
            ]
          },
          "execution_count": 112,
          "metadata": {},
          "output_type": "execute_result"
        }
      ],
      "source": [
        "# 支持的统计函数很多，如sum, max, std等等，不能一一列举，请用搜索引擎。\n",
        "df[[\"math\", \"python\"]].mean()"
      ]
    },
    {
      "cell_type": "markdown",
      "metadata": {},
      "source": [
        "对多个列求多个统计量：`.agg()`"
      ]
    },
    {
      "cell_type": "code",
      "execution_count": 113,
      "metadata": {},
      "outputs": [
        {
          "data": {
            "text/html": [
              "<div>\n",
              "<style scoped>\n",
              "    .dataframe tbody tr th:only-of-type {\n",
              "        vertical-align: middle;\n",
              "    }\n",
              "\n",
              "    .dataframe tbody tr th {\n",
              "        vertical-align: top;\n",
              "    }\n",
              "\n",
              "    .dataframe thead th {\n",
              "        text-align: right;\n",
              "    }\n",
              "</style>\n",
              "<table border=\"1\" class=\"dataframe\">\n",
              "  <thead>\n",
              "    <tr style=\"text-align: right;\">\n",
              "      <th></th>\n",
              "      <th>math</th>\n",
              "      <th>python</th>\n",
              "    </tr>\n",
              "  </thead>\n",
              "  <tbody>\n",
              "    <tr>\n",
              "      <th>mean</th>\n",
              "      <td>80.5</td>\n",
              "      <td>72.2</td>\n",
              "    </tr>\n",
              "    <tr>\n",
              "      <th>median</th>\n",
              "      <td>83.5</td>\n",
              "      <td>71.0</td>\n",
              "    </tr>\n",
              "  </tbody>\n",
              "</table>\n",
              "</div>"
            ],
            "text/plain": [
              "        math  python\n",
              "mean    80.5    72.2\n",
              "median  83.5    71.0"
            ]
          },
          "execution_count": 113,
          "metadata": {},
          "output_type": "execute_result"
        }
      ],
      "source": [
        "# 利用agg进行聚合：对于每一列，计算指定函数的结果。参数是“函数名”，是字符串，有引号。如“mean”\n",
        "df[[\"math\", \"python\"]].agg([\"mean\", \"median\"])"
      ]
    },
    {
      "cell_type": "markdown",
      "metadata": {},
      "source": [
        "计算离散变量出现的频率：`.value_counts()`"
      ]
    },
    {
      "cell_type": "code",
      "execution_count": 114,
      "metadata": {},
      "outputs": [
        {
          "data": {
            "text/plain": [
              "math_rank\n",
              "A            3\n",
              "B            3\n",
              "C            1\n",
              "D            2\n",
              "E            1\n",
              "Name: count, dtype: int64"
            ]
          },
          "execution_count": 114,
          "metadata": {},
          "output_type": "execute_result"
        }
      ],
      "source": [
        "# math_rank是一个离散型变量：ABCDE，因此可以用.value_counts()来统计变量值出现的频率。\n",
        "\n",
        "df[[\"math_rank\"]].value_counts().sort_index()"
      ]
    },
    {
      "cell_type": "markdown",
      "metadata": {},
      "source": [
        "### GroupBy操作\n",
        "\n",
        "有大量操作是按分组进行的，如\n",
        "\n",
        "1. 求每个班的Python课的最高分：对每个班（班级分组）求最高分（聚合）\n",
        "2. 求每个板块的股票的平均涨幅：对股票（板块分组）求平均涨幅（聚合）\n",
        "\n",
        "这种情况一般可以采用分组和聚合的操作：\n",
        "\n",
        "`df.groupby(<分组列>).<聚合操作>`"
      ]
    },
    {
      "cell_type": "code",
      "execution_count": 115,
      "metadata": {},
      "outputs": [
        {
          "data": {
            "text/html": [
              "<div>\n",
              "<style scoped>\n",
              "    .dataframe tbody tr th:only-of-type {\n",
              "        vertical-align: middle;\n",
              "    }\n",
              "\n",
              "    .dataframe tbody tr th {\n",
              "        vertical-align: top;\n",
              "    }\n",
              "\n",
              "    .dataframe thead th {\n",
              "        text-align: right;\n",
              "    }\n",
              "</style>\n",
              "<table border=\"1\" class=\"dataframe\">\n",
              "  <thead>\n",
              "    <tr style=\"text-align: right;\">\n",
              "      <th></th>\n",
              "      <th>name</th>\n",
              "      <th>math</th>\n",
              "      <th>python</th>\n",
              "      <th>math_rank</th>\n",
              "      <th>python_rank</th>\n",
              "    </tr>\n",
              "    <tr>\n",
              "      <th>class_id</th>\n",
              "      <th></th>\n",
              "      <th></th>\n",
              "      <th></th>\n",
              "      <th></th>\n",
              "      <th></th>\n",
              "    </tr>\n",
              "  </thead>\n",
              "  <tbody>\n",
              "    <tr>\n",
              "      <th>1</th>\n",
              "      <td>2</td>\n",
              "      <td>2</td>\n",
              "      <td>2</td>\n",
              "      <td>2</td>\n",
              "      <td>2</td>\n",
              "    </tr>\n",
              "    <tr>\n",
              "      <th>2</th>\n",
              "      <td>2</td>\n",
              "      <td>2</td>\n",
              "      <td>2</td>\n",
              "      <td>2</td>\n",
              "      <td>2</td>\n",
              "    </tr>\n",
              "    <tr>\n",
              "      <th>3</th>\n",
              "      <td>3</td>\n",
              "      <td>3</td>\n",
              "      <td>3</td>\n",
              "      <td>3</td>\n",
              "      <td>3</td>\n",
              "    </tr>\n",
              "    <tr>\n",
              "      <th>4</th>\n",
              "      <td>3</td>\n",
              "      <td>3</td>\n",
              "      <td>3</td>\n",
              "      <td>3</td>\n",
              "      <td>3</td>\n",
              "    </tr>\n",
              "  </tbody>\n",
              "</table>\n",
              "</div>"
            ],
            "text/plain": [
              "          name  math  python  math_rank  python_rank\n",
              "class_id                                            \n",
              "1            2     2       2          2            2\n",
              "2            2     2       2          2            2\n",
              "3            3     3       3          3            3\n",
              "4            3     3       3          3            3"
            ]
          },
          "execution_count": 115,
          "metadata": {},
          "output_type": "execute_result"
        }
      ],
      "source": [
        "# 求班级人数: count()分组的样本数\n",
        "\n",
        "# groupby('class_id') ：按class_id分组\n",
        "# count()： 对于每个组，求非NA的样本数\n",
        "df.groupby(\"class_id\").count()"
      ]
    },
    {
      "cell_type": "code",
      "execution_count": 116,
      "metadata": {},
      "outputs": [
        {
          "data": {
            "text/html": [
              "<div>\n",
              "<style scoped>\n",
              "    .dataframe tbody tr th:only-of-type {\n",
              "        vertical-align: middle;\n",
              "    }\n",
              "\n",
              "    .dataframe tbody tr th {\n",
              "        vertical-align: top;\n",
              "    }\n",
              "\n",
              "    .dataframe thead th {\n",
              "        text-align: right;\n",
              "    }\n",
              "</style>\n",
              "<table border=\"1\" class=\"dataframe\">\n",
              "  <thead>\n",
              "    <tr style=\"text-align: right;\">\n",
              "      <th></th>\n",
              "      <th>class_id</th>\n",
              "      <th>python</th>\n",
              "      <th>math</th>\n",
              "    </tr>\n",
              "  </thead>\n",
              "  <tbody>\n",
              "    <tr>\n",
              "      <th>0</th>\n",
              "      <td>1</td>\n",
              "      <td>66.0</td>\n",
              "      <td>76.0</td>\n",
              "    </tr>\n",
              "    <tr>\n",
              "      <th>1</th>\n",
              "      <td>2</td>\n",
              "      <td>63.0</td>\n",
              "      <td>76.0</td>\n",
              "    </tr>\n",
              "    <tr>\n",
              "      <th>2</th>\n",
              "      <td>3</td>\n",
              "      <td>72.0</td>\n",
              "      <td>84.0</td>\n",
              "    </tr>\n",
              "    <tr>\n",
              "      <th>3</th>\n",
              "      <td>4</td>\n",
              "      <td>82.0</td>\n",
              "      <td>83.0</td>\n",
              "    </tr>\n",
              "  </tbody>\n",
              "</table>\n",
              "</div>"
            ],
            "text/plain": [
              "  class_id  python  math\n",
              "0        1    66.0  76.0\n",
              "1        2    63.0  76.0\n",
              "2        3    72.0  84.0\n",
              "3        4    82.0  83.0"
            ]
          },
          "execution_count": 116,
          "metadata": {},
          "output_type": "execute_result"
        }
      ],
      "source": [
        "# 课程平均分\n",
        "\n",
        "# class_id 分组 -> 选择列['python','math']\n",
        "# .mean() : 求分组后的均值\n",
        "# .reset_index() : 把class_id从index转为一个普通列\n",
        "df.groupby(\"class_id\")[[\"python\", \"math\"]].mean().round().reset_index()"
      ]
    },
    {
      "cell_type": "code",
      "execution_count": 117,
      "metadata": {},
      "outputs": [
        {
          "data": {
            "text/html": [
              "<div>\n",
              "<style scoped>\n",
              "    .dataframe tbody tr th:only-of-type {\n",
              "        vertical-align: middle;\n",
              "    }\n",
              "\n",
              "    .dataframe tbody tr th {\n",
              "        vertical-align: top;\n",
              "    }\n",
              "\n",
              "    .dataframe thead th {\n",
              "        text-align: right;\n",
              "    }\n",
              "</style>\n",
              "<table border=\"1\" class=\"dataframe\">\n",
              "  <thead>\n",
              "    <tr style=\"text-align: right;\">\n",
              "      <th></th>\n",
              "      <th>class_id</th>\n",
              "      <th>name</th>\n",
              "      <th>math</th>\n",
              "      <th>python</th>\n",
              "      <th>math_rank</th>\n",
              "      <th>python_rank</th>\n",
              "    </tr>\n",
              "  </thead>\n",
              "  <tbody>\n",
              "    <tr>\n",
              "      <th>0</th>\n",
              "      <td>1</td>\n",
              "      <td>A</td>\n",
              "      <td>69</td>\n",
              "      <td>45</td>\n",
              "      <td>D</td>\n",
              "      <td>E</td>\n",
              "    </tr>\n",
              "    <tr>\n",
              "      <th>8</th>\n",
              "      <td>1</td>\n",
              "      <td>I</td>\n",
              "      <td>83</td>\n",
              "      <td>87</td>\n",
              "      <td>B</td>\n",
              "      <td>B</td>\n",
              "    </tr>\n",
              "    <tr>\n",
              "      <th>5</th>\n",
              "      <td>2</td>\n",
              "      <td>F</td>\n",
              "      <td>52</td>\n",
              "      <td>51</td>\n",
              "      <td>E</td>\n",
              "      <td>E</td>\n",
              "    </tr>\n",
              "    <tr>\n",
              "      <th>9</th>\n",
              "      <td>2</td>\n",
              "      <td>J</td>\n",
              "      <td>99</td>\n",
              "      <td>75</td>\n",
              "      <td>A</td>\n",
              "      <td>C</td>\n",
              "    </tr>\n",
              "    <tr>\n",
              "      <th>6</th>\n",
              "      <td>3</td>\n",
              "      <td>G</td>\n",
              "      <td>76</td>\n",
              "      <td>57</td>\n",
              "      <td>C</td>\n",
              "      <td>E</td>\n",
              "    </tr>\n",
              "    <tr>\n",
              "      <th>10</th>\n",
              "      <td>3</td>\n",
              "      <td>K</td>\n",
              "      <td>92</td>\n",
              "      <td>67</td>\n",
              "      <td>A</td>\n",
              "      <td>D</td>\n",
              "    </tr>\n",
              "    <tr>\n",
              "      <th>2</th>\n",
              "      <td>3</td>\n",
              "      <td>C</td>\n",
              "      <td>84</td>\n",
              "      <td>93</td>\n",
              "      <td>B</td>\n",
              "      <td>A</td>\n",
              "    </tr>\n",
              "    <tr>\n",
              "      <th>7</th>\n",
              "      <td>4</td>\n",
              "      <td>H</td>\n",
              "      <td>92</td>\n",
              "      <td>65</td>\n",
              "      <td>A</td>\n",
              "      <td>D</td>\n",
              "    </tr>\n",
              "    <tr>\n",
              "      <th>11</th>\n",
              "      <td>4</td>\n",
              "      <td>L</td>\n",
              "      <td>89</td>\n",
              "      <td>88</td>\n",
              "      <td>B</td>\n",
              "      <td>B</td>\n",
              "    </tr>\n",
              "    <tr>\n",
              "      <th>3</th>\n",
              "      <td>4</td>\n",
              "      <td>D</td>\n",
              "      <td>69</td>\n",
              "      <td>94</td>\n",
              "      <td>D</td>\n",
              "      <td>A</td>\n",
              "    </tr>\n",
              "  </tbody>\n",
              "</table>\n",
              "</div>"
            ],
            "text/plain": [
              "   class_id name  math  python math_rank python_rank\n",
              "0         1    A    69      45         D           E\n",
              "8         1    I    83      87         B           B\n",
              "5         2    F    52      51         E           E\n",
              "9         2    J    99      75         A           C\n",
              "6         3    G    76      57         C           E\n",
              "10        3    K    92      67         A           D\n",
              "2         3    C    84      93         B           A\n",
              "7         4    H    92      65         A           D\n",
              "11        4    L    89      88         B           B\n",
              "3         4    D    69      94         D           A"
            ]
          },
          "execution_count": 117,
          "metadata": {},
          "output_type": "execute_result"
        }
      ],
      "source": [
        "# 每个班，Python课最高分的同学\n",
        "\n",
        "# 先多重排序，看看我们要选择的人\n",
        "df.sort_values([\"class_id\", \"python\"])"
      ]
    },
    {
      "cell_type": "code",
      "execution_count": 118,
      "metadata": {},
      "outputs": [
        {
          "data": {
            "text/html": [
              "<div>\n",
              "<style scoped>\n",
              "    .dataframe tbody tr th:only-of-type {\n",
              "        vertical-align: middle;\n",
              "    }\n",
              "\n",
              "    .dataframe tbody tr th {\n",
              "        vertical-align: top;\n",
              "    }\n",
              "\n",
              "    .dataframe thead th {\n",
              "        text-align: right;\n",
              "    }\n",
              "</style>\n",
              "<table border=\"1\" class=\"dataframe\">\n",
              "  <thead>\n",
              "    <tr style=\"text-align: right;\">\n",
              "      <th></th>\n",
              "      <th>class_id</th>\n",
              "      <th>name</th>\n",
              "      <th>math</th>\n",
              "      <th>python</th>\n",
              "      <th>math_rank</th>\n",
              "      <th>python_rank</th>\n",
              "    </tr>\n",
              "  </thead>\n",
              "  <tbody>\n",
              "    <tr>\n",
              "      <th>3</th>\n",
              "      <td>4</td>\n",
              "      <td>D</td>\n",
              "      <td>69</td>\n",
              "      <td>94</td>\n",
              "      <td>D</td>\n",
              "      <td>A</td>\n",
              "    </tr>\n",
              "    <tr>\n",
              "      <th>2</th>\n",
              "      <td>3</td>\n",
              "      <td>C</td>\n",
              "      <td>84</td>\n",
              "      <td>93</td>\n",
              "      <td>B</td>\n",
              "      <td>A</td>\n",
              "    </tr>\n",
              "    <tr>\n",
              "      <th>8</th>\n",
              "      <td>1</td>\n",
              "      <td>I</td>\n",
              "      <td>83</td>\n",
              "      <td>87</td>\n",
              "      <td>B</td>\n",
              "      <td>B</td>\n",
              "    </tr>\n",
              "    <tr>\n",
              "      <th>9</th>\n",
              "      <td>2</td>\n",
              "      <td>J</td>\n",
              "      <td>99</td>\n",
              "      <td>75</td>\n",
              "      <td>A</td>\n",
              "      <td>C</td>\n",
              "    </tr>\n",
              "  </tbody>\n",
              "</table>\n",
              "</div>"
            ],
            "text/plain": [
              "  class_id name  math  python math_rank python_rank\n",
              "3        4    D    69      94         D           A\n",
              "2        3    C    84      93         B           A\n",
              "8        1    I    83      87         B           B\n",
              "9        2    J    99      75         A           C"
            ]
          },
          "execution_count": 118,
          "metadata": {},
          "output_type": "execute_result"
        }
      ],
      "source": [
        "# 某个分类中，某个值最高（最低）的n个样本：先排序，再分组，再head/tail\n",
        "\n",
        "# df.sort_index('python',ascending=False) ： 整个df先按python分数逆序排序（大值在前）\n",
        "# .groupby('class_id'): 按班级分组（组内已经是Python高分在前）\n",
        "# .head(1): 取每组的第一个\n",
        "df.sort_values(\"python\", ascending=False).groupby(\"class_id\").head(1)"
      ]
    },
    {
      "cell_type": "markdown",
      "metadata": {},
      "source": [
        "### Agg多重聚合与自定义函数\n",
        "\n",
        "如果要对每一个分组都进行多个聚合，可以用`agg()`方法,传递一个list，其中包括每个函数的“函数名”\n",
        "\n",
        "`agg([ <函数名>, <函数名>,...])`"
      ]
    },
    {
      "cell_type": "code",
      "execution_count": 119,
      "metadata": {},
      "outputs": [
        {
          "data": {
            "text/html": [
              "<div>\n",
              "<style scoped>\n",
              "    .dataframe tbody tr th:only-of-type {\n",
              "        vertical-align: middle;\n",
              "    }\n",
              "\n",
              "    .dataframe tbody tr th {\n",
              "        vertical-align: top;\n",
              "    }\n",
              "\n",
              "    .dataframe thead tr th {\n",
              "        text-align: left;\n",
              "    }\n",
              "\n",
              "    .dataframe thead tr:last-of-type th {\n",
              "        text-align: right;\n",
              "    }\n",
              "</style>\n",
              "<table border=\"1\" class=\"dataframe\">\n",
              "  <thead>\n",
              "    <tr>\n",
              "      <th></th>\n",
              "      <th colspan=\"2\" halign=\"left\">python</th>\n",
              "      <th colspan=\"2\" halign=\"left\">math</th>\n",
              "    </tr>\n",
              "    <tr>\n",
              "      <th></th>\n",
              "      <th>mean</th>\n",
              "      <th>max</th>\n",
              "      <th>mean</th>\n",
              "      <th>max</th>\n",
              "    </tr>\n",
              "    <tr>\n",
              "      <th>class_id</th>\n",
              "      <th></th>\n",
              "      <th></th>\n",
              "      <th></th>\n",
              "      <th></th>\n",
              "    </tr>\n",
              "  </thead>\n",
              "  <tbody>\n",
              "    <tr>\n",
              "      <th>1</th>\n",
              "      <td>66.00</td>\n",
              "      <td>87</td>\n",
              "      <td>76.00</td>\n",
              "      <td>83</td>\n",
              "    </tr>\n",
              "    <tr>\n",
              "      <th>2</th>\n",
              "      <td>63.00</td>\n",
              "      <td>75</td>\n",
              "      <td>75.50</td>\n",
              "      <td>99</td>\n",
              "    </tr>\n",
              "    <tr>\n",
              "      <th>3</th>\n",
              "      <td>72.33</td>\n",
              "      <td>93</td>\n",
              "      <td>84.00</td>\n",
              "      <td>92</td>\n",
              "    </tr>\n",
              "    <tr>\n",
              "      <th>4</th>\n",
              "      <td>82.33</td>\n",
              "      <td>94</td>\n",
              "      <td>83.33</td>\n",
              "      <td>92</td>\n",
              "    </tr>\n",
              "  </tbody>\n",
              "</table>\n",
              "</div>"
            ],
            "text/plain": [
              "         python       math    \n",
              "           mean max   mean max\n",
              "class_id                      \n",
              "1         66.00  87  76.00  83\n",
              "2         63.00  75  75.50  99\n",
              "3         72.33  93  84.00  92\n",
              "4         82.33  94  83.33  92"
            ]
          },
          "execution_count": 119,
          "metadata": {},
          "output_type": "execute_result"
        }
      ],
      "source": [
        "# 对于python和math，求每个班的平均分，最高分\n",
        "# 传递给agg()的是一个list，其中包括每个函数的“函数名”\n",
        "# 分组 —> 要计算的列 -> agg(多个函数)\n",
        "df.groupby(\"class_id\")[[\"python\", \"math\"]].agg([\"mean\", \"max\"]).round(2)"
      ]
    },
    {
      "cell_type": "code",
      "execution_count": 120,
      "metadata": {},
      "outputs": [
        {
          "data": {
            "text/html": [
              "<div>\n",
              "<style scoped>\n",
              "    .dataframe tbody tr th:only-of-type {\n",
              "        vertical-align: middle;\n",
              "    }\n",
              "\n",
              "    .dataframe tbody tr th {\n",
              "        vertical-align: top;\n",
              "    }\n",
              "\n",
              "    .dataframe thead tr th {\n",
              "        text-align: left;\n",
              "    }\n",
              "\n",
              "    .dataframe thead tr:last-of-type th {\n",
              "        text-align: right;\n",
              "    }\n",
              "</style>\n",
              "<table border=\"1\" class=\"dataframe\">\n",
              "  <thead>\n",
              "    <tr>\n",
              "      <th></th>\n",
              "      <th>python</th>\n",
              "      <th>math</th>\n",
              "    </tr>\n",
              "    <tr>\n",
              "      <th></th>\n",
              "      <th>calc_range</th>\n",
              "      <th>calc_range</th>\n",
              "    </tr>\n",
              "    <tr>\n",
              "      <th>class_id</th>\n",
              "      <th></th>\n",
              "      <th></th>\n",
              "    </tr>\n",
              "  </thead>\n",
              "  <tbody>\n",
              "    <tr>\n",
              "      <th>1</th>\n",
              "      <td>42</td>\n",
              "      <td>14</td>\n",
              "    </tr>\n",
              "    <tr>\n",
              "      <th>2</th>\n",
              "      <td>24</td>\n",
              "      <td>47</td>\n",
              "    </tr>\n",
              "    <tr>\n",
              "      <th>3</th>\n",
              "      <td>36</td>\n",
              "      <td>16</td>\n",
              "    </tr>\n",
              "    <tr>\n",
              "      <th>4</th>\n",
              "      <td>29</td>\n",
              "      <td>23</td>\n",
              "    </tr>\n",
              "  </tbody>\n",
              "</table>\n",
              "</div>"
            ],
            "text/plain": [
              "             python       math\n",
              "         calc_range calc_range\n",
              "class_id                      \n",
              "1                42         14\n",
              "2                24         47\n",
              "3                36         16\n",
              "4                29         23"
            ]
          },
          "execution_count": 120,
          "metadata": {},
          "output_type": "execute_result"
        }
      ],
      "source": [
        "# 也可以写自定义函数\n",
        "\n",
        "\n",
        "def calc_range(x):\n",
        "    \"\"\"计算序列x中，最大值和最小值之差\"\"\"\n",
        "    return max(x) - min(x)\n",
        "\n",
        "\n",
        "# 注意：转递自定义函数给agg，传递的是函数本身，而不是函数名的字符串（没有引号）\n",
        "df.groupby(\"class_id\")[[\"python\", \"math\"]].agg([calc_range])"
      ]
    },
    {
      "cell_type": "code",
      "execution_count": 121,
      "metadata": {},
      "outputs": [
        {
          "data": {
            "text/html": [
              "<div>\n",
              "<style scoped>\n",
              "    .dataframe tbody tr th:only-of-type {\n",
              "        vertical-align: middle;\n",
              "    }\n",
              "\n",
              "    .dataframe tbody tr th {\n",
              "        vertical-align: top;\n",
              "    }\n",
              "\n",
              "    .dataframe thead tr th {\n",
              "        text-align: left;\n",
              "    }\n",
              "\n",
              "    .dataframe thead tr:last-of-type th {\n",
              "        text-align: right;\n",
              "    }\n",
              "</style>\n",
              "<table border=\"1\" class=\"dataframe\">\n",
              "  <thead>\n",
              "    <tr>\n",
              "      <th></th>\n",
              "      <th colspan=\"3\" halign=\"left\">python</th>\n",
              "      <th colspan=\"3\" halign=\"left\">math</th>\n",
              "    </tr>\n",
              "    <tr>\n",
              "      <th></th>\n",
              "      <th>mean</th>\n",
              "      <th>max</th>\n",
              "      <th>range</th>\n",
              "      <th>mean</th>\n",
              "      <th>max</th>\n",
              "      <th>range</th>\n",
              "    </tr>\n",
              "    <tr>\n",
              "      <th>class_id</th>\n",
              "      <th></th>\n",
              "      <th></th>\n",
              "      <th></th>\n",
              "      <th></th>\n",
              "      <th></th>\n",
              "      <th></th>\n",
              "    </tr>\n",
              "  </thead>\n",
              "  <tbody>\n",
              "    <tr>\n",
              "      <th>1</th>\n",
              "      <td>66.0</td>\n",
              "      <td>87</td>\n",
              "      <td>42</td>\n",
              "      <td>76.0</td>\n",
              "      <td>83</td>\n",
              "      <td>14</td>\n",
              "    </tr>\n",
              "    <tr>\n",
              "      <th>2</th>\n",
              "      <td>63.0</td>\n",
              "      <td>75</td>\n",
              "      <td>24</td>\n",
              "      <td>76.0</td>\n",
              "      <td>99</td>\n",
              "      <td>47</td>\n",
              "    </tr>\n",
              "    <tr>\n",
              "      <th>3</th>\n",
              "      <td>72.0</td>\n",
              "      <td>93</td>\n",
              "      <td>36</td>\n",
              "      <td>84.0</td>\n",
              "      <td>92</td>\n",
              "      <td>16</td>\n",
              "    </tr>\n",
              "    <tr>\n",
              "      <th>4</th>\n",
              "      <td>82.0</td>\n",
              "      <td>94</td>\n",
              "      <td>29</td>\n",
              "      <td>83.0</td>\n",
              "      <td>92</td>\n",
              "      <td>23</td>\n",
              "    </tr>\n",
              "  </tbody>\n",
              "</table>\n",
              "</div>"
            ],
            "text/plain": [
              "         python            math          \n",
              "           mean max range  mean max range\n",
              "class_id                                 \n",
              "1          66.0  87    42  76.0  83    14\n",
              "2          63.0  75    24  76.0  99    47\n",
              "3          72.0  93    36  84.0  92    16\n",
              "4          82.0  94    29  83.0  92    23"
            ]
          },
          "execution_count": 121,
          "metadata": {},
          "output_type": "execute_result"
        }
      ],
      "source": [
        "# 注意到，列名是“函数名”，可能不是很合理\n",
        "# 可以给agg传递函数名，也可以传递一个元组 `(列名, 函数名)`\n",
        "df.groupby(\"class_id\")[[\"python\", \"math\"]].agg(\n",
        "    [\"mean\", \"max\", (\"range\", calc_range)]\n",
        ").round()"
      ]
    },
    {
      "cell_type": "markdown",
      "metadata": {},
      "source": [
        "### 分组循环\n",
        "\n",
        "如果对于每个分组，都要进行一个很复杂的操作，那么可以对分组进行循环，可以在循环体内获得该分组的数据。\n",
        "\n",
        "对每一个组处理完毕后，append到一个空列表，然后pd.concat()即可。\n"
      ]
    },
    {
      "cell_type": "code",
      "execution_count": 122,
      "metadata": {},
      "outputs": [
        {
          "name": "stdout",
          "output_type": "stream",
          "text": [
            "('1',   class_id name  math  python math_rank python_rank\n",
            "0        1    A    69      45         D           E\n",
            "8        1    I    83      87         B           B)\n",
            "('2',   class_id name  math  python math_rank python_rank\n",
            "5        2    F    52      51         E           E\n",
            "9        2    J    99      75         A           C)\n",
            "('3',    class_id name  math  python math_rank python_rank\n",
            "2         3    C    84      93         B           A\n",
            "6         3    G    76      57         C           E\n",
            "10        3    K    92      67         A           D)\n",
            "('4',    class_id name  math  python math_rank python_rank\n",
            "3         4    D    69      94         D           A\n",
            "7         4    H    92      65         A           D\n",
            "11        4    L    89      88         B           B)\n"
          ]
        }
      ],
      "source": [
        "# 简单循环一下，看看每个组是什么结构\n",
        "for x in df.groupby(\"class_id\"):\n",
        "    # x 是一个元组，第一个元素是分组的标签（序号），第二个元素是分组后的DF\n",
        "    print(x)"
      ]
    },
    {
      "cell_type": "code",
      "execution_count": 123,
      "metadata": {},
      "outputs": [
        {
          "data": {
            "text/html": [
              "<div>\n",
              "<style scoped>\n",
              "    .dataframe tbody tr th:only-of-type {\n",
              "        vertical-align: middle;\n",
              "    }\n",
              "\n",
              "    .dataframe tbody tr th {\n",
              "        vertical-align: top;\n",
              "    }\n",
              "\n",
              "    .dataframe thead th {\n",
              "        text-align: right;\n",
              "    }\n",
              "</style>\n",
              "<table border=\"1\" class=\"dataframe\">\n",
              "  <thead>\n",
              "    <tr style=\"text-align: right;\">\n",
              "      <th></th>\n",
              "      <th>class_id</th>\n",
              "      <th>name</th>\n",
              "      <th>math</th>\n",
              "      <th>python</th>\n",
              "      <th>math_rank</th>\n",
              "      <th>python_rank</th>\n",
              "    </tr>\n",
              "  </thead>\n",
              "  <tbody>\n",
              "    <tr>\n",
              "      <th>8</th>\n",
              "      <td>1</td>\n",
              "      <td>I</td>\n",
              "      <td>83</td>\n",
              "      <td>87</td>\n",
              "      <td>B</td>\n",
              "      <td>B</td>\n",
              "    </tr>\n",
              "    <tr>\n",
              "      <th>9</th>\n",
              "      <td>2</td>\n",
              "      <td>J</td>\n",
              "      <td>99</td>\n",
              "      <td>75</td>\n",
              "      <td>A</td>\n",
              "      <td>C</td>\n",
              "    </tr>\n",
              "    <tr>\n",
              "      <th>10</th>\n",
              "      <td>3</td>\n",
              "      <td>K</td>\n",
              "      <td>92</td>\n",
              "      <td>67</td>\n",
              "      <td>A</td>\n",
              "      <td>D</td>\n",
              "    </tr>\n",
              "    <tr>\n",
              "      <th>7</th>\n",
              "      <td>4</td>\n",
              "      <td>H</td>\n",
              "      <td>92</td>\n",
              "      <td>65</td>\n",
              "      <td>A</td>\n",
              "      <td>D</td>\n",
              "    </tr>\n",
              "  </tbody>\n",
              "</table>\n",
              "</div>"
            ],
            "text/plain": [
              "   class_id name  math  python math_rank python_rank\n",
              "8         1    I    83      87         B           B\n",
              "9         2    J    99      75         A           C\n",
              "10        3    K    92      67         A           D\n",
              "7         4    H    92      65         A           D"
            ]
          },
          "execution_count": 123,
          "metadata": {},
          "output_type": "execute_result"
        }
      ],
      "source": [
        "# 你可以进行很复杂的操作\n",
        "# 但这里简单举例\n",
        "result = []\n",
        "\n",
        "for x in df.groupby(\"class_id\"):\n",
        "    # x 是一个元组，第一个元素是分组的标签（序号），第二个元素是分组后的DF\n",
        "\n",
        "    # x[1]元组的第二个元素，就是本组的数据\n",
        "\n",
        "    # 你可以每个x[1]做很复杂的操作，然后append到result后面。\n",
        "\n",
        "    # 取得math最高分的行：正序排列取最末尾行\n",
        "\n",
        "    result.append(x[1].sort_values(\"math\").tail(1))\n",
        "\n",
        "\n",
        "pd.concat(result)"
      ]
    },
    {
      "cell_type": "code",
      "execution_count": 124,
      "metadata": {},
      "outputs": [
        {
          "name": "stdout",
          "output_type": "stream",
          "text": [
            "  class_id name  math  python math_rank python_rank\n",
            "0        1    A    69      45         D           E\n",
            "8        1    I    83      87         B           B\n",
            "  class_id name  math  python math_rank python_rank\n",
            "5        2    F    52      51         E           E\n",
            "9        2    J    99      75         A           C\n",
            "   class_id name  math  python math_rank python_rank\n",
            "2         3    C    84      93         B           A\n",
            "6         3    G    76      57         C           E\n",
            "10        3    K    92      67         A           D\n",
            "   class_id name  math  python math_rank python_rank\n",
            "3         4    D    69      94         D           A\n",
            "7         4    H    92      65         A           D\n",
            "11        4    L    89      88         B           B\n"
          ]
        },
        {
          "data": {
            "text/plain": [
              "[None, None, None, None]"
            ]
          },
          "execution_count": 124,
          "metadata": {},
          "output_type": "execute_result"
        }
      ],
      "source": [
        "# 列表推导也可以循环分组！\n",
        "# 这里略过\n",
        "[print(x) for i, x in df.groupby(\"class_id\")]"
      ]
    },
    {
      "cell_type": "markdown",
      "metadata": {},
      "source": [
        "## 时间序列简述\n",
        "\n",
        "典型的时间序列数据就是股价。在Pandas中，一般把时间信息（表示时间的列），转为索引index，便于我们操作。\n",
        "\n",
        "### 时间序列数据的构造\n",
        "\n",
        "\n"
      ]
    },
    {
      "cell_type": "code",
      "execution_count": 125,
      "metadata": {},
      "outputs": [
        {
          "data": {
            "text/html": [
              "<div>\n",
              "<style scoped>\n",
              "    .dataframe tbody tr th:only-of-type {\n",
              "        vertical-align: middle;\n",
              "    }\n",
              "\n",
              "    .dataframe tbody tr th {\n",
              "        vertical-align: top;\n",
              "    }\n",
              "\n",
              "    .dataframe thead th {\n",
              "        text-align: right;\n",
              "    }\n",
              "</style>\n",
              "<table border=\"1\" class=\"dataframe\">\n",
              "  <thead>\n",
              "    <tr style=\"text-align: right;\">\n",
              "      <th></th>\n",
              "      <th>date</th>\n",
              "      <th>x</th>\n",
              "    </tr>\n",
              "  </thead>\n",
              "  <tbody>\n",
              "    <tr>\n",
              "      <th>0</th>\n",
              "      <td>2021-01-01</td>\n",
              "      <td>8</td>\n",
              "    </tr>\n",
              "    <tr>\n",
              "      <th>1</th>\n",
              "      <td>2021-03-01</td>\n",
              "      <td>9</td>\n",
              "    </tr>\n",
              "    <tr>\n",
              "      <th>2</th>\n",
              "      <td>2021-03-05</td>\n",
              "      <td>10</td>\n",
              "    </tr>\n",
              "    <tr>\n",
              "      <th>3</th>\n",
              "      <td>2022-01-01</td>\n",
              "      <td>11</td>\n",
              "    </tr>\n",
              "    <tr>\n",
              "      <th>4</th>\n",
              "      <td>2022-03-01</td>\n",
              "      <td>12</td>\n",
              "    </tr>\n",
              "    <tr>\n",
              "      <th>5</th>\n",
              "      <td>2022-03-05</td>\n",
              "      <td>13</td>\n",
              "    </tr>\n",
              "  </tbody>\n",
              "</table>\n",
              "</div>"
            ],
            "text/plain": [
              "         date   x\n",
              "0  2021-01-01   8\n",
              "1  2021-03-01   9\n",
              "2  2021-03-05  10\n",
              "3  2022-01-01  11\n",
              "4  2022-03-01  12\n",
              "5  2022-03-05  13"
            ]
          },
          "execution_count": 125,
          "metadata": {},
          "output_type": "execute_result"
        }
      ],
      "source": [
        "# 例行公事的导入\n",
        "import pandas as pd\n",
        "import numpy as np\n",
        "\n",
        "# 构造一个普通的DF，但其中一列是字符串形式的时间\n",
        "# 我们平时读取的数据，往往也是这种形式\n",
        "date = [\n",
        "    \"2021-01-01\",\n",
        "    \"2021-03-01\",\n",
        "    \"2021-03-05\",\n",
        "    \"2022-01-01\",\n",
        "    \"2022-03-01\",\n",
        "    \"2022-03-05\",\n",
        "]\n",
        "\n",
        "df = pd.DataFrame(dict(date=date, x=np.arange(len(date)) + 8))\n",
        "df"
      ]
    },
    {
      "cell_type": "code",
      "execution_count": 126,
      "metadata": {},
      "outputs": [
        {
          "name": "stdout",
          "output_type": "stream",
          "text": [
            "<class 'pandas.core.frame.DataFrame'>\n",
            "RangeIndex: 6 entries, 0 to 5\n",
            "Data columns (total 2 columns):\n",
            " #   Column  Non-Null Count  Dtype \n",
            "---  ------  --------------  ----- \n",
            " 0   date    6 non-null      object\n",
            " 1   x       6 non-null      int64 \n",
            "dtypes: int64(1), object(1)\n",
            "memory usage: 228.0+ bytes\n"
          ]
        }
      ],
      "source": [
        "df.info()  # date 的类型是object（即字符串str）"
      ]
    },
    {
      "cell_type": "markdown",
      "metadata": {},
      "source": [
        "一般的预处理：\n",
        "\n",
        "1. 把日期或者时间列转为datetime格式\n",
        "2. 把上述列设置为index"
      ]
    },
    {
      "cell_type": "code",
      "execution_count": 127,
      "metadata": {},
      "outputs": [
        {
          "data": {
            "text/html": [
              "<div>\n",
              "<style scoped>\n",
              "    .dataframe tbody tr th:only-of-type {\n",
              "        vertical-align: middle;\n",
              "    }\n",
              "\n",
              "    .dataframe tbody tr th {\n",
              "        vertical-align: top;\n",
              "    }\n",
              "\n",
              "    .dataframe thead th {\n",
              "        text-align: right;\n",
              "    }\n",
              "</style>\n",
              "<table border=\"1\" class=\"dataframe\">\n",
              "  <thead>\n",
              "    <tr style=\"text-align: right;\">\n",
              "      <th></th>\n",
              "      <th>x</th>\n",
              "    </tr>\n",
              "    <tr>\n",
              "      <th>date</th>\n",
              "      <th></th>\n",
              "    </tr>\n",
              "  </thead>\n",
              "  <tbody>\n",
              "    <tr>\n",
              "      <th>2021-01-01</th>\n",
              "      <td>8</td>\n",
              "    </tr>\n",
              "    <tr>\n",
              "      <th>2021-03-01</th>\n",
              "      <td>9</td>\n",
              "    </tr>\n",
              "    <tr>\n",
              "      <th>2021-03-05</th>\n",
              "      <td>10</td>\n",
              "    </tr>\n",
              "    <tr>\n",
              "      <th>2022-01-01</th>\n",
              "      <td>11</td>\n",
              "    </tr>\n",
              "    <tr>\n",
              "      <th>2022-03-01</th>\n",
              "      <td>12</td>\n",
              "    </tr>\n",
              "    <tr>\n",
              "      <th>2022-03-05</th>\n",
              "      <td>13</td>\n",
              "    </tr>\n",
              "  </tbody>\n",
              "</table>\n",
              "</div>"
            ],
            "text/plain": [
              "             x\n",
              "date          \n",
              "2021-01-01   8\n",
              "2021-03-01   9\n",
              "2021-03-05  10\n",
              "2022-01-01  11\n",
              "2022-03-01  12\n",
              "2022-03-05  13"
            ]
          },
          "execution_count": 127,
          "metadata": {},
          "output_type": "execute_result"
        }
      ],
      "source": [
        "df.date = pd.to_datetime(df.date)\n",
        "df.set_index(\"date\", inplace=True)\n",
        "df"
      ]
    },
    {
      "cell_type": "markdown",
      "metadata": {},
      "source": [
        "### 索引和切片"
      ]
    },
    {
      "cell_type": "markdown",
      "metadata": {},
      "source": [
        "按整数序号索引，切片等，和一般的DataFrame类似。\n"
      ]
    },
    {
      "cell_type": "code",
      "execution_count": 128,
      "metadata": {},
      "outputs": [
        {
          "data": {
            "text/plain": [
              "x    9\n",
              "Name: 2021-03-01 00:00:00, dtype: int64"
            ]
          },
          "execution_count": 128,
          "metadata": {},
          "output_type": "execute_result"
        }
      ],
      "source": [
        "# 索引\n",
        "df.iloc[1]"
      ]
    },
    {
      "cell_type": "code",
      "execution_count": 129,
      "metadata": {},
      "outputs": [
        {
          "data": {
            "text/html": [
              "<div>\n",
              "<style scoped>\n",
              "    .dataframe tbody tr th:only-of-type {\n",
              "        vertical-align: middle;\n",
              "    }\n",
              "\n",
              "    .dataframe tbody tr th {\n",
              "        vertical-align: top;\n",
              "    }\n",
              "\n",
              "    .dataframe thead th {\n",
              "        text-align: right;\n",
              "    }\n",
              "</style>\n",
              "<table border=\"1\" class=\"dataframe\">\n",
              "  <thead>\n",
              "    <tr style=\"text-align: right;\">\n",
              "      <th></th>\n",
              "      <th>x</th>\n",
              "    </tr>\n",
              "    <tr>\n",
              "      <th>date</th>\n",
              "      <th></th>\n",
              "    </tr>\n",
              "  </thead>\n",
              "  <tbody>\n",
              "    <tr>\n",
              "      <th>2021-03-05</th>\n",
              "      <td>10</td>\n",
              "    </tr>\n",
              "    <tr>\n",
              "      <th>2022-01-01</th>\n",
              "      <td>11</td>\n",
              "    </tr>\n",
              "  </tbody>\n",
              "</table>\n",
              "</div>"
            ],
            "text/plain": [
              "             x\n",
              "date          \n",
              "2021-03-05  10\n",
              "2022-01-01  11"
            ]
          },
          "execution_count": 129,
          "metadata": {},
          "output_type": "execute_result"
        }
      ],
      "source": [
        "# 切片\n",
        "df.iloc[2:4]"
      ]
    },
    {
      "cell_type": "markdown",
      "metadata": {},
      "source": [
        "对于时间序列数据（index是datetime的DataFrame），按索引取值(`.loc()`)有一些特殊的便利：可以接受任何“可以解释为时间”的字符串："
      ]
    },
    {
      "cell_type": "code",
      "execution_count": 130,
      "metadata": {},
      "outputs": [
        {
          "data": {
            "text/plain": [
              "x    11\n",
              "Name: 2022-01-01 00:00:00, dtype: int64"
            ]
          },
          "execution_count": 130,
          "metadata": {},
          "output_type": "execute_result"
        }
      ],
      "source": [
        "df.loc[\"2022-01-01\"]  # 按行标签取值，标准做法，和一般的DataFrame一样"
      ]
    },
    {
      "cell_type": "code",
      "execution_count": 131,
      "metadata": {},
      "outputs": [
        {
          "data": {
            "text/plain": [
              "x    11\n",
              "Name: 2022-01-01 00:00:00, dtype: int64"
            ]
          },
          "execution_count": 131,
          "metadata": {},
          "output_type": "execute_result"
        }
      ],
      "source": [
        "# 写成其他格式（或者其他地区的标准）也可以被loc[]理解\n",
        "df.loc[\"20220101\"]\n",
        "df.loc[\"01/01/2022\"]"
      ]
    },
    {
      "cell_type": "markdown",
      "metadata": {},
      "source": [
        "只使用月份或者年份也可以"
      ]
    },
    {
      "cell_type": "code",
      "execution_count": 132,
      "metadata": {},
      "outputs": [
        {
          "data": {
            "text/html": [
              "<div>\n",
              "<style scoped>\n",
              "    .dataframe tbody tr th:only-of-type {\n",
              "        vertical-align: middle;\n",
              "    }\n",
              "\n",
              "    .dataframe tbody tr th {\n",
              "        vertical-align: top;\n",
              "    }\n",
              "\n",
              "    .dataframe thead th {\n",
              "        text-align: right;\n",
              "    }\n",
              "</style>\n",
              "<table border=\"1\" class=\"dataframe\">\n",
              "  <thead>\n",
              "    <tr style=\"text-align: right;\">\n",
              "      <th></th>\n",
              "      <th>x</th>\n",
              "    </tr>\n",
              "    <tr>\n",
              "      <th>date</th>\n",
              "      <th></th>\n",
              "    </tr>\n",
              "  </thead>\n",
              "  <tbody>\n",
              "    <tr>\n",
              "      <th>2021-01-01</th>\n",
              "      <td>8</td>\n",
              "    </tr>\n",
              "    <tr>\n",
              "      <th>2021-03-01</th>\n",
              "      <td>9</td>\n",
              "    </tr>\n",
              "    <tr>\n",
              "      <th>2021-03-05</th>\n",
              "      <td>10</td>\n",
              "    </tr>\n",
              "  </tbody>\n",
              "</table>\n",
              "</div>"
            ],
            "text/plain": [
              "             x\n",
              "date          \n",
              "2021-01-01   8\n",
              "2021-03-01   9\n",
              "2021-03-05  10"
            ]
          },
          "execution_count": 132,
          "metadata": {},
          "output_type": "execute_result"
        }
      ],
      "source": [
        "df.loc[\"2021\"]  # 提取2021年所有数据"
      ]
    },
    {
      "cell_type": "code",
      "execution_count": 133,
      "metadata": {},
      "outputs": [
        {
          "data": {
            "text/html": [
              "<div>\n",
              "<style scoped>\n",
              "    .dataframe tbody tr th:only-of-type {\n",
              "        vertical-align: middle;\n",
              "    }\n",
              "\n",
              "    .dataframe tbody tr th {\n",
              "        vertical-align: top;\n",
              "    }\n",
              "\n",
              "    .dataframe thead th {\n",
              "        text-align: right;\n",
              "    }\n",
              "</style>\n",
              "<table border=\"1\" class=\"dataframe\">\n",
              "  <thead>\n",
              "    <tr style=\"text-align: right;\">\n",
              "      <th></th>\n",
              "      <th>x</th>\n",
              "    </tr>\n",
              "    <tr>\n",
              "      <th>date</th>\n",
              "      <th></th>\n",
              "    </tr>\n",
              "  </thead>\n",
              "  <tbody>\n",
              "    <tr>\n",
              "      <th>2021-03-01</th>\n",
              "      <td>9</td>\n",
              "    </tr>\n",
              "    <tr>\n",
              "      <th>2021-03-05</th>\n",
              "      <td>10</td>\n",
              "    </tr>\n",
              "  </tbody>\n",
              "</table>\n",
              "</div>"
            ],
            "text/plain": [
              "             x\n",
              "date          \n",
              "2021-03-01   9\n",
              "2021-03-05  10"
            ]
          },
          "execution_count": 133,
          "metadata": {},
          "output_type": "execute_result"
        }
      ],
      "source": [
        "df.loc[\"2021-03\"]  # 提取2021年3月所有数据"
      ]
    },
    {
      "cell_type": "code",
      "execution_count": 134,
      "metadata": {},
      "outputs": [
        {
          "data": {
            "text/html": [
              "<div>\n",
              "<style scoped>\n",
              "    .dataframe tbody tr th:only-of-type {\n",
              "        vertical-align: middle;\n",
              "    }\n",
              "\n",
              "    .dataframe tbody tr th {\n",
              "        vertical-align: top;\n",
              "    }\n",
              "\n",
              "    .dataframe thead th {\n",
              "        text-align: right;\n",
              "    }\n",
              "</style>\n",
              "<table border=\"1\" class=\"dataframe\">\n",
              "  <thead>\n",
              "    <tr style=\"text-align: right;\">\n",
              "      <th></th>\n",
              "      <th>x</th>\n",
              "    </tr>\n",
              "    <tr>\n",
              "      <th>date</th>\n",
              "      <th></th>\n",
              "    </tr>\n",
              "  </thead>\n",
              "  <tbody>\n",
              "    <tr>\n",
              "      <th>2021-01-01</th>\n",
              "      <td>8</td>\n",
              "    </tr>\n",
              "    <tr>\n",
              "      <th>2021-03-01</th>\n",
              "      <td>9</td>\n",
              "    </tr>\n",
              "    <tr>\n",
              "      <th>2021-03-05</th>\n",
              "      <td>10</td>\n",
              "    </tr>\n",
              "    <tr>\n",
              "      <th>2022-01-01</th>\n",
              "      <td>11</td>\n",
              "    </tr>\n",
              "  </tbody>\n",
              "</table>\n",
              "</div>"
            ],
            "text/plain": [
              "             x\n",
              "date          \n",
              "2021-01-01   8\n",
              "2021-03-01   9\n",
              "2021-03-05  10\n",
              "2022-01-01  11"
            ]
          },
          "execution_count": 134,
          "metadata": {},
          "output_type": "execute_result"
        }
      ],
      "source": [
        "# 切片也可以接受这类“看起来像日期”的字符串\n",
        "# 其他的用法和一般的DataFrame类似。\n",
        "\n",
        "df.loc[\"2021\":\"2022-1\"]  # 2021年（全年）到2022年1月的数据"
      ]
    },
    {
      "cell_type": "markdown",
      "metadata": {},
      "source": [
        "时间序列的运算，自然也会以时间为基准。"
      ]
    },
    {
      "cell_type": "code",
      "execution_count": 135,
      "metadata": {},
      "outputs": [
        {
          "data": {
            "text/html": [
              "<div>\n",
              "<style scoped>\n",
              "    .dataframe tbody tr th:only-of-type {\n",
              "        vertical-align: middle;\n",
              "    }\n",
              "\n",
              "    .dataframe tbody tr th {\n",
              "        vertical-align: top;\n",
              "    }\n",
              "\n",
              "    .dataframe thead th {\n",
              "        text-align: right;\n",
              "    }\n",
              "</style>\n",
              "<table border=\"1\" class=\"dataframe\">\n",
              "  <thead>\n",
              "    <tr style=\"text-align: right;\">\n",
              "      <th></th>\n",
              "      <th>y</th>\n",
              "    </tr>\n",
              "    <tr>\n",
              "      <th>date</th>\n",
              "      <th></th>\n",
              "    </tr>\n",
              "  </thead>\n",
              "  <tbody>\n",
              "    <tr>\n",
              "      <th>2021-01-01</th>\n",
              "      <td>4.0</td>\n",
              "    </tr>\n",
              "    <tr>\n",
              "      <th>2021-03-01</th>\n",
              "      <td>4.5</td>\n",
              "    </tr>\n",
              "    <tr>\n",
              "      <th>2022-01-01</th>\n",
              "      <td>5.5</td>\n",
              "    </tr>\n",
              "    <tr>\n",
              "      <th>2022-03-05</th>\n",
              "      <td>6.5</td>\n",
              "    </tr>\n",
              "    <tr>\n",
              "      <th>2022-09-01</th>\n",
              "      <td>7.0</td>\n",
              "    </tr>\n",
              "  </tbody>\n",
              "</table>\n",
              "</div>"
            ],
            "text/plain": [
              "              y\n",
              "date           \n",
              "2021-01-01  4.0\n",
              "2021-03-01  4.5\n",
              "2022-01-01  5.5\n",
              "2022-03-05  6.5\n",
              "2022-09-01  7.0"
            ]
          },
          "execution_count": 135,
          "metadata": {},
          "output_type": "execute_result"
        }
      ],
      "source": [
        "# 构造另一个DataFrame，和df有所不同\n",
        "df2 = df.copy()\n",
        "df2.drop([\"2021-03-05\", \"2022-03-01\"], axis=0, inplace=True)\n",
        "df2.loc[pd.to_datetime(\"2022-09-01\")] = 14\n",
        "df2.columns = [\"y\"]\n",
        "df2.y = df2.y / 2\n",
        "df2"
      ]
    },
    {
      "cell_type": "markdown",
      "metadata": {},
      "source": [
        "横向concat会自动对齐时间"
      ]
    },
    {
      "cell_type": "code",
      "execution_count": 136,
      "metadata": {},
      "outputs": [
        {
          "data": {
            "text/html": [
              "<div>\n",
              "<style scoped>\n",
              "    .dataframe tbody tr th:only-of-type {\n",
              "        vertical-align: middle;\n",
              "    }\n",
              "\n",
              "    .dataframe tbody tr th {\n",
              "        vertical-align: top;\n",
              "    }\n",
              "\n",
              "    .dataframe thead th {\n",
              "        text-align: right;\n",
              "    }\n",
              "</style>\n",
              "<table border=\"1\" class=\"dataframe\">\n",
              "  <thead>\n",
              "    <tr style=\"text-align: right;\">\n",
              "      <th></th>\n",
              "      <th>x</th>\n",
              "      <th>y</th>\n",
              "    </tr>\n",
              "    <tr>\n",
              "      <th>date</th>\n",
              "      <th></th>\n",
              "      <th></th>\n",
              "    </tr>\n",
              "  </thead>\n",
              "  <tbody>\n",
              "    <tr>\n",
              "      <th>2021-01-01</th>\n",
              "      <td>8.0</td>\n",
              "      <td>4.0</td>\n",
              "    </tr>\n",
              "    <tr>\n",
              "      <th>2021-03-01</th>\n",
              "      <td>9.0</td>\n",
              "      <td>4.5</td>\n",
              "    </tr>\n",
              "    <tr>\n",
              "      <th>2021-03-05</th>\n",
              "      <td>10.0</td>\n",
              "      <td>NaN</td>\n",
              "    </tr>\n",
              "    <tr>\n",
              "      <th>2022-01-01</th>\n",
              "      <td>11.0</td>\n",
              "      <td>5.5</td>\n",
              "    </tr>\n",
              "    <tr>\n",
              "      <th>2022-03-01</th>\n",
              "      <td>12.0</td>\n",
              "      <td>NaN</td>\n",
              "    </tr>\n",
              "    <tr>\n",
              "      <th>2022-03-05</th>\n",
              "      <td>13.0</td>\n",
              "      <td>6.5</td>\n",
              "    </tr>\n",
              "    <tr>\n",
              "      <th>2022-09-01</th>\n",
              "      <td>NaN</td>\n",
              "      <td>7.0</td>\n",
              "    </tr>\n",
              "  </tbody>\n",
              "</table>\n",
              "</div>"
            ],
            "text/plain": [
              "               x    y\n",
              "date                 \n",
              "2021-01-01   8.0  4.0\n",
              "2021-03-01   9.0  4.5\n",
              "2021-03-05  10.0  NaN\n",
              "2022-01-01  11.0  5.5\n",
              "2022-03-01  12.0  NaN\n",
              "2022-03-05  13.0  6.5\n",
              "2022-09-01   NaN  7.0"
            ]
          },
          "execution_count": 136,
          "metadata": {},
          "output_type": "execute_result"
        }
      ],
      "source": [
        "df3 = pd.concat([df, df2], axis=1)  # 横向合并(concat)，会自动对齐时间\n",
        "df3"
      ]
    },
    {
      "cell_type": "code",
      "execution_count": 137,
      "metadata": {},
      "outputs": [
        {
          "data": {
            "text/html": [
              "<div>\n",
              "<style scoped>\n",
              "    .dataframe tbody tr th:only-of-type {\n",
              "        vertical-align: middle;\n",
              "    }\n",
              "\n",
              "    .dataframe tbody tr th {\n",
              "        vertical-align: top;\n",
              "    }\n",
              "\n",
              "    .dataframe thead th {\n",
              "        text-align: right;\n",
              "    }\n",
              "</style>\n",
              "<table border=\"1\" class=\"dataframe\">\n",
              "  <thead>\n",
              "    <tr style=\"text-align: right;\">\n",
              "      <th></th>\n",
              "      <th>x</th>\n",
              "      <th>y</th>\n",
              "      <th>result</th>\n",
              "    </tr>\n",
              "    <tr>\n",
              "      <th>date</th>\n",
              "      <th></th>\n",
              "      <th></th>\n",
              "      <th></th>\n",
              "    </tr>\n",
              "  </thead>\n",
              "  <tbody>\n",
              "    <tr>\n",
              "      <th>2021-01-01</th>\n",
              "      <td>8.0</td>\n",
              "      <td>4.0</td>\n",
              "      <td>0.67</td>\n",
              "    </tr>\n",
              "    <tr>\n",
              "      <th>2021-03-01</th>\n",
              "      <td>9.0</td>\n",
              "      <td>4.5</td>\n",
              "      <td>0.88</td>\n",
              "    </tr>\n",
              "    <tr>\n",
              "      <th>2021-03-05</th>\n",
              "      <td>10.0</td>\n",
              "      <td>NaN</td>\n",
              "      <td>NaN</td>\n",
              "    </tr>\n",
              "    <tr>\n",
              "      <th>2022-01-01</th>\n",
              "      <td>11.0</td>\n",
              "      <td>5.5</td>\n",
              "      <td>1.32</td>\n",
              "    </tr>\n",
              "    <tr>\n",
              "      <th>2022-03-01</th>\n",
              "      <td>12.0</td>\n",
              "      <td>NaN</td>\n",
              "      <td>NaN</td>\n",
              "    </tr>\n",
              "    <tr>\n",
              "      <th>2022-03-05</th>\n",
              "      <td>13.0</td>\n",
              "      <td>6.5</td>\n",
              "      <td>1.78</td>\n",
              "    </tr>\n",
              "    <tr>\n",
              "      <th>2022-09-01</th>\n",
              "      <td>NaN</td>\n",
              "      <td>7.0</td>\n",
              "      <td>NaN</td>\n",
              "    </tr>\n",
              "  </tbody>\n",
              "</table>\n",
              "</div>"
            ],
            "text/plain": [
              "               x    y  result\n",
              "date                         \n",
              "2021-01-01   8.0  4.0    0.67\n",
              "2021-03-01   9.0  4.5    0.88\n",
              "2021-03-05  10.0  NaN     NaN\n",
              "2022-01-01  11.0  5.5    1.32\n",
              "2022-03-01  12.0  NaN     NaN\n",
              "2022-03-05  13.0  6.5    1.78\n",
              "2022-09-01   NaN  7.0     NaN"
            ]
          },
          "execution_count": 137,
          "metadata": {},
          "output_type": "execute_result"
        }
      ],
      "source": [
        "# 同样，一般的列运算也会对齐时间\n",
        "df3[\"result\"] = (df3.x / 3 - np.sqrt(df3.y)).round(2)\n",
        "df3"
      ]
    },
    {
      "cell_type": "markdown",
      "metadata": {},
      "source": [
        "### 构造时间Series\n",
        "用 `pd.date_range()`"
      ]
    },
    {
      "cell_type": "code",
      "execution_count": 138,
      "metadata": {},
      "outputs": [
        {
          "data": {
            "text/plain": [
              "DatetimeIndex(['2022-01-15', '2022-01-16', '2022-01-17', '2022-01-18',\n",
              "               '2022-01-19', '2022-01-20', '2022-01-21', '2022-01-22',\n",
              "               '2022-01-23', '2022-01-24', '2022-01-25', '2022-01-26',\n",
              "               '2022-01-27', '2022-01-28', '2022-01-29', '2022-01-30',\n",
              "               '2022-01-31', '2022-02-01', '2022-02-02', '2022-02-03',\n",
              "               '2022-02-04', '2022-02-05', '2022-02-06', '2022-02-07',\n",
              "               '2022-02-08', '2022-02-09', '2022-02-10', '2022-02-11',\n",
              "               '2022-02-12', '2022-02-13', '2022-02-14', '2022-02-15'],\n",
              "              dtype='datetime64[ns]', freq='D')"
            ]
          },
          "execution_count": 138,
          "metadata": {},
          "output_type": "execute_result"
        }
      ],
      "source": [
        "x = pd.date_range(\"2022-01-15\", \"2022-02-15\")  # 定义起点和终点，默认的频率是“D”(日)\n",
        "x"
      ]
    },
    {
      "cell_type": "code",
      "execution_count": 139,
      "metadata": {},
      "outputs": [
        {
          "data": {
            "text/plain": [
              "DatetimeIndex(['2022-01-31', '2022-02-28', '2022-03-31', '2022-04-30',\n",
              "               '2022-05-31'],\n",
              "              dtype='datetime64[ns]', freq='M')"
            ]
          },
          "execution_count": 139,
          "metadata": {},
          "output_type": "execute_result"
        }
      ],
      "source": [
        "x = pd.date_range(\"2022-01-15\", \"2022-06-15\", freq=\"M\")  # 频率M：月\n",
        "x"
      ]
    },
    {
      "cell_type": "code",
      "execution_count": 140,
      "metadata": {},
      "outputs": [
        {
          "data": {
            "text/plain": [
              "DatetimeIndex(['2022-01-17', '2022-01-18', '2022-01-19', '2022-01-20',\n",
              "               '2022-01-21'],\n",
              "              dtype='datetime64[ns]', freq='B')"
            ]
          },
          "execution_count": 140,
          "metadata": {},
          "output_type": "execute_result"
        }
      ],
      "source": [
        "# periods：指定日期的数量\n",
        "# 频率B：工作日\n",
        "x = pd.date_range(\"2022-01-15\", periods=5, freq=\"B\")  # 2022-01-15起的5个工作日\n",
        "x"
      ]
    },
    {
      "cell_type": "code",
      "execution_count": 141,
      "metadata": {},
      "outputs": [
        {
          "name": "stdout",
          "output_type": "stream",
          "text": [
            "Index([2022, 2022, 2022, 2022, 2022], dtype='int32')\n",
            "Index([1, 1, 1, 1, 1], dtype='int32')\n",
            "Index([17, 18, 19, 20, 21], dtype='int32')\n"
          ]
        }
      ],
      "source": [
        "# 获得年、月、日的序列\n",
        "print(x.year)\n",
        "print(x.month)\n",
        "print(x.day)"
      ]
    },
    {
      "cell_type": "markdown",
      "metadata": {},
      "source": [
        "### 位移和差分\n",
        "\n",
        "构造一个虚拟股价序列，计算（一阶）滞后、（一阶）差分和（日）回报率。"
      ]
    },
    {
      "cell_type": "code",
      "execution_count": 142,
      "metadata": {},
      "outputs": [
        {
          "data": {
            "text/html": [
              "<div>\n",
              "<style scoped>\n",
              "    .dataframe tbody tr th:only-of-type {\n",
              "        vertical-align: middle;\n",
              "    }\n",
              "\n",
              "    .dataframe tbody tr th {\n",
              "        vertical-align: top;\n",
              "    }\n",
              "\n",
              "    .dataframe thead th {\n",
              "        text-align: right;\n",
              "    }\n",
              "</style>\n",
              "<table border=\"1\" class=\"dataframe\">\n",
              "  <thead>\n",
              "    <tr style=\"text-align: right;\">\n",
              "      <th></th>\n",
              "      <th>price</th>\n",
              "    </tr>\n",
              "  </thead>\n",
              "  <tbody>\n",
              "    <tr>\n",
              "      <th>2022-01-17</th>\n",
              "      <td>10.9</td>\n",
              "    </tr>\n",
              "    <tr>\n",
              "      <th>2022-01-18</th>\n",
              "      <td>12.1</td>\n",
              "    </tr>\n",
              "    <tr>\n",
              "      <th>2022-01-19</th>\n",
              "      <td>11.3</td>\n",
              "    </tr>\n",
              "    <tr>\n",
              "      <th>2022-01-20</th>\n",
              "      <td>11.6</td>\n",
              "    </tr>\n",
              "    <tr>\n",
              "      <th>2022-01-21</th>\n",
              "      <td>12.7</td>\n",
              "    </tr>\n",
              "  </tbody>\n",
              "</table>\n",
              "</div>"
            ],
            "text/plain": [
              "            price\n",
              "2022-01-17   10.9\n",
              "2022-01-18   12.1\n",
              "2022-01-19   11.3\n",
              "2022-01-20   11.6\n",
              "2022-01-21   12.7"
            ]
          },
          "execution_count": 142,
          "metadata": {},
          "output_type": "execute_result"
        }
      ],
      "source": [
        "# 构造一个虚拟的价格序列\n",
        "df = pd.DataFrame(dict(price=[10.9, 12.1, 11.3, 11.6, 12.7]), index=x)  # x见上一节。\n",
        "df"
      ]
    },
    {
      "cell_type": "code",
      "execution_count": 143,
      "metadata": {},
      "outputs": [
        {
          "data": {
            "text/html": [
              "<div>\n",
              "<style scoped>\n",
              "    .dataframe tbody tr th:only-of-type {\n",
              "        vertical-align: middle;\n",
              "    }\n",
              "\n",
              "    .dataframe tbody tr th {\n",
              "        vertical-align: top;\n",
              "    }\n",
              "\n",
              "    .dataframe thead th {\n",
              "        text-align: right;\n",
              "    }\n",
              "</style>\n",
              "<table border=\"1\" class=\"dataframe\">\n",
              "  <thead>\n",
              "    <tr style=\"text-align: right;\">\n",
              "      <th></th>\n",
              "      <th>price</th>\n",
              "      <th>price_1</th>\n",
              "    </tr>\n",
              "  </thead>\n",
              "  <tbody>\n",
              "    <tr>\n",
              "      <th>2022-01-17</th>\n",
              "      <td>10.9</td>\n",
              "      <td>NaN</td>\n",
              "    </tr>\n",
              "    <tr>\n",
              "      <th>2022-01-18</th>\n",
              "      <td>12.1</td>\n",
              "      <td>10.9</td>\n",
              "    </tr>\n",
              "    <tr>\n",
              "      <th>2022-01-19</th>\n",
              "      <td>11.3</td>\n",
              "      <td>12.1</td>\n",
              "    </tr>\n",
              "    <tr>\n",
              "      <th>2022-01-20</th>\n",
              "      <td>11.6</td>\n",
              "      <td>11.3</td>\n",
              "    </tr>\n",
              "    <tr>\n",
              "      <th>2022-01-21</th>\n",
              "      <td>12.7</td>\n",
              "      <td>11.6</td>\n",
              "    </tr>\n",
              "  </tbody>\n",
              "</table>\n",
              "</div>"
            ],
            "text/plain": [
              "            price  price_1\n",
              "2022-01-17   10.9      NaN\n",
              "2022-01-18   12.1     10.9\n",
              "2022-01-19   11.3     12.1\n",
              "2022-01-20   11.6     11.3\n",
              "2022-01-21   12.7     11.6"
            ]
          },
          "execution_count": 143,
          "metadata": {},
          "output_type": "execute_result"
        }
      ],
      "source": [
        "# n阶滞后：默认是1阶\n",
        "df[\"price_1\"] = df.price.shift()\n",
        "df"
      ]
    },
    {
      "cell_type": "code",
      "execution_count": 144,
      "metadata": {},
      "outputs": [
        {
          "data": {
            "text/html": [
              "<div>\n",
              "<style scoped>\n",
              "    .dataframe tbody tr th:only-of-type {\n",
              "        vertical-align: middle;\n",
              "    }\n",
              "\n",
              "    .dataframe tbody tr th {\n",
              "        vertical-align: top;\n",
              "    }\n",
              "\n",
              "    .dataframe thead th {\n",
              "        text-align: right;\n",
              "    }\n",
              "</style>\n",
              "<table border=\"1\" class=\"dataframe\">\n",
              "  <thead>\n",
              "    <tr style=\"text-align: right;\">\n",
              "      <th></th>\n",
              "      <th>price</th>\n",
              "      <th>price_1</th>\n",
              "      <th>diff</th>\n",
              "    </tr>\n",
              "  </thead>\n",
              "  <tbody>\n",
              "    <tr>\n",
              "      <th>2022-01-17</th>\n",
              "      <td>10.9</td>\n",
              "      <td>NaN</td>\n",
              "      <td>NaN</td>\n",
              "    </tr>\n",
              "    <tr>\n",
              "      <th>2022-01-18</th>\n",
              "      <td>12.1</td>\n",
              "      <td>10.9</td>\n",
              "      <td>1.2</td>\n",
              "    </tr>\n",
              "    <tr>\n",
              "      <th>2022-01-19</th>\n",
              "      <td>11.3</td>\n",
              "      <td>12.1</td>\n",
              "      <td>-0.8</td>\n",
              "    </tr>\n",
              "    <tr>\n",
              "      <th>2022-01-20</th>\n",
              "      <td>11.6</td>\n",
              "      <td>11.3</td>\n",
              "      <td>0.3</td>\n",
              "    </tr>\n",
              "    <tr>\n",
              "      <th>2022-01-21</th>\n",
              "      <td>12.7</td>\n",
              "      <td>11.6</td>\n",
              "      <td>1.1</td>\n",
              "    </tr>\n",
              "  </tbody>\n",
              "</table>\n",
              "</div>"
            ],
            "text/plain": [
              "            price  price_1  diff\n",
              "2022-01-17   10.9      NaN   NaN\n",
              "2022-01-18   12.1     10.9   1.2\n",
              "2022-01-19   11.3     12.1  -0.8\n",
              "2022-01-20   11.6     11.3   0.3\n",
              "2022-01-21   12.7     11.6   1.1"
            ]
          },
          "execution_count": 144,
          "metadata": {},
          "output_type": "execute_result"
        }
      ],
      "source": [
        "# 差分：默认是1阶\n",
        "# 可以：1. 用price - price_1，2. 用price.diff()方法。\n",
        "df[\"diff\"] = df.price.diff()\n",
        "df"
      ]
    },
    {
      "cell_type": "code",
      "execution_count": 145,
      "metadata": {},
      "outputs": [
        {
          "data": {
            "text/html": [
              "<div>\n",
              "<style scoped>\n",
              "    .dataframe tbody tr th:only-of-type {\n",
              "        vertical-align: middle;\n",
              "    }\n",
              "\n",
              "    .dataframe tbody tr th {\n",
              "        vertical-align: top;\n",
              "    }\n",
              "\n",
              "    .dataframe thead th {\n",
              "        text-align: right;\n",
              "    }\n",
              "</style>\n",
              "<table border=\"1\" class=\"dataframe\">\n",
              "  <thead>\n",
              "    <tr style=\"text-align: right;\">\n",
              "      <th></th>\n",
              "      <th>price</th>\n",
              "      <th>price_1</th>\n",
              "      <th>diff</th>\n",
              "      <th>ret</th>\n",
              "      <th>ret_2</th>\n",
              "    </tr>\n",
              "  </thead>\n",
              "  <tbody>\n",
              "    <tr>\n",
              "      <th>2022-01-17</th>\n",
              "      <td>10.9</td>\n",
              "      <td>NaN</td>\n",
              "      <td>NaN</td>\n",
              "      <td>NaN</td>\n",
              "      <td>NaN</td>\n",
              "    </tr>\n",
              "    <tr>\n",
              "      <th>2022-01-18</th>\n",
              "      <td>12.1</td>\n",
              "      <td>10.9</td>\n",
              "      <td>1.2</td>\n",
              "      <td>0.110092</td>\n",
              "      <td>0.110092</td>\n",
              "    </tr>\n",
              "    <tr>\n",
              "      <th>2022-01-19</th>\n",
              "      <td>11.3</td>\n",
              "      <td>12.1</td>\n",
              "      <td>-0.8</td>\n",
              "      <td>-0.066116</td>\n",
              "      <td>-0.066116</td>\n",
              "    </tr>\n",
              "    <tr>\n",
              "      <th>2022-01-20</th>\n",
              "      <td>11.6</td>\n",
              "      <td>11.3</td>\n",
              "      <td>0.3</td>\n",
              "      <td>0.026549</td>\n",
              "      <td>0.026549</td>\n",
              "    </tr>\n",
              "    <tr>\n",
              "      <th>2022-01-21</th>\n",
              "      <td>12.7</td>\n",
              "      <td>11.6</td>\n",
              "      <td>1.1</td>\n",
              "      <td>0.094828</td>\n",
              "      <td>0.094828</td>\n",
              "    </tr>\n",
              "  </tbody>\n",
              "</table>\n",
              "</div>"
            ],
            "text/plain": [
              "            price  price_1  diff       ret     ret_2\n",
              "2022-01-17   10.9      NaN   NaN       NaN       NaN\n",
              "2022-01-18   12.1     10.9   1.2  0.110092  0.110092\n",
              "2022-01-19   11.3     12.1  -0.8 -0.066116 -0.066116\n",
              "2022-01-20   11.6     11.3   0.3  0.026549  0.026549\n",
              "2022-01-21   12.7     11.6   1.1  0.094828  0.094828"
            ]
          },
          "execution_count": 145,
          "metadata": {},
          "output_type": "execute_result"
        }
      ],
      "source": [
        "# 百分比变化（日回报率）\n",
        "# 可以 1. 用一阶差分除以一阶滞后。 或者2. 直接用price.pct_change()方法。\n",
        "df[\"ret\"] = df[\"diff\"] / df[\"price_1\"]\n",
        "\n",
        "df[\"ret_2\"] = df[\"price\"].pct_change()\n",
        "df"
      ]
    },
    {
      "cell_type": "markdown",
      "metadata": {},
      "source": [
        "### 从回报率计算价格"
      ]
    },
    {
      "cell_type": "code",
      "execution_count": 146,
      "metadata": {},
      "outputs": [
        {
          "data": {
            "text/html": [
              "<div>\n",
              "<style scoped>\n",
              "    .dataframe tbody tr th:only-of-type {\n",
              "        vertical-align: middle;\n",
              "    }\n",
              "\n",
              "    .dataframe tbody tr th {\n",
              "        vertical-align: top;\n",
              "    }\n",
              "\n",
              "    .dataframe thead th {\n",
              "        text-align: right;\n",
              "    }\n",
              "</style>\n",
              "<table border=\"1\" class=\"dataframe\">\n",
              "  <thead>\n",
              "    <tr style=\"text-align: right;\">\n",
              "      <th></th>\n",
              "      <th>price</th>\n",
              "      <th>price_1</th>\n",
              "      <th>diff</th>\n",
              "      <th>ret</th>\n",
              "      <th>ret_2</th>\n",
              "      <th>price_2</th>\n",
              "    </tr>\n",
              "  </thead>\n",
              "  <tbody>\n",
              "    <tr>\n",
              "      <th>2022-01-17</th>\n",
              "      <td>10.9</td>\n",
              "      <td>NaN</td>\n",
              "      <td>NaN</td>\n",
              "      <td>NaN</td>\n",
              "      <td>NaN</td>\n",
              "      <td>1.000000</td>\n",
              "    </tr>\n",
              "    <tr>\n",
              "      <th>2022-01-18</th>\n",
              "      <td>12.1</td>\n",
              "      <td>10.9</td>\n",
              "      <td>1.2</td>\n",
              "      <td>0.110092</td>\n",
              "      <td>0.110092</td>\n",
              "      <td>1.110092</td>\n",
              "    </tr>\n",
              "    <tr>\n",
              "      <th>2022-01-19</th>\n",
              "      <td>11.3</td>\n",
              "      <td>12.1</td>\n",
              "      <td>-0.8</td>\n",
              "      <td>-0.066116</td>\n",
              "      <td>-0.066116</td>\n",
              "      <td>1.036697</td>\n",
              "    </tr>\n",
              "    <tr>\n",
              "      <th>2022-01-20</th>\n",
              "      <td>11.6</td>\n",
              "      <td>11.3</td>\n",
              "      <td>0.3</td>\n",
              "      <td>0.026549</td>\n",
              "      <td>0.026549</td>\n",
              "      <td>1.064220</td>\n",
              "    </tr>\n",
              "    <tr>\n",
              "      <th>2022-01-21</th>\n",
              "      <td>12.7</td>\n",
              "      <td>11.6</td>\n",
              "      <td>1.1</td>\n",
              "      <td>0.094828</td>\n",
              "      <td>0.094828</td>\n",
              "      <td>1.165138</td>\n",
              "    </tr>\n",
              "  </tbody>\n",
              "</table>\n",
              "</div>"
            ],
            "text/plain": [
              "            price  price_1  diff       ret     ret_2   price_2\n",
              "2022-01-17   10.9      NaN   NaN       NaN       NaN  1.000000\n",
              "2022-01-18   12.1     10.9   1.2  0.110092  0.110092  1.110092\n",
              "2022-01-19   11.3     12.1  -0.8 -0.066116 -0.066116  1.036697\n",
              "2022-01-20   11.6     11.3   0.3  0.026549  0.026549  1.064220\n",
              "2022-01-21   12.7     11.6   1.1  0.094828  0.094828  1.165138"
            ]
          },
          "execution_count": 146,
          "metadata": {},
          "output_type": "execute_result"
        }
      ],
      "source": [
        "# 从回报率计算价格\n",
        "# 利用comprod()：序列的累积连乘\n",
        "# 见：https://pandas.pydata.org/docs/reference/api/pandas.DataFrame.cumprod.html\n",
        "\n",
        "# 从1开始的价格：\n",
        "# 价格1 = (1 + 回报率).cumprod()\n",
        "\n",
        "\n",
        "df[\"price_2\"] = (1 + df[\"ret\"].fillna(0)).cumprod()\n",
        "df"
      ]
    },
    {
      "cell_type": "code",
      "execution_count": 147,
      "metadata": {},
      "outputs": [
        {
          "data": {
            "text/plain": [
              "2022-01-17    False\n",
              "2022-01-18     True\n",
              "2022-01-19     True\n",
              "2022-01-20     True\n",
              "2022-01-21     True\n",
              "Freq: B, dtype: bool"
            ]
          },
          "execution_count": 147,
          "metadata": {},
          "output_type": "execute_result"
        }
      ],
      "source": [
        "# 简单验算： 除了第一天，序列price和price_2的日回报应该相同。\n",
        "df.price_2.pct_change().round(3) == df.ret.round(3)"
      ]
    },
    {
      "cell_type": "markdown",
      "metadata": {},
      "source": [
        "### 重采样\n",
        "\n",
        "不同频率周期的数据相互转换：如日频数据到周频或者月频（日线到周线、月线等），或者反过来。\n",
        "\n",
        "使用`.resample()`。"
      ]
    },
    {
      "cell_type": "markdown",
      "metadata": {},
      "source": [
        "df"
      ]
    },
    {
      "cell_type": "code",
      "execution_count": 148,
      "metadata": {},
      "outputs": [
        {
          "data": {
            "text/html": [
              "<div>\n",
              "<style scoped>\n",
              "    .dataframe tbody tr th:only-of-type {\n",
              "        vertical-align: middle;\n",
              "    }\n",
              "\n",
              "    .dataframe tbody tr th {\n",
              "        vertical-align: top;\n",
              "    }\n",
              "\n",
              "    .dataframe thead th {\n",
              "        text-align: right;\n",
              "    }\n",
              "</style>\n",
              "<table border=\"1\" class=\"dataframe\">\n",
              "  <thead>\n",
              "    <tr style=\"text-align: right;\">\n",
              "      <th></th>\n",
              "      <th>value</th>\n",
              "    </tr>\n",
              "  </thead>\n",
              "  <tbody>\n",
              "    <tr>\n",
              "      <th>2022-01-01</th>\n",
              "      <td>0</td>\n",
              "    </tr>\n",
              "    <tr>\n",
              "      <th>2022-01-02</th>\n",
              "      <td>1</td>\n",
              "    </tr>\n",
              "    <tr>\n",
              "      <th>2022-01-03</th>\n",
              "      <td>2</td>\n",
              "    </tr>\n",
              "    <tr>\n",
              "      <th>2022-01-04</th>\n",
              "      <td>3</td>\n",
              "    </tr>\n",
              "    <tr>\n",
              "      <th>2022-01-05</th>\n",
              "      <td>4</td>\n",
              "    </tr>\n",
              "    <tr>\n",
              "      <th>...</th>\n",
              "      <td>...</td>\n",
              "    </tr>\n",
              "    <tr>\n",
              "      <th>2022-03-27</th>\n",
              "      <td>85</td>\n",
              "    </tr>\n",
              "    <tr>\n",
              "      <th>2022-03-28</th>\n",
              "      <td>86</td>\n",
              "    </tr>\n",
              "    <tr>\n",
              "      <th>2022-03-29</th>\n",
              "      <td>87</td>\n",
              "    </tr>\n",
              "    <tr>\n",
              "      <th>2022-03-30</th>\n",
              "      <td>88</td>\n",
              "    </tr>\n",
              "    <tr>\n",
              "      <th>2022-03-31</th>\n",
              "      <td>89</td>\n",
              "    </tr>\n",
              "  </tbody>\n",
              "</table>\n",
              "<p>90 rows × 1 columns</p>\n",
              "</div>"
            ],
            "text/plain": [
              "            value\n",
              "2022-01-01      0\n",
              "2022-01-02      1\n",
              "2022-01-03      2\n",
              "2022-01-04      3\n",
              "2022-01-05      4\n",
              "...           ...\n",
              "2022-03-27     85\n",
              "2022-03-28     86\n",
              "2022-03-29     87\n",
              "2022-03-30     88\n",
              "2022-03-31     89\n",
              "\n",
              "[90 rows x 1 columns]"
            ]
          },
          "execution_count": 148,
          "metadata": {},
          "output_type": "execute_result"
        }
      ],
      "source": [
        "# 构造一个3个月的日线序列\n",
        "ts = pd.date_range(\"2022-01-01\", \"2022-03-31\")\n",
        "df = pd.DataFrame(dict(value=np.arange(len(ts))), index=ts)\n",
        "df"
      ]
    },
    {
      "cell_type": "markdown",
      "metadata": {},
      "source": [
        "需要指定周期和归纳的方法，如"
      ]
    },
    {
      "cell_type": "code",
      "execution_count": 149,
      "metadata": {},
      "outputs": [
        {
          "data": {
            "text/html": [
              "<div>\n",
              "<style scoped>\n",
              "    .dataframe tbody tr th:only-of-type {\n",
              "        vertical-align: middle;\n",
              "    }\n",
              "\n",
              "    .dataframe tbody tr th {\n",
              "        vertical-align: top;\n",
              "    }\n",
              "\n",
              "    .dataframe thead th {\n",
              "        text-align: right;\n",
              "    }\n",
              "</style>\n",
              "<table border=\"1\" class=\"dataframe\">\n",
              "  <thead>\n",
              "    <tr style=\"text-align: right;\">\n",
              "      <th></th>\n",
              "      <th>value</th>\n",
              "    </tr>\n",
              "  </thead>\n",
              "  <tbody>\n",
              "    <tr>\n",
              "      <th>2022-01-02</th>\n",
              "      <td>1</td>\n",
              "    </tr>\n",
              "    <tr>\n",
              "      <th>2022-01-09</th>\n",
              "      <td>8</td>\n",
              "    </tr>\n",
              "    <tr>\n",
              "      <th>2022-01-16</th>\n",
              "      <td>15</td>\n",
              "    </tr>\n",
              "    <tr>\n",
              "      <th>2022-01-23</th>\n",
              "      <td>22</td>\n",
              "    </tr>\n",
              "    <tr>\n",
              "      <th>2022-01-30</th>\n",
              "      <td>29</td>\n",
              "    </tr>\n",
              "  </tbody>\n",
              "</table>\n",
              "</div>"
            ],
            "text/plain": [
              "            value\n",
              "2022-01-02      1\n",
              "2022-01-09      8\n",
              "2022-01-16     15\n",
              "2022-01-23     22\n",
              "2022-01-30     29"
            ]
          },
          "execution_count": 149,
          "metadata": {},
          "output_type": "execute_result"
        }
      ],
      "source": [
        "# 重采样为周\"W\"，取每周的最后一个值\n",
        "df.resample(\"W\").last().head()  # 周数据的最后一个值，默认是取\"周日\"为最后一天"
      ]
    },
    {
      "cell_type": "code",
      "execution_count": 150,
      "metadata": {},
      "outputs": [
        {
          "data": {
            "text/html": [
              "<div>\n",
              "<style scoped>\n",
              "    .dataframe tbody tr th:only-of-type {\n",
              "        vertical-align: middle;\n",
              "    }\n",
              "\n",
              "    .dataframe tbody tr th {\n",
              "        vertical-align: top;\n",
              "    }\n",
              "\n",
              "    .dataframe thead th {\n",
              "        text-align: right;\n",
              "    }\n",
              "</style>\n",
              "<table border=\"1\" class=\"dataframe\">\n",
              "  <thead>\n",
              "    <tr style=\"text-align: right;\">\n",
              "      <th></th>\n",
              "      <th>value</th>\n",
              "    </tr>\n",
              "  </thead>\n",
              "  <tbody>\n",
              "    <tr>\n",
              "      <th>2022-01-07</th>\n",
              "      <td>6</td>\n",
              "    </tr>\n",
              "    <tr>\n",
              "      <th>2022-01-14</th>\n",
              "      <td>13</td>\n",
              "    </tr>\n",
              "    <tr>\n",
              "      <th>2022-01-21</th>\n",
              "      <td>20</td>\n",
              "    </tr>\n",
              "    <tr>\n",
              "      <th>2022-01-28</th>\n",
              "      <td>27</td>\n",
              "    </tr>\n",
              "    <tr>\n",
              "      <th>2022-02-04</th>\n",
              "      <td>34</td>\n",
              "    </tr>\n",
              "  </tbody>\n",
              "</table>\n",
              "</div>"
            ],
            "text/plain": [
              "            value\n",
              "2022-01-07      6\n",
              "2022-01-14     13\n",
              "2022-01-21     20\n",
              "2022-01-28     27\n",
              "2022-02-04     34"
            ]
          },
          "execution_count": 150,
          "metadata": {},
          "output_type": "execute_result"
        }
      ],
      "source": [
        "# 可以设置以周五为最后一天，这样就可以取得全部的周五\n",
        "# 符合世界上主要国家每周的最后一个工作日，比如股票的周线收盘价\n",
        "df.resample(\"W-FRI\").last().head()"
      ]
    },
    {
      "cell_type": "markdown",
      "metadata": {},
      "source": [
        "可用的每周结束日期包括\n",
        "\n",
        "'W-SUN' 或 'W': 周日\n",
        "\n",
        "'W-MON': 周一\n",
        "\n",
        "'W-TUE': 周二\n",
        "\n",
        "'W-WED': 周三\n",
        "\n",
        "'W-THU': 周四\n",
        "\n",
        "'W-FRI': 周五\n",
        "\n",
        "'W-SAT': 周六"
      ]
    },
    {
      "cell_type": "code",
      "execution_count": 151,
      "metadata": {},
      "outputs": [
        {
          "data": {
            "text/html": [
              "<div>\n",
              "<style scoped>\n",
              "    .dataframe tbody tr th:only-of-type {\n",
              "        vertical-align: middle;\n",
              "    }\n",
              "\n",
              "    .dataframe tbody tr th {\n",
              "        vertical-align: top;\n",
              "    }\n",
              "\n",
              "    .dataframe thead th {\n",
              "        text-align: right;\n",
              "    }\n",
              "</style>\n",
              "<table border=\"1\" class=\"dataframe\">\n",
              "  <thead>\n",
              "    <tr style=\"text-align: right;\">\n",
              "      <th></th>\n",
              "      <th>value</th>\n",
              "    </tr>\n",
              "  </thead>\n",
              "  <tbody>\n",
              "    <tr>\n",
              "      <th>2022-01-31</th>\n",
              "      <td>465</td>\n",
              "    </tr>\n",
              "    <tr>\n",
              "      <th>2022-02-28</th>\n",
              "      <td>1246</td>\n",
              "    </tr>\n",
              "    <tr>\n",
              "      <th>2022-03-31</th>\n",
              "      <td>2294</td>\n",
              "    </tr>\n",
              "  </tbody>\n",
              "</table>\n",
              "</div>"
            ],
            "text/plain": [
              "            value\n",
              "2022-01-31    465\n",
              "2022-02-28   1246\n",
              "2022-03-31   2294"
            ]
          },
          "execution_count": 151,
          "metadata": {},
          "output_type": "execute_result"
        }
      ],
      "source": [
        "# 重采样为月线M，取区间内所有值的和\n",
        "df.resample(\"M\").sum()  # 月数据的求和"
      ]
    },
    {
      "cell_type": "markdown",
      "metadata": {},
      "source": [
        "可以用的函数包括:\n",
        "\n",
        "`mean()`: 计算时间段内的平均值。\n",
        "\n",
        "`sum()`: 计算时间段内的总和。\n",
        "\n",
        "`max()`: 找到时间段内的最大值。\n",
        "\n",
        "`min()`: 找到时间段内的最小值。\n",
        "\n",
        "`count()`: 计算时间段内的观测数。\n",
        "\n",
        "`first()`: 获取时间段内的第一个值。\n",
        "\n",
        "`last()`: 获取时间段内的最后一个值。\n",
        "\n",
        "`median()`: 计算时间段内的中位数。\n",
        "\n",
        "`std()`: 计算时间段内的标准差。\n",
        "\n",
        "`var()`: 计算时间段内的方差。\n",
        "\n",
        "`ohlc()`: 为金融数据提供开盘价（open）、最高价（high）、最低价（low）、收盘价（close）的聚合。"
      ]
    },
    {
      "cell_type": "markdown",
      "metadata": {},
      "source": [
        "## 保存DataFrame到文件"
      ]
    },
    {
      "cell_type": "code",
      "execution_count": 152,
      "metadata": {},
      "outputs": [],
      "source": [
        "import pandas as pd\n",
        "import numpy as np"
      ]
    },
    {
      "cell_type": "markdown",
      "metadata": {},
      "source": [
        "构造示例数据\n",
        "\n",
        "注意：\n",
        "\n",
        "1. `df['datetime']`列是“日期和时间”格式（Pandas默认），有日期和时间的信息，这会反映在保存后的数据中。\n",
        "2. `df['datetime'].dt.date`可以从中获得仅有“日期”信息（见前面的“时间方法”）。\n",
        "3. 你打开保存后的excel文件就可以看出差异"
      ]
    },
    {
      "cell_type": "code",
      "execution_count": 153,
      "metadata": {},
      "outputs": [
        {
          "data": {
            "text/html": [
              "<div>\n",
              "<style scoped>\n",
              "    .dataframe tbody tr th:only-of-type {\n",
              "        vertical-align: middle;\n",
              "    }\n",
              "\n",
              "    .dataframe tbody tr th {\n",
              "        vertical-align: top;\n",
              "    }\n",
              "\n",
              "    .dataframe thead th {\n",
              "        text-align: right;\n",
              "    }\n",
              "</style>\n",
              "<table border=\"1\" class=\"dataframe\">\n",
              "  <thead>\n",
              "    <tr style=\"text-align: right;\">\n",
              "      <th></th>\n",
              "      <th>datetime</th>\n",
              "      <th>number</th>\n",
              "      <th>name</th>\n",
              "      <th>value</th>\n",
              "      <th>date</th>\n",
              "    </tr>\n",
              "  </thead>\n",
              "  <tbody>\n",
              "    <tr>\n",
              "      <th>0</th>\n",
              "      <td>2022-01-15</td>\n",
              "      <td>1</td>\n",
              "      <td>A</td>\n",
              "      <td>-0.759154</td>\n",
              "      <td>2022-01-15</td>\n",
              "    </tr>\n",
              "    <tr>\n",
              "      <th>1</th>\n",
              "      <td>2022-01-16</td>\n",
              "      <td>2</td>\n",
              "      <td>B</td>\n",
              "      <td>-1.685706</td>\n",
              "      <td>2022-01-16</td>\n",
              "    </tr>\n",
              "    <tr>\n",
              "      <th>2</th>\n",
              "      <td>2022-01-17</td>\n",
              "      <td>3</td>\n",
              "      <td>C</td>\n",
              "      <td>0.266500</td>\n",
              "      <td>2022-01-17</td>\n",
              "    </tr>\n",
              "    <tr>\n",
              "      <th>3</th>\n",
              "      <td>2022-01-18</td>\n",
              "      <td>4</td>\n",
              "      <td>D</td>\n",
              "      <td>-1.480555</td>\n",
              "      <td>2022-01-18</td>\n",
              "    </tr>\n",
              "    <tr>\n",
              "      <th>4</th>\n",
              "      <td>2022-01-19</td>\n",
              "      <td>5</td>\n",
              "      <td>E</td>\n",
              "      <td>1.214168</td>\n",
              "      <td>2022-01-19</td>\n",
              "    </tr>\n",
              "  </tbody>\n",
              "</table>\n",
              "</div>"
            ],
            "text/plain": [
              "    datetime  number name     value        date\n",
              "0 2022-01-15       1    A -0.759154  2022-01-15\n",
              "1 2022-01-16       2    B -1.685706  2022-01-16\n",
              "2 2022-01-17       3    C  0.266500  2022-01-17\n",
              "3 2022-01-18       4    D -1.480555  2022-01-18\n",
              "4 2022-01-19       5    E  1.214168  2022-01-19"
            ]
          },
          "execution_count": 153,
          "metadata": {},
          "output_type": "execute_result"
        }
      ],
      "source": [
        "df = pd.DataFrame(\n",
        "    dict(\n",
        "        datetime=pd.date_range(\"2022-01-15\", \"2022-01-19\"),\n",
        "        number=range(1, 6),\n",
        "        name=list(\"ABCDE\"),\n",
        "        value=np.random.randn(5),\n",
        "    )\n",
        ")\n",
        "df[\"date\"] = df[\"datetime\"].dt.date\n",
        "df"
      ]
    },
    {
      "cell_type": "markdown",
      "metadata": {},
      "source": [
        "使用`df.to_excel()`和`df.to_csv()`等方法，可以把`df`保存为文件。\n",
        "\n",
        "1. 默认会保存把索引`index`也保存为列，并且可能没有列名（注意看index有没有名字）\n",
        "2. 一般而言，为了保持在不同软件之间的通用性，可以考虑把所以有意义的信息放在一个普通的列中，则保存DF到文件时就可以放心地丢弃index。\n",
        "  "
      ]
    },
    {
      "cell_type": "code",
      "execution_count": 154,
      "metadata": {},
      "outputs": [],
      "source": [
        "# 把df保存到工作目录（本ipynb文件所在目录）下的data文件夹下的output.xlsx文件中\n",
        "# 默认参数，会连带保存index一起保存。如果index无名称，则就会产生一系列无名列。\n",
        "df.to_excel(\"data/output.xlsx\")"
      ]
    },
    {
      "cell_type": "code",
      "execution_count": 155,
      "metadata": {},
      "outputs": [],
      "source": [
        "# 丢弃index\n",
        "# 如果index没有价值的信息，或者有价值的信息已经通过reset_index()转为普通列，则可以放心丢弃\n",
        "df.to_excel(\"data/output_noindex.xlsx\", index=False)"
      ]
    },
    {
      "cell_type": "markdown",
      "metadata": {},
      "source": [
        "你可以打开这`output.xlsx`和`output_noindex`进行对比。"
      ]
    }
  ],
  "metadata": {
    "kernelspec": {
      "display_name": "Python 3.9.12 ('base')",
      "language": "python",
      "name": "python3"
    },
    "language_info": {
      "codemirror_mode": {
        "name": "ipython",
        "version": 3
      },
      "file_extension": ".py",
      "mimetype": "text/x-python",
      "name": "python",
      "nbconvert_exporter": "python",
      "pygments_lexer": "ipython3",
      "version": "3.11.7"
    },
    "vscode": {
      "interpreter": {
        "hash": "6a59ff3677af3ee54f2b842bd13e0af80e5d1ab3f1f22239d3105698bf62dfb2"
      }
    }
  },
  "nbformat": 4,
  "nbformat_minor": 4
}
