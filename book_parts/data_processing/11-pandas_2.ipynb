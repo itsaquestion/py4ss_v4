{
 "cells": [
  {
   "cell_type": "markdown",
   "metadata": {},
   "source": [
    "# Pandas\n",
    "\n",
    "\n",
    "## 数据结构\n",
    "\n",
    "快速提示：\n",
    "\n",
    "1. Series可以看作二维表格中的一列，带有一个标签，即列的header。\n",
    "2. DataFrame是二维表格，即多个列Series的横向合并。\n"
   ]
  },
  {
   "cell_type": "markdown",
   "metadata": {},
   "source": [
    "<!-- 正式介绍 -->\n",
    "### Series\n",
    "`Series` 是 pandas 中的一种一维数组，可以存储任意数据类型（如整数、浮点数、字符串等）。每个 `Series` 都包含一个数据序列和一个与之相关的索引序列。索引的作用类似于数组的下标，但 `Series` 的索引可以是非整数类型，例如字符串。\n",
    "\n",
    "<!-- 通俗解释 -->\n",
    "想象一下 `Series` 就像是一列学生的成绩单，每个学生的成绩都是数据，而学生的名字就是索引。这样我们就可以很方便地通过学生的名字（索引）来查找他们的成绩（数据）。例如，我们有一个学生成绩的 `Series`，可以通过学生的名字直接获取到对应的成绩，而不需要去记住每个学生在成绩单中的位置。\n",
    "\n",
    "<!-- 代码 -->\n"
   ]
  },
  {
   "cell_type": "code",
   "execution_count": 3,
   "metadata": {},
   "outputs": [
    {
     "name": "stdout",
     "output_type": "stream",
     "text": [
      "Alice      85\n",
      "Bob        92\n",
      "Charlie    78\n",
      "David      90\n",
      "dtype: int64\n",
      "Alice's grade: 85\n"
     ]
    }
   ],
   "source": [
    "import pandas as pd\n",
    "\n",
    "# 创建一个简单的 Series\n",
    "grades = pd.Series([85, 92, 78, 90], index=[\"Alice\", \"Bob\", \"Charlie\", \"David\"])\n",
    "\n",
    "# 打印 Series\n",
    "print(grades)\n",
    "\n",
    "# 通过索引获取数据\n",
    "print(\"Alice's grade:\", grades[\"Alice\"])"
   ]
  },
  {
   "cell_type": "code",
   "execution_count": null,
   "metadata": {},
   "outputs": [],
   "source": []
  }
 ],
 "metadata": {
  "kernelspec": {
   "display_name": "base",
   "language": "python",
   "name": "python3"
  },
  "language_info": {
   "codemirror_mode": {
    "name": "ipython",
    "version": 3
   },
   "file_extension": ".py",
   "mimetype": "text/x-python",
   "name": "python",
   "nbconvert_exporter": "python",
   "pygments_lexer": "ipython3",
   "version": "3.11.7"
  }
 },
 "nbformat": 4,
 "nbformat_minor": 2
}
