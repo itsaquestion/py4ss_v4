{
 "cells": [
  {
   "cell_type": "code",
   "execution_count": 1,
   "metadata": {},
   "outputs": [],
   "source": [
    "import pandas as pd\n",
    "import numpy as np \n",
    "\n",
    "# 导入matplotlib.pyplot绘图库，其中plt.plot()是最常用的绘图函数之一\n",
    "import matplotlib.pyplot as plt \n",
    "\n",
    "import seaborn as sns\n",
    "\n",
    "sns.set_theme() # 默认用seaborn的绘图样式\n",
    "\n",
    "plt.rcParams[\"font.sans-serif\"]=[\"SimHei\"] #设置字体。如果不设置，中文会乱码。这里采用黑体SimHei，也可以考虑其他字体，如宋体SimSun等\n",
    "plt.rcParams[\"axes.unicode_minus\"]=False #该语句解决图像中的“-”负号的乱码问题\n",
    "\n",
    "# 绘图使用'svg'后端：svg是矢量格式，可以任意缩放均保持清晰，各种屏幕的显示良好。\n",
    "%config InlineBackend.figure_formats = ['svg']\n"
   ]
  },
  {
   "cell_type": "code",
   "execution_count": 2,
   "metadata": {},
   "outputs": [],
   "source": [
    "import akshare as ak"
   ]
  },
  {
   "cell_type": "code",
   "execution_count": 9,
   "metadata": {},
   "outputs": [
    {
     "ename": "ValueError",
     "evalue": "Length mismatch: Expected axis has 1 elements, new values have 15 elements",
     "output_type": "error",
     "traceback": [
      "\u001b[0;31m---------------------------------------------------------------------------\u001b[0m",
      "\u001b[0;31mValueError\u001b[0m                                Traceback (most recent call last)",
      "\u001b[1;32m/home/lee/py4ss_v2/数据构造.ipynb Cell 3\u001b[0m in \u001b[0;36m<cell line: 1>\u001b[0;34m()\u001b[0m\n\u001b[0;32m----> <a href='vscode-notebook-cell://wsl%2Bubuntu-22.04/home/lee/py4ss_v2/%E6%95%B0%E6%8D%AE%E6%9E%84%E9%80%A0.ipynb#W2sdnNjb2RlLXJlbW90ZQ%3D%3D?line=0'>1</a>\u001b[0m df \u001b[39m=\u001b[39m ak\u001b[39m.\u001b[39;49mstock_zh_a_hist_163(symbol\u001b[39m=\u001b[39;49m\u001b[39m\"\u001b[39;49m\u001b[39msh510300\u001b[39;49m\u001b[39m\"\u001b[39;49m, start_date\u001b[39m=\u001b[39;49m\u001b[39m\"\u001b[39;49m\u001b[39m20210101\u001b[39;49m\u001b[39m\"\u001b[39;49m, end_date\u001b[39m=\u001b[39;49m\u001b[39m\"\u001b[39;49m\u001b[39m20220101\u001b[39;49m\u001b[39m\"\u001b[39;49m)\n\u001b[1;32m      <a href='vscode-notebook-cell://wsl%2Bubuntu-22.04/home/lee/py4ss_v2/%E6%95%B0%E6%8D%AE%E6%9E%84%E9%80%A0.ipynb#W2sdnNjb2RlLXJlbW90ZQ%3D%3D?line=1'>2</a>\u001b[0m df\u001b[39m.\u001b[39mhead()\n",
      "File \u001b[0;32m~/anaconda3/lib/python3.9/site-packages/akshare/stock/stock_hist_163.py:59\u001b[0m, in \u001b[0;36mstock_zh_a_hist_163\u001b[0;34m(symbol, start_date, end_date)\u001b[0m\n\u001b[1;32m     55\u001b[0m data_text \u001b[39m=\u001b[39m r\u001b[39m.\u001b[39mtext\n\u001b[1;32m     56\u001b[0m temp_df \u001b[39m=\u001b[39m pd\u001b[39m.\u001b[39mDataFrame(\n\u001b[1;32m     57\u001b[0m     [item\u001b[39m.\u001b[39msplit(\u001b[39m\"\u001b[39m\u001b[39m,\u001b[39m\u001b[39m\"\u001b[39m) \u001b[39mfor\u001b[39;00m item \u001b[39min\u001b[39;00m data_text\u001b[39m.\u001b[39msplit(\u001b[39m\"\u001b[39m\u001b[39m\\r\u001b[39;00m\u001b[39m\\n\u001b[39;00m\u001b[39m\"\u001b[39m)[\u001b[39m1\u001b[39m:]]\n\u001b[1;32m     58\u001b[0m )\n\u001b[0;32m---> 59\u001b[0m temp_df\u001b[39m.\u001b[39mcolumns \u001b[39m=\u001b[39m [\n\u001b[1;32m     60\u001b[0m     \u001b[39m\"\u001b[39m\u001b[39m日期\u001b[39m\u001b[39m\"\u001b[39m,\n\u001b[1;32m     61\u001b[0m     \u001b[39m\"\u001b[39m\u001b[39m股票代码\u001b[39m\u001b[39m\"\u001b[39m,\n\u001b[1;32m     62\u001b[0m     \u001b[39m\"\u001b[39m\u001b[39m名称\u001b[39m\u001b[39m\"\u001b[39m,\n\u001b[1;32m     63\u001b[0m     \u001b[39m\"\u001b[39m\u001b[39m收盘价\u001b[39m\u001b[39m\"\u001b[39m,\n\u001b[1;32m     64\u001b[0m     \u001b[39m\"\u001b[39m\u001b[39m最高价\u001b[39m\u001b[39m\"\u001b[39m,\n\u001b[1;32m     65\u001b[0m     \u001b[39m\"\u001b[39m\u001b[39m最低价\u001b[39m\u001b[39m\"\u001b[39m,\n\u001b[1;32m     66\u001b[0m     \u001b[39m\"\u001b[39m\u001b[39m开盘价\u001b[39m\u001b[39m\"\u001b[39m,\n\u001b[1;32m     67\u001b[0m     \u001b[39m\"\u001b[39m\u001b[39m前收盘\u001b[39m\u001b[39m\"\u001b[39m,\n\u001b[1;32m     68\u001b[0m     \u001b[39m\"\u001b[39m\u001b[39m涨跌额\u001b[39m\u001b[39m\"\u001b[39m,\n\u001b[1;32m     69\u001b[0m     \u001b[39m\"\u001b[39m\u001b[39m涨跌幅\u001b[39m\u001b[39m\"\u001b[39m,\n\u001b[1;32m     70\u001b[0m     \u001b[39m\"\u001b[39m\u001b[39m换手率\u001b[39m\u001b[39m\"\u001b[39m,\n\u001b[1;32m     71\u001b[0m     \u001b[39m\"\u001b[39m\u001b[39m成交量\u001b[39m\u001b[39m\"\u001b[39m,\n\u001b[1;32m     72\u001b[0m     \u001b[39m\"\u001b[39m\u001b[39m成交金额\u001b[39m\u001b[39m\"\u001b[39m,\n\u001b[1;32m     73\u001b[0m     \u001b[39m\"\u001b[39m\u001b[39m总市值\u001b[39m\u001b[39m\"\u001b[39m,\n\u001b[1;32m     74\u001b[0m     \u001b[39m\"\u001b[39m\u001b[39m流通市值\u001b[39m\u001b[39m\"\u001b[39m,\n\u001b[1;32m     75\u001b[0m ]\n\u001b[1;32m     76\u001b[0m temp_df[\u001b[39m\"\u001b[39m\u001b[39m股票代码\u001b[39m\u001b[39m\"\u001b[39m] \u001b[39m=\u001b[39m temp_df[\u001b[39m\"\u001b[39m\u001b[39m股票代码\u001b[39m\u001b[39m\"\u001b[39m]\u001b[39m.\u001b[39mstr\u001b[39m.\u001b[39mstrip(\u001b[39m\"\u001b[39m\u001b[39m'\u001b[39m\u001b[39m\"\u001b[39m)\u001b[39m.\u001b[39mstr\u001b[39m.\u001b[39mstrip()\n\u001b[1;32m     77\u001b[0m temp_df[\u001b[39m\"\u001b[39m\u001b[39m名称\u001b[39m\u001b[39m\"\u001b[39m] \u001b[39m=\u001b[39m temp_df[\u001b[39m\"\u001b[39m\u001b[39m名称\u001b[39m\u001b[39m\"\u001b[39m]\u001b[39m.\u001b[39mstr\u001b[39m.\u001b[39mstrip()\n",
      "File \u001b[0;32m~/anaconda3/lib/python3.9/site-packages/pandas/core/generic.py:5588\u001b[0m, in \u001b[0;36mNDFrame.__setattr__\u001b[0;34m(self, name, value)\u001b[0m\n\u001b[1;32m   5586\u001b[0m \u001b[39mtry\u001b[39;00m:\n\u001b[1;32m   5587\u001b[0m     \u001b[39mobject\u001b[39m\u001b[39m.\u001b[39m\u001b[39m__getattribute__\u001b[39m(\u001b[39mself\u001b[39m, name)\n\u001b[0;32m-> 5588\u001b[0m     \u001b[39mreturn\u001b[39;00m \u001b[39mobject\u001b[39;49m\u001b[39m.\u001b[39;49m\u001b[39m__setattr__\u001b[39;49m(\u001b[39mself\u001b[39;49m, name, value)\n\u001b[1;32m   5589\u001b[0m \u001b[39mexcept\u001b[39;00m \u001b[39mAttributeError\u001b[39;00m:\n\u001b[1;32m   5590\u001b[0m     \u001b[39mpass\u001b[39;00m\n",
      "File \u001b[0;32m~/anaconda3/lib/python3.9/site-packages/pandas/_libs/properties.pyx:70\u001b[0m, in \u001b[0;36mpandas._libs.properties.AxisProperty.__set__\u001b[0;34m()\u001b[0m\n",
      "File \u001b[0;32m~/anaconda3/lib/python3.9/site-packages/pandas/core/generic.py:769\u001b[0m, in \u001b[0;36mNDFrame._set_axis\u001b[0;34m(self, axis, labels)\u001b[0m\n\u001b[1;32m    767\u001b[0m \u001b[39mdef\u001b[39;00m \u001b[39m_set_axis\u001b[39m(\u001b[39mself\u001b[39m, axis: \u001b[39mint\u001b[39m, labels: Index) \u001b[39m-\u001b[39m\u001b[39m>\u001b[39m \u001b[39mNone\u001b[39;00m:\n\u001b[1;32m    768\u001b[0m     labels \u001b[39m=\u001b[39m ensure_index(labels)\n\u001b[0;32m--> 769\u001b[0m     \u001b[39mself\u001b[39;49m\u001b[39m.\u001b[39;49m_mgr\u001b[39m.\u001b[39;49mset_axis(axis, labels)\n\u001b[1;32m    770\u001b[0m     \u001b[39mself\u001b[39m\u001b[39m.\u001b[39m_clear_item_cache()\n",
      "File \u001b[0;32m~/anaconda3/lib/python3.9/site-packages/pandas/core/internals/managers.py:214\u001b[0m, in \u001b[0;36mBaseBlockManager.set_axis\u001b[0;34m(self, axis, new_labels)\u001b[0m\n\u001b[1;32m    212\u001b[0m \u001b[39mdef\u001b[39;00m \u001b[39mset_axis\u001b[39m(\u001b[39mself\u001b[39m, axis: \u001b[39mint\u001b[39m, new_labels: Index) \u001b[39m-\u001b[39m\u001b[39m>\u001b[39m \u001b[39mNone\u001b[39;00m:\n\u001b[1;32m    213\u001b[0m     \u001b[39m# Caller is responsible for ensuring we have an Index object.\u001b[39;00m\n\u001b[0;32m--> 214\u001b[0m     \u001b[39mself\u001b[39;49m\u001b[39m.\u001b[39;49m_validate_set_axis(axis, new_labels)\n\u001b[1;32m    215\u001b[0m     \u001b[39mself\u001b[39m\u001b[39m.\u001b[39maxes[axis] \u001b[39m=\u001b[39m new_labels\n",
      "File \u001b[0;32m~/anaconda3/lib/python3.9/site-packages/pandas/core/internals/base.py:69\u001b[0m, in \u001b[0;36mDataManager._validate_set_axis\u001b[0;34m(self, axis, new_labels)\u001b[0m\n\u001b[1;32m     66\u001b[0m     \u001b[39mpass\u001b[39;00m\n\u001b[1;32m     68\u001b[0m \u001b[39melif\u001b[39;00m new_len \u001b[39m!=\u001b[39m old_len:\n\u001b[0;32m---> 69\u001b[0m     \u001b[39mraise\u001b[39;00m \u001b[39mValueError\u001b[39;00m(\n\u001b[1;32m     70\u001b[0m         \u001b[39mf\u001b[39m\u001b[39m\"\u001b[39m\u001b[39mLength mismatch: Expected axis has \u001b[39m\u001b[39m{\u001b[39;00mold_len\u001b[39m}\u001b[39;00m\u001b[39m elements, new \u001b[39m\u001b[39m\"\u001b[39m\n\u001b[1;32m     71\u001b[0m         \u001b[39mf\u001b[39m\u001b[39m\"\u001b[39m\u001b[39mvalues have \u001b[39m\u001b[39m{\u001b[39;00mnew_len\u001b[39m}\u001b[39;00m\u001b[39m elements\u001b[39m\u001b[39m\"\u001b[39m\n\u001b[1;32m     72\u001b[0m     )\n",
      "\u001b[0;31mValueError\u001b[0m: Length mismatch: Expected axis has 1 elements, new values have 15 elements"
     ]
    }
   ],
   "source": [
    "df = ak.stock_zh_a_hist_163(symbol=\"sh510300\", start_date=\"20210101\", end_date=\"20220101\")\n",
    "df.head()"
   ]
  },
  {
   "cell_type": "code",
   "execution_count": 10,
   "metadata": {},
   "outputs": [
    {
     "ename": "KeyError",
     "evalue": "'510300'",
     "output_type": "error",
     "traceback": [
      "\u001b[0;31m---------------------------------------------------------------------------\u001b[0m",
      "\u001b[0;31mKeyError\u001b[0m                                  Traceback (most recent call last)",
      "\u001b[1;32m/home/lee/py4ss_v2/数据构造.ipynb Cell 4\u001b[0m in \u001b[0;36m<cell line: 1>\u001b[0;34m()\u001b[0m\n\u001b[0;32m----> <a href='vscode-notebook-cell://wsl%2Bubuntu-22.04/home/lee/py4ss_v2/%E6%95%B0%E6%8D%AE%E6%9E%84%E9%80%A0.ipynb#W3sdnNjb2RlLXJlbW90ZQ%3D%3D?line=0'>1</a>\u001b[0m df \u001b[39m=\u001b[39m ak\u001b[39m.\u001b[39;49mstock_zh_a_hist(symbol\u001b[39m=\u001b[39;49m\u001b[39m\"\u001b[39;49m\u001b[39m510300\u001b[39;49m\u001b[39m\"\u001b[39;49m, period\u001b[39m=\u001b[39;49m\u001b[39m\"\u001b[39;49m\u001b[39mdaily\u001b[39;49m\u001b[39m\"\u001b[39;49m, start_date\u001b[39m=\u001b[39;49m\u001b[39m\"\u001b[39;49m\u001b[39m20170301\u001b[39;49m\u001b[39m\"\u001b[39;49m, end_date\u001b[39m=\u001b[39;49m\u001b[39m'\u001b[39;49m\u001b[39m20210907\u001b[39;49m\u001b[39m'\u001b[39;49m,\n\u001b[1;32m      <a href='vscode-notebook-cell://wsl%2Bubuntu-22.04/home/lee/py4ss_v2/%E6%95%B0%E6%8D%AE%E6%9E%84%E9%80%A0.ipynb#W3sdnNjb2RlLXJlbW90ZQ%3D%3D?line=1'>2</a>\u001b[0m                                         adjust\u001b[39m=\u001b[39;49m\u001b[39m\"\u001b[39;49m\u001b[39m\"\u001b[39;49m)\n\u001b[1;32m      <a href='vscode-notebook-cell://wsl%2Bubuntu-22.04/home/lee/py4ss_v2/%E6%95%B0%E6%8D%AE%E6%9E%84%E9%80%A0.ipynb#W3sdnNjb2RlLXJlbW90ZQ%3D%3D?line=2'>3</a>\u001b[0m df\u001b[39m.\u001b[39mtail()\n",
      "File \u001b[0;32m~/anaconda3/lib/python3.9/site-packages/akshare/stock_feature/stock_hist_em.py:906\u001b[0m, in \u001b[0;36mstock_zh_a_hist\u001b[0;34m(symbol, period, start_date, end_date, adjust)\u001b[0m\n\u001b[1;32m    898\u001b[0m period_dict \u001b[39m=\u001b[39m {\u001b[39m\"\u001b[39m\u001b[39mdaily\u001b[39m\u001b[39m\"\u001b[39m: \u001b[39m\"\u001b[39m\u001b[39m101\u001b[39m\u001b[39m\"\u001b[39m, \u001b[39m\"\u001b[39m\u001b[39mweekly\u001b[39m\u001b[39m\"\u001b[39m: \u001b[39m\"\u001b[39m\u001b[39m102\u001b[39m\u001b[39m\"\u001b[39m, \u001b[39m\"\u001b[39m\u001b[39mmonthly\u001b[39m\u001b[39m\"\u001b[39m: \u001b[39m\"\u001b[39m\u001b[39m103\u001b[39m\u001b[39m\"\u001b[39m}\n\u001b[1;32m    899\u001b[0m url \u001b[39m=\u001b[39m \u001b[39m\"\u001b[39m\u001b[39mhttp://push2his.eastmoney.com/api/qt/stock/kline/get\u001b[39m\u001b[39m\"\u001b[39m\n\u001b[1;32m    900\u001b[0m params \u001b[39m=\u001b[39m {\n\u001b[1;32m    901\u001b[0m     \u001b[39m\"\u001b[39m\u001b[39mfields1\u001b[39m\u001b[39m\"\u001b[39m: \u001b[39m\"\u001b[39m\u001b[39mf1,f2,f3,f4,f5,f6\u001b[39m\u001b[39m\"\u001b[39m,\n\u001b[1;32m    902\u001b[0m     \u001b[39m\"\u001b[39m\u001b[39mfields2\u001b[39m\u001b[39m\"\u001b[39m: \u001b[39m\"\u001b[39m\u001b[39mf51,f52,f53,f54,f55,f56,f57,f58,f59,f60,f61,f116\u001b[39m\u001b[39m\"\u001b[39m,\n\u001b[1;32m    903\u001b[0m     \u001b[39m\"\u001b[39m\u001b[39mut\u001b[39m\u001b[39m\"\u001b[39m: \u001b[39m\"\u001b[39m\u001b[39m7eea3edcaed734bea9cbfc24409ed989\u001b[39m\u001b[39m\"\u001b[39m,\n\u001b[1;32m    904\u001b[0m     \u001b[39m\"\u001b[39m\u001b[39mklt\u001b[39m\u001b[39m\"\u001b[39m: period_dict[period],\n\u001b[1;32m    905\u001b[0m     \u001b[39m\"\u001b[39m\u001b[39mfqt\u001b[39m\u001b[39m\"\u001b[39m: adjust_dict[adjust],\n\u001b[0;32m--> 906\u001b[0m     \u001b[39m\"\u001b[39m\u001b[39msecid\u001b[39m\u001b[39m\"\u001b[39m: \u001b[39mf\u001b[39m\u001b[39m\"\u001b[39m\u001b[39m{\u001b[39;00mcode_id_dict[symbol]\u001b[39m}\u001b[39;00m\u001b[39m.\u001b[39m\u001b[39m{\u001b[39;00msymbol\u001b[39m}\u001b[39;00m\u001b[39m\"\u001b[39m,\n\u001b[1;32m    907\u001b[0m     \u001b[39m\"\u001b[39m\u001b[39mbeg\u001b[39m\u001b[39m\"\u001b[39m: start_date,\n\u001b[1;32m    908\u001b[0m     \u001b[39m\"\u001b[39m\u001b[39mend\u001b[39m\u001b[39m\"\u001b[39m: end_date,\n\u001b[1;32m    909\u001b[0m     \u001b[39m\"\u001b[39m\u001b[39m_\u001b[39m\u001b[39m\"\u001b[39m: \u001b[39m\"\u001b[39m\u001b[39m1623766962675\u001b[39m\u001b[39m\"\u001b[39m,\n\u001b[1;32m    910\u001b[0m }\n\u001b[1;32m    911\u001b[0m r \u001b[39m=\u001b[39m requests\u001b[39m.\u001b[39mget(url, params\u001b[39m=\u001b[39mparams)\n\u001b[1;32m    912\u001b[0m data_json \u001b[39m=\u001b[39m r\u001b[39m.\u001b[39mjson()\n",
      "\u001b[0;31mKeyError\u001b[0m: '510300'"
     ]
    }
   ],
   "source": [
    "df = ak.stock_zh_a_hist(symbol=\"510300\", period=\"daily\", start_date=\"20170301\", end_date='20210907',\n",
    "                                        adjust=\"\")\n",
    "df.tail()"
   ]
  },
  {
   "cell_type": "code",
   "execution_count": 13,
   "metadata": {},
   "outputs": [
    {
     "data": {
      "text/html": [
       "<div>\n",
       "<style scoped>\n",
       "    .dataframe tbody tr th:only-of-type {\n",
       "        vertical-align: middle;\n",
       "    }\n",
       "\n",
       "    .dataframe tbody tr th {\n",
       "        vertical-align: top;\n",
       "    }\n",
       "\n",
       "    .dataframe thead th {\n",
       "        text-align: right;\n",
       "    }\n",
       "</style>\n",
       "<table border=\"1\" class=\"dataframe\">\n",
       "  <thead>\n",
       "    <tr style=\"text-align: right;\">\n",
       "      <th></th>\n",
       "      <th>date</th>\n",
       "      <th>open</th>\n",
       "      <th>high</th>\n",
       "      <th>low</th>\n",
       "      <th>close</th>\n",
       "      <th>volume</th>\n",
       "    </tr>\n",
       "  </thead>\n",
       "  <tbody>\n",
       "    <tr>\n",
       "      <th>0</th>\n",
       "      <td>2013-07-29</td>\n",
       "      <td>2.633</td>\n",
       "      <td>2.640</td>\n",
       "      <td>2.614</td>\n",
       "      <td>2.626</td>\n",
       "      <td>140433584</td>\n",
       "    </tr>\n",
       "    <tr>\n",
       "      <th>1</th>\n",
       "      <td>2013-07-30</td>\n",
       "      <td>2.632</td>\n",
       "      <td>2.648</td>\n",
       "      <td>2.632</td>\n",
       "      <td>2.646</td>\n",
       "      <td>92993112</td>\n",
       "    </tr>\n",
       "    <tr>\n",
       "      <th>2</th>\n",
       "      <td>2013-07-31</td>\n",
       "      <td>2.643</td>\n",
       "      <td>2.659</td>\n",
       "      <td>2.640</td>\n",
       "      <td>2.657</td>\n",
       "      <td>69976160</td>\n",
       "    </tr>\n",
       "    <tr>\n",
       "      <th>3</th>\n",
       "      <td>2013-08-01</td>\n",
       "      <td>2.653</td>\n",
       "      <td>2.656</td>\n",
       "      <td>2.635</td>\n",
       "      <td>2.643</td>\n",
       "      <td>30006438</td>\n",
       "    </tr>\n",
       "    <tr>\n",
       "      <th>4</th>\n",
       "      <td>2013-08-02</td>\n",
       "      <td>2.630</td>\n",
       "      <td>2.632</td>\n",
       "      <td>2.558</td>\n",
       "      <td>2.578</td>\n",
       "      <td>33021892</td>\n",
       "    </tr>\n",
       "  </tbody>\n",
       "</table>\n",
       "</div>"
      ],
      "text/plain": [
       "         date   open   high    low  close     volume\n",
       "0  2013-07-29  2.633  2.640  2.614  2.626  140433584\n",
       "1  2013-07-30  2.632  2.648  2.632  2.646   92993112\n",
       "2  2013-07-31  2.643  2.659  2.640  2.657   69976160\n",
       "3  2013-08-01  2.653  2.656  2.635  2.643   30006438\n",
       "4  2013-08-02  2.630  2.632  2.558  2.578   33021892"
      ]
     },
     "execution_count": 13,
     "metadata": {},
     "output_type": "execute_result"
    }
   ],
   "source": [
    "df = ak.fund_etf_hist_sina(symbol=\"sh518880\")\n",
    "df.head()"
   ]
  },
  {
   "cell_type": "code",
   "execution_count": null,
   "metadata": {},
   "outputs": [],
   "source": []
  }
 ],
 "metadata": {
  "kernelspec": {
   "display_name": "Python 3.9.12 ('base')",
   "language": "python",
   "name": "python3"
  },
  "language_info": {
   "codemirror_mode": {
    "name": "ipython",
    "version": 3
   },
   "file_extension": ".py",
   "mimetype": "text/x-python",
   "name": "python",
   "nbconvert_exporter": "python",
   "pygments_lexer": "ipython3",
   "version": "3.9.12"
  },
  "orig_nbformat": 4,
  "vscode": {
   "interpreter": {
    "hash": "6a59ff3677af3ee54f2b842bd13e0af80e5d1ab3f1f22239d3105698bf62dfb2"
   }
  }
 },
 "nbformat": 4,
 "nbformat_minor": 2
}
